{
 "cells": [
  {
   "cell_type": "markdown",
   "id": "02d6f8b9-7924-4ba0-b466-5845a983bfe7",
   "metadata": {},
   "source": [
    "# fully-connected neural network"
   ]
  },
  {
   "cell_type": "code",
   "execution_count": 1,
   "id": "b538efa8-d3e1-410c-93dd-dcc611398a4b",
   "metadata": {},
   "outputs": [
    {
     "name": "stdout",
     "output_type": "stream",
     "text": [
      "\n",
      "CondaError: Run 'conda init' before 'conda activate'\n",
      "\n"
     ]
    }
   ],
   "source": [
    "! conda activate tf-gpu"
   ]
  },
  {
   "cell_type": "code",
   "execution_count": 2,
   "id": "fdebc28d-d810-4d7a-aeba-a0a66fac8f2e",
   "metadata": {},
   "outputs": [
    {
     "name": "stderr",
     "output_type": "stream",
     "text": [
      "2025-04-02 19:14:39.171672: I tensorflow/core/util/port.cc:153] oneDNN custom operations are on. You may see slightly different numerical results due to floating-point round-off errors from different computation orders. To turn them off, set the environment variable `TF_ENABLE_ONEDNN_OPTS=0`.\n",
      "2025-04-02 19:14:39.178525: E external/local_xla/xla/stream_executor/cuda/cuda_fft.cc:477] Unable to register cuFFT factory: Attempting to register factory for plugin cuFFT when one has already been registered\n",
      "WARNING: All log messages before absl::InitializeLog() is called are written to STDERR\n",
      "E0000 00:00:1743635679.187015  226989 cuda_dnn.cc:8310] Unable to register cuDNN factory: Attempting to register factory for plugin cuDNN when one has already been registered\n",
      "E0000 00:00:1743635679.189986  226989 cuda_blas.cc:1418] Unable to register cuBLAS factory: Attempting to register factory for plugin cuBLAS when one has already been registered\n",
      "2025-04-02 19:14:39.199020: I tensorflow/core/platform/cpu_feature_guard.cc:210] This TensorFlow binary is optimized to use available CPU instructions in performance-critical operations.\n",
      "To enable the following instructions: SSE4.1 SSE4.2 AVX AVX2 AVX_VNNI FMA, in other operations, rebuild TensorFlow with the appropriate compiler flags.\n"
     ]
    }
   ],
   "source": [
    "import json\n",
    "import os\n",
    "from copy import deepcopy\n",
    "import random\n",
    "\n",
    "import numpy as np\n",
    "import pandas as pd\n",
    "import matplotlib.pyplot as plt\n",
    "import seaborn as sns\n",
    "\n",
    "import tensorflow as tf"
   ]
  },
  {
   "cell_type": "code",
   "execution_count": 3,
   "id": "f8ecbce9-ca37-4a19-87c4-df9300d1b98b",
   "metadata": {},
   "outputs": [],
   "source": [
    "%load_ext autoreload\n",
    "%autoreload 2"
   ]
  },
  {
   "cell_type": "markdown",
   "id": "8c22a907-565d-452e-ac35-d373a5b1b9eb",
   "metadata": {},
   "source": [
    "## 1. dataset"
   ]
  },
  {
   "cell_type": "code",
   "execution_count": 4,
   "id": "3068e93e-4129-4b7c-9c76-19a9346f46ab",
   "metadata": {},
   "outputs": [
    {
     "data": {
      "text/html": [
       "<div>\n",
       "<style scoped>\n",
       "    .dataframe tbody tr th:only-of-type {\n",
       "        vertical-align: middle;\n",
       "    }\n",
       "\n",
       "    .dataframe tbody tr th {\n",
       "        vertical-align: top;\n",
       "    }\n",
       "\n",
       "    .dataframe thead th {\n",
       "        text-align: right;\n",
       "    }\n",
       "</style>\n",
       "<table border=\"1\" class=\"dataframe\">\n",
       "  <thead>\n",
       "    <tr style=\"text-align: right;\">\n",
       "      <th></th>\n",
       "      <th>seq</th>\n",
       "      <th>label</th>\n",
       "      <th>mean_hydro_ph7</th>\n",
       "      <th>mean_hydro</th>\n",
       "      <th>mean_polar</th>\n",
       "      <th>mean_polar_stab</th>\n",
       "      <th>mean_VDWV</th>\n",
       "      <th>median_hydro_ph7</th>\n",
       "      <th>median_hydro</th>\n",
       "      <th>median_polar</th>\n",
       "      <th>...</th>\n",
       "      <th>has_N</th>\n",
       "      <th>has_D</th>\n",
       "      <th>has_C</th>\n",
       "      <th>has_I</th>\n",
       "      <th>has_L</th>\n",
       "      <th>has_K</th>\n",
       "      <th>has_F</th>\n",
       "      <th>has_T</th>\n",
       "      <th>has_Y</th>\n",
       "      <th>has_V</th>\n",
       "    </tr>\n",
       "  </thead>\n",
       "  <tbody>\n",
       "    <tr>\n",
       "      <th>1712964</th>\n",
       "      <td>TNYENGKNDYVK</td>\n",
       "      <td>1</td>\n",
       "      <td>-0.083333</td>\n",
       "      <td>0.717500</td>\n",
       "      <td>9.883333</td>\n",
       "      <td>0.161667</td>\n",
       "      <td>3.624167</td>\n",
       "      <td>-23.0</td>\n",
       "      <td>0.465</td>\n",
       "      <td>11.3</td>\n",
       "      <td>...</td>\n",
       "      <td>1</td>\n",
       "      <td>1</td>\n",
       "      <td>0</td>\n",
       "      <td>0</td>\n",
       "      <td>0</td>\n",
       "      <td>1</td>\n",
       "      <td>0</td>\n",
       "      <td>1</td>\n",
       "      <td>1</td>\n",
       "      <td>1</td>\n",
       "    </tr>\n",
       "    <tr>\n",
       "      <th>2376123</th>\n",
       "      <td>FKTYVDQAC</td>\n",
       "      <td>0</td>\n",
       "      <td>28.222222</td>\n",
       "      <td>0.951111</td>\n",
       "      <td>8.255556</td>\n",
       "      <td>0.168222</td>\n",
       "      <td>3.654444</td>\n",
       "      <td>41.0</td>\n",
       "      <td>1.070</td>\n",
       "      <td>8.1</td>\n",
       "      <td>...</td>\n",
       "      <td>0</td>\n",
       "      <td>1</td>\n",
       "      <td>1</td>\n",
       "      <td>0</td>\n",
       "      <td>0</td>\n",
       "      <td>1</td>\n",
       "      <td>1</td>\n",
       "      <td>1</td>\n",
       "      <td>1</td>\n",
       "      <td>1</td>\n",
       "    </tr>\n",
       "    <tr>\n",
       "      <th>917001</th>\n",
       "      <td>ECHSMKEKAL</td>\n",
       "      <td>1</td>\n",
       "      <td>15.600000</td>\n",
       "      <td>0.829000</td>\n",
       "      <td>9.100000</td>\n",
       "      <td>0.161300</td>\n",
       "      <td>3.522000</td>\n",
       "      <td>1.5</td>\n",
       "      <td>0.840</td>\n",
       "      <td>9.8</td>\n",
       "      <td>...</td>\n",
       "      <td>0</td>\n",
       "      <td>0</td>\n",
       "      <td>1</td>\n",
       "      <td>0</td>\n",
       "      <td>1</td>\n",
       "      <td>1</td>\n",
       "      <td>0</td>\n",
       "      <td>0</td>\n",
       "      <td>0</td>\n",
       "      <td>0</td>\n",
       "    </tr>\n",
       "    <tr>\n",
       "      <th>1193745</th>\n",
       "      <td>CNELNEFENNQRCMCEALQQ</td>\n",
       "      <td>1</td>\n",
       "      <td>13.800000</td>\n",
       "      <td>0.640000</td>\n",
       "      <td>9.145000</td>\n",
       "      <td>0.164200</td>\n",
       "      <td>3.575500</td>\n",
       "      <td>-10.0</td>\n",
       "      <td>0.470</td>\n",
       "      <td>10.5</td>\n",
       "      <td>...</td>\n",
       "      <td>1</td>\n",
       "      <td>0</td>\n",
       "      <td>1</td>\n",
       "      <td>0</td>\n",
       "      <td>1</td>\n",
       "      <td>0</td>\n",
       "      <td>1</td>\n",
       "      <td>0</td>\n",
       "      <td>0</td>\n",
       "      <td>0</td>\n",
       "    </tr>\n",
       "    <tr>\n",
       "      <th>1720646</th>\n",
       "      <td>TTQDAPEEV</td>\n",
       "      <td>0</td>\n",
       "      <td>-3.333333</td>\n",
       "      <td>0.597778</td>\n",
       "      <td>9.700000</td>\n",
       "      <td>0.124444</td>\n",
       "      <td>2.912222</td>\n",
       "      <td>-10.0</td>\n",
       "      <td>0.470</td>\n",
       "      <td>8.6</td>\n",
       "      <td>...</td>\n",
       "      <td>0</td>\n",
       "      <td>1</td>\n",
       "      <td>0</td>\n",
       "      <td>0</td>\n",
       "      <td>0</td>\n",
       "      <td>0</td>\n",
       "      <td>0</td>\n",
       "      <td>1</td>\n",
       "      <td>0</td>\n",
       "      <td>1</td>\n",
       "    </tr>\n",
       "  </tbody>\n",
       "</table>\n",
       "<p>5 rows × 48 columns</p>\n",
       "</div>"
      ],
      "text/plain": [
       "                          seq  label  mean_hydro_ph7  mean_hydro  mean_polar  \\\n",
       "1712964          TNYENGKNDYVK      1       -0.083333    0.717500    9.883333   \n",
       "2376123             FKTYVDQAC      0       28.222222    0.951111    8.255556   \n",
       "917001             ECHSMKEKAL      1       15.600000    0.829000    9.100000   \n",
       "1193745  CNELNEFENNQRCMCEALQQ      1       13.800000    0.640000    9.145000   \n",
       "1720646             TTQDAPEEV      0       -3.333333    0.597778    9.700000   \n",
       "\n",
       "         mean_polar_stab  mean_VDWV  median_hydro_ph7  median_hydro  \\\n",
       "1712964         0.161667   3.624167             -23.0         0.465   \n",
       "2376123         0.168222   3.654444              41.0         1.070   \n",
       "917001          0.161300   3.522000               1.5         0.840   \n",
       "1193745         0.164200   3.575500             -10.0         0.470   \n",
       "1720646         0.124444   2.912222             -10.0         0.470   \n",
       "\n",
       "         median_polar  ...  has_N  has_D  has_C  has_I  has_L  has_K  has_F  \\\n",
       "1712964          11.3  ...      1      1      0      0      0      1      0   \n",
       "2376123           8.1  ...      0      1      1      0      0      1      1   \n",
       "917001            9.8  ...      0      0      1      0      1      1      0   \n",
       "1193745          10.5  ...      1      0      1      0      1      0      1   \n",
       "1720646           8.6  ...      0      1      0      0      0      0      0   \n",
       "\n",
       "         has_T  has_Y  has_V  \n",
       "1712964      1      1      1  \n",
       "2376123      1      1      1  \n",
       "917001       0      0      0  \n",
       "1193745      0      0      0  \n",
       "1720646      1      0      1  \n",
       "\n",
       "[5 rows x 48 columns]"
      ]
     },
     "execution_count": 4,
     "metadata": {},
     "output_type": "execute_result"
    }
   ],
   "source": [
    "infile = '/home/yuan/results/epitope/epi_top_features.txt'\n",
    "df = pd.read_csv(infile, sep='\\t', header=0, index_col=None)\n",
    "# balance the number of epitopes and non-epitopes\n",
    "# df = df.iloc[:8_000_000,:]\n",
    "# shuffle rows\n",
    "df = df.sample(frac=1)\n",
    "# df['label'] = df['label'].map({'epitope':1, 'other': 0})\n",
    "df.head()"
   ]
  },
  {
   "cell_type": "code",
   "execution_count": 5,
   "id": "0d207db1-e88d-480c-9f50-13f19b0ffd92",
   "metadata": {},
   "outputs": [
    {
     "name": "stdout",
     "output_type": "stream",
     "text": [
      "filter zeros: Counter({np.True_: 46})\n",
      "(2490831, 46) float16\n",
      "(2490831,) float16\n"
     ]
    },
    {
     "name": "stderr",
     "output_type": "stream",
     "text": [
      "/home/yuan/anaconda3/envs/tf-gpu/lib/python3.11/site-packages/numpy/_core/_methods.py:52: RuntimeWarning: overflow encountered in reduce\n",
      "  return umr_sum(a, axis, dtype, out, keepdims, initial, where)\n"
     ]
    },
    {
     "data": {
      "text/plain": [
       "Counter({np.float16(1.0): 1798795, np.float16(0.0): 692036})"
      ]
     },
     "execution_count": 5,
     "metadata": {},
     "output_type": "execute_result"
    }
   ],
   "source": [
    "from collections import Counter\n",
    "\n",
    "X = np.array(df.iloc[:,2:], dtype=np.float16)\n",
    "is_data = X.sum(axis=0)>0\n",
    "print('filter zeros:', Counter(is_data))\n",
    "X = X[:,is_data]\n",
    "print(X.shape, X.dtype)\n",
    "\n",
    "y = np.array(df.iloc[:,1], dtype=np.float16)\n",
    "print(y.shape, y.dtype)\n",
    "Counter(y)"
   ]
  },
  {
   "cell_type": "code",
   "execution_count": 6,
   "id": "e02ee787-045e-4135-9c74-03d4c274c57a",
   "metadata": {},
   "outputs": [],
   "source": [
    "# normalization X\n",
    "from sklearn.preprocessing import StandardScaler\n",
    "\n",
    "scaler = StandardScaler()\n",
    "norm_X = scaler.fit_transform(X)"
   ]
  },
  {
   "cell_type": "code",
   "execution_count": 7,
   "id": "738d8971-9d6f-4bd3-9191-bbfe5b400fce",
   "metadata": {},
   "outputs": [
    {
     "name": "stdout",
     "output_type": "stream",
     "text": [
      "(1394864, 46) (1394864,)\n",
      "(597800, 46) (597800,)\n",
      "(498167, 46) (498167,)\n"
     ]
    }
   ],
   "source": [
    "#split data into train and test\n",
    "from sklearn.model_selection import train_test_split\n",
    "\n",
    "X_train, X_test, y_train, y_test = train_test_split(X, y, train_size=0.8, shuffle=True, random_state=2)\n",
    "X_train, X_validate, y_train, y_validate = train_test_split(X_train, y_train, train_size=0.7, shuffle=True, random_state=2)\n",
    "print(X_train.shape, y_train.shape)\n",
    "print(X_validate.shape, y_validate.shape)\n",
    "print(X_test.shape, y_test.shape)"
   ]
  },
  {
   "cell_type": "code",
   "execution_count": null,
   "id": "8453ad08-a41f-4924-9198-a26cc3de4713",
   "metadata": {},
   "outputs": [],
   "source": []
  },
  {
   "cell_type": "markdown",
   "id": "d826fc7c-eb21-4a3f-954b-188e3fe04e6b",
   "metadata": {},
   "source": [
    "## 2. train model"
   ]
  },
  {
   "cell_type": "code",
   "execution_count": 8,
   "id": "90041c53-973b-4090-9c3c-086e130583fd",
   "metadata": {},
   "outputs": [
    {
     "name": "stderr",
     "output_type": "stream",
     "text": [
      "I0000 00:00:1743635692.364488  226989 gpu_device.cc:2022] Created device /job:localhost/replica:0/task:0/device:GPU:0 with 9176 MB memory:  -> device: 0, name: NVIDIA GeForce RTX 3060, pci bus id: 0000:01:00.0, compute capability: 8.6\n"
     ]
    },
    {
     "data": {
      "text/html": [
       "<pre style=\"white-space:pre;overflow-x:auto;line-height:normal;font-family:Menlo,'DejaVu Sans Mono',consolas,'Courier New',monospace\"><span style=\"font-weight: bold\">Model: \"sequential\"</span>\n",
       "</pre>\n"
      ],
      "text/plain": [
       "\u001b[1mModel: \"sequential\"\u001b[0m\n"
      ]
     },
     "metadata": {},
     "output_type": "display_data"
    },
    {
     "data": {
      "text/html": [
       "<pre style=\"white-space:pre;overflow-x:auto;line-height:normal;font-family:Menlo,'DejaVu Sans Mono',consolas,'Courier New',monospace\">┏━━━━━━━━━━━━━━━━━━━━━━━━━━━━━━━━━┳━━━━━━━━━━━━━━━━━━━━━━━━┳━━━━━━━━━━━━━━━┓\n",
       "┃<span style=\"font-weight: bold\"> Layer (type)                    </span>┃<span style=\"font-weight: bold\"> Output Shape           </span>┃<span style=\"font-weight: bold\">       Param # </span>┃\n",
       "┡━━━━━━━━━━━━━━━━━━━━━━━━━━━━━━━━━╇━━━━━━━━━━━━━━━━━━━━━━━━╇━━━━━━━━━━━━━━━┩\n",
       "│ dense (<span style=\"color: #0087ff; text-decoration-color: #0087ff\">Dense</span>)                   │ (<span style=\"color: #00d7ff; text-decoration-color: #00d7ff\">None</span>, <span style=\"color: #00af00; text-decoration-color: #00af00\">512</span>)            │        <span style=\"color: #00af00; text-decoration-color: #00af00\">24,064</span> │\n",
       "├─────────────────────────────────┼────────────────────────┼───────────────┤\n",
       "│ dropout (<span style=\"color: #0087ff; text-decoration-color: #0087ff\">Dropout</span>)               │ (<span style=\"color: #00d7ff; text-decoration-color: #00d7ff\">None</span>, <span style=\"color: #00af00; text-decoration-color: #00af00\">512</span>)            │             <span style=\"color: #00af00; text-decoration-color: #00af00\">0</span> │\n",
       "├─────────────────────────────────┼────────────────────────┼───────────────┤\n",
       "│ dense_1 (<span style=\"color: #0087ff; text-decoration-color: #0087ff\">Dense</span>)                 │ (<span style=\"color: #00d7ff; text-decoration-color: #00d7ff\">None</span>, <span style=\"color: #00af00; text-decoration-color: #00af00\">96</span>)             │        <span style=\"color: #00af00; text-decoration-color: #00af00\">49,248</span> │\n",
       "├─────────────────────────────────┼────────────────────────┼───────────────┤\n",
       "│ dropout_1 (<span style=\"color: #0087ff; text-decoration-color: #0087ff\">Dropout</span>)             │ (<span style=\"color: #00d7ff; text-decoration-color: #00d7ff\">None</span>, <span style=\"color: #00af00; text-decoration-color: #00af00\">96</span>)             │             <span style=\"color: #00af00; text-decoration-color: #00af00\">0</span> │\n",
       "├─────────────────────────────────┼────────────────────────┼───────────────┤\n",
       "│ dense_2 (<span style=\"color: #0087ff; text-decoration-color: #0087ff\">Dense</span>)                 │ (<span style=\"color: #00d7ff; text-decoration-color: #00d7ff\">None</span>, <span style=\"color: #00af00; text-decoration-color: #00af00\">1</span>)              │            <span style=\"color: #00af00; text-decoration-color: #00af00\">97</span> │\n",
       "└─────────────────────────────────┴────────────────────────┴───────────────┘\n",
       "</pre>\n"
      ],
      "text/plain": [
       "┏━━━━━━━━━━━━━━━━━━━━━━━━━━━━━━━━━┳━━━━━━━━━━━━━━━━━━━━━━━━┳━━━━━━━━━━━━━━━┓\n",
       "┃\u001b[1m \u001b[0m\u001b[1mLayer (type)                   \u001b[0m\u001b[1m \u001b[0m┃\u001b[1m \u001b[0m\u001b[1mOutput Shape          \u001b[0m\u001b[1m \u001b[0m┃\u001b[1m \u001b[0m\u001b[1m      Param #\u001b[0m\u001b[1m \u001b[0m┃\n",
       "┡━━━━━━━━━━━━━━━━━━━━━━━━━━━━━━━━━╇━━━━━━━━━━━━━━━━━━━━━━━━╇━━━━━━━━━━━━━━━┩\n",
       "│ dense (\u001b[38;5;33mDense\u001b[0m)                   │ (\u001b[38;5;45mNone\u001b[0m, \u001b[38;5;34m512\u001b[0m)            │        \u001b[38;5;34m24,064\u001b[0m │\n",
       "├─────────────────────────────────┼────────────────────────┼───────────────┤\n",
       "│ dropout (\u001b[38;5;33mDropout\u001b[0m)               │ (\u001b[38;5;45mNone\u001b[0m, \u001b[38;5;34m512\u001b[0m)            │             \u001b[38;5;34m0\u001b[0m │\n",
       "├─────────────────────────────────┼────────────────────────┼───────────────┤\n",
       "│ dense_1 (\u001b[38;5;33mDense\u001b[0m)                 │ (\u001b[38;5;45mNone\u001b[0m, \u001b[38;5;34m96\u001b[0m)             │        \u001b[38;5;34m49,248\u001b[0m │\n",
       "├─────────────────────────────────┼────────────────────────┼───────────────┤\n",
       "│ dropout_1 (\u001b[38;5;33mDropout\u001b[0m)             │ (\u001b[38;5;45mNone\u001b[0m, \u001b[38;5;34m96\u001b[0m)             │             \u001b[38;5;34m0\u001b[0m │\n",
       "├─────────────────────────────────┼────────────────────────┼───────────────┤\n",
       "│ dense_2 (\u001b[38;5;33mDense\u001b[0m)                 │ (\u001b[38;5;45mNone\u001b[0m, \u001b[38;5;34m1\u001b[0m)              │            \u001b[38;5;34m97\u001b[0m │\n",
       "└─────────────────────────────────┴────────────────────────┴───────────────┘\n"
      ]
     },
     "metadata": {},
     "output_type": "display_data"
    },
    {
     "data": {
      "text/html": [
       "<pre style=\"white-space:pre;overflow-x:auto;line-height:normal;font-family:Menlo,'DejaVu Sans Mono',consolas,'Courier New',monospace\"><span style=\"font-weight: bold\"> Total params: </span><span style=\"color: #00af00; text-decoration-color: #00af00\">73,409</span> (286.75 KB)\n",
       "</pre>\n"
      ],
      "text/plain": [
       "\u001b[1m Total params: \u001b[0m\u001b[38;5;34m73,409\u001b[0m (286.75 KB)\n"
      ]
     },
     "metadata": {},
     "output_type": "display_data"
    },
    {
     "data": {
      "text/html": [
       "<pre style=\"white-space:pre;overflow-x:auto;line-height:normal;font-family:Menlo,'DejaVu Sans Mono',consolas,'Courier New',monospace\"><span style=\"font-weight: bold\"> Trainable params: </span><span style=\"color: #00af00; text-decoration-color: #00af00\">73,409</span> (286.75 KB)\n",
       "</pre>\n"
      ],
      "text/plain": [
       "\u001b[1m Trainable params: \u001b[0m\u001b[38;5;34m73,409\u001b[0m (286.75 KB)\n"
      ]
     },
     "metadata": {},
     "output_type": "display_data"
    },
    {
     "data": {
      "text/html": [
       "<pre style=\"white-space:pre;overflow-x:auto;line-height:normal;font-family:Menlo,'DejaVu Sans Mono',consolas,'Courier New',monospace\"><span style=\"font-weight: bold\"> Non-trainable params: </span><span style=\"color: #00af00; text-decoration-color: #00af00\">0</span> (0.00 B)\n",
       "</pre>\n"
      ],
      "text/plain": [
       "\u001b[1m Non-trainable params: \u001b[0m\u001b[38;5;34m0\u001b[0m (0.00 B)\n"
      ]
     },
     "metadata": {},
     "output_type": "display_data"
    }
   ],
   "source": [
    "from tensorflow.keras.layers import Input, Dense, Dropout\n",
    "\n",
    "# input features\n",
    "num_features = int(X.shape[-1])\n",
    "# outccome is binary\n",
    "model = tf.keras.Sequential([\n",
    "    Input(shape=(num_features,)),\n",
    "    Dense(512, activation='relu'),\n",
    "    Dropout(0.3),\n",
    "    Dense(96, activation='relu'),\n",
    "    Dropout(0.3),\n",
    "    Dense(1, activation='sigmoid'),\n",
    "])\n",
    "model.summary()"
   ]
  },
  {
   "cell_type": "code",
   "execution_count": 9,
   "id": "1a0715eb-f8eb-4910-b79c-be452771130a",
   "metadata": {},
   "outputs": [
    {
     "name": "stdout",
     "output_type": "stream",
     "text": [
      "Epoch 1/10\n"
     ]
    },
    {
     "name": "stderr",
     "output_type": "stream",
     "text": [
      "I0000 00:00:1743635693.859274  227113 service.cc:148] XLA service 0x716424017570 initialized for platform CUDA (this does not guarantee that XLA will be used). Devices:\n",
      "I0000 00:00:1743635693.859291  227113 service.cc:156]   StreamExecutor device (0): NVIDIA GeForce RTX 3060, Compute Capability 8.6\n",
      "2025-04-02 19:14:53.879381: I tensorflow/compiler/mlir/tensorflow/utils/dump_mlir_util.cc:268] disabling MLIR crash reproducer, set env var `MLIR_CRASH_REPRODUCER_DIRECTORY` to enable.\n",
      "I0000 00:00:1743635693.954666  227113 cuda_dnn.cc:529] Loaded cuDNN version 90800\n"
     ]
    },
    {
     "name": "stdout",
     "output_type": "stream",
     "text": [
      "\u001b[1m  109/43590\u001b[0m \u001b[37m━━━━━━━━━━━━━━━━━━━━\u001b[0m \u001b[1m1:01\u001b[0m 1ms/step - accuracy: 0.6138 - auc: 0.5054 - loss: 29.5350 - mse: 0.3717 - precision: 0.7327 - recall: 0.7434"
     ]
    },
    {
     "name": "stderr",
     "output_type": "stream",
     "text": [
      "I0000 00:00:1743635694.512881  227113 device_compiler.h:188] Compiled cluster using XLA!  This line is logged at most once for the lifetime of the process.\n"
     ]
    },
    {
     "name": "stdout",
     "output_type": "stream",
     "text": [
      "\u001b[1m43590/43590\u001b[0m \u001b[32m━━━━━━━━━━━━━━━━━━━━\u001b[0m\u001b[37m\u001b[0m \u001b[1m0s\u001b[0m 1ms/step - accuracy: 0.7203 - auc: 0.5076 - loss: 0.8783 - mse: 0.2045 - precision: 0.7228 - recall: 0.9940"
     ]
    },
    {
     "name": "stderr",
     "output_type": "stream",
     "text": [
      "E0000 00:00:1743635753.401584  227111 buffer_comparator.cc:157] Difference at 16: 0, expected 260.803\n",
      "E0000 00:00:1743635753.401609  227111 buffer_comparator.cc:157] Difference at 17: 0, expected 274.951\n",
      "E0000 00:00:1743635753.401611  227111 buffer_comparator.cc:157] Difference at 18: 0, expected 253.659\n",
      "E0000 00:00:1743635753.401612  227111 buffer_comparator.cc:157] Difference at 19: 0, expected 257.607\n",
      "E0000 00:00:1743635753.401613  227111 buffer_comparator.cc:157] Difference at 20: 0, expected 250.262\n",
      "E0000 00:00:1743635753.401614  227111 buffer_comparator.cc:157] Difference at 21: 0, expected 258.782\n",
      "E0000 00:00:1743635753.401615  227111 buffer_comparator.cc:157] Difference at 22: 0, expected 253.591\n",
      "E0000 00:00:1743635753.401616  227111 buffer_comparator.cc:157] Difference at 23: 0, expected 258.759\n",
      "E0000 00:00:1743635753.401618  227111 buffer_comparator.cc:157] Difference at 24: 0, expected 259.406\n",
      "E0000 00:00:1743635753.401619  227111 buffer_comparator.cc:157] Difference at 25: 0, expected 269.564\n",
      "2025-04-02 19:15:53.401624: E external/local_xla/xla/service/gpu/autotuning/gemm_fusion_autotuner.cc:987] Results do not match the reference. This is likely a bug/unexpected loss of precision.\n",
      "E0000 00:00:1743635753.402724  227111 buffer_comparator.cc:157] Difference at 16: 0, expected 260.803\n",
      "E0000 00:00:1743635753.402731  227111 buffer_comparator.cc:157] Difference at 17: 0, expected 274.951\n",
      "E0000 00:00:1743635753.402733  227111 buffer_comparator.cc:157] Difference at 18: 0, expected 253.659\n",
      "E0000 00:00:1743635753.402734  227111 buffer_comparator.cc:157] Difference at 19: 0, expected 257.607\n",
      "E0000 00:00:1743635753.402735  227111 buffer_comparator.cc:157] Difference at 20: 0, expected 250.262\n",
      "E0000 00:00:1743635753.402736  227111 buffer_comparator.cc:157] Difference at 21: 0, expected 258.782\n",
      "E0000 00:00:1743635753.402737  227111 buffer_comparator.cc:157] Difference at 22: 0, expected 253.591\n",
      "E0000 00:00:1743635753.402738  227111 buffer_comparator.cc:157] Difference at 23: 0, expected 258.759\n",
      "E0000 00:00:1743635753.402739  227111 buffer_comparator.cc:157] Difference at 24: 0, expected 259.406\n",
      "E0000 00:00:1743635753.402740  227111 buffer_comparator.cc:157] Difference at 25: 0, expected 269.564\n",
      "2025-04-02 19:15:53.402742: E external/local_xla/xla/service/gpu/autotuning/gemm_fusion_autotuner.cc:987] Results do not match the reference. This is likely a bug/unexpected loss of precision.\n",
      "E0000 00:00:1743635753.403814  227111 buffer_comparator.cc:157] Difference at 16: 0, expected 260.803\n",
      "E0000 00:00:1743635753.403821  227111 buffer_comparator.cc:157] Difference at 17: 0, expected 274.951\n",
      "E0000 00:00:1743635753.403822  227111 buffer_comparator.cc:157] Difference at 18: 0, expected 253.659\n",
      "E0000 00:00:1743635753.403823  227111 buffer_comparator.cc:157] Difference at 19: 0, expected 257.607\n",
      "E0000 00:00:1743635753.403824  227111 buffer_comparator.cc:157] Difference at 20: 0, expected 250.262\n",
      "E0000 00:00:1743635753.403825  227111 buffer_comparator.cc:157] Difference at 21: 0, expected 258.782\n",
      "E0000 00:00:1743635753.403826  227111 buffer_comparator.cc:157] Difference at 22: 0, expected 253.591\n",
      "E0000 00:00:1743635753.403827  227111 buffer_comparator.cc:157] Difference at 23: 0, expected 258.759\n",
      "E0000 00:00:1743635753.403829  227111 buffer_comparator.cc:157] Difference at 24: 0, expected 259.406\n",
      "E0000 00:00:1743635753.403830  227111 buffer_comparator.cc:157] Difference at 25: 0, expected 269.564\n",
      "2025-04-02 19:15:53.403832: E external/local_xla/xla/service/gpu/autotuning/gemm_fusion_autotuner.cc:987] Results do not match the reference. This is likely a bug/unexpected loss of precision.\n",
      "E0000 00:00:1743635753.404901  227111 buffer_comparator.cc:157] Difference at 64: 0, expected 258.036\n",
      "E0000 00:00:1743635753.404909  227111 buffer_comparator.cc:157] Difference at 65: 0, expected 259.488\n",
      "E0000 00:00:1743635753.404910  227111 buffer_comparator.cc:157] Difference at 66: 0, expected 263.978\n",
      "E0000 00:00:1743635753.404911  227111 buffer_comparator.cc:157] Difference at 67: 0, expected 259.512\n",
      "E0000 00:00:1743635753.404912  227111 buffer_comparator.cc:157] Difference at 68: 0, expected 266.501\n",
      "E0000 00:00:1743635753.404913  227111 buffer_comparator.cc:157] Difference at 69: 0, expected 261.938\n",
      "E0000 00:00:1743635753.404914  227111 buffer_comparator.cc:157] Difference at 70: 0, expected 262.582\n",
      "E0000 00:00:1743635753.404916  227111 buffer_comparator.cc:157] Difference at 71: 0, expected 267.678\n",
      "E0000 00:00:1743635753.404917  227111 buffer_comparator.cc:157] Difference at 72: 0, expected 264.075\n",
      "E0000 00:00:1743635753.404919  227111 buffer_comparator.cc:157] Difference at 73: 0, expected 253.857\n",
      "2025-04-02 19:15:53.404920: E external/local_xla/xla/service/gpu/autotuning/gemm_fusion_autotuner.cc:987] Results do not match the reference. This is likely a bug/unexpected loss of precision.\n",
      "E0000 00:00:1743635753.405973  227111 buffer_comparator.cc:157] Difference at 0: 220.926, expected 263.754\n",
      "E0000 00:00:1743635753.405980  227111 buffer_comparator.cc:157] Difference at 7: 300.7, expected 260.474\n",
      "E0000 00:00:1743635753.405981  227111 buffer_comparator.cc:157] Difference at 8: 286.326, expected 257.42\n",
      "E0000 00:00:1743635753.405983  227111 buffer_comparator.cc:157] Difference at 11: 285.724, expected 257.014\n",
      "E0000 00:00:1743635753.405984  227111 buffer_comparator.cc:157] Difference at 18: 291.339, expected 253.659\n",
      "E0000 00:00:1743635753.405985  227111 buffer_comparator.cc:157] Difference at 20: 278.512, expected 250.262\n",
      "E0000 00:00:1743635753.405986  227111 buffer_comparator.cc:157] Difference at 25: 301.45, expected 269.564\n",
      "E0000 00:00:1743635753.405988  227111 buffer_comparator.cc:157] Difference at 29: 284.254, expected 255.389\n",
      "E0000 00:00:1743635753.405989  227111 buffer_comparator.cc:157] Difference at 31: 305.799, expected 257.681\n",
      "E0000 00:00:1743635753.405990  227111 buffer_comparator.cc:157] Difference at 32: 288.797, expected 259.809\n",
      "2025-04-02 19:15:53.405992: E external/local_xla/xla/service/gpu/autotuning/gemm_fusion_autotuner.cc:987] Results do not match the reference. This is likely a bug/unexpected loss of precision.\n",
      "E0000 00:00:1743635753.407035  227111 buffer_comparator.cc:157] Difference at 0: 236.06, expected 263.754\n",
      "E0000 00:00:1743635753.407041  227111 buffer_comparator.cc:157] Difference at 1: 297.5, expected 263.258\n",
      "E0000 00:00:1743635753.407043  227111 buffer_comparator.cc:157] Difference at 3: 303.512, expected 267.83\n",
      "E0000 00:00:1743635753.407044  227111 buffer_comparator.cc:157] Difference at 11: 315.718, expected 257.014\n",
      "E0000 00:00:1743635753.407045  227111 buffer_comparator.cc:157] Difference at 19: 289.09, expected 257.607\n",
      "E0000 00:00:1743635753.407046  227111 buffer_comparator.cc:157] Difference at 20: 307.071, expected 250.262\n",
      "E0000 00:00:1743635753.407048  227111 buffer_comparator.cc:157] Difference at 21: 290.141, expected 258.782\n",
      "E0000 00:00:1743635753.407049  227111 buffer_comparator.cc:157] Difference at 22: 212.651, expected 253.591\n",
      "E0000 00:00:1743635753.407051  227111 buffer_comparator.cc:157] Difference at 25: 331.577, expected 269.564\n",
      "E0000 00:00:1743635753.407052  227111 buffer_comparator.cc:157] Difference at 31: 321.041, expected 257.681\n",
      "2025-04-02 19:15:53.407054: E external/local_xla/xla/service/gpu/autotuning/gemm_fusion_autotuner.cc:987] Results do not match the reference. This is likely a bug/unexpected loss of precision.\n",
      "E0000 00:00:1743635753.408097  227111 buffer_comparator.cc:157] Difference at 19: 289.09, expected 257.607\n",
      "E0000 00:00:1743635753.408103  227111 buffer_comparator.cc:157] Difference at 20: 307.071, expected 250.262\n",
      "E0000 00:00:1743635753.408104  227111 buffer_comparator.cc:157] Difference at 21: 290.141, expected 258.782\n",
      "E0000 00:00:1743635753.408105  227111 buffer_comparator.cc:157] Difference at 22: 212.651, expected 253.591\n",
      "E0000 00:00:1743635753.408106  227111 buffer_comparator.cc:157] Difference at 25: 331.577, expected 269.564\n",
      "E0000 00:00:1743635753.408107  227111 buffer_comparator.cc:157] Difference at 31: 321.041, expected 257.681\n",
      "E0000 00:00:1743635753.408109  227111 buffer_comparator.cc:157] Difference at 33: 324.39, expected 266.779\n",
      "E0000 00:00:1743635753.408110  227111 buffer_comparator.cc:157] Difference at 34: 214.171, expected 259.442\n",
      "E0000 00:00:1743635753.408112  227111 buffer_comparator.cc:157] Difference at 39: 332.624, expected 276.655\n",
      "E0000 00:00:1743635753.408113  227111 buffer_comparator.cc:157] Difference at 40: 286.306, expected 251.097\n",
      "2025-04-02 19:15:53.408115: E external/local_xla/xla/service/gpu/autotuning/gemm_fusion_autotuner.cc:987] Results do not match the reference. This is likely a bug/unexpected loss of precision.\n",
      "E0000 00:00:1743635753.409167  227111 buffer_comparator.cc:157] Difference at 0: 236.06, expected 263.754\n",
      "E0000 00:00:1743635753.409172  227111 buffer_comparator.cc:157] Difference at 1: 297.5, expected 263.258\n",
      "E0000 00:00:1743635753.409174  227111 buffer_comparator.cc:157] Difference at 3: 303.512, expected 267.83\n",
      "E0000 00:00:1743635753.409175  227111 buffer_comparator.cc:157] Difference at 11: 315.718, expected 257.014\n",
      "E0000 00:00:1743635753.409176  227111 buffer_comparator.cc:157] Difference at 19: 289.09, expected 257.607\n",
      "E0000 00:00:1743635753.409177  227111 buffer_comparator.cc:157] Difference at 20: 307.071, expected 250.262\n",
      "E0000 00:00:1743635753.409178  227111 buffer_comparator.cc:157] Difference at 21: 290.141, expected 258.782\n",
      "E0000 00:00:1743635753.409180  227111 buffer_comparator.cc:157] Difference at 22: 212.651, expected 253.591\n",
      "E0000 00:00:1743635753.409181  227111 buffer_comparator.cc:157] Difference at 25: 331.577, expected 269.564\n",
      "E0000 00:00:1743635753.409182  227111 buffer_comparator.cc:157] Difference at 31: 321.041, expected 257.681\n",
      "2025-04-02 19:15:53.409184: E external/local_xla/xla/service/gpu/autotuning/gemm_fusion_autotuner.cc:987] Results do not match the reference. This is likely a bug/unexpected loss of precision.\n",
      "E0000 00:00:1743635753.410239  227111 buffer_comparator.cc:157] Difference at 33: 324.39, expected 266.779\n",
      "E0000 00:00:1743635753.410245  227111 buffer_comparator.cc:157] Difference at 34: 214.171, expected 259.442\n",
      "E0000 00:00:1743635753.410247  227111 buffer_comparator.cc:157] Difference at 39: 332.624, expected 276.655\n",
      "E0000 00:00:1743635753.410248  227111 buffer_comparator.cc:157] Difference at 40: 286.306, expected 251.097\n",
      "E0000 00:00:1743635753.410249  227111 buffer_comparator.cc:157] Difference at 43: 314.217, expected 261.351\n",
      "E0000 00:00:1743635753.410250  227111 buffer_comparator.cc:157] Difference at 45: 327.563, expected 267.427\n",
      "E0000 00:00:1743635753.410251  227111 buffer_comparator.cc:157] Difference at 48: 291.294, expected 259.566\n",
      "E0000 00:00:1743635753.410253  227111 buffer_comparator.cc:157] Difference at 50: 324.072, expected 268.518\n",
      "E0000 00:00:1743635753.410254  227111 buffer_comparator.cc:157] Difference at 52: 297.31, expected 259.078\n",
      "E0000 00:00:1743635753.410255  227111 buffer_comparator.cc:157] Difference at 56: 212.644, expected 259.109\n",
      "2025-04-02 19:15:53.410257: E external/local_xla/xla/service/gpu/autotuning/gemm_fusion_autotuner.cc:987] Results do not match the reference. This is likely a bug/unexpected loss of precision.\n",
      "E0000 00:00:1743635753.411305  227111 buffer_comparator.cc:157] Difference at 33: 324.39, expected 266.779\n",
      "E0000 00:00:1743635753.411311  227111 buffer_comparator.cc:157] Difference at 34: 214.171, expected 259.442\n",
      "E0000 00:00:1743635753.411312  227111 buffer_comparator.cc:157] Difference at 39: 332.624, expected 276.655\n",
      "E0000 00:00:1743635753.411313  227111 buffer_comparator.cc:157] Difference at 40: 286.306, expected 251.097\n",
      "E0000 00:00:1743635753.411315  227111 buffer_comparator.cc:157] Difference at 43: 314.217, expected 261.351\n",
      "E0000 00:00:1743635753.411316  227111 buffer_comparator.cc:157] Difference at 45: 327.563, expected 267.427\n",
      "E0000 00:00:1743635753.411317  227111 buffer_comparator.cc:157] Difference at 48: 291.294, expected 259.566\n",
      "E0000 00:00:1743635753.411318  227111 buffer_comparator.cc:157] Difference at 50: 324.072, expected 268.518\n",
      "E0000 00:00:1743635753.411320  227111 buffer_comparator.cc:157] Difference at 52: 297.31, expected 259.078\n",
      "E0000 00:00:1743635753.411321  227111 buffer_comparator.cc:157] Difference at 56: 212.644, expected 259.109\n",
      "2025-04-02 19:15:53.411323: E external/local_xla/xla/service/gpu/autotuning/gemm_fusion_autotuner.cc:987] Results do not match the reference. This is likely a bug/unexpected loss of precision.\n",
      "E0000 00:00:1743635753.412361  227111 buffer_comparator.cc:157] Difference at 33: 324.39, expected 266.779\n",
      "E0000 00:00:1743635753.412367  227111 buffer_comparator.cc:157] Difference at 34: 214.171, expected 259.442\n",
      "E0000 00:00:1743635753.412368  227111 buffer_comparator.cc:157] Difference at 39: 332.624, expected 276.655\n",
      "E0000 00:00:1743635753.412369  227111 buffer_comparator.cc:157] Difference at 40: 286.306, expected 251.097\n",
      "E0000 00:00:1743635753.412370  227111 buffer_comparator.cc:157] Difference at 43: 314.217, expected 261.351\n",
      "E0000 00:00:1743635753.412371  227111 buffer_comparator.cc:157] Difference at 45: 327.563, expected 267.427\n",
      "E0000 00:00:1743635753.412372  227111 buffer_comparator.cc:157] Difference at 48: 291.294, expected 259.566\n",
      "E0000 00:00:1743635753.412374  227111 buffer_comparator.cc:157] Difference at 50: 324.072, expected 268.518\n",
      "E0000 00:00:1743635753.412375  227111 buffer_comparator.cc:157] Difference at 52: 297.31, expected 259.078\n",
      "E0000 00:00:1743635753.412376  227111 buffer_comparator.cc:157] Difference at 56: 212.644, expected 259.109\n",
      "2025-04-02 19:15:53.412378: E external/local_xla/xla/service/gpu/autotuning/gemm_fusion_autotuner.cc:987] Results do not match the reference. This is likely a bug/unexpected loss of precision.\n",
      "E0000 00:00:1743635753.413433  227111 buffer_comparator.cc:157] Difference at 64: 227.96, expected 258.036\n",
      "E0000 00:00:1743635753.413439  227111 buffer_comparator.cc:157] Difference at 67: 325.615, expected 259.512\n",
      "E0000 00:00:1743635753.413441  227111 buffer_comparator.cc:157] Difference at 69: 301.976, expected 261.938\n",
      "E0000 00:00:1743635753.413442  227111 buffer_comparator.cc:157] Difference at 72: 305.597, expected 264.075\n",
      "E0000 00:00:1743635753.413443  227111 buffer_comparator.cc:157] Difference at 75: 339.806, expected 261.579\n",
      "E0000 00:00:1743635753.413444  227111 buffer_comparator.cc:157] Difference at 82: 339.674, expected 262.827\n",
      "E0000 00:00:1743635753.413445  227111 buffer_comparator.cc:157] Difference at 83: 318.704, expected 254.58\n",
      "E0000 00:00:1743635753.413447  227111 buffer_comparator.cc:157] Difference at 84: 221.116, expected 254.685\n",
      "E0000 00:00:1743635753.413448  227111 buffer_comparator.cc:157] Difference at 90: 319.016, expected 257.844\n",
      "E0000 00:00:1743635753.413449  227111 buffer_comparator.cc:157] Difference at 92: 300.651, expected 260.66\n",
      "2025-04-02 19:15:53.413451: E external/local_xla/xla/service/gpu/autotuning/gemm_fusion_autotuner.cc:987] Results do not match the reference. This is likely a bug/unexpected loss of precision.\n",
      "E0000 00:00:1743635753.414489  227111 buffer_comparator.cc:157] Difference at 64: 227.96, expected 258.036\n",
      "E0000 00:00:1743635753.414494  227111 buffer_comparator.cc:157] Difference at 67: 325.615, expected 259.512\n",
      "E0000 00:00:1743635753.414495  227111 buffer_comparator.cc:157] Difference at 69: 301.976, expected 261.938\n",
      "E0000 00:00:1743635753.414497  227111 buffer_comparator.cc:157] Difference at 72: 305.597, expected 264.075\n",
      "E0000 00:00:1743635753.414498  227111 buffer_comparator.cc:157] Difference at 75: 339.806, expected 261.579\n",
      "E0000 00:00:1743635753.414499  227111 buffer_comparator.cc:157] Difference at 82: 339.674, expected 262.827\n",
      "E0000 00:00:1743635753.414500  227111 buffer_comparator.cc:157] Difference at 83: 318.704, expected 254.58\n",
      "E0000 00:00:1743635753.414502  227111 buffer_comparator.cc:157] Difference at 84: 221.116, expected 254.685\n",
      "E0000 00:00:1743635753.414503  227111 buffer_comparator.cc:157] Difference at 90: 319.016, expected 257.844\n",
      "E0000 00:00:1743635753.414504  227111 buffer_comparator.cc:157] Difference at 92: 300.651, expected 260.66\n",
      "2025-04-02 19:15:53.414506: E external/local_xla/xla/service/gpu/autotuning/gemm_fusion_autotuner.cc:987] Results do not match the reference. This is likely a bug/unexpected loss of precision.\n",
      "E0000 00:00:1743635753.415554  227111 buffer_comparator.cc:157] Difference at 64: 227.96, expected 258.036\n",
      "E0000 00:00:1743635753.415559  227111 buffer_comparator.cc:157] Difference at 67: 325.615, expected 259.512\n",
      "E0000 00:00:1743635753.415560  227111 buffer_comparator.cc:157] Difference at 69: 301.976, expected 261.938\n",
      "E0000 00:00:1743635753.415562  227111 buffer_comparator.cc:157] Difference at 72: 305.597, expected 264.075\n",
      "E0000 00:00:1743635753.415563  227111 buffer_comparator.cc:157] Difference at 75: 339.806, expected 261.579\n",
      "E0000 00:00:1743635753.415564  227111 buffer_comparator.cc:157] Difference at 82: 339.674, expected 262.827\n",
      "E0000 00:00:1743635753.415565  227111 buffer_comparator.cc:157] Difference at 83: 318.704, expected 254.58\n",
      "E0000 00:00:1743635753.415567  227111 buffer_comparator.cc:157] Difference at 84: 221.116, expected 254.685\n",
      "E0000 00:00:1743635753.415568  227111 buffer_comparator.cc:157] Difference at 90: 319.016, expected 257.844\n",
      "E0000 00:00:1743635753.415569  227111 buffer_comparator.cc:157] Difference at 92: 300.651, expected 260.66\n",
      "2025-04-02 19:15:53.415571: E external/local_xla/xla/service/gpu/autotuning/gemm_fusion_autotuner.cc:987] Results do not match the reference. This is likely a bug/unexpected loss of precision.\n",
      "E0000 00:00:1743635753.416618  227111 buffer_comparator.cc:157] Difference at 48: 289.603, expected 259.566\n",
      "E0000 00:00:1743635753.416624  227111 buffer_comparator.cc:157] Difference at 57: 303.459, expected 272.818\n",
      "E0000 00:00:1743635753.416625  227111 buffer_comparator.cc:157] Difference at 64: 56.9899, expected 258.036\n",
      "E0000 00:00:1743635753.416627  227111 buffer_comparator.cc:157] Difference at 65: 63.5876, expected 259.488\n",
      "E0000 00:00:1743635753.416628  227111 buffer_comparator.cc:157] Difference at 66: 68.9048, expected 263.978\n",
      "E0000 00:00:1743635753.416629  227111 buffer_comparator.cc:157] Difference at 67: 81.4037, expected 259.512\n",
      "E0000 00:00:1743635753.416630  227111 buffer_comparator.cc:157] Difference at 68: 67.4213, expected 266.501\n",
      "E0000 00:00:1743635753.416632  227111 buffer_comparator.cc:157] Difference at 69: 75.4939, expected 261.938\n",
      "E0000 00:00:1743635753.416633  227111 buffer_comparator.cc:157] Difference at 70: 72.2534, expected 262.582\n",
      "E0000 00:00:1743635753.416634  227111 buffer_comparator.cc:157] Difference at 71: 72.9785, expected 267.678\n",
      "2025-04-02 19:15:53.416636: E external/local_xla/xla/service/gpu/autotuning/gemm_fusion_autotuner.cc:987] Results do not match the reference. This is likely a bug/unexpected loss of precision.\n",
      "E0000 00:00:1743635753.421377  227111 buffer_comparator.cc:157] Difference at 48: 289.603, expected 259.566\n",
      "E0000 00:00:1743635753.421385  227111 buffer_comparator.cc:157] Difference at 57: 303.459, expected 272.818\n",
      "E0000 00:00:1743635753.421387  227111 buffer_comparator.cc:157] Difference at 73: 292.677, expected 253.857\n",
      "E0000 00:00:1743635753.421388  227111 buffer_comparator.cc:157] Difference at 100: 295.451, expected 259.059\n",
      "E0000 00:00:1743635753.421389  227111 buffer_comparator.cc:157] Difference at 144: 296.601, expected 262.832\n",
      "E0000 00:00:1743635753.421391  227111 buffer_comparator.cc:157] Difference at 148: 289.503, expected 255.084\n",
      "E0000 00:00:1743635753.421392  227111 buffer_comparator.cc:157] Difference at 153: 314.33, expected 273.11\n",
      "E0000 00:00:1743635753.421394  227111 buffer_comparator.cc:157] Difference at 169: 298.372, expected 253.077\n",
      "E0000 00:00:1743635753.421395  227111 buffer_comparator.cc:157] Difference at 196: 295.414, expected 254.265\n",
      "E0000 00:00:1743635753.421397  227111 buffer_comparator.cc:157] Difference at 223: 283.986, expected 255.394\n",
      "2025-04-02 19:15:53.421399: E external/local_xla/xla/service/gpu/autotuning/gemm_fusion_autotuner.cc:987] Results do not match the reference. This is likely a bug/unexpected loss of precision.\n",
      "E0000 00:00:1743635771.869690  227114 buffer_comparator.cc:157] Difference at 16: 0.0999756, expected 257.549\n",
      "E0000 00:00:1743635771.869717  227114 buffer_comparator.cc:157] Difference at 17: 0, expected 272.382\n",
      "E0000 00:00:1743635771.869719  227114 buffer_comparator.cc:157] Difference at 18: 0.0999756, expected 258.735\n",
      "E0000 00:00:1743635771.869720  227114 buffer_comparator.cc:157] Difference at 19: 0.0999756, expected 260.456\n",
      "E0000 00:00:1743635771.869721  227114 buffer_comparator.cc:157] Difference at 20: 0.0999756, expected 258.375\n",
      "E0000 00:00:1743635771.869722  227114 buffer_comparator.cc:157] Difference at 21: 0, expected 260.165\n",
      "E0000 00:00:1743635771.869724  227114 buffer_comparator.cc:157] Difference at 22: 0, expected 258.704\n",
      "E0000 00:00:1743635771.869725  227114 buffer_comparator.cc:157] Difference at 23: 0.0999756, expected 258.139\n",
      "E0000 00:00:1743635771.869726  227114 buffer_comparator.cc:157] Difference at 24: 0.0999756, expected 258.001\n",
      "E0000 00:00:1743635771.869727  227114 buffer_comparator.cc:157] Difference at 25: 0, expected 266.306\n",
      "2025-04-02 19:16:11.869732: E external/local_xla/xla/service/gpu/autotuning/gemm_fusion_autotuner.cc:987] Results do not match the reference. This is likely a bug/unexpected loss of precision.\n",
      "E0000 00:00:1743635771.870778  227114 buffer_comparator.cc:157] Difference at 16: 0.0999756, expected 257.549\n",
      "E0000 00:00:1743635771.870783  227114 buffer_comparator.cc:157] Difference at 17: 0, expected 272.382\n",
      "E0000 00:00:1743635771.870784  227114 buffer_comparator.cc:157] Difference at 18: 0.0999756, expected 258.735\n",
      "E0000 00:00:1743635771.870785  227114 buffer_comparator.cc:157] Difference at 19: 0.0999756, expected 260.456\n",
      "E0000 00:00:1743635771.870787  227114 buffer_comparator.cc:157] Difference at 20: 0.0999756, expected 258.375\n",
      "E0000 00:00:1743635771.870788  227114 buffer_comparator.cc:157] Difference at 21: 0, expected 260.165\n",
      "E0000 00:00:1743635771.870789  227114 buffer_comparator.cc:157] Difference at 22: 0, expected 258.704\n",
      "E0000 00:00:1743635771.870790  227114 buffer_comparator.cc:157] Difference at 23: 0.0999756, expected 258.139\n",
      "E0000 00:00:1743635771.870791  227114 buffer_comparator.cc:157] Difference at 24: 0.0999756, expected 258.001\n",
      "E0000 00:00:1743635771.870792  227114 buffer_comparator.cc:157] Difference at 25: 0, expected 266.306\n",
      "2025-04-02 19:16:11.870794: E external/local_xla/xla/service/gpu/autotuning/gemm_fusion_autotuner.cc:987] Results do not match the reference. This is likely a bug/unexpected loss of precision.\n",
      "E0000 00:00:1743635771.871824  227114 buffer_comparator.cc:157] Difference at 16: 0.0999756, expected 257.549\n",
      "E0000 00:00:1743635771.871828  227114 buffer_comparator.cc:157] Difference at 17: 0, expected 272.382\n",
      "E0000 00:00:1743635771.871830  227114 buffer_comparator.cc:157] Difference at 18: 0.0999756, expected 258.735\n",
      "E0000 00:00:1743635771.871831  227114 buffer_comparator.cc:157] Difference at 19: 0.0999756, expected 260.456\n",
      "E0000 00:00:1743635771.871832  227114 buffer_comparator.cc:157] Difference at 20: 0.0999756, expected 258.375\n",
      "E0000 00:00:1743635771.871833  227114 buffer_comparator.cc:157] Difference at 21: 0, expected 260.165\n",
      "E0000 00:00:1743635771.871834  227114 buffer_comparator.cc:157] Difference at 22: 0, expected 258.704\n",
      "E0000 00:00:1743635771.871835  227114 buffer_comparator.cc:157] Difference at 23: 0.0999756, expected 258.139\n",
      "E0000 00:00:1743635771.871836  227114 buffer_comparator.cc:157] Difference at 24: 0.0999756, expected 258.001\n",
      "E0000 00:00:1743635771.871838  227114 buffer_comparator.cc:157] Difference at 25: 0, expected 266.306\n",
      "2025-04-02 19:16:11.871840: E external/local_xla/xla/service/gpu/autotuning/gemm_fusion_autotuner.cc:987] Results do not match the reference. This is likely a bug/unexpected loss of precision.\n",
      "E0000 00:00:1743635771.872871  227114 buffer_comparator.cc:157] Difference at 0: 378.478, expected 265.579\n",
      "E0000 00:00:1743635771.872875  227114 buffer_comparator.cc:157] Difference at 2: 316.511, expected 253.721\n",
      "E0000 00:00:1743635771.872876  227114 buffer_comparator.cc:157] Difference at 4: 324.301, expected 257.662\n",
      "E0000 00:00:1743635771.872877  227114 buffer_comparator.cc:157] Difference at 5: 372.966, expected 259.341\n",
      "E0000 00:00:1743635771.872879  227114 buffer_comparator.cc:157] Difference at 6: 307.37, expected 267.846\n",
      "E0000 00:00:1743635771.872880  227114 buffer_comparator.cc:157] Difference at 7: 309.944, expected 258.204\n",
      "E0000 00:00:1743635771.872881  227114 buffer_comparator.cc:157] Difference at 8: 314.262, expected 264.05\n",
      "E0000 00:00:1743635771.872882  227114 buffer_comparator.cc:157] Difference at 9: 313.677, expected 254.816\n",
      "E0000 00:00:1743635771.872883  227114 buffer_comparator.cc:157] Difference at 12: 287.003, expected 257.757\n",
      "E0000 00:00:1743635771.872885  227114 buffer_comparator.cc:157] Difference at 14: 317.818, expected 262.493\n",
      "2025-04-02 19:16:11.872886: E external/local_xla/xla/service/gpu/autotuning/gemm_fusion_autotuner.cc:987] Results do not match the reference. This is likely a bug/unexpected loss of precision.\n",
      "E0000 00:00:1743635771.873904  227114 buffer_comparator.cc:157] Difference at 32: nan, expected 254.342\n",
      "E0000 00:00:1743635771.873907  227114 buffer_comparator.cc:157] Difference at 33: nan, expected 257.178\n",
      "E0000 00:00:1743635771.873909  227114 buffer_comparator.cc:157] Difference at 34: nan, expected 261.506\n",
      "E0000 00:00:1743635771.873910  227114 buffer_comparator.cc:157] Difference at 35: nan, expected 260.397\n",
      "E0000 00:00:1743635771.873911  227114 buffer_comparator.cc:157] Difference at 36: nan, expected 267.246\n",
      "E0000 00:00:1743635771.873912  227114 buffer_comparator.cc:157] Difference at 37: nan, expected 267.289\n",
      "E0000 00:00:1743635771.873913  227114 buffer_comparator.cc:157] Difference at 38: nan, expected 267.813\n",
      "E0000 00:00:1743635771.873914  227114 buffer_comparator.cc:157] Difference at 39: nan, expected 275.473\n",
      "E0000 00:00:1743635771.873915  227114 buffer_comparator.cc:157] Difference at 40: nan, expected 252.998\n",
      "E0000 00:00:1743635771.873916  227114 buffer_comparator.cc:157] Difference at 41: nan, expected 256.196\n",
      "2025-04-02 19:16:11.873917: E external/local_xla/xla/service/gpu/autotuning/gemm_fusion_autotuner.cc:987] Results do not match the reference. This is likely a bug/unexpected loss of precision.\n",
      "E0000 00:00:1743635771.874928  227114 buffer_comparator.cc:157] Difference at 32: nan, expected 254.342\n",
      "E0000 00:00:1743635771.874931  227114 buffer_comparator.cc:157] Difference at 33: nan, expected 257.178\n",
      "E0000 00:00:1743635771.874933  227114 buffer_comparator.cc:157] Difference at 34: nan, expected 261.506\n",
      "E0000 00:00:1743635771.874934  227114 buffer_comparator.cc:157] Difference at 35: nan, expected 260.397\n",
      "E0000 00:00:1743635771.874935  227114 buffer_comparator.cc:157] Difference at 36: nan, expected 267.246\n",
      "E0000 00:00:1743635771.874936  227114 buffer_comparator.cc:157] Difference at 37: nan, expected 267.289\n",
      "E0000 00:00:1743635771.874937  227114 buffer_comparator.cc:157] Difference at 38: nan, expected 267.813\n",
      "E0000 00:00:1743635771.874938  227114 buffer_comparator.cc:157] Difference at 39: nan, expected 275.473\n",
      "E0000 00:00:1743635771.874939  227114 buffer_comparator.cc:157] Difference at 40: nan, expected 252.998\n",
      "E0000 00:00:1743635771.874940  227114 buffer_comparator.cc:157] Difference at 41: nan, expected 256.196\n",
      "2025-04-02 19:16:11.874942: E external/local_xla/xla/service/gpu/autotuning/gemm_fusion_autotuner.cc:987] Results do not match the reference. This is likely a bug/unexpected loss of precision.\n",
      "E0000 00:00:1743635771.875955  227114 buffer_comparator.cc:157] Difference at 32: nan, expected 254.342\n",
      "E0000 00:00:1743635771.875958  227114 buffer_comparator.cc:157] Difference at 33: nan, expected 257.178\n",
      "E0000 00:00:1743635771.875960  227114 buffer_comparator.cc:157] Difference at 34: nan, expected 261.506\n",
      "E0000 00:00:1743635771.875961  227114 buffer_comparator.cc:157] Difference at 35: nan, expected 260.397\n",
      "E0000 00:00:1743635771.875962  227114 buffer_comparator.cc:157] Difference at 36: nan, expected 267.246\n",
      "E0000 00:00:1743635771.875963  227114 buffer_comparator.cc:157] Difference at 37: nan, expected 267.289\n",
      "E0000 00:00:1743635771.875964  227114 buffer_comparator.cc:157] Difference at 38: nan, expected 267.813\n",
      "E0000 00:00:1743635771.875965  227114 buffer_comparator.cc:157] Difference at 39: nan, expected 275.473\n",
      "E0000 00:00:1743635771.875966  227114 buffer_comparator.cc:157] Difference at 40: nan, expected 252.998\n",
      "E0000 00:00:1743635771.875967  227114 buffer_comparator.cc:157] Difference at 41: nan, expected 256.196\n",
      "2025-04-02 19:16:11.875969: E external/local_xla/xla/service/gpu/autotuning/gemm_fusion_autotuner.cc:987] Results do not match the reference. This is likely a bug/unexpected loss of precision.\n",
      "E0000 00:00:1743635771.876991  227114 buffer_comparator.cc:157] Difference at 64: nan, expected 256.602\n",
      "E0000 00:00:1743635771.876994  227114 buffer_comparator.cc:157] Difference at 65: nan, expected 258.627\n",
      "E0000 00:00:1743635771.876995  227114 buffer_comparator.cc:157] Difference at 66: nan, expected 261.233\n",
      "E0000 00:00:1743635771.876996  227114 buffer_comparator.cc:157] Difference at 67: nan, expected 261.322\n",
      "E0000 00:00:1743635771.876997  227114 buffer_comparator.cc:157] Difference at 68: nan, expected 270.052\n",
      "E0000 00:00:1743635771.876998  227114 buffer_comparator.cc:157] Difference at 69: nan, expected 268.32\n",
      "E0000 00:00:1743635771.876999  227114 buffer_comparator.cc:157] Difference at 70: nan, expected 261.028\n",
      "E0000 00:00:1743635771.877000  227114 buffer_comparator.cc:157] Difference at 71: nan, expected 270.293\n",
      "E0000 00:00:1743635771.877002  227114 buffer_comparator.cc:157] Difference at 72: nan, expected 263.753\n",
      "E0000 00:00:1743635771.877003  227114 buffer_comparator.cc:157] Difference at 73: nan, expected 248.945\n",
      "2025-04-02 19:16:11.877005: E external/local_xla/xla/service/gpu/autotuning/gemm_fusion_autotuner.cc:987] Results do not match the reference. This is likely a bug/unexpected loss of precision.\n",
      "E0000 00:00:1743635771.878021  227114 buffer_comparator.cc:157] Difference at 64: nan, expected 256.602\n",
      "E0000 00:00:1743635771.878025  227114 buffer_comparator.cc:157] Difference at 65: nan, expected 258.627\n",
      "E0000 00:00:1743635771.878026  227114 buffer_comparator.cc:157] Difference at 66: nan, expected 261.233\n",
      "E0000 00:00:1743635771.878027  227114 buffer_comparator.cc:157] Difference at 67: nan, expected 261.322\n",
      "E0000 00:00:1743635771.878028  227114 buffer_comparator.cc:157] Difference at 68: nan, expected 270.052\n",
      "E0000 00:00:1743635771.878029  227114 buffer_comparator.cc:157] Difference at 69: nan, expected 268.32\n",
      "E0000 00:00:1743635771.878030  227114 buffer_comparator.cc:157] Difference at 70: nan, expected 261.028\n",
      "E0000 00:00:1743635771.878031  227114 buffer_comparator.cc:157] Difference at 71: nan, expected 270.293\n",
      "E0000 00:00:1743635771.878032  227114 buffer_comparator.cc:157] Difference at 72: nan, expected 263.753\n",
      "E0000 00:00:1743635771.878034  227114 buffer_comparator.cc:157] Difference at 73: nan, expected 248.945\n",
      "2025-04-02 19:16:11.878035: E external/local_xla/xla/service/gpu/autotuning/gemm_fusion_autotuner.cc:987] Results do not match the reference. This is likely a bug/unexpected loss of precision.\n",
      "E0000 00:00:1743635771.879060  227114 buffer_comparator.cc:157] Difference at 64: nan, expected 256.602\n",
      "E0000 00:00:1743635771.879062  227114 buffer_comparator.cc:157] Difference at 65: nan, expected 258.627\n",
      "E0000 00:00:1743635771.879063  227114 buffer_comparator.cc:157] Difference at 66: nan, expected 261.233\n",
      "E0000 00:00:1743635771.879064  227114 buffer_comparator.cc:157] Difference at 67: nan, expected 261.322\n",
      "E0000 00:00:1743635771.879065  227114 buffer_comparator.cc:157] Difference at 68: nan, expected 270.052\n",
      "E0000 00:00:1743635771.879067  227114 buffer_comparator.cc:157] Difference at 69: nan, expected 268.32\n",
      "E0000 00:00:1743635771.879068  227114 buffer_comparator.cc:157] Difference at 70: nan, expected 261.028\n",
      "E0000 00:00:1743635771.879069  227114 buffer_comparator.cc:157] Difference at 71: nan, expected 270.293\n",
      "E0000 00:00:1743635771.879070  227114 buffer_comparator.cc:157] Difference at 72: nan, expected 263.753\n",
      "E0000 00:00:1743635771.879071  227114 buffer_comparator.cc:157] Difference at 73: nan, expected 248.945\n",
      "2025-04-02 19:16:11.879072: E external/local_xla/xla/service/gpu/autotuning/gemm_fusion_autotuner.cc:987] Results do not match the reference. This is likely a bug/unexpected loss of precision.\n",
      "E0000 00:00:1743635771.880101  227114 buffer_comparator.cc:157] Difference at 11: 227.691, expected 259.762\n",
      "E0000 00:00:1743635771.880105  227114 buffer_comparator.cc:157] Difference at 64: -1172.68, expected 256.602\n",
      "E0000 00:00:1743635771.880106  227114 buffer_comparator.cc:157] Difference at 65: -1745.27, expected 258.627\n",
      "E0000 00:00:1743635771.880108  227114 buffer_comparator.cc:157] Difference at 66: -1558.05, expected 261.233\n",
      "E0000 00:00:1743635771.880109  227114 buffer_comparator.cc:157] Difference at 67: -493.582, expected 261.322\n",
      "E0000 00:00:1743635771.880110  227114 buffer_comparator.cc:157] Difference at 68: -1673.2, expected 270.052\n",
      "E0000 00:00:1743635771.880111  227114 buffer_comparator.cc:157] Difference at 69: -1428.62, expected 268.32\n",
      "E0000 00:00:1743635771.880112  227114 buffer_comparator.cc:157] Difference at 70: -1810.63, expected 261.028\n",
      "E0000 00:00:1743635771.880114  227114 buffer_comparator.cc:157] Difference at 71: -1506.46, expected 270.293\n",
      "E0000 00:00:1743635771.880115  227114 buffer_comparator.cc:157] Difference at 72: -882.452, expected 263.753\n",
      "2025-04-02 19:16:11.880117: E external/local_xla/xla/service/gpu/autotuning/gemm_fusion_autotuner.cc:987] Results do not match the reference. This is likely a bug/unexpected loss of precision.\n",
      "E0000 00:00:1743635771.881132  227114 buffer_comparator.cc:157] Difference at 64: -1172.68, expected 256.602\n",
      "E0000 00:00:1743635771.881135  227114 buffer_comparator.cc:157] Difference at 65: -1745.27, expected 258.627\n",
      "E0000 00:00:1743635771.881136  227114 buffer_comparator.cc:157] Difference at 66: -1558.05, expected 261.233\n",
      "E0000 00:00:1743635771.881137  227114 buffer_comparator.cc:157] Difference at 67: -493.582, expected 261.322\n",
      "E0000 00:00:1743635771.881138  227114 buffer_comparator.cc:157] Difference at 68: -1673.2, expected 270.052\n",
      "E0000 00:00:1743635771.881139  227114 buffer_comparator.cc:157] Difference at 69: -1428.62, expected 268.32\n",
      "E0000 00:00:1743635771.881141  227114 buffer_comparator.cc:157] Difference at 70: -1810.63, expected 261.028\n",
      "E0000 00:00:1743635771.881142  227114 buffer_comparator.cc:157] Difference at 71: -1506.46, expected 270.293\n",
      "E0000 00:00:1743635771.881143  227114 buffer_comparator.cc:157] Difference at 72: -882.452, expected 263.753\n",
      "E0000 00:00:1743635771.881144  227114 buffer_comparator.cc:157] Difference at 73: -1521, expected 248.945\n",
      "2025-04-02 19:16:11.881146: E external/local_xla/xla/service/gpu/autotuning/gemm_fusion_autotuner.cc:987] Results do not match the reference. This is likely a bug/unexpected loss of precision.\n",
      "E0000 00:00:1743635771.884721  227114 buffer_comparator.cc:157] Difference at 0: 315.676, expected 265.579\n",
      "E0000 00:00:1743635771.884726  227114 buffer_comparator.cc:157] Difference at 5: 308.895, expected 259.341\n",
      "E0000 00:00:1743635771.884727  227114 buffer_comparator.cc:157] Difference at 10: 234.523, expected 263.415\n",
      "E0000 00:00:1743635771.884728  227114 buffer_comparator.cc:157] Difference at 11: 233.215, expected 259.762\n",
      "E0000 00:00:1743635771.884730  227114 buffer_comparator.cc:157] Difference at 13: 221.66, expected 251.623\n",
      "E0000 00:00:1743635771.884731  227114 buffer_comparator.cc:157] Difference at 15: 219.972, expected 260.081\n",
      "E0000 00:00:1743635771.884732  227114 buffer_comparator.cc:157] Difference at 17: 243.003, expected 272.382\n",
      "E0000 00:00:1743635771.884733  227114 buffer_comparator.cc:157] Difference at 24: 230.591, expected 258.001\n",
      "E0000 00:00:1743635771.884734  227114 buffer_comparator.cc:157] Difference at 29: 285.522, expected 256.059\n",
      "E0000 00:00:1743635771.884736  227114 buffer_comparator.cc:157] Difference at 42: 303.71, expected 265.657\n",
      "2025-04-02 19:16:11.884738: E external/local_xla/xla/service/gpu/autotuning/gemm_fusion_autotuner.cc:987] Results do not match the reference. This is likely a bug/unexpected loss of precision.\n",
      "E0000 00:00:1743635771.885752  227114 buffer_comparator.cc:157] Difference at 0: 378.478, expected 265.579\n",
      "E0000 00:00:1743635771.885756  227114 buffer_comparator.cc:157] Difference at 2: 316.511, expected 253.721\n",
      "E0000 00:00:1743635771.885757  227114 buffer_comparator.cc:157] Difference at 4: 324.301, expected 257.662\n",
      "E0000 00:00:1743635771.885758  227114 buffer_comparator.cc:157] Difference at 5: 372.966, expected 259.341\n",
      "E0000 00:00:1743635771.885760  227114 buffer_comparator.cc:157] Difference at 6: 307.37, expected 267.846\n",
      "E0000 00:00:1743635771.885761  227114 buffer_comparator.cc:157] Difference at 7: 309.944, expected 258.204\n",
      "E0000 00:00:1743635771.885762  227114 buffer_comparator.cc:157] Difference at 8: 314.262, expected 264.05\n",
      "E0000 00:00:1743635771.885763  227114 buffer_comparator.cc:157] Difference at 9: 313.677, expected 254.816\n",
      "E0000 00:00:1743635771.885764  227114 buffer_comparator.cc:157] Difference at 12: 287.003, expected 257.757\n",
      "E0000 00:00:1743635771.885765  227114 buffer_comparator.cc:157] Difference at 14: 317.818, expected 262.493\n",
      "2025-04-02 19:16:11.885767: E external/local_xla/xla/service/gpu/autotuning/gemm_fusion_autotuner.cc:987] Results do not match the reference. This is likely a bug/unexpected loss of precision.\n",
      "E0000 00:00:1743635771.887790  227114 buffer_comparator.cc:157] Difference at 11: 227.691, expected 259.762\n",
      "E0000 00:00:1743635771.887796  227114 buffer_comparator.cc:157] Difference at 70: 223.846, expected 261.028\n",
      "E0000 00:00:1743635771.887797  227114 buffer_comparator.cc:157] Difference at 75: 227.794, expected 256.257\n",
      "E0000 00:00:1743635771.887798  227114 buffer_comparator.cc:157] Difference at 95: 218.578, expected 251.481\n",
      "E0000 00:00:1743635771.887800  227114 buffer_comparator.cc:157] Difference at 101: 286.221, expected 256.572\n",
      "E0000 00:00:1743635771.887801  227114 buffer_comparator.cc:157] Difference at 107: 226.433, expected 254.842\n",
      "E0000 00:00:1743635771.887802  227114 buffer_comparator.cc:157] Difference at 155: 301.515, expected 263.962\n",
      "E0000 00:00:1743635771.887803  227114 buffer_comparator.cc:157] Difference at 164: 303.904, expected 270.436\n",
      "E0000 00:00:1743635771.887804  227114 buffer_comparator.cc:157] Difference at 166: 229.874, expected 261.508\n",
      "E0000 00:00:1743635771.887806  227114 buffer_comparator.cc:157] Difference at 191: 221.848, expected 254.096\n",
      "2025-04-02 19:16:11.887808: E external/local_xla/xla/service/gpu/autotuning/gemm_fusion_autotuner.cc:987] Results do not match the reference. This is likely a bug/unexpected loss of precision.\n"
     ]
    },
    {
     "name": "stdout",
     "output_type": "stream",
     "text": [
      "\u001b[1m43590/43590\u001b[0m \u001b[32m━━━━━━━━━━━━━━━━━━━━\u001b[0m\u001b[37m\u001b[0m \u001b[1m79s\u001b[0m 2ms/step - accuracy: 0.7203 - auc: 0.5076 - loss: 0.8783 - mse: 0.2045 - precision: 0.7228 - recall: 0.9940 - val_accuracy: 0.7228 - val_auc: 0.5070 - val_loss: 0.5902 - val_mse: 0.2003 - val_precision: 0.7228 - val_recall: 0.9997\n",
      "Epoch 2/10\n",
      "\u001b[1m43590/43590\u001b[0m \u001b[32m━━━━━━━━━━━━━━━━━━━━\u001b[0m\u001b[37m\u001b[0m \u001b[1m66s\u001b[0m 2ms/step - accuracy: 0.7238 - auc: 0.5142 - loss: 0.5889 - mse: 0.1996 - precision: 0.7247 - recall: 0.9952 - val_accuracy: 0.7266 - val_auc: 0.5268 - val_loss: 0.5847 - val_mse: 0.1979 - val_precision: 0.7269 - val_recall: 0.9954\n",
      "Epoch 3/10\n",
      "\u001b[1m43590/43590\u001b[0m \u001b[32m━━━━━━━━━━━━━━━━━━━━\u001b[0m\u001b[37m\u001b[0m \u001b[1m69s\u001b[0m 2ms/step - accuracy: 0.7289 - auc: 0.5977 - loss: 0.5742 - mse: 0.1932 - precision: 0.7347 - recall: 0.9776 - val_accuracy: 0.7470 - val_auc: 0.6909 - val_loss: 0.5391 - val_mse: 0.1786 - val_precision: 0.7595 - val_recall: 0.9508\n",
      "Epoch 4/10\n",
      "\u001b[1m43590/43590\u001b[0m \u001b[32m━━━━━━━━━━━━━━━━━━━━\u001b[0m\u001b[37m\u001b[0m \u001b[1m70s\u001b[0m 2ms/step - accuracy: 0.7375 - auc: 0.6671 - loss: 0.5525 - mse: 0.1843 - precision: 0.7475 - recall: 0.9607 - val_accuracy: 0.7365 - val_auc: 0.7005 - val_loss: 0.5590 - val_mse: 0.1854 - val_precision: 0.7827 - val_recall: 0.8793\n",
      "Epoch 5/10\n",
      "\u001b[1m43590/43590\u001b[0m \u001b[32m━━━━━━━━━━━━━━━━━━━━\u001b[0m\u001b[37m\u001b[0m \u001b[1m73s\u001b[0m 2ms/step - accuracy: 0.7381 - auc: 0.6725 - loss: 0.5509 - mse: 0.1836 - precision: 0.7484 - recall: 0.9597 - val_accuracy: 0.7352 - val_auc: 0.6930 - val_loss: 0.5495 - val_mse: 0.1834 - val_precision: 0.7844 - val_recall: 0.8736\n",
      "Epoch 6/10\n",
      "\u001b[1m43590/43590\u001b[0m \u001b[32m━━━━━━━━━━━━━━━━━━━━\u001b[0m\u001b[37m\u001b[0m \u001b[1m70s\u001b[0m 2ms/step - accuracy: 0.7392 - auc: 0.6735 - loss: 0.5494 - mse: 0.1830 - precision: 0.7494 - recall: 0.9601 - val_accuracy: 0.7314 - val_auc: 0.7004 - val_loss: 0.5564 - val_mse: 0.1862 - val_precision: 0.7889 - val_recall: 0.8577\n",
      "Epoch 7/10\n",
      "\u001b[1m43590/43590\u001b[0m \u001b[32m━━━━━━━━━━━━━━━━━━━━\u001b[0m\u001b[37m\u001b[0m \u001b[1m74s\u001b[0m 2ms/step - accuracy: 0.7393 - auc: 0.6764 - loss: 0.5486 - mse: 0.1827 - precision: 0.7496 - recall: 0.9597 - val_accuracy: 0.7459 - val_auc: 0.6904 - val_loss: 0.5411 - val_mse: 0.1791 - val_precision: 0.7680 - val_recall: 0.9287\n",
      "Epoch 8/10\n",
      "\u001b[1m43590/43590\u001b[0m \u001b[32m━━━━━━━━━━━━━━━━━━━━\u001b[0m\u001b[37m\u001b[0m \u001b[1m72s\u001b[0m 2ms/step - accuracy: 0.7398 - auc: 0.6778 - loss: 0.5477 - mse: 0.1823 - precision: 0.7504 - recall: 0.9587 - val_accuracy: 0.7463 - val_auc: 0.6990 - val_loss: 0.5376 - val_mse: 0.1782 - val_precision: 0.7695 - val_recall: 0.9262\n",
      "Epoch 9/10\n",
      "\u001b[1m43590/43590\u001b[0m \u001b[32m━━━━━━━━━━━━━━━━━━━━\u001b[0m\u001b[37m\u001b[0m \u001b[1m68s\u001b[0m 2ms/step - accuracy: 0.7397 - auc: 0.6790 - loss: 0.5476 - mse: 0.1823 - precision: 0.7501 - recall: 0.9592 - val_accuracy: 0.7397 - val_auc: 0.7071 - val_loss: 0.5478 - val_mse: 0.1818 - val_precision: 0.7829 - val_recall: 0.8852\n",
      "Epoch 10/10\n",
      "\u001b[1m43590/43590\u001b[0m \u001b[32m━━━━━━━━━━━━━━━━━━━━\u001b[0m\u001b[37m\u001b[0m \u001b[1m67s\u001b[0m 2ms/step - accuracy: 0.7399 - auc: 0.6822 - loss: 0.5466 - mse: 0.1819 - precision: 0.7506 - recall: 0.9576 - val_accuracy: 0.7473 - val_auc: 0.7035 - val_loss: 0.5405 - val_mse: 0.1794 - val_precision: 0.7550 - val_recall: 0.9624\n",
      "   accuracy       auc      loss       mse  precision    recall  val_accuracy  \\\n",
      "0  0.722621  0.508395  0.626705  0.200879   0.723310  0.997355      0.722787   \n",
      "1  0.724278  0.519407  0.587920  0.199102   0.725612  0.994010      0.726591   \n",
      "2  0.733221  0.639565  0.563455  0.188751   0.741294  0.968522      0.746992   \n",
      "\n",
      "    val_auc  val_loss   val_mse  val_precision  val_recall  \n",
      "0  0.506992  0.590151  0.200294       0.722760    0.999708  \n",
      "1  0.526836  0.584747  0.197853       0.726946    0.995387  \n",
      "2  0.690882  0.539107  0.178581       0.759525    0.950769  \n",
      "   accuracy       auc      loss       mse  precision    recall  val_accuracy  \\\n",
      "7  0.739376  0.679382  0.547631  0.182331   0.750108  0.958282      0.746296   \n",
      "8  0.739669  0.679905  0.547332  0.182205   0.750220  0.958604      0.739746   \n",
      "9  0.739669  0.680521  0.547149  0.182124   0.750255  0.958516      0.747283   \n",
      "\n",
      "    val_auc  val_loss   val_mse  val_precision  val_recall  \n",
      "7  0.699022  0.537602  0.178157       0.769522    0.926180  \n",
      "8  0.707140  0.547841  0.181806       0.782892    0.885189  \n",
      "9  0.703469  0.540516  0.179373       0.755033    0.962392  \n"
     ]
    }
   ],
   "source": [
    "# loss_fn = tf.keras.losses.sparse_categorical_crossentropy\n",
    "optim = tf.keras.optimizers.Adam(learning_rate=0.001)\n",
    "model.compile(\n",
    "    loss='binary_crossentropy',\n",
    "    optimizer=optim,\n",
    "    metrics=['accuracy', 'precision', 'recall', 'auc', 'mse']\n",
    ")\n",
    "\n",
    "epochs = 10\n",
    "history= model.fit(\n",
    "    X_train,\n",
    "    y_train,\n",
    "    validation_data=(X_validate, y_validate),\n",
    "    epochs=epochs,\n",
    "    verbose=True\n",
    ")\n",
    "\n",
    "res = pd.DataFrame(history.history)\n",
    "print(res.head(3))\n",
    "print(res.tail(3))"
   ]
  },
  {
   "cell_type": "code",
   "execution_count": 10,
   "id": "420b8330-4e76-48a3-be74-d820792ee3a9",
   "metadata": {},
   "outputs": [
    {
     "data": {
      "text/plain": [
       "<matplotlib.legend.Legend at 0x71651c09cad0>"
      ]
     },
     "execution_count": 10,
     "metadata": {},
     "output_type": "execute_result"
    },
    {
     "data": {
      "image/png": "[encoded data removed]",
      "text/plain": [
       "<Figure size 1200x300 with 3 Axes>"
      ]
     },
     "metadata": {},
     "output_type": "display_data"
    }
   ],
   "source": [
    "fig, axes = plt.subplots(1, 3, figsize=(12,3), layout='tight')\n",
    "x = range(epochs)\n",
    "fig.supxlabel('epochs')\n",
    "\n",
    "i=0\n",
    "axes[i].plot(x, history.history['recall'], label='recall of train')\n",
    "axes[i].plot(x, history.history['val_recall'], label='recall of validation')\n",
    "axes[i].set_ylabel('TP/(TP+FN) %')\n",
    "axes[i].set_title('Recall')\n",
    "axes[i].legend(loc='lower right', fontsize=8)\n",
    "\n",
    "i=1\n",
    "axes[i].plot(x, history.history['accuracy'], label='accurarcy of train')\n",
    "axes[i].plot(x, history.history['val_accuracy'], label='accurarcy of validation')\n",
    "axes[i].set_ylabel('(TP+TN)/N %')\n",
    "axes[i].set_title('Accuracy')\n",
    "axes[i].legend(loc='lower right', fontsize=8)\n",
    "\n",
    "i=2\n",
    "axes[i].plot(x, history.history['loss'], label='loss of train')\n",
    "axes[i].plot(x, history.history['val_loss'], label='loss of validation')\n",
    "axes[i].set_ylabel('Loss')\n",
    "axes[i].set_title('Loss')\n",
    "axes[i].legend(loc='upper right', fontsize=8)"
   ]
  },
  {
   "cell_type": "code",
   "execution_count": 11,
   "id": "bf0ae906-bc62-44d8-880b-39adfd36993a",
   "metadata": {},
   "outputs": [
    {
     "name": "stdout",
     "output_type": "stream",
     "text": [
      "\u001b[1m15563/15568\u001b[0m \u001b[32m━━━━━━━━━━━━━━━━━━━\u001b[0m\u001b[37m━\u001b[0m \u001b[1m0s\u001b[0m 1ms/step - accuracy: 0.7488 - auc: 0.7043 - loss: 0.5398 - mse: 0.1790 - precision: 0.7562 - recall: 0.9627"
     ]
    },
    {
     "name": "stderr",
     "output_type": "stream",
     "text": [
      "E0000 00:00:1743636419.223212  227115 buffer_comparator.cc:157] Difference at 16: 1, expected 259.638\n",
      "E0000 00:00:1743636419.223238  227115 buffer_comparator.cc:157] Difference at 17: 0, expected 272.882\n",
      "E0000 00:00:1743636419.223240  227115 buffer_comparator.cc:157] Difference at 18: 0, expected 253.696\n",
      "E0000 00:00:1743636419.223241  227115 buffer_comparator.cc:157] Difference at 19: 1, expected 256.667\n",
      "E0000 00:00:1743636419.223242  227115 buffer_comparator.cc:157] Difference at 20: 1, expected 245.546\n",
      "E0000 00:00:1743636419.223243  227115 buffer_comparator.cc:157] Difference at 21: 0, expected 250.479\n",
      "E0000 00:00:1743636419.223244  227115 buffer_comparator.cc:157] Difference at 22: 27.4375, expected 252.782\n",
      "E0000 00:00:1743636419.223246  227115 buffer_comparator.cc:157] Difference at 23: 1.21582, expected 261.97\n",
      "E0000 00:00:1743636419.223247  227115 buffer_comparator.cc:157] Difference at 24: 7.875, expected 262.476\n",
      "E0000 00:00:1743636419.223248  227115 buffer_comparator.cc:157] Difference at 25: 0.197021, expected 264.296\n",
      "2025-04-02 19:26:59.223253: E external/local_xla/xla/service/gpu/autotuning/gemm_fusion_autotuner.cc:987] Results do not match the reference. This is likely a bug/unexpected loss of precision.\n",
      "E0000 00:00:1743636419.224311  227115 buffer_comparator.cc:157] Difference at 16: 1, expected 259.638\n",
      "E0000 00:00:1743636419.224317  227115 buffer_comparator.cc:157] Difference at 17: 0, expected 272.882\n",
      "E0000 00:00:1743636419.224319  227115 buffer_comparator.cc:157] Difference at 18: 0, expected 253.696\n",
      "E0000 00:00:1743636419.224320  227115 buffer_comparator.cc:157] Difference at 19: 1, expected 256.667\n",
      "E0000 00:00:1743636419.224321  227115 buffer_comparator.cc:157] Difference at 20: 1, expected 245.546\n",
      "E0000 00:00:1743636419.224322  227115 buffer_comparator.cc:157] Difference at 21: 0, expected 250.479\n",
      "E0000 00:00:1743636419.224323  227115 buffer_comparator.cc:157] Difference at 22: 27.4375, expected 252.782\n",
      "E0000 00:00:1743636419.224324  227115 buffer_comparator.cc:157] Difference at 23: 1.21582, expected 261.97\n",
      "E0000 00:00:1743636419.224325  227115 buffer_comparator.cc:157] Difference at 24: 7.875, expected 262.476\n",
      "E0000 00:00:1743636419.224326  227115 buffer_comparator.cc:157] Difference at 25: 0.197021, expected 264.296\n",
      "2025-04-02 19:26:59.224328: E external/local_xla/xla/service/gpu/autotuning/gemm_fusion_autotuner.cc:987] Results do not match the reference. This is likely a bug/unexpected loss of precision.\n",
      "E0000 00:00:1743636419.225363  227115 buffer_comparator.cc:157] Difference at 16: 1, expected 259.638\n",
      "E0000 00:00:1743636419.225369  227115 buffer_comparator.cc:157] Difference at 17: 0, expected 272.882\n",
      "E0000 00:00:1743636419.225371  227115 buffer_comparator.cc:157] Difference at 18: 0, expected 253.696\n",
      "E0000 00:00:1743636419.225372  227115 buffer_comparator.cc:157] Difference at 19: 1, expected 256.667\n",
      "E0000 00:00:1743636419.225373  227115 buffer_comparator.cc:157] Difference at 20: 1, expected 245.546\n",
      "E0000 00:00:1743636419.225374  227115 buffer_comparator.cc:157] Difference at 21: 0, expected 250.479\n",
      "E0000 00:00:1743636419.225375  227115 buffer_comparator.cc:157] Difference at 22: 27.4375, expected 252.782\n",
      "E0000 00:00:1743636419.225376  227115 buffer_comparator.cc:157] Difference at 23: 1.21582, expected 261.97\n",
      "E0000 00:00:1743636419.225377  227115 buffer_comparator.cc:157] Difference at 24: 7.875, expected 262.476\n",
      "E0000 00:00:1743636419.225378  227115 buffer_comparator.cc:157] Difference at 25: 0.197021, expected 264.296\n",
      "2025-04-02 19:26:59.225380: E external/local_xla/xla/service/gpu/autotuning/gemm_fusion_autotuner.cc:987] Results do not match the reference. This is likely a bug/unexpected loss of precision.\n",
      "E0000 00:00:1743636419.226432  227115 buffer_comparator.cc:157] Difference at 64: 1, expected 256.188\n",
      "E0000 00:00:1743636419.226437  227115 buffer_comparator.cc:157] Difference at 65: 0, expected 264.355\n",
      "E0000 00:00:1743636419.226438  227115 buffer_comparator.cc:157] Difference at 66: 1, expected 259.542\n",
      "E0000 00:00:1743636419.226439  227115 buffer_comparator.cc:157] Difference at 67: 1, expected 261.001\n",
      "E0000 00:00:1743636419.226441  227115 buffer_comparator.cc:157] Difference at 68: 23.2188, expected 269.919\n",
      "E0000 00:00:1743636419.226442  227115 buffer_comparator.cc:157] Difference at 69: 0.744629, expected 261.796\n",
      "E0000 00:00:1743636419.226443  227115 buffer_comparator.cc:157] Difference at 70: 8.92188, expected 265.882\n",
      "E0000 00:00:1743636419.226444  227115 buffer_comparator.cc:157] Difference at 71: 0.168701, expected 267.563\n",
      "E0000 00:00:1743636419.226445  227115 buffer_comparator.cc:157] Difference at 72: 3.60742, expected 262.444\n",
      "E0000 00:00:1743636419.226446  227115 buffer_comparator.cc:157] Difference at 73: 8, expected 249.453\n",
      "2025-04-02 19:26:59.226448: E external/local_xla/xla/service/gpu/autotuning/gemm_fusion_autotuner.cc:987] Results do not match the reference. This is likely a bug/unexpected loss of precision.\n",
      "E0000 00:00:1743636419.227816  227115 buffer_comparator.cc:157] Difference at 10: 318.697, expected 257.659\n",
      "E0000 00:00:1743636419.227822  227115 buffer_comparator.cc:157] Difference at 11: 311.418, expected 260.56\n",
      "E0000 00:00:1743636419.227824  227115 buffer_comparator.cc:157] Difference at 13: 282.874, expected 253.583\n",
      "E0000 00:00:1743636419.227825  227115 buffer_comparator.cc:157] Difference at 18: 288.146, expected 253.696\n",
      "E0000 00:00:1743636419.227826  227115 buffer_comparator.cc:157] Difference at 22: 283.375, expected 252.782\n",
      "E0000 00:00:1743636419.227827  227115 buffer_comparator.cc:157] Difference at 23: 300.3, expected 261.97\n",
      "E0000 00:00:1743636419.227828  227115 buffer_comparator.cc:157] Difference at 28: 317.364, expected 275.802\n",
      "E0000 00:00:1743636419.227829  227115 buffer_comparator.cc:157] Difference at 32: 222.062, expected 254.393\n",
      "E0000 00:00:1743636419.227831  227115 buffer_comparator.cc:157] Difference at 33: 227.423, expected 255.732\n",
      "E0000 00:00:1743636419.227832  227115 buffer_comparator.cc:157] Difference at 35: 292.498, expected 258.378\n",
      "2025-04-02 19:26:59.227833: E external/local_xla/xla/service/gpu/autotuning/gemm_fusion_autotuner.cc:987] Results do not match the reference. This is likely a bug/unexpected loss of precision.\n",
      "E0000 00:00:1743636419.228866  227115 buffer_comparator.cc:157] Difference at 0: 310.671, expected 255.673\n",
      "E0000 00:00:1743636419.228872  227115 buffer_comparator.cc:157] Difference at 2: 283.12, expected 250.885\n",
      "E0000 00:00:1743636419.228873  227115 buffer_comparator.cc:157] Difference at 3: 300.266, expected 262.629\n",
      "E0000 00:00:1743636419.228874  227115 buffer_comparator.cc:157] Difference at 5: 279.466, expected 244.145\n",
      "E0000 00:00:1743636419.228875  227115 buffer_comparator.cc:157] Difference at 6: 317.957, expected 270.223\n",
      "E0000 00:00:1743636419.228876  227115 buffer_comparator.cc:157] Difference at 7: 292.987, expected 255.083\n",
      "E0000 00:00:1743636419.228878  227115 buffer_comparator.cc:157] Difference at 8: 302.213, expected 262.447\n",
      "E0000 00:00:1743636419.228879  227115 buffer_comparator.cc:157] Difference at 10: 390.25, expected 257.659\n",
      "E0000 00:00:1743636419.228880  227115 buffer_comparator.cc:157] Difference at 11: 332.8, expected 260.56\n",
      "E0000 00:00:1743636419.228881  227115 buffer_comparator.cc:157] Difference at 12: 351.618, expected 258.284\n",
      "2025-04-02 19:26:59.228883: E external/local_xla/xla/service/gpu/autotuning/gemm_fusion_autotuner.cc:987] Results do not match the reference. This is likely a bug/unexpected loss of precision.\n",
      "E0000 00:00:1743636419.229945  227115 buffer_comparator.cc:157] Difference at 16: 304.01, expected 259.638\n",
      "E0000 00:00:1743636419.229952  227115 buffer_comparator.cc:157] Difference at 18: 330.799, expected 253.696\n",
      "E0000 00:00:1743636419.229953  227115 buffer_comparator.cc:157] Difference at 19: 313.427, expected 256.667\n",
      "E0000 00:00:1743636419.229955  227115 buffer_comparator.cc:157] Difference at 22: 321.621, expected 252.782\n",
      "E0000 00:00:1743636419.229956  227115 buffer_comparator.cc:157] Difference at 23: 316.75, expected 261.97\n",
      "E0000 00:00:1743636419.229957  227115 buffer_comparator.cc:157] Difference at 25: 344.467, expected 264.296\n",
      "E0000 00:00:1743636419.229958  227115 buffer_comparator.cc:157] Difference at 28: 346.681, expected 275.802\n",
      "E0000 00:00:1743636419.229959  227115 buffer_comparator.cc:157] Difference at 30: 298.864, expected 252.402\n",
      "E0000 00:00:1743636419.229961  227115 buffer_comparator.cc:157] Difference at 31: 326.754, expected 260.353\n",
      "E0000 00:00:1743636419.229962  227115 buffer_comparator.cc:157] Difference at 33: 221.592, expected 255.732\n",
      "2025-04-02 19:26:59.229964: E external/local_xla/xla/service/gpu/autotuning/gemm_fusion_autotuner.cc:987] Results do not match the reference. This is likely a bug/unexpected loss of precision.\n",
      "E0000 00:00:1743636419.231225  227115 buffer_comparator.cc:157] Difference at 0: 310.671, expected 255.673\n",
      "E0000 00:00:1743636419.231232  227115 buffer_comparator.cc:157] Difference at 2: 283.12, expected 250.885\n",
      "E0000 00:00:1743636419.231233  227115 buffer_comparator.cc:157] Difference at 3: 300.266, expected 262.629\n",
      "E0000 00:00:1743636419.231234  227115 buffer_comparator.cc:157] Difference at 5: 279.466, expected 244.145\n",
      "E0000 00:00:1743636419.231235  227115 buffer_comparator.cc:157] Difference at 6: 317.957, expected 270.223\n",
      "E0000 00:00:1743636419.231236  227115 buffer_comparator.cc:157] Difference at 7: 292.987, expected 255.083\n",
      "E0000 00:00:1743636419.231238  227115 buffer_comparator.cc:157] Difference at 8: 302.213, expected 262.447\n",
      "E0000 00:00:1743636419.231239  227115 buffer_comparator.cc:157] Difference at 10: 390.25, expected 257.659\n",
      "E0000 00:00:1743636419.231240  227115 buffer_comparator.cc:157] Difference at 11: 332.8, expected 260.56\n",
      "E0000 00:00:1743636419.231241  227115 buffer_comparator.cc:157] Difference at 12: 351.618, expected 258.284\n",
      "2025-04-02 19:26:59.231244: E external/local_xla/xla/service/gpu/autotuning/gemm_fusion_autotuner.cc:987] Results do not match the reference. This is likely a bug/unexpected loss of precision.\n",
      "E0000 00:00:1743636419.232267  227115 buffer_comparator.cc:157] Difference at 33: 221.592, expected 255.732\n",
      "E0000 00:00:1743636419.232272  227115 buffer_comparator.cc:157] Difference at 34: 301.649, expected 257.985\n",
      "E0000 00:00:1743636419.232273  227115 buffer_comparator.cc:157] Difference at 37: 315.393, expected 267.537\n",
      "E0000 00:00:1743636419.232274  227115 buffer_comparator.cc:157] Difference at 38: 317.371, expected 266.622\n",
      "E0000 00:00:1743636419.232276  227115 buffer_comparator.cc:157] Difference at 40: 313.172, expected 245.141\n",
      "E0000 00:00:1743636419.232277  227115 buffer_comparator.cc:157] Difference at 41: 288.233, expected 253.483\n",
      "E0000 00:00:1743636419.232278  227115 buffer_comparator.cc:157] Difference at 43: 307.508, expected 255.665\n",
      "E0000 00:00:1743636419.232279  227115 buffer_comparator.cc:157] Difference at 44: 288.663, expected 259.268\n",
      "E0000 00:00:1743636419.232280  227115 buffer_comparator.cc:157] Difference at 45: 304.787, expected 265.245\n",
      "E0000 00:00:1743636419.232282  227115 buffer_comparator.cc:157] Difference at 48: 312.066, expected 263.295\n",
      "2025-04-02 19:26:59.232284: E external/local_xla/xla/service/gpu/autotuning/gemm_fusion_autotuner.cc:987] Results do not match the reference. This is likely a bug/unexpected loss of precision.\n",
      "E0000 00:00:1743636419.233310  227115 buffer_comparator.cc:157] Difference at 33: 221.592, expected 255.732\n",
      "E0000 00:00:1743636419.233315  227115 buffer_comparator.cc:157] Difference at 34: 301.649, expected 257.985\n",
      "E0000 00:00:1743636419.233317  227115 buffer_comparator.cc:157] Difference at 37: 315.393, expected 267.537\n",
      "E0000 00:00:1743636419.233318  227115 buffer_comparator.cc:157] Difference at 38: 317.371, expected 266.622\n",
      "E0000 00:00:1743636419.233319  227115 buffer_comparator.cc:157] Difference at 40: 313.172, expected 245.141\n",
      "E0000 00:00:1743636419.233320  227115 buffer_comparator.cc:157] Difference at 41: 288.233, expected 253.483\n",
      "E0000 00:00:1743636419.233321  227115 buffer_comparator.cc:157] Difference at 43: 307.508, expected 255.665\n",
      "E0000 00:00:1743636419.233322  227115 buffer_comparator.cc:157] Difference at 44: 288.663, expected 259.268\n",
      "E0000 00:00:1743636419.233324  227115 buffer_comparator.cc:157] Difference at 45: 304.787, expected 265.245\n",
      "E0000 00:00:1743636419.233325  227115 buffer_comparator.cc:157] Difference at 48: 312.066, expected 263.295\n",
      "2025-04-02 19:26:59.233327: E external/local_xla/xla/service/gpu/autotuning/gemm_fusion_autotuner.cc:987] Results do not match the reference. This is likely a bug/unexpected loss of precision.\n",
      "E0000 00:00:1743636419.234363  227115 buffer_comparator.cc:157] Difference at 33: 221.592, expected 255.732\n",
      "E0000 00:00:1743636419.234369  227115 buffer_comparator.cc:157] Difference at 34: 301.649, expected 257.985\n",
      "E0000 00:00:1743636419.234370  227115 buffer_comparator.cc:157] Difference at 37: 315.393, expected 267.537\n",
      "E0000 00:00:1743636419.234372  227115 buffer_comparator.cc:157] Difference at 38: 317.371, expected 266.622\n",
      "E0000 00:00:1743636419.234373  227115 buffer_comparator.cc:157] Difference at 40: 313.172, expected 245.141\n",
      "E0000 00:00:1743636419.234374  227115 buffer_comparator.cc:157] Difference at 41: 288.233, expected 253.483\n",
      "E0000 00:00:1743636419.234375  227115 buffer_comparator.cc:157] Difference at 43: 307.508, expected 255.665\n",
      "E0000 00:00:1743636419.234376  227115 buffer_comparator.cc:157] Difference at 44: 288.663, expected 259.268\n",
      "E0000 00:00:1743636419.234378  227115 buffer_comparator.cc:157] Difference at 45: 304.787, expected 265.245\n",
      "E0000 00:00:1743636419.234379  227115 buffer_comparator.cc:157] Difference at 48: 312.066, expected 263.295\n",
      "2025-04-02 19:26:59.234381: E external/local_xla/xla/service/gpu/autotuning/gemm_fusion_autotuner.cc:987] Results do not match the reference. This is likely a bug/unexpected loss of precision.\n",
      "E0000 00:00:1743636419.235421  227115 buffer_comparator.cc:157] Difference at 64: 317.293, expected 256.188\n",
      "E0000 00:00:1743636419.235427  227115 buffer_comparator.cc:157] Difference at 65: 343.142, expected 264.355\n",
      "E0000 00:00:1743636419.235428  227115 buffer_comparator.cc:157] Difference at 67: 300.904, expected 261.001\n",
      "E0000 00:00:1743636419.235429  227115 buffer_comparator.cc:157] Difference at 68: 310.766, expected 269.919\n",
      "E0000 00:00:1743636419.235430  227115 buffer_comparator.cc:157] Difference at 70: 301.262, expected 265.882\n",
      "E0000 00:00:1743636419.235431  227115 buffer_comparator.cc:157] Difference at 71: 343.839, expected 267.563\n",
      "E0000 00:00:1743636419.235433  227115 buffer_comparator.cc:157] Difference at 72: 296.82, expected 262.444\n",
      "E0000 00:00:1743636419.235434  227115 buffer_comparator.cc:157] Difference at 75: 350.683, expected 261.894\n",
      "E0000 00:00:1743636419.235435  227115 buffer_comparator.cc:157] Difference at 76: 301.389, expected 256.619\n",
      "E0000 00:00:1743636419.235436  227115 buffer_comparator.cc:157] Difference at 78: 284.288, expected 246.169\n",
      "2025-04-02 19:26:59.235438: E external/local_xla/xla/service/gpu/autotuning/gemm_fusion_autotuner.cc:987] Results do not match the reference. This is likely a bug/unexpected loss of precision.\n",
      "E0000 00:00:1743636419.236476  227115 buffer_comparator.cc:157] Difference at 64: 317.293, expected 256.188\n",
      "E0000 00:00:1743636419.236482  227115 buffer_comparator.cc:157] Difference at 65: 343.142, expected 264.355\n",
      "E0000 00:00:1743636419.236484  227115 buffer_comparator.cc:157] Difference at 67: 300.904, expected 261.001\n",
      "E0000 00:00:1743636419.236485  227115 buffer_comparator.cc:157] Difference at 68: 310.766, expected 269.919\n",
      "E0000 00:00:1743636419.236486  227115 buffer_comparator.cc:157] Difference at 70: 301.262, expected 265.882\n",
      "E0000 00:00:1743636419.236487  227115 buffer_comparator.cc:157] Difference at 71: 343.839, expected 267.563\n",
      "E0000 00:00:1743636419.236488  227115 buffer_comparator.cc:157] Difference at 72: 296.82, expected 262.444\n",
      "E0000 00:00:1743636419.236489  227115 buffer_comparator.cc:157] Difference at 75: 350.683, expected 261.894\n",
      "E0000 00:00:1743636419.236491  227115 buffer_comparator.cc:157] Difference at 76: 301.389, expected 256.619\n",
      "E0000 00:00:1743636419.236492  227115 buffer_comparator.cc:157] Difference at 78: 284.288, expected 246.169\n",
      "2025-04-02 19:26:59.236494: E external/local_xla/xla/service/gpu/autotuning/gemm_fusion_autotuner.cc:987] Results do not match the reference. This is likely a bug/unexpected loss of precision.\n",
      "E0000 00:00:1743636419.237532  227115 buffer_comparator.cc:157] Difference at 64: 317.293, expected 256.188\n",
      "E0000 00:00:1743636419.237539  227115 buffer_comparator.cc:157] Difference at 65: 343.142, expected 264.355\n",
      "E0000 00:00:1743636419.237540  227115 buffer_comparator.cc:157] Difference at 67: 300.904, expected 261.001\n",
      "E0000 00:00:1743636419.237542  227115 buffer_comparator.cc:157] Difference at 68: 310.766, expected 269.919\n",
      "E0000 00:00:1743636419.237543  227115 buffer_comparator.cc:157] Difference at 70: 301.262, expected 265.882\n",
      "E0000 00:00:1743636419.237544  227115 buffer_comparator.cc:157] Difference at 71: 343.839, expected 267.563\n",
      "E0000 00:00:1743636419.237546  227115 buffer_comparator.cc:157] Difference at 72: 296.82, expected 262.444\n",
      "E0000 00:00:1743636419.237547  227115 buffer_comparator.cc:157] Difference at 75: 350.683, expected 261.894\n",
      "E0000 00:00:1743636419.237549  227115 buffer_comparator.cc:157] Difference at 76: 301.389, expected 256.619\n",
      "E0000 00:00:1743636419.237550  227115 buffer_comparator.cc:157] Difference at 78: 284.288, expected 246.169\n",
      "2025-04-02 19:26:59.237552: E external/local_xla/xla/service/gpu/autotuning/gemm_fusion_autotuner.cc:987] Results do not match the reference. This is likely a bug/unexpected loss of precision.\n",
      "E0000 00:00:1743636419.238580  227115 buffer_comparator.cc:157] Difference at 42: 220.529, expected 245.538\n",
      "E0000 00:00:1743636419.238585  227115 buffer_comparator.cc:157] Difference at 59: 228.106, expected 259.687\n",
      "E0000 00:00:1743636419.238587  227115 buffer_comparator.cc:157] Difference at 63: 231.188, expected 261.336\n",
      "E0000 00:00:1743636419.238588  227115 buffer_comparator.cc:157] Difference at 64: 79.3232, expected 256.188\n",
      "E0000 00:00:1743636419.238589  227115 buffer_comparator.cc:157] Difference at 65: 85.7855, expected 264.355\n",
      "E0000 00:00:1743636419.238590  227115 buffer_comparator.cc:157] Difference at 66: 66.044, expected 259.542\n",
      "E0000 00:00:1743636419.238591  227115 buffer_comparator.cc:157] Difference at 67: 75.226, expected 261.001\n",
      "E0000 00:00:1743636419.238593  227115 buffer_comparator.cc:157] Difference at 68: 77.6914, expected 269.919\n",
      "E0000 00:00:1743636419.238595  227115 buffer_comparator.cc:157] Difference at 69: 68.9222, expected 261.796\n",
      "E0000 00:00:1743636419.238596  227115 buffer_comparator.cc:157] Difference at 70: 75.3156, expected 265.882\n",
      "2025-04-02 19:26:59.238598: E external/local_xla/xla/service/gpu/autotuning/gemm_fusion_autotuner.cc:987] Results do not match the reference. This is likely a bug/unexpected loss of precision.\n",
      "E0000 00:00:1743636419.242737  227115 buffer_comparator.cc:157] Difference at 42: 220.529, expected 245.538\n",
      "E0000 00:00:1743636419.242746  227115 buffer_comparator.cc:157] Difference at 59: 228.106, expected 259.687\n",
      "E0000 00:00:1743636419.242748  227115 buffer_comparator.cc:157] Difference at 63: 231.188, expected 261.336\n",
      "E0000 00:00:1743636419.242749  227115 buffer_comparator.cc:157] Difference at 155: 228.053, expected 257.668\n",
      "E0000 00:00:1743636419.242750  227115 buffer_comparator.cc:157] Difference at 177: 286.872, expected 253.725\n",
      "E0000 00:00:1743636419.242752  227115 buffer_comparator.cc:157] Difference at 251: 230.279, expected 259.387\n",
      "E0000 00:00:1743636419.242753  227115 buffer_comparator.cc:157] Difference at 273: 290.874, expected 251.166\n",
      "E0000 00:00:1743636419.242754  227115 buffer_comparator.cc:157] Difference at 277: 292.318, expected 259.235\n",
      "E0000 00:00:1743636419.242756  227115 buffer_comparator.cc:157] Difference at 348: 294.194, expected 263.719\n",
      "E0000 00:00:1743636419.242757  227115 buffer_comparator.cc:157] Difference at 369: 292.386, expected 255.009\n",
      "2025-04-02 19:26:59.242760: E external/local_xla/xla/service/gpu/autotuning/gemm_fusion_autotuner.cc:987] Results do not match the reference. This is likely a bug/unexpected loss of precision.\n"
     ]
    },
    {
     "name": "stdout",
     "output_type": "stream",
     "text": [
      "\u001b[1m15568/15568\u001b[0m \u001b[32m━━━━━━━━━━━━━━━━━━━━\u001b[0m\u001b[37m\u001b[0m \u001b[1m17s\u001b[0m 1ms/step - accuracy: 0.7488 - auc: 0.7043 - loss: 0.5398 - mse: 0.1790 - precision: 0.7562 - recall: 0.9627\n",
      "{'accuracy': 0.7475886344909668, 'auc': 0.7028059363365173, 'loss': 0.5406678318977356, 'mse': 0.17942272126674652, 'precision': 0.7552650570869446, 'recall': 0.9624223709106445}\n"
     ]
    }
   ],
   "source": [
    "eval_res = model.evaluate(X_test, y_test, return_dict=True)\n",
    "print(eval_res)"
   ]
  },
  {
   "cell_type": "code",
   "execution_count": 12,
   "id": "4a25319c-3a4c-4014-b2fb-78525c6abf9f",
   "metadata": {},
   "outputs": [
    {
     "name": "stdout",
     "output_type": "stream",
     "text": [
      "\u001b[1m15568/15568\u001b[0m \u001b[32m━━━━━━━━━━━━━━━━━━━━\u001b[0m\u001b[37m\u001b[0m \u001b[1m6s\u001b[0m 361us/step\n"
     ]
    },
    {
     "data": {
      "text/plain": [
       "array([[0.73696214],\n",
       "       [0.45623824],\n",
       "       [0.69687355]], dtype=float32)"
      ]
     },
     "execution_count": 12,
     "metadata": {},
     "output_type": "execute_result"
    }
   ],
   "source": [
    "pred_test = model.predict(X_test)\n",
    "pred_test[:3]"
   ]
  },
  {
   "cell_type": "code",
   "execution_count": 13,
   "id": "d4d0215b-5eca-4463-9963-65fff80f2952",
   "metadata": {},
   "outputs": [
    {
     "data": {
      "text/plain": [
       "Text(0.5, 1.0, 'Prediction of non-epitopes 138325')"
      ]
     },
     "execution_count": 13,
     "metadata": {},
     "output_type": "execute_result"
    },
    {
     "data": {
      "image/png": "[encoded data removed]",
      "text/plain": [
       "<Figure size 800x300 with 2 Axes>"
      ]
     },
     "metadata": {},
     "output_type": "display_data"
    }
   ],
   "source": [
    "\n",
    "t = pred_test[y_test==1]\n",
    "f = pred_test[y_test==0]\n",
    "fig, ax = plt.subplots(1, 2, figsize=(8,3), layout='tight')\n",
    "fig.supxlabel('probability')\n",
    "fig.supylabel('number')\n",
    "\n",
    "ax[0].hist(t, label='True', bins=20)\n",
    "ax[0].set_title(f'Prediction of epitopes {len(t)}')\n",
    "ax[1].hist(f, label='False', bins=20)\n",
    "ax[1].set_title(f'Prediction of non-epitopes {len(f)}')"
   ]
  },
  {
   "cell_type": "code",
   "execution_count": 14,
   "id": "a98ac785-26df-494b-9aed-63d4daec97a4",
   "metadata": {},
   "outputs": [
    {
     "data": {
      "text/plain": [
       "[<matplotlib.lines.Line2D at 0x716504714a50>]"
      ]
     },
     "execution_count": 14,
     "metadata": {},
     "output_type": "execute_result"
    },
    {
     "data": {
      "image/png": "[encoded data removed]",
      "text/plain": [
       "<Figure size 400x300 with 1 Axes>"
      ]
     },
     "metadata": {},
     "output_type": "display_data"
    }
   ],
   "source": [
    "# ROC curve only for binary classfication\n",
    "from sklearn.metrics import roc_curve, auc\n",
    "# FPR, false positive rate, 1- specificity, typ I error\n",
    "# TPR, true positive rate, sensitivity, power\n",
    "fpr, tpr, thresholds = roc_curve(y_test, pred_test)\n",
    "roc_auc = auc(fpr, tpr)\n",
    "\n",
    "fig, ax = plt.subplots(1, figsize=(4,3))\n",
    "ax.plot(fpr, tpr)\n",
    "ax.set_xlabel('1-specificity (False positive rate)')\n",
    "ax.set_ylabel('sensitivity (True positive rate)')\n",
    "plt.title(f'ROC (area={roc_auc:.2f})')\n",
    "ax.plot([0,1], [0,1], '--')\n",
    "ax.plot([0,0,1], [0,1,1], ':')"
   ]
  },
  {
   "cell_type": "code",
   "execution_count": 15,
   "id": "84a9a936-49cf-4183-b675-199e6622331f",
   "metadata": {},
   "outputs": [],
   "source": [
    "# save entire model\n",
    "model.save('../models/epitopes_ann_normX.keras')"
   ]
  },
  {
   "cell_type": "code",
   "execution_count": 16,
   "id": "16757a5d-a870-46fd-923c-a52c66847fae",
   "metadata": {},
   "outputs": [
    {
     "data": {
      "text/plain": [
       "(array([3.67000e+02, 2.10400e+03, 5.93900e+03, 1.31960e+04, 3.07620e+04,\n",
       "        6.70700e+04, 1.69717e+05, 1.11815e+05, 9.71630e+04, 3.40000e+01]),\n",
       " array([0.07170656, 0.1633117 , 0.25491685, 0.346522  , 0.43812716,\n",
       "        0.52973229, 0.62133741, 0.7129426 , 0.80454773, 0.89615285,\n",
       "        0.98775804]),\n",
       " <BarContainer object of 10 artists>)"
      ]
     },
     "execution_count": 16,
     "metadata": {},
     "output_type": "execute_result"
    },
    {
     "data": {
      "image/png": "[encoded data removed]",
      "text/plain": [
       "<Figure size 640x480 with 1 Axes>"
      ]
     },
     "metadata": {},
     "output_type": "display_data"
    }
   ],
   "source": [
    "plt.hist(pred_test)"
   ]
  },
  {
   "cell_type": "code",
   "execution_count": 17,
   "id": "f44f0a23-1dfd-4a85-96a9-49f9c94e1854",
   "metadata": {},
   "outputs": [
    {
     "data": {
      "text/plain": [
       "(array([138325.,      0.,      0.,      0.,      0.,      0.,      0.,\n",
       "             0.,      0., 359842.]),\n",
       " array([0.        , 0.09997559, 0.19995117, 0.29980469, 0.39990234,\n",
       "        0.5       , 0.59960938, 0.69970703, 0.79980469, 0.89990234,\n",
       "        1.        ]),\n",
       " <BarContainer object of 10 artists>)"
      ]
     },
     "execution_count": 17,
     "metadata": {},
     "output_type": "execute_result"
    },
    {
     "data": {
      "image/png": "[encoded data removed]",
      "text/plain": [
       "<Figure size 640x480 with 1 Axes>"
      ]
     },
     "metadata": {},
     "output_type": "display_data"
    }
   ],
   "source": [
    "plt.hist(y_test)"
   ]
  }
 ],
 "metadata": {
  "kernelspec": {
   "display_name": "Python 3 (ipykernel)",
   "language": "python",
   "name": "python3"
  },
  "language_info": {
   "codemirror_mode": {
    "name": "ipython",
    "version": 3
   },
   "file_extension": ".py",
   "mimetype": "text/x-python",
   "name": "python",
   "nbconvert_exporter": "python",
   "pygments_lexer": "ipython3",
   "version": "3.11.11"
  }
 },
 "nbformat": 4,
 "nbformat_minor": 5
}
