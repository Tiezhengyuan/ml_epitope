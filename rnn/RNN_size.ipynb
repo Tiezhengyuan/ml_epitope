{
 "cells": [
  {
   "cell_type": "markdown",
   "id": "ed405ad4-c514-4616-8bdb-0477860d3dc3",
   "metadata": {},
   "source": [
    "# recurrent neural network (RNN)\n",
    "\n",
    "- input data is fixed-size segments : eith kmer-expand or shrink-expand is not good. validation failed\n",
    "- input data is sliced by 2 AA: failed."
   ]
  },
  {
   "cell_type": "code",
   "execution_count": 1,
   "id": "351776cc-8579-4f36-a4ca-164a1ac83f22",
   "metadata": {},
   "outputs": [
    {
     "name": "stderr",
     "output_type": "stream",
     "text": [
      "2024-11-29 18:06:48.842209: I tensorflow/core/util/port.cc:153] oneDNN custom operations are on. You may see slightly different numerical results due to floating-point round-off errors from different computation orders. To turn them off, set the environment variable `TF_ENABLE_ONEDNN_OPTS=0`.\n",
      "2024-11-29 18:06:48.849668: E external/local_xla/xla/stream_executor/cuda/cuda_fft.cc:485] Unable to register cuFFT factory: Attempting to register factory for plugin cuFFT when one has already been registered\n",
      "2024-11-29 18:06:48.858058: E external/local_xla/xla/stream_executor/cuda/cuda_dnn.cc:8454] Unable to register cuDNN factory: Attempting to register factory for plugin cuDNN when one has already been registered\n",
      "2024-11-29 18:06:48.860518: E external/local_xla/xla/stream_executor/cuda/cuda_blas.cc:1452] Unable to register cuBLAS factory: Attempting to register factory for plugin cuBLAS when one has already been registered\n",
      "2024-11-29 18:06:48.867177: I tensorflow/core/platform/cpu_feature_guard.cc:210] This TensorFlow binary is optimized to use available CPU instructions in performance-critical operations.\n",
      "To enable the following instructions: AVX2 AVX_VNNI FMA, in other operations, rebuild TensorFlow with the appropriate compiler flags.\n",
      "2024-11-29 18:06:49.275133: W tensorflow/compiler/tf2tensorrt/utils/py_utils.cc:38] TF-TRT Warning: Could not find TensorRT\n"
     ]
    }
   ],
   "source": [
    "import json\n",
    "import os\n",
    "from copy import deepcopy\n",
    "import random\n",
    "\n",
    "import numpy as np\n",
    "import pandas as pd\n",
    "import matplotlib.pyplot as plt\n",
    "\n",
    "import tensorflow as tf\n",
    "import torch\n",
    "import torch.nn as nn"
   ]
  },
  {
   "cell_type": "code",
   "execution_count": 2,
   "id": "aa8e54f3-60a0-4a6e-ad52-d888d05ba0c2",
   "metadata": {},
   "outputs": [
    {
     "data": {
      "text/plain": [
       "<torch._C.Generator at 0x7e9248330470>"
      ]
     },
     "execution_count": 2,
     "metadata": {},
     "output_type": "execute_result"
    }
   ],
   "source": [
    "%load_ext autoreload\n",
    "%autoreload 2\n",
    "    \n",
    "torch.manual_seed(1)"
   ]
  },
  {
   "cell_type": "code",
   "execution_count": 3,
   "id": "514e2db5-105b-4002-bd57-3f82e35afbac",
   "metadata": {},
   "outputs": [
    {
     "name": "stdout",
     "output_type": "stream",
     "text": [
      "Using cuda device\n"
     ]
    }
   ],
   "source": [
    "device = (\"cuda\" if torch.cuda.is_available() else \"mps\"\n",
    "    if torch.backends.mps.is_available() else \"cpu\"\n",
    ")\n",
    "print(f\"Using {device} device\")"
   ]
  },
  {
   "cell_type": "markdown",
   "id": "29515b97-f4c2-43a2-b9e1-d18800222964",
   "metadata": {},
   "source": [
    "## dataset"
   ]
  },
  {
   "cell_type": "code",
   "execution_count": 29,
   "id": "2db964d5-c45a-4ce9-83c4-c84337783a6f",
   "metadata": {},
   "outputs": [],
   "source": [
    "# failed\n",
    "# outdir = '/home/yuan/results/epitope/seq'\n",
    "# df1 = pd.read_csv('/home/yuan/results/epitope/seq/epitope_50_shrink_expand.txt', sep='\\t', header=None, index_col=None)\n",
    "# df2 = pd.read_csv('/home/yuan/results/epitope/seq/other_50.txt', sep='\\t', header=None, index_col=None)\n",
    "# df3 = pd.read_csv('/home/yuan/results/epitope/seq/random_50.txt', sep='\\t', header=None, index_col=None)\n",
    "# df = pd.concat([df1, df2, df3])\n",
    "# df = df.sample(frac=1)"
   ]
  },
  {
   "cell_type": "code",
   "execution_count": 34,
   "id": "2c76fc3b-e4cb-43c1-968e-8445ed9a0a84",
   "metadata": {},
   "outputs": [],
   "source": [
    "df1 = pd.read_csv('/home/yuan/results/epitope/epitope.txt', sep='\\t', header=None, index_col=None)\n",
    "df2 = pd.read_csv('/home/yuan/results/epitope/other.txt', sep='\\t', header=None, index_col=None)\n",
    "df3 = pd.read_csv('/home/yuan/results/epitope/random.txt', sep='\\t', header=None, index_col=None)\n",
    "df = pd.concat([df1, df2, df3])\n",
    "df = df.sample(frac=1)"
   ]
  },
  {
   "cell_type": "code",
   "execution_count": 35,
   "id": "5bd81083-ac96-451d-ad1d-a5e2d4177997",
   "metadata": {},
   "outputs": [
    {
     "name": "stdout",
     "output_type": "stream",
     "text": [
      "(14694342, 2) (3552504, 2) (7590778, 2)\n"
     ]
    },
    {
     "data": {
      "text/html": [
       "<div>\n",
       "<style scoped>\n",
       "    .dataframe tbody tr th:only-of-type {\n",
       "        vertical-align: middle;\n",
       "    }\n",
       "\n",
       "    .dataframe tbody tr th {\n",
       "        vertical-align: top;\n",
       "    }\n",
       "\n",
       "    .dataframe thead th {\n",
       "        text-align: right;\n",
       "    }\n",
       "</style>\n",
       "<table border=\"1\" class=\"dataframe\">\n",
       "  <thead>\n",
       "    <tr style=\"text-align: right;\">\n",
       "      <th></th>\n",
       "      <th>0</th>\n",
       "      <th>1</th>\n",
       "    </tr>\n",
       "  </thead>\n",
       "  <tbody>\n",
       "    <tr>\n",
       "      <th>7352937</th>\n",
       "      <td>YFSDRKNNYV</td>\n",
       "      <td>other</td>\n",
       "    </tr>\n",
       "    <tr>\n",
       "      <th>3337599</th>\n",
       "      <td>DHEISVQKKINR</td>\n",
       "      <td>epitope</td>\n",
       "    </tr>\n",
       "    <tr>\n",
       "      <th>2261485</th>\n",
       "      <td>VCSAVYIQVGL</td>\n",
       "      <td>random</td>\n",
       "    </tr>\n",
       "    <tr>\n",
       "      <th>2483944</th>\n",
       "      <td>SSGNIGMALP</td>\n",
       "      <td>other</td>\n",
       "    </tr>\n",
       "    <tr>\n",
       "      <th>1855463</th>\n",
       "      <td>EVAFLPSEHYRNHSINFG</td>\n",
       "      <td>random</td>\n",
       "    </tr>\n",
       "  </tbody>\n",
       "</table>\n",
       "</div>"
      ],
      "text/plain": [
       "                          0        1\n",
       "7352937          YFSDRKNNYV    other\n",
       "3337599        DHEISVQKKINR  epitope\n",
       "2261485         VCSAVYIQVGL   random\n",
       "2483944          SSGNIGMALP    other\n",
       "1855463  EVAFLPSEHYRNHSINFG   random"
      ]
     },
     "execution_count": 35,
     "metadata": {},
     "output_type": "execute_result"
    }
   ],
   "source": [
    "print(df.shape, df1.shape, df2.shape)\n",
    "df.head()"
   ]
  },
  {
   "cell_type": "code",
   "execution_count": 31,
   "id": "984fdbf2-7f6d-49e2-8e73-f5d8e8c64f79",
   "metadata": {},
   "outputs": [
    {
     "name": "stdout",
     "output_type": "stream",
     "text": [
      "('random', 'HRPALFAVRWRGDHHAMILVDCYNYVYYLAEDMVGGVWWWEPDFNKIVTA')\n",
      "Counter({'random': 49157, 'other': 27930, 'epitope': 22913})\n"
     ]
    }
   ],
   "source": [
    "from collections import Counter\n",
    "\n",
    "train_data = list(df.iloc[:100_000,:].apply(lambda x: (x[1], x[0]), axis=1))\n",
    "# train_data = list(df.apply(lambda x: (x[1], x[0]), axis=1))\n",
    "print(train_data[0])\n",
    "counts = Counter([i[0] for i in train_data])\n",
    "print(counts)"
   ]
  },
  {
   "cell_type": "code",
   "execution_count": 41,
   "id": "784d8fa5-525f-42b4-9265-3de33ff7b254",
   "metadata": {},
   "outputs": [
    {
     "name": "stdout",
     "output_type": "stream",
     "text": [
      "('random', 'NARELKFAQTFEPPSWVWYIMKWRRCLMQVTSQCEYKALDIYPFRSWAWS')\n",
      "60000 20000 20000\n",
      "\n",
      "## Step 2 tokenization: unique tokens (words)...\n",
      "A sentence converted to tokens: CEFAYLRDLLIRTHMQNIKDITSSIHFEAYRVKRLNEGSSAMANGMEEKE ['CE', 'FA', 'YL', 'RD', 'LL', 'IR', 'TH', 'MQ', 'NI', 'KD', 'IT', 'SS', 'IH', 'FE', 'AY', 'RV', 'KR', 'LN', 'EG', 'SS', 'AM', 'AN', 'GM', 'EE', 'KE']\n",
      "Vocab-size of input: 433\n",
      "Vocab-size of labels: 3\n",
      "OrderedDict([('LL', 9574), ('AA', 8034), ('SS', 7888), ('AL', 7512), ('EE', 7501), ('SL', 7476), ('LS', 7436), ('LA', 7243), ('LE', 7024), ('VL', 6798), ('LK', 6384), ('EL', 6355), ('GG', 6309), ('GL', 6295), ('LR', 6244), ('LV', 6208), ('LG', 6173), ('SG', 6169), ('AS', 6137), ('GS', 6096), ('LP', 6050), ('LT', 5976), ('SA', 5966), ('AV', 5925), ('EA', 5898), ('AG', 5873), ('TL', 5873), ('LQ', 5872), ('KL', 5861), ('AE', 5772), ('DL', 5706), ('EK', 5697), ('PP', 5678), ('RL', 5670), ('KE', 5658), ('VA', 5642), ('VS', 5628), ('SV', 5588), ('GA', 5550), ('PL', 5549), ('LD', 5520), ('SP', 5481), ('PS', 5460), ('SE', 5455), ('IL', 5425), ('PA', 5401), ('VV', 5346), ('PG', 5339), ('ST', 5315), ('QL', 5293), ('KK', 5281), ('TS', 5224), ('GV', 5198), ('ED', 5183), ('TA', 5167), ('TV', 5118), ('EV', 5062), ('VE', 5052), ('VT', 5050), ('ES', 5022), ('AT', 5016), ('RA', 4992), ('LI', 4986), ('KA', 4968), ('RR', 4959), ('AP', 4926), ('SR', 4894), ('EG', 4878), ('FL', 4843), ('DS', 4826), ('PE', 4823), ('ER', 4810), ('GE', 4809), ('TG', 4785), ('SK', 4777), ('AR', 4775), ('RE', 4749), ('VG', 4739), ('KS', 4738), ('GK', 4725), ('VK', 4721), ('VP', 4712), ('GT', 4710), ('IS', 4703), ('LN', 4702), ('RS', 4700), ('RG', 4693), ('GP', 4676), ('SD', 4657), ('AK', 4641), ('PV', 4626), ('DG', 4606), ('DE', 4586), ('DV', 4581), ('KV', 4572), ('GD', 4568), ('NL', 4564), ('GR', 4562), ('ET', 4552), ('TE', 4540), ('TT', 4518), ('TP', 4515), ('QE', 4500), ('SQ', 4499), ('LF', 4475), ('VD', 4474), ('DA', 4461), ('AD', 4422), ('KG', 4397), ('RV', 4377), ('RK', 4353), ('AI', 4336), ('QA', 4336), ('FS', 4334), ('VR', 4323), ('KD', 4321), ('NS', 4287), ('KT', 4280), ('SI', 4267), ('KR', 4266), ('GI', 4264), ('EI', 4241), ('AQ', 4228), ('IA', 4223), ('PT', 4210), ('EN', 4209), ('IV', 4171), ('VI', 4165), ('KI', 4132), ('SF', 4128), ('PR', 4091), ('IT', 4079), ('DP', 4076), ('EQ', 4068), ('RP', 4050), ('DD', 4047), ('QQ', 4046), ('TK', 4024), ('VQ', 4019), ('RD', 4014), ('IE', 4009), ('QS', 4004), ('KP', 3999), ('EP', 3996), ('LY', 3965), ('IK', 3961), ('DK', 3954), ('PK', 3954), ('NG', 3951), ('TD', 3941), ('QR', 3928), ('QK', 3913), ('PD', 3910), ('RT', 3905), ('GQ', 3905), ('YL', 3889), ('NV', 3888), ('QG', 3876), ('DT', 3873), ('FG', 3871), ('TI', 3865), ('QV', 3859), ('DI', 3854), ('PQ', 3832), ('VN', 3828), ('IP', 3826), ('KN', 3826), ('SN', 3825), ('KQ', 3801), ('GN', 3798), ('AF', 3796), ('VF', 3795), ('NA', 3786), ('HL', 3766), ('QP', 3749), ('GF', 3746), ('RQ', 3743), ('DR', 3742), ('IR', 3742), ('FV', 3740), ('LH', 3736), ('II', 3717), ('TR', 3711), ('AN', 3708), ('IG', 3685), ('ID', 3679), ('RI', 3658), ('NK', 3653), ('NE', 3634), ('FA', 3599), ('QT', 3592), ('NP', 3590), ('DF', 3574), ('FE', 3566), ('NT', 3566), ('QD', 3563), ('FT', 3558), ('TQ', 3557), ('IQ', 3534), ('IN', 3531), ('SY', 3503), ('TF', 3500), ('NI', 3488), ('EF', 3473), ('TN', 3467), ('RN', 3452), ('YS', 3437), ('GY', 3426), ('QI', 3419), ('DN', 3413), ('PI', 3392), ('VY', 3375), ('FD', 3362), ('NR', 3360), ('NN', 3351), ('ML', 3338), ('HS', 3329), ('FP', 3326), ('YE', 3323), ('YV', 3321), ('RF', 3315), ('PF', 3302), ('ND', 3291), ('YG', 3291), ('IF', 3287), ('LC', 3268), ('MA', 3264), ('YR', 3262), ('QN', 3253), ('FK', 3246), ('AY', 3238), ('KF', 3234), ('YK', 3231), ('SH', 3220), ('LM', 3208), ('CL', 3189), ('YA', 3188), ('FR', 3171), ('FI', 3162), ('PN', 3157), ('YT', 3152), ('DQ', 3145), ('NQ', 3142), ('TY', 3119), ('YD', 3110), ('AM', 3099), ('KY', 3098), ('DY', 3085), ('FF', 3078), ('EY', 3074), ('NF', 3066), ('EM', 3065), ('FN', 3049), ('CG', 3019), ('ME', 3019), ('CS', 3019), ('FQ', 3017), ('YI', 3013), ('HV', 3013), ('GH', 3012), ('RY', 3011), ('PY', 2995), ('VH', 2986), ('AH', 2979), ('MS', 2972), ('SC', 2969), ('EH', 2967), ('QF', 2953), ('HG', 2951), ('HA', 2936), ('YP', 2921), ('HT', 2915), ('HP', 2914), ('SM', 2910), ('IY', 2905), ('FY', 2893), ('YF', 2878), ('HR', 2878), ('VC', 2877), ('KH', 2856), ('MK', 2855), ('MV', 2854), ('IH', 2854), ('PH', 2852), ('KM', 2851), ('WL', 2851), ('NY', 2848), ('YN', 2841), ('RH', 2837), ('GC', 2832), ('MG', 2827), ('HE', 2826), ('GM', 2825), ('VM', 2817), ('CA', 2816), ('TC', 2815), ('YQ', 2805), ('AC', 2801), ('CV', 2799), ('YY', 2793), ('MD', 2786), ('HK', 2778), ('QY', 2762), ('TH', 2756), ('EC', 2751), ('MP', 2748), ('QH', 2747), ('HQ', 2728), ('MT', 2719), ('TM', 2718), ('RM', 2701), ('LW', 2699), ('KC', 2698), ('MR', 2686), ('CT', 2669), ('DH', 2668), ('HF', 2667), ('DM', 2656), ('CR', 2655), ('RC', 2652), ('CE', 2652), ('FH', 2643), ('CD', 2642), ('CK', 2627), ('PC', 2604), ('HN', 2601), ('CP', 2599), ('QM', 2587), ('IC', 2579), ('CI', 2577), ('HI', 2565), ('MQ', 2551), ('IM', 2547), ('MI', 2542), ('AW', 2541), ('DC', 2535), ('NM', 2516), ('NH', 2515), ('NC', 2511), ('SW', 2505), ('WE', 2502), ('CF', 2501), ('PM', 2497), ('GW', 2495), ('FC', 2491), ('HH', 2484), ('MN', 2468), ('YC', 2464), ('CN', 2449), ('HD', 2447), ('TW', 2430), ('VW', 2423), ('RW', 2423), ('WS', 2408), ('MF', 2407), ('WV', 2397), ('EW', 2383), ('DW', 2382), ('CY', 2381), ('MY', 2378), ('WT', 2374), ('WA', 2371), ('YH', 2367), ('CQ', 2360), ('WD', 2356), ('HY', 2356), ('CH', 2356), ('WG', 2353), ('QC', 2337), ('WI', 2337), ('FM', 2330), ('WK', 2329), ('YM', 2318), ('WR', 2316), ('IW', 2307), ('KW', 2306), ('HC', 2277), ('MM', 2269), ('PW', 2254), ('WN', 2248), ('WP', 2240), ('QW', 2230), ('FW', 2230), ('CC', 2225), ('MH', 2218), ('WQ', 2211), ('NW', 2206), ('WF', 2204), ('WY', 2198), ('MC', 2146), ('HM', 2144), ('CM', 2130), ('YW', 2122), ('WH', 2114), ('HW', 2090), ('WW', 2050), ('WM', 2019), ('CW', 2011), ('MW', 1997), ('WC', 1986), ('XX', 40), ('XS', 6), ('LX', 5), ('DX', 4), ('GX', 4), ('IX', 4), ('XL', 3), ('AX', 3), ('VX', 3), ('PX', 2), ('QX', 2), ('XC', 2), ('SX', 2), ('TX', 2), ('XA', 2), ('XK', 2), ('XE', 2), ('UG', 2), ('XG', 2), ('XR', 1), ('EX', 1), ('XN', 1), ('YX', 1), ('XY', 1), ('SU', 1), ('LU', 1), ('XT', 1), ('RX', 1), ('XH', 1), ('XD', 1), ('XI', 1), ('HX', 1), ('XV', 1)])\n",
      "counts of input: [29459, 16787, 13754]\n",
      "\n",
      "## Step 3 encoding: encoding each unique token into integers...\n"
     ]
    }
   ],
   "source": [
    "# embedding\n",
    "from my_embedding import MyEmbedding\n",
    "\n",
    "me = MyEmbedding(train_data)\n",
    "train_ds, valid_ds, test_ds = me.split()\n",
    "me.tokenize(k=2)\n",
    "input_vocab, label_vocab = me.build_vocab()"
   ]
  },
  {
   "cell_type": "code",
   "execution_count": 42,
   "id": "24c22740-52d2-46f7-8142-6e49540c66fb",
   "metadata": {},
   "outputs": [
    {
     "name": "stdout",
     "output_type": "stream",
     "text": [
      "MyRNN(\n",
      "  (embedding): Embedding(435, 48, padding_idx=0)\n",
      "  (rnn): LSTM(48, 64, num_layers=2, batch_first=True)\n",
      "  (linear): Sequential(\n",
      "    (0): Linear(in_features=64, out_features=128, bias=True)\n",
      "    (1): ReLU()\n",
      "    (2): Linear(in_features=128, out_features=1, bias=True)\n",
      "    (3): Sigmoid()\n",
      "  )\n",
      ")\n",
      "Epoch 0 acc: 0.7708 val_acc: 0.7732, val_recall: 0.5000\n",
      "Epoch 1 acc: 0.7708 val_acc: 0.7732, val_recall: 0.5000\n",
      "Epoch 2 acc: 0.7708 val_acc: 0.7732, val_recall: 0.5000\n",
      "Epoch 3 acc: 0.7708 val_acc: 0.7732, val_recall: 0.5000\n",
      "Epoch 4 acc: 0.7708 val_acc: 0.7732, val_recall: 0.5000\n",
      "Epoch 5 acc: 0.7708 val_acc: 0.7732, val_recall: 0.5000\n",
      "Epoch 6 acc: 0.7708 val_acc: 0.7732, val_recall: 0.5000\n",
      "Epoch 7 acc: 0.7708 val_acc: 0.7732, val_recall: 0.5000\n",
      "Epoch 8 acc: 0.7708 val_acc: 0.7732, val_recall: 0.5000\n",
      "Epoch 9 acc: 0.7708 val_acc: 0.7732, val_recall: 0.5000\n"
     ]
    }
   ],
   "source": [
    "from my_dataset import MyDataset\n",
    "from my_collate import MyCollate\n",
    "from my_rnn import MyRNN\n",
    "from my_process import MyProcess\n",
    "\n",
    "vocab_size = len(input_vocab)\n",
    "embedding_dim = 48\n",
    "model = MyRNN(vocab_size, embedding_dim).to(device)\n",
    "print(model)\n",
    "\n",
    "# training model\n",
    "# update collate_batch\n",
    "## Step 3-A: define the functions for transformation\n",
    "# feed a tokens vector representing one sentence \n",
    "text_pipeline = lambda x: [input_vocab[token] for token in list(x)]\n",
    "label_pipeline = lambda x: 1 if x == 'epitope' else 0\n",
    "collate_fn = MyCollate(text_pipeline, label_pipeline)\n",
    "\n",
    "num_epochs = 10\n",
    "p = MyProcess(model, collate_fn, num_epochs)\n",
    "trained_model, stat = p.run(train_ds, valid_ds)"
   ]
  },
  {
   "cell_type": "code",
   "execution_count": null,
   "id": "b98a2acd-7fe9-42af-96e3-8f3862065423",
   "metadata": {},
   "outputs": [],
   "source": []
  },
  {
   "cell_type": "code",
   "execution_count": null,
   "id": "97ffb861-b2da-48be-8680-09fc29910f69",
   "metadata": {},
   "outputs": [],
   "source": []
  },
  {
   "cell_type": "code",
   "execution_count": 17,
   "id": "6a83bb91-c92b-43a6-969d-fbaacc74592f",
   "metadata": {},
   "outputs": [
    {
     "data": {
      "text/html": [
       "<div>\n",
       "<style scoped>\n",
       "    .dataframe tbody tr th:only-of-type {\n",
       "        vertical-align: middle;\n",
       "    }\n",
       "\n",
       "    .dataframe tbody tr th {\n",
       "        vertical-align: top;\n",
       "    }\n",
       "\n",
       "    .dataframe thead th {\n",
       "        text-align: right;\n",
       "    }\n",
       "</style>\n",
       "<table border=\"1\" class=\"dataframe\">\n",
       "  <thead>\n",
       "    <tr style=\"text-align: right;\">\n",
       "      <th></th>\n",
       "      <th>text</th>\n",
       "      <th>predict</th>\n",
       "    </tr>\n",
       "  </thead>\n",
       "  <tbody>\n",
       "    <tr>\n",
       "      <th>0</th>\n",
       "      <td>SSPFLKGFLAGYVVAKLRASAV</td>\n",
       "      <td>0.993739</td>\n",
       "    </tr>\n",
       "    <tr>\n",
       "      <th>1</th>\n",
       "      <td>AELMPVGDNN</td>\n",
       "      <td>0.000020</td>\n",
       "    </tr>\n",
       "    <tr>\n",
       "      <th>2</th>\n",
       "      <td>AXAXAXAXA</td>\n",
       "      <td>1.000000</td>\n",
       "    </tr>\n",
       "  </tbody>\n",
       "</table>\n",
       "</div>"
      ],
      "text/plain": [
       "                     text   predict\n",
       "0  SSPFLKGFLAGYVVAKLRASAV  0.993739\n",
       "1              AELMPVGDNN  0.000020\n",
       "2               AXAXAXAXA  1.000000"
      ]
     },
     "execution_count": 17,
     "metadata": {},
     "output_type": "execute_result"
    }
   ],
   "source": [
    "# test predict\n",
    "input = [\n",
    "    # epitope\n",
    "    'SSPFLKGFLAGYVVAKLRASAV', \n",
    "    # other seq\n",
    "    'AELMPVGDNN',\n",
    "    # wrong seq\n",
    "    'AXAXAXAXA'\n",
    "]\n",
    "res = p.predict(input)\n",
    "res"
   ]
  },
  {
   "cell_type": "code",
   "execution_count": 18,
   "id": "6c951285-2640-4a7f-aa16-adecf90b5844",
   "metadata": {},
   "outputs": [
    {
     "name": "stdout",
     "output_type": "stream",
     "text": [
      "Embedding(23, 32, padding_idx=0)\n",
      "torch.Size([23, 32])\n"
     ]
    }
   ],
   "source": [
    "print(trained_model.embedding)\n",
    "print(trained_model.embedding.weight.shape)"
   ]
  },
  {
   "cell_type": "code",
   "execution_count": 19,
   "id": "9a43731a-a246-4700-b9b4-d72cf98efc41",
   "metadata": {},
   "outputs": [
    {
     "data": {
      "text/html": [
       "<div>\n",
       "<style scoped>\n",
       "    .dataframe tbody tr th:only-of-type {\n",
       "        vertical-align: middle;\n",
       "    }\n",
       "\n",
       "    .dataframe tbody tr th {\n",
       "        vertical-align: top;\n",
       "    }\n",
       "\n",
       "    .dataframe thead th {\n",
       "        text-align: right;\n",
       "    }\n",
       "</style>\n",
       "<table border=\"1\" class=\"dataframe\">\n",
       "  <thead>\n",
       "    <tr style=\"text-align: right;\">\n",
       "      <th></th>\n",
       "      <th>acc_train</th>\n",
       "      <th>loss_train</th>\n",
       "      <th>acc_valid</th>\n",
       "      <th>loss_valid</th>\n",
       "      <th>rec_valid</th>\n",
       "    </tr>\n",
       "  </thead>\n",
       "  <tbody>\n",
       "    <tr>\n",
       "      <th>0</th>\n",
       "      <td>0.935380</td>\n",
       "      <td>0.151756</td>\n",
       "      <td>0.939248</td>\n",
       "      <td>0.144231</td>\n",
       "      <td>0.913636</td>\n",
       "    </tr>\n",
       "    <tr>\n",
       "      <th>1</th>\n",
       "      <td>0.940695</td>\n",
       "      <td>0.140580</td>\n",
       "      <td>0.941248</td>\n",
       "      <td>0.139232</td>\n",
       "      <td>0.921152</td>\n",
       "    </tr>\n",
       "    <tr>\n",
       "      <th>2</th>\n",
       "      <td>0.942171</td>\n",
       "      <td>0.137967</td>\n",
       "      <td>0.942046</td>\n",
       "      <td>0.138325</td>\n",
       "      <td>0.919056</td>\n",
       "    </tr>\n",
       "    <tr>\n",
       "      <th>3</th>\n",
       "      <td>0.943017</td>\n",
       "      <td>0.136287</td>\n",
       "      <td>0.942407</td>\n",
       "      <td>0.137763</td>\n",
       "      <td>0.925505</td>\n",
       "    </tr>\n",
       "    <tr>\n",
       "      <th>4</th>\n",
       "      <td>0.943588</td>\n",
       "      <td>0.135903</td>\n",
       "      <td>0.942590</td>\n",
       "      <td>0.137975</td>\n",
       "      <td>0.924493</td>\n",
       "    </tr>\n",
       "    <tr>\n",
       "      <th>5</th>\n",
       "      <td>0.943886</td>\n",
       "      <td>0.137155</td>\n",
       "      <td>0.942880</td>\n",
       "      <td>0.137175</td>\n",
       "      <td>0.923897</td>\n",
       "    </tr>\n",
       "    <tr>\n",
       "      <th>6</th>\n",
       "      <td>0.944115</td>\n",
       "      <td>0.137858</td>\n",
       "      <td>0.942759</td>\n",
       "      <td>0.138235</td>\n",
       "      <td>0.925358</td>\n",
       "    </tr>\n",
       "    <tr>\n",
       "      <th>7</th>\n",
       "      <td>0.944253</td>\n",
       "      <td>0.134852</td>\n",
       "      <td>0.942825</td>\n",
       "      <td>0.139870</td>\n",
       "      <td>0.923414</td>\n",
       "    </tr>\n",
       "    <tr>\n",
       "      <th>8</th>\n",
       "      <td>0.944107</td>\n",
       "      <td>0.136594</td>\n",
       "      <td>0.942285</td>\n",
       "      <td>0.140818</td>\n",
       "      <td>0.922118</td>\n",
       "    </tr>\n",
       "    <tr>\n",
       "      <th>9</th>\n",
       "      <td>0.942216</td>\n",
       "      <td>0.156194</td>\n",
       "      <td>0.937939</td>\n",
       "      <td>0.167283</td>\n",
       "      <td>0.912332</td>\n",
       "    </tr>\n",
       "  </tbody>\n",
       "</table>\n",
       "</div>"
      ],
      "text/plain": [
       "   acc_train  loss_train  acc_valid  loss_valid  rec_valid\n",
       "0   0.935380    0.151756   0.939248    0.144231   0.913636\n",
       "1   0.940695    0.140580   0.941248    0.139232   0.921152\n",
       "2   0.942171    0.137967   0.942046    0.138325   0.919056\n",
       "3   0.943017    0.136287   0.942407    0.137763   0.925505\n",
       "4   0.943588    0.135903   0.942590    0.137975   0.924493\n",
       "5   0.943886    0.137155   0.942880    0.137175   0.923897\n",
       "6   0.944115    0.137858   0.942759    0.138235   0.925358\n",
       "7   0.944253    0.134852   0.942825    0.139870   0.923414\n",
       "8   0.944107    0.136594   0.942285    0.140818   0.922118\n",
       "9   0.942216    0.156194   0.937939    0.167283   0.912332"
      ]
     },
     "execution_count": 19,
     "metadata": {},
     "output_type": "execute_result"
    }
   ],
   "source": [
    "stat"
   ]
  },
  {
   "cell_type": "code",
   "execution_count": 20,
   "id": "97a66b76-bbaf-4a88-bf03-0c63fc04a972",
   "metadata": {},
   "outputs": [
    {
     "data": {
      "image/png": "[encoded data removed]",
      "text/plain": [
       "<Figure size 1000x300 with 2 Axes>"
      ]
     },
     "metadata": {},
     "output_type": "display_data"
    }
   ],
   "source": [
    "fig = plt.figure(figsize=(10,3))\n",
    "x_arr = list(range(num_epochs))\n",
    "ax = fig.add_subplot(1,2,1)\n",
    "ax.plot(x_arr, stat.acc_train, label=\"Accuracy of train\")\n",
    "ax.plot(x_arr, stat.acc_valid, label=\"Accuracy of validation\")\n",
    "ax.plot(x_arr, stat.rec_valid, label=\"Recall of validation\")\n",
    "ax.legend(fontsize=12)\n",
    "# ax.set_ylim(.8, 1)\n",
    "ax.set_title('Accuracy')\n",
    "ax.set_xlabel('Epochs')\n",
    "ax.set_ylabel('Percentage %')\n",
    "\n",
    "ax = fig.add_subplot(1,2,2)\n",
    "ax.plot(x_arr, stat.loss_train, label=\"Loss of train\")\n",
    "ax.plot(x_arr, stat.loss_valid, label=\"Loss of validation\")\n",
    "ax.legend(fontsize=12)\n",
    "ax.set_title('Loss')\n",
    "ax.set_xlabel('Epochs')\n",
    "ax.set_ylabel('Loss')\n",
    "\n",
    "plt.show()"
   ]
  },
  {
   "cell_type": "code",
   "execution_count": 21,
   "id": "5394a85d-d696-4ae3-ad38-4c61e0842d63",
   "metadata": {},
   "outputs": [
    {
     "data": {
      "text/plain": [
       "{'recall': 0.9122450916349945,\n",
       " 'accuracy': 0.9377886527095968,\n",
       " 'loss': 0.16783918841910653}"
      ]
     },
     "execution_count": 21,
     "metadata": {},
     "output_type": "execute_result"
    }
   ],
   "source": [
    "# test model using test data\n",
    "res = p.test(test_ds)\n",
    "res"
   ]
  },
  {
   "cell_type": "code",
   "execution_count": null,
   "id": "f6c47144-35cc-4dc5-99eb-ac1daa32ee65",
   "metadata": {},
   "outputs": [],
   "source": []
  },
  {
   "cell_type": "code",
   "execution_count": 22,
   "id": "b731fd69-2d27-4b64-9a87-581a1fa3e2fb",
   "metadata": {},
   "outputs": [
    {
     "data": {
      "text/html": [
       "<div>\n",
       "<style scoped>\n",
       "    .dataframe tbody tr th:only-of-type {\n",
       "        vertical-align: middle;\n",
       "    }\n",
       "\n",
       "    .dataframe tbody tr th {\n",
       "        vertical-align: top;\n",
       "    }\n",
       "\n",
       "    .dataframe thead th {\n",
       "        text-align: right;\n",
       "    }\n",
       "</style>\n",
       "<table border=\"1\" class=\"dataframe\">\n",
       "  <thead>\n",
       "    <tr style=\"text-align: right;\">\n",
       "      <th></th>\n",
       "      <th>text</th>\n",
       "      <th>predict</th>\n",
       "      <th>labels</th>\n",
       "    </tr>\n",
       "  </thead>\n",
       "  <tbody>\n",
       "    <tr>\n",
       "      <th>0</th>\n",
       "      <td>NELFQPTVSGIIQ</td>\n",
       "      <td>6.709604e-01</td>\n",
       "      <td>epitope</td>\n",
       "    </tr>\n",
       "    <tr>\n",
       "      <th>1</th>\n",
       "      <td>LHDLSKAELA</td>\n",
       "      <td>1.372976e-14</td>\n",
       "      <td>other</td>\n",
       "    </tr>\n",
       "    <tr>\n",
       "      <th>2</th>\n",
       "      <td>GVPNDKEFETFT</td>\n",
       "      <td>8.560386e-01</td>\n",
       "      <td>random</td>\n",
       "    </tr>\n",
       "    <tr>\n",
       "      <th>3</th>\n",
       "      <td>ERPYKCELCP</td>\n",
       "      <td>3.330221e-05</td>\n",
       "      <td>other</td>\n",
       "    </tr>\n",
       "    <tr>\n",
       "      <th>4</th>\n",
       "      <td>GGGRGGYGGGGP</td>\n",
       "      <td>9.830779e-01</td>\n",
       "      <td>epitope</td>\n",
       "    </tr>\n",
       "  </tbody>\n",
       "</table>\n",
       "</div>"
      ],
      "text/plain": [
       "            text       predict   labels\n",
       "0  NELFQPTVSGIIQ  6.709604e-01  epitope\n",
       "1     LHDLSKAELA  1.372976e-14    other\n",
       "2   GVPNDKEFETFT  8.560386e-01   random\n",
       "3     ERPYKCELCP  3.330221e-05    other\n",
       "4   GGGRGGYGGGGP  9.830779e-01  epitope"
      ]
     },
     "execution_count": 22,
     "metadata": {},
     "output_type": "execute_result"
    }
   ],
   "source": [
    "# distriubtion of prediction probability using test data\n",
    "test_X = [i[1] for i in test_ds]\n",
    "pred_test = p.predict(test_X)\n",
    "pred_test['labels'] = [i[0] for i in test_ds]\n",
    "pred_test.head()"
   ]
  },
  {
   "cell_type": "code",
   "execution_count": 28,
   "id": "56639470-53ef-474f-b171-051cfa71bca2",
   "metadata": {},
   "outputs": [
    {
     "name": "stdout",
     "output_type": "stream",
     "text": [
      "711246 2227623\n"
     ]
    },
    {
     "data": {
      "text/plain": [
       "Text(0.5, 1.0, 'Detect none epitope sequences, n = 2227623')"
      ]
     },
     "execution_count": 28,
     "metadata": {},
     "output_type": "execute_result"
    },
    {
     "data": {
      "image/png": "[encoded data removed]",
      "text/plain": [
       "<Figure size 1000x300 with 2 Axes>"
      ]
     },
     "metadata": {},
     "output_type": "display_data"
    }
   ],
   "source": [
    "t = pred_test[pred_test['labels']=='epitope']['predict']\n",
    "f = pred_test[~(pred_test['labels']=='epitope')]['predict']\n",
    "print(len(t), len(f))\n",
    "\n",
    "fig, ax = plt.subplots(1, 2, figsize=(10,3), layout='tight')\n",
    "fig.suptitle('Evavluate RNN model using test data')\n",
    "fig.supxlabel('probability')\n",
    "fig.supylabel('number')\n",
    "\n",
    "ax[0].hist(t, bins=20)\n",
    "ax[0].set_title(f'Predict epitopes, n = {len(t)}')\n",
    "ax[1].hist(f, bins=20)\n",
    "ax[1].set_title(f'Detect none epitope sequences, n = {len(f)}')"
   ]
  },
  {
   "cell_type": "code",
   "execution_count": 29,
   "id": "f327ed2d-7793-43f5-bc99-50f9326213a2",
   "metadata": {},
   "outputs": [],
   "source": [
    "# save model\n",
    "torch.save(input_vocab, '../models/epitopes_rnn_vocab.pth')\n",
    "torch.save(model.state_dict(), '../models/epitopes_rnn.pth')"
   ]
  },
  {
   "cell_type": "code",
   "execution_count": null,
   "id": "a01520b5-993f-449c-871f-8ea4d46a4f99",
   "metadata": {},
   "outputs": [],
   "source": []
  },
  {
   "cell_type": "code",
   "execution_count": null,
   "id": "15156d7e-4bd5-497f-ab92-1700a93b63eb",
   "metadata": {},
   "outputs": [],
   "source": []
  }
 ],
 "metadata": {
  "kernelspec": {
   "display_name": "Python 3 (ipykernel)",
   "language": "python",
   "name": "python3"
  },
  "language_info": {
   "codemirror_mode": {
    "name": "ipython",
    "version": 3
   },
   "file_extension": ".py",
   "mimetype": "text/x-python",
   "name": "python",
   "nbconvert_exporter": "python",
   "pygments_lexer": "ipython3",
   "version": "3.11.9"
  }
 },
 "nbformat": 4,
 "nbformat_minor": 5
}
