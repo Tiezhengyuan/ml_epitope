{
 "cells": [
  {
   "cell_type": "markdown",
   "id": "ed405ad4-c514-4616-8bdb-0477860d3dc3",
   "metadata": {},
   "source": [
    "# recurrent neural network (RNN)"
   ]
  },
  {
   "cell_type": "code",
   "execution_count": 1,
   "id": "351776cc-8579-4f36-a4ca-164a1ac83f22",
   "metadata": {},
   "outputs": [
    {
     "name": "stderr",
     "output_type": "stream",
     "text": [
      "2024-11-27 18:47:07.821576: I tensorflow/core/util/port.cc:153] oneDNN custom operations are on. You may see slightly different numerical results due to floating-point round-off errors from different computation orders. To turn them off, set the environment variable `TF_ENABLE_ONEDNN_OPTS=0`.\n",
      "2024-11-27 18:47:07.829323: E external/local_xla/xla/stream_executor/cuda/cuda_fft.cc:485] Unable to register cuFFT factory: Attempting to register factory for plugin cuFFT when one has already been registered\n",
      "2024-11-27 18:47:07.837899: E external/local_xla/xla/stream_executor/cuda/cuda_dnn.cc:8454] Unable to register cuDNN factory: Attempting to register factory for plugin cuDNN when one has already been registered\n",
      "2024-11-27 18:47:07.840347: E external/local_xla/xla/stream_executor/cuda/cuda_blas.cc:1452] Unable to register cuBLAS factory: Attempting to register factory for plugin cuBLAS when one has already been registered\n",
      "2024-11-27 18:47:07.846922: I tensorflow/core/platform/cpu_feature_guard.cc:210] This TensorFlow binary is optimized to use available CPU instructions in performance-critical operations.\n",
      "To enable the following instructions: AVX2 AVX_VNNI FMA, in other operations, rebuild TensorFlow with the appropriate compiler flags.\n",
      "2024-11-27 18:47:08.238135: W tensorflow/compiler/tf2tensorrt/utils/py_utils.cc:38] TF-TRT Warning: Could not find TensorRT\n"
     ]
    }
   ],
   "source": [
    "import json\n",
    "import os\n",
    "from copy import deepcopy\n",
    "import random\n",
    "\n",
    "import numpy as np\n",
    "import pandas as pd\n",
    "import matplotlib.pyplot as plt\n",
    "\n",
    "import tensorflow as tf\n",
    "import torch\n",
    "import torch.nn as nn"
   ]
  },
  {
   "cell_type": "code",
   "execution_count": 2,
   "id": "aa8e54f3-60a0-4a6e-ad52-d888d05ba0c2",
   "metadata": {},
   "outputs": [
    {
     "data": {
      "text/plain": [
       "<torch._C.Generator at 0x73591cd10410>"
      ]
     },
     "execution_count": 2,
     "metadata": {},
     "output_type": "execute_result"
    }
   ],
   "source": [
    "%load_ext autoreload\n",
    "%autoreload 2\n",
    "    \n",
    "torch.manual_seed(1)"
   ]
  },
  {
   "cell_type": "code",
   "execution_count": 3,
   "id": "514e2db5-105b-4002-bd57-3f82e35afbac",
   "metadata": {},
   "outputs": [
    {
     "name": "stdout",
     "output_type": "stream",
     "text": [
      "Using cuda device\n"
     ]
    }
   ],
   "source": [
    "device = (\"cuda\" if torch.cuda.is_available() else \"mps\"\n",
    "    if torch.backends.mps.is_available() else \"cpu\"\n",
    ")\n",
    "print(f\"Using {device} device\")"
   ]
  },
  {
   "cell_type": "markdown",
   "id": "29515b97-f4c2-43a2-b9e1-d18800222964",
   "metadata": {},
   "source": [
    "## dataset"
   ]
  },
  {
   "cell_type": "code",
   "execution_count": 107,
   "id": "2db964d5-c45a-4ce9-83c4-c84337783a6f",
   "metadata": {},
   "outputs": [],
   "source": [
    "df1 = pd.read_csv('/home/yuan/results/epitope/epitope.txt', sep='\\t', header=None, index_col=None)\n",
    "df2 = pd.read_csv('/home/yuan/results/epitope/other.txt', sep='\\t', header=None, index_col=None)\n",
    "df3 = pd.read_csv('/home/yuan/results/epitope/random.txt', sep='\\t', header=None, index_col=None)\n",
    "# df4 = pd.read_csv('/home/yuan/results/epitope/shuffle.txt', sep='\\t', header=None, index_col=None)"
   ]
  },
  {
   "cell_type": "code",
   "execution_count": 108,
   "id": "d63b19ca-c7b3-4172-bfb3-ccdcf8571008",
   "metadata": {},
   "outputs": [
    {
     "name": "stdout",
     "output_type": "stream",
     "text": [
      "(1865242, 2) (1865242, 2)\n",
      "(6062640, 2) (6062640, 2)\n",
      "(1863999, 2) (1863998, 2)\n"
     ]
    }
   ],
   "source": [
    "# drop duplicates\n",
    "df11 = df1.drop_duplicates()\n",
    "print(df1.shape, df11.shape)\n",
    "\n",
    "df21 = df2.drop_duplicates()\n",
    "print(df2.shape, df21.shape)\n",
    "\n",
    "df31 = df3.drop_duplicates()\n",
    "print(df3.shape, df31.shape)"
   ]
  },
  {
   "cell_type": "code",
   "execution_count": 109,
   "id": "1cfde29c-d768-4344-99a8-b4881337e3ac",
   "metadata": {},
   "outputs": [
    {
     "data": {
      "text/html": [
       "<div>\n",
       "<style scoped>\n",
       "    .dataframe tbody tr th:only-of-type {\n",
       "        vertical-align: middle;\n",
       "    }\n",
       "\n",
       "    .dataframe tbody tr th {\n",
       "        vertical-align: top;\n",
       "    }\n",
       "\n",
       "    .dataframe thead th {\n",
       "        text-align: right;\n",
       "    }\n",
       "</style>\n",
       "<table border=\"1\" class=\"dataframe\">\n",
       "  <thead>\n",
       "    <tr style=\"text-align: right;\">\n",
       "      <th></th>\n",
       "      <th>0</th>\n",
       "      <th>1</th>\n",
       "    </tr>\n",
       "  </thead>\n",
       "  <tbody>\n",
       "    <tr>\n",
       "      <th>0</th>\n",
       "      <td>SEYHWRKHLR</td>\n",
       "      <td>other</td>\n",
       "    </tr>\n",
       "    <tr>\n",
       "      <th>1</th>\n",
       "      <td>CELCPYSSSQ</td>\n",
       "      <td>other</td>\n",
       "    </tr>\n",
       "    <tr>\n",
       "      <th>2</th>\n",
       "      <td>GSDLSDNMSE</td>\n",
       "      <td>other</td>\n",
       "    </tr>\n",
       "    <tr>\n",
       "      <th>3</th>\n",
       "      <td>SDDSGLHGAR</td>\n",
       "      <td>other</td>\n",
       "    </tr>\n",
       "    <tr>\n",
       "      <th>4</th>\n",
       "      <td>LEESADIKAH</td>\n",
       "      <td>other</td>\n",
       "    </tr>\n",
       "    <tr>\n",
       "      <th>...</th>\n",
       "      <td>...</td>\n",
       "      <td>...</td>\n",
       "    </tr>\n",
       "    <tr>\n",
       "      <th>6062635</th>\n",
       "      <td>ITNLCPFGEV</td>\n",
       "      <td>other</td>\n",
       "    </tr>\n",
       "    <tr>\n",
       "      <th>6062636</th>\n",
       "      <td>VRFPNITNLC</td>\n",
       "      <td>other</td>\n",
       "    </tr>\n",
       "    <tr>\n",
       "      <th>6062637</th>\n",
       "      <td>PSGDVVRFPN</td>\n",
       "      <td>other</td>\n",
       "    </tr>\n",
       "    <tr>\n",
       "      <th>6062638</th>\n",
       "      <td>CGPKLSTDLI</td>\n",
       "      <td>other</td>\n",
       "    </tr>\n",
       "    <tr>\n",
       "      <th>6062639</th>\n",
       "      <td>NIDATSTGNY</td>\n",
       "      <td>other</td>\n",
       "    </tr>\n",
       "  </tbody>\n",
       "</table>\n",
       "<p>6062640 rows × 2 columns</p>\n",
       "</div>"
      ],
      "text/plain": [
       "                  0      1\n",
       "0        SEYHWRKHLR  other\n",
       "1        CELCPYSSSQ  other\n",
       "2        GSDLSDNMSE  other\n",
       "3        SDDSGLHGAR  other\n",
       "4        LEESADIKAH  other\n",
       "...             ...    ...\n",
       "6062635  ITNLCPFGEV  other\n",
       "6062636  VRFPNITNLC  other\n",
       "6062637  PSGDVVRFPN  other\n",
       "6062638  CGPKLSTDLI  other\n",
       "6062639  NIDATSTGNY  other\n",
       "\n",
       "[6062640 rows x 2 columns]"
      ]
     },
     "execution_count": 109,
     "metadata": {},
     "output_type": "execute_result"
    }
   ],
   "source": [
    "df2"
   ]
  },
  {
   "cell_type": "code",
   "execution_count": null,
   "id": "f2cfc11b-7d33-4d29-aa2a-f79ebf3437fb",
   "metadata": {},
   "outputs": [],
   "source": []
  },
  {
   "cell_type": "code",
   "execution_count": 110,
   "id": "5bd81083-ac96-451d-ad1d-a5e2d4177997",
   "metadata": {},
   "outputs": [
    {
     "name": "stdout",
     "output_type": "stream",
     "text": [
      "(9791880, 2)\n"
     ]
    },
    {
     "data": {
      "text/html": [
       "<div>\n",
       "<style scoped>\n",
       "    .dataframe tbody tr th:only-of-type {\n",
       "        vertical-align: middle;\n",
       "    }\n",
       "\n",
       "    .dataframe tbody tr th {\n",
       "        vertical-align: top;\n",
       "    }\n",
       "\n",
       "    .dataframe thead th {\n",
       "        text-align: right;\n",
       "    }\n",
       "</style>\n",
       "<table border=\"1\" class=\"dataframe\">\n",
       "  <thead>\n",
       "    <tr style=\"text-align: right;\">\n",
       "      <th></th>\n",
       "      <th>0</th>\n",
       "      <th>1</th>\n",
       "    </tr>\n",
       "  </thead>\n",
       "  <tbody>\n",
       "    <tr>\n",
       "      <th>944556</th>\n",
       "      <td>QSVDRTAVTGASYFT</td>\n",
       "      <td>epitope</td>\n",
       "    </tr>\n",
       "    <tr>\n",
       "      <th>460147</th>\n",
       "      <td>MSMCIVIKGFTHVQHDMT</td>\n",
       "      <td>random</td>\n",
       "    </tr>\n",
       "    <tr>\n",
       "      <th>5601428</th>\n",
       "      <td>WYDFGDYVIAAP</td>\n",
       "      <td>other</td>\n",
       "    </tr>\n",
       "    <tr>\n",
       "      <th>183385</th>\n",
       "      <td>CLMMILPAA</td>\n",
       "      <td>epitope</td>\n",
       "    </tr>\n",
       "    <tr>\n",
       "      <th>653355</th>\n",
       "      <td>DTGDTLGSV</td>\n",
       "      <td>other</td>\n",
       "    </tr>\n",
       "  </tbody>\n",
       "</table>\n",
       "</div>"
      ],
      "text/plain": [
       "                          0        1\n",
       "944556      QSVDRTAVTGASYFT  epitope\n",
       "460147   MSMCIVIKGFTHVQHDMT   random\n",
       "5601428        WYDFGDYVIAAP    other\n",
       "183385            CLMMILPAA  epitope\n",
       "653355            DTGDTLGSV    other"
      ]
     },
     "execution_count": 110,
     "metadata": {},
     "output_type": "execute_result"
    }
   ],
   "source": [
    "df = pd.concat([df11, df21, df31])\n",
    "df = df.sample(frac=1)\n",
    "print(df.shape)\n",
    "df.head()"
   ]
  },
  {
   "cell_type": "code",
   "execution_count": 111,
   "id": "984fdbf2-7f6d-49e2-8e73-f5d8e8c64f79",
   "metadata": {},
   "outputs": [
    {
     "name": "stdout",
     "output_type": "stream",
     "text": [
      "('epitope', 'QSVDRTAVTGASYFT')\n",
      "Counter({'other': 6062640, 'epitope': 1865242, 'random': 1863998})\n"
     ]
    }
   ],
   "source": [
    "from collections import Counter\n",
    "\n",
    "# train_data = list(df.iloc[:10_000,:].apply(lambda x: (x[1], x[0]), axis=1))\n",
    "train_data = list(df.apply(lambda x: (x[1], x[0]), axis=1))\n",
    "print(train_data[0])\n",
    "counts = Counter([i[0] for i in train_data])\n",
    "print(counts)"
   ]
  },
  {
   "cell_type": "code",
   "execution_count": 112,
   "id": "784d8fa5-525f-42b4-9265-3de33ff7b254",
   "metadata": {},
   "outputs": [
    {
     "name": "stdout",
     "output_type": "stream",
     "text": [
      "('other', 'APLKRGSDYCIILRITSEWN')\n",
      "5875128 1958376 1958376\n",
      "\n",
      "## Step 2 tokenization: unique tokens (words)...\n",
      "A sentence converted to tokens: HRQLTFEEIAKSAKIT ['H', 'R', 'Q', 'L', 'T', 'F', 'E', 'E', 'I', 'A', 'K', 'S', 'A', 'K', 'I', 'T']\n",
      "Vocab-size of input: 25\n",
      "Vocab-size of labels: 3\n",
      "OrderedDict([('L', 5843051), ('S', 4919025), ('A', 4845039), ('G', 4546715), ('E', 4463793), ('V', 4211296), ('P', 3973039), ('K', 3837348), ('R', 3729616), ('T', 3723668), ('D', 3534585), ('I', 3198191), ('Q', 3151456), ('N', 2816652), ('F', 2691698), ('Y', 2235940), ('H', 2012897), ('M', 1807812), ('C', 1806473), ('W', 1389209), ('X', 6704), ('U', 132), ('B', 104), ('Z', 86), ('J', 20)])\n",
      "counts of input: [3636131, 1119949, 1119048]\n",
      "\n",
      "## Step 3 encoding: encoding each unique token into integers...\n"
     ]
    }
   ],
   "source": [
    "# embedding\n",
    "from my_embedding import MyEmbedding\n",
    "\n",
    "me = MyEmbedding(train_data)\n",
    "train_ds, valid_ds, test_ds = me.split()\n",
    "me.tokenize()\n",
    "input_vocab, label_vocab = me.build_vocab()"
   ]
  },
  {
   "cell_type": "code",
   "execution_count": null,
   "id": "b98a2acd-7fe9-42af-96e3-8f3862065423",
   "metadata": {},
   "outputs": [],
   "source": []
  },
  {
   "cell_type": "code",
   "execution_count": null,
   "id": "24c22740-52d2-46f7-8142-6e49540c66fb",
   "metadata": {},
   "outputs": [
    {
     "name": "stdout",
     "output_type": "stream",
     "text": [
      "MyRNN(\n",
      "  (embedding): Embedding(27, 48, padding_idx=0)\n",
      "  (rnn): LSTM(48, 64, num_layers=2, batch_first=True)\n",
      "  (linear): Sequential(\n",
      "    (0): Linear(in_features=64, out_features=128, bias=True)\n",
      "    (1): ReLU()\n",
      "    (2): Linear(in_features=128, out_features=1, bias=True)\n",
      "    (3): Sigmoid()\n",
      "  )\n",
      ")\n",
      "Epoch 0 acc: 0.8312 val_acc: 0.8348, val_recall: 0.6392\n"
     ]
    }
   ],
   "source": [
    "from my_dataset import MyDataset\n",
    "from my_collate import MyCollate\n",
    "from my_rnn import MyRNN\n",
    "from my_process import MyProcess\n",
    "\n",
    "vocab_size = len(input_vocab)\n",
    "embedding_dim = 48\n",
    "model = MyRNN(vocab_size, embedding_dim).to(device)\n",
    "print(model)\n",
    "\n",
    "# training model\n",
    "# update collate_batch\n",
    "## Step 3-A: define the functions for transformation\n",
    "# feed a tokens vector representing one sentence \n",
    "text_pipeline = lambda x: [input_vocab[token] for token in list(x)]\n",
    "label_pipeline = lambda x: 1 if x == 'epitope' else 0\n",
    "collate_fn = MyCollate(text_pipeline, label_pipeline)\n",
    "\n",
    "num_epochs = 10\n",
    "p = MyProcess(model, collate_fn, num_epochs)\n",
    "trained_model, stat = p.run(train_ds, valid_ds)"
   ]
  },
  {
   "cell_type": "code",
   "execution_count": null,
   "id": "97ffb861-b2da-48be-8680-09fc29910f69",
   "metadata": {},
   "outputs": [],
   "source": []
  },
  {
   "cell_type": "code",
   "execution_count": null,
   "id": "6a83bb91-c92b-43a6-969d-fbaacc74592f",
   "metadata": {},
   "outputs": [],
   "source": [
    "# test predict\n",
    "input = [\n",
    "    # epitope\n",
    "    'SSPFLKGFLAGYVVAKLRASAV', \n",
    "    # other seq\n",
    "    'AELMPVGDNN',\n",
    "    # wrong seq\n",
    "    'AXAXAXAXA'\n",
    "]\n",
    "res = p.predict(input)\n",
    "res"
   ]
  },
  {
   "cell_type": "code",
   "execution_count": 18,
   "id": "6c951285-2640-4a7f-aa16-adecf90b5844",
   "metadata": {},
   "outputs": [
    {
     "name": "stdout",
     "output_type": "stream",
     "text": [
      "Embedding(23, 32, padding_idx=0)\n",
      "torch.Size([23, 32])\n"
     ]
    }
   ],
   "source": [
    "print(trained_model.embedding)\n",
    "print(trained_model.embedding.weight.shape)"
   ]
  },
  {
   "cell_type": "code",
   "execution_count": 19,
   "id": "9a43731a-a246-4700-b9b4-d72cf98efc41",
   "metadata": {},
   "outputs": [
    {
     "data": {
      "text/html": [
       "<div>\n",
       "<style scoped>\n",
       "    .dataframe tbody tr th:only-of-type {\n",
       "        vertical-align: middle;\n",
       "    }\n",
       "\n",
       "    .dataframe tbody tr th {\n",
       "        vertical-align: top;\n",
       "    }\n",
       "\n",
       "    .dataframe thead th {\n",
       "        text-align: right;\n",
       "    }\n",
       "</style>\n",
       "<table border=\"1\" class=\"dataframe\">\n",
       "  <thead>\n",
       "    <tr style=\"text-align: right;\">\n",
       "      <th></th>\n",
       "      <th>acc_train</th>\n",
       "      <th>loss_train</th>\n",
       "      <th>acc_valid</th>\n",
       "      <th>loss_valid</th>\n",
       "      <th>rec_valid</th>\n",
       "    </tr>\n",
       "  </thead>\n",
       "  <tbody>\n",
       "    <tr>\n",
       "      <th>0</th>\n",
       "      <td>0.935380</td>\n",
       "      <td>0.151756</td>\n",
       "      <td>0.939248</td>\n",
       "      <td>0.144231</td>\n",
       "      <td>0.913636</td>\n",
       "    </tr>\n",
       "    <tr>\n",
       "      <th>1</th>\n",
       "      <td>0.940695</td>\n",
       "      <td>0.140580</td>\n",
       "      <td>0.941248</td>\n",
       "      <td>0.139232</td>\n",
       "      <td>0.921152</td>\n",
       "    </tr>\n",
       "    <tr>\n",
       "      <th>2</th>\n",
       "      <td>0.942171</td>\n",
       "      <td>0.137967</td>\n",
       "      <td>0.942046</td>\n",
       "      <td>0.138325</td>\n",
       "      <td>0.919056</td>\n",
       "    </tr>\n",
       "    <tr>\n",
       "      <th>3</th>\n",
       "      <td>0.943017</td>\n",
       "      <td>0.136287</td>\n",
       "      <td>0.942407</td>\n",
       "      <td>0.137763</td>\n",
       "      <td>0.925505</td>\n",
       "    </tr>\n",
       "    <tr>\n",
       "      <th>4</th>\n",
       "      <td>0.943588</td>\n",
       "      <td>0.135903</td>\n",
       "      <td>0.942590</td>\n",
       "      <td>0.137975</td>\n",
       "      <td>0.924493</td>\n",
       "    </tr>\n",
       "    <tr>\n",
       "      <th>5</th>\n",
       "      <td>0.943886</td>\n",
       "      <td>0.137155</td>\n",
       "      <td>0.942880</td>\n",
       "      <td>0.137175</td>\n",
       "      <td>0.923897</td>\n",
       "    </tr>\n",
       "    <tr>\n",
       "      <th>6</th>\n",
       "      <td>0.944115</td>\n",
       "      <td>0.137858</td>\n",
       "      <td>0.942759</td>\n",
       "      <td>0.138235</td>\n",
       "      <td>0.925358</td>\n",
       "    </tr>\n",
       "    <tr>\n",
       "      <th>7</th>\n",
       "      <td>0.944253</td>\n",
       "      <td>0.134852</td>\n",
       "      <td>0.942825</td>\n",
       "      <td>0.139870</td>\n",
       "      <td>0.923414</td>\n",
       "    </tr>\n",
       "    <tr>\n",
       "      <th>8</th>\n",
       "      <td>0.944107</td>\n",
       "      <td>0.136594</td>\n",
       "      <td>0.942285</td>\n",
       "      <td>0.140818</td>\n",
       "      <td>0.922118</td>\n",
       "    </tr>\n",
       "    <tr>\n",
       "      <th>9</th>\n",
       "      <td>0.942216</td>\n",
       "      <td>0.156194</td>\n",
       "      <td>0.937939</td>\n",
       "      <td>0.167283</td>\n",
       "      <td>0.912332</td>\n",
       "    </tr>\n",
       "  </tbody>\n",
       "</table>\n",
       "</div>"
      ],
      "text/plain": [
       "   acc_train  loss_train  acc_valid  loss_valid  rec_valid\n",
       "0   0.935380    0.151756   0.939248    0.144231   0.913636\n",
       "1   0.940695    0.140580   0.941248    0.139232   0.921152\n",
       "2   0.942171    0.137967   0.942046    0.138325   0.919056\n",
       "3   0.943017    0.136287   0.942407    0.137763   0.925505\n",
       "4   0.943588    0.135903   0.942590    0.137975   0.924493\n",
       "5   0.943886    0.137155   0.942880    0.137175   0.923897\n",
       "6   0.944115    0.137858   0.942759    0.138235   0.925358\n",
       "7   0.944253    0.134852   0.942825    0.139870   0.923414\n",
       "8   0.944107    0.136594   0.942285    0.140818   0.922118\n",
       "9   0.942216    0.156194   0.937939    0.167283   0.912332"
      ]
     },
     "execution_count": 19,
     "metadata": {},
     "output_type": "execute_result"
    }
   ],
   "source": [
    "stat"
   ]
  },
  {
   "cell_type": "code",
   "execution_count": 20,
   "id": "97a66b76-bbaf-4a88-bf03-0c63fc04a972",
   "metadata": {},
   "outputs": [
    {
     "data": {
      "image/png": "[encoded data removed]",
      "text/plain": [
       "<Figure size 1000x300 with 2 Axes>"
      ]
     },
     "metadata": {},
     "output_type": "display_data"
    }
   ],
   "source": [
    "fig = plt.figure(figsize=(10,3))\n",
    "x_arr = list(range(num_epochs))\n",
    "ax = fig.add_subplot(1,2,1)\n",
    "ax.plot(x_arr, stat.acc_train, label=\"Accuracy of train\")\n",
    "ax.plot(x_arr, stat.acc_valid, label=\"Accuracy of validation\")\n",
    "ax.plot(x_arr, stat.rec_valid, label=\"Recall of validation\")\n",
    "ax.legend(fontsize=12)\n",
    "# ax.set_ylim(.8, 1)\n",
    "ax.set_title('Accuracy')\n",
    "ax.set_xlabel('Epochs')\n",
    "ax.set_ylabel('Percentage %')\n",
    "\n",
    "ax = fig.add_subplot(1,2,2)\n",
    "ax.plot(x_arr, stat.loss_train, label=\"Loss of train\")\n",
    "ax.plot(x_arr, stat.loss_valid, label=\"Loss of validation\")\n",
    "ax.legend(fontsize=12)\n",
    "ax.set_title('Loss')\n",
    "ax.set_xlabel('Epochs')\n",
    "ax.set_ylabel('Loss')\n",
    "\n",
    "plt.show()"
   ]
  },
  {
   "cell_type": "code",
   "execution_count": 21,
   "id": "5394a85d-d696-4ae3-ad38-4c61e0842d63",
   "metadata": {},
   "outputs": [
    {
     "data": {
      "text/plain": [
       "{'recall': 0.9122450916349945,\n",
       " 'accuracy': 0.9377886527095968,\n",
       " 'loss': 0.16783918841910653}"
      ]
     },
     "execution_count": 21,
     "metadata": {},
     "output_type": "execute_result"
    }
   ],
   "source": [
    "# test model using test data\n",
    "res = p.test(test_ds)\n",
    "res"
   ]
  },
  {
   "cell_type": "code",
   "execution_count": null,
   "id": "f6c47144-35cc-4dc5-99eb-ac1daa32ee65",
   "metadata": {},
   "outputs": [],
   "source": []
  },
  {
   "cell_type": "code",
   "execution_count": 22,
   "id": "b731fd69-2d27-4b64-9a87-581a1fa3e2fb",
   "metadata": {},
   "outputs": [
    {
     "data": {
      "text/html": [
       "<div>\n",
       "<style scoped>\n",
       "    .dataframe tbody tr th:only-of-type {\n",
       "        vertical-align: middle;\n",
       "    }\n",
       "\n",
       "    .dataframe tbody tr th {\n",
       "        vertical-align: top;\n",
       "    }\n",
       "\n",
       "    .dataframe thead th {\n",
       "        text-align: right;\n",
       "    }\n",
       "</style>\n",
       "<table border=\"1\" class=\"dataframe\">\n",
       "  <thead>\n",
       "    <tr style=\"text-align: right;\">\n",
       "      <th></th>\n",
       "      <th>text</th>\n",
       "      <th>predict</th>\n",
       "      <th>labels</th>\n",
       "    </tr>\n",
       "  </thead>\n",
       "  <tbody>\n",
       "    <tr>\n",
       "      <th>0</th>\n",
       "      <td>NELFQPTVSGIIQ</td>\n",
       "      <td>6.709604e-01</td>\n",
       "      <td>epitope</td>\n",
       "    </tr>\n",
       "    <tr>\n",
       "      <th>1</th>\n",
       "      <td>LHDLSKAELA</td>\n",
       "      <td>1.372976e-14</td>\n",
       "      <td>other</td>\n",
       "    </tr>\n",
       "    <tr>\n",
       "      <th>2</th>\n",
       "      <td>GVPNDKEFETFT</td>\n",
       "      <td>8.560386e-01</td>\n",
       "      <td>random</td>\n",
       "    </tr>\n",
       "    <tr>\n",
       "      <th>3</th>\n",
       "      <td>ERPYKCELCP</td>\n",
       "      <td>3.330221e-05</td>\n",
       "      <td>other</td>\n",
       "    </tr>\n",
       "    <tr>\n",
       "      <th>4</th>\n",
       "      <td>GGGRGGYGGGGP</td>\n",
       "      <td>9.830779e-01</td>\n",
       "      <td>epitope</td>\n",
       "    </tr>\n",
       "  </tbody>\n",
       "</table>\n",
       "</div>"
      ],
      "text/plain": [
       "            text       predict   labels\n",
       "0  NELFQPTVSGIIQ  6.709604e-01  epitope\n",
       "1     LHDLSKAELA  1.372976e-14    other\n",
       "2   GVPNDKEFETFT  8.560386e-01   random\n",
       "3     ERPYKCELCP  3.330221e-05    other\n",
       "4   GGGRGGYGGGGP  9.830779e-01  epitope"
      ]
     },
     "execution_count": 22,
     "metadata": {},
     "output_type": "execute_result"
    }
   ],
   "source": [
    "# distriubtion of prediction probability using test data\n",
    "test_X = [i[1] for i in test_ds]\n",
    "pred_test = p.predict(test_X)\n",
    "pred_test['labels'] = [i[0] for i in test_ds]\n",
    "pred_test.head()"
   ]
  },
  {
   "cell_type": "code",
   "execution_count": 87,
   "id": "56639470-53ef-474f-b171-051cfa71bca2",
   "metadata": {},
   "outputs": [
    {
     "name": "stdout",
     "output_type": "stream",
     "text": [
      "711246 2227623\n"
     ]
    },
    {
     "data": {
      "text/plain": [
       "Text(0.5, 1.0, 'Distinguish non-epitopes, n = 2227623')"
      ]
     },
     "execution_count": 87,
     "metadata": {},
     "output_type": "execute_result"
    },
    {
     "data": {
      "image/png": "[encoded data removed]",
      "text/plain": [
       "<Figure size 900x300 with 2 Axes>"
      ]
     },
     "metadata": {},
     "output_type": "display_data"
    }
   ],
   "source": [
    "t = pred_test[pred_test['labels']=='epitope']['predict']\n",
    "f = pred_test[~(pred_test['labels']=='epitope')]['predict']\n",
    "print(len(t), len(f))\n",
    "\n",
    "fig, ax = plt.subplots(1, 2, figsize=(9,3), layout='tight')\n",
    "fig.suptitle('Evavluate RNN model using test data')\n",
    "fig.supxlabel('probability')\n",
    "fig.supylabel('number')\n",
    "\n",
    "ax[0].hist(t, bins=20)\n",
    "ax[0].set_title(f'Predict epitopes, n = {len(t)}')\n",
    "ax[1].hist(f, bins=20)\n",
    "ax[1].set_title(f'Distinguish non-epitopes, n = {len(f)}')"
   ]
  },
  {
   "cell_type": "code",
   "execution_count": 29,
   "id": "f327ed2d-7793-43f5-bc99-50f9326213a2",
   "metadata": {},
   "outputs": [],
   "source": [
    "# save model\n",
    "torch.save(input_vocab, '../models/epitopes_rnn_vocab.pth')\n",
    "torch.save(model.state_dict(), '../models/epitopes_rnn.pth')"
   ]
  },
  {
   "cell_type": "code",
   "execution_count": null,
   "id": "a01520b5-993f-449c-871f-8ea4d46a4f99",
   "metadata": {},
   "outputs": [],
   "source": []
  },
  {
   "cell_type": "code",
   "execution_count": null,
   "id": "15156d7e-4bd5-497f-ab92-1700a93b63eb",
   "metadata": {},
   "outputs": [],
   "source": []
  }
 ],
 "metadata": {
  "kernelspec": {
   "display_name": "Python 3 (ipykernel)",
   "language": "python",
   "name": "python3"
  },
  "language_info": {
   "codemirror_mode": {
    "name": "ipython",
    "version": 3
   },
   "file_extension": ".py",
   "mimetype": "text/x-python",
   "name": "python",
   "nbconvert_exporter": "python",
   "pygments_lexer": "ipython3",
   "version": "3.11.9"
  }
 },
 "nbformat": 4,
 "nbformat_minor": 5
}
