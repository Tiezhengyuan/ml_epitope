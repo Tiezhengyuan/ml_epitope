{
 "cells": [
  {
   "cell_type": "code",
   "execution_count": 6,
   "id": "007e85a8-bb1c-4e27-8a8b-9bffa32ea7a9",
   "metadata": {},
   "outputs": [],
   "source": [
    "# statistics\n",
    "import numpy as np\n",
    "import pandas as pd\n",
    "import sklearn\n"
   ]
  },
  {
   "cell_type": "code",
   "execution_count": null,
   "id": "1999ecb8-fee1-4cb7-a62a-59a801a15095",
   "metadata": {},
   "outputs": [],
   "source": [
    "# plot\n",
    "import matplotlib.pyplot as plt\n",
    "from matplotlib_venn import venn2, venn3\n",
    "import seaborn as sns"
   ]
  },
  {
   "cell_type": "code",
   "execution_count": 11,
   "id": "b8750239-7dd7-42a1-9516-f29c659ae315",
   "metadata": {},
   "outputs": [
    {
     "name": "stdout",
     "output_type": "stream",
     "text": [
      "tensorflow:  2.18.0\n",
      "[PhysicalDevice(name='/physical_device:GPU:0', device_type='GPU')]\n"
     ]
    }
   ],
   "source": [
    "# tensorflow\n",
    "import tensorflow as tf\n",
    "print('tensorflow: ', tf.__version__)\n",
    "# if GPU available in tensorflow\n",
    "print(tf.config.list_physical_devices('GPU'))"
   ]
  },
  {
   "cell_type": "code",
   "execution_count": null,
   "id": "c6ce5565-e02f-439e-bd87-1fbbd52cf6db",
   "metadata": {},
   "outputs": [],
   "source": [
    "#pytorch\n",
    "import torch"
   ]
  },
  {
   "cell_type": "code",
   "execution_count": null,
   "id": "37d918d5-a7d5-4169-9c3b-688713c11ec9",
   "metadata": {},
   "outputs": [],
   "source": [
    "# start ssh agent in the background\n",
    "eval \"$(ssh-agent -s)\""
   ]
  },
  {
   "cell_type": "markdown",
   "id": "5017f5e2",
   "metadata": {},
   "source": []
  },
  {
   "cell_type": "code",
   "execution_count": null,
   "id": "69b76c2d-a026-4035-9f09-ac719ba1654c",
   "metadata": {},
   "outputs": [],
   "source": [
    "# generate public key\n",
    "ssh-keygen -t ed25519 -C \"tiezhengyuan@hotmail.com\""
   ]
  },
  {
   "cell_type": "code",
   "execution_count": null,
   "id": "bb2a6a48-8b7e-44cd-b6a6-4c374d6a80cd",
   "metadata": {},
   "outputs": [],
   "source": []
  }
 ],
 "metadata": {
  "kernelspec": {
   "display_name": "Python 3 (ipykernel)",
   "language": "python",
   "name": "python3"
  },
  "language_info": {
   "codemirror_mode": {
    "name": "ipython",
    "version": 3
   },
   "file_extension": ".py",
   "mimetype": "text/x-python",
   "name": "python",
   "nbconvert_exporter": "python",
   "pygments_lexer": "ipython3",
   "version": "3.11.11"
  }
 },
 "nbformat": 4,
 "nbformat_minor": 5
}
