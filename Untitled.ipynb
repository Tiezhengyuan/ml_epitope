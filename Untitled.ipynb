{
 "cells": [
  {
   "cell_type": "code",
   "execution_count": 3,
   "id": "007e85a8-bb1c-4e27-8a8b-9bffa32ea7a9",
   "metadata": {},
   "outputs": [
    {
     "name": "stdout",
     "output_type": "stream",
     "text": [
      "{'a': {'b': 3, 'c': {'b': 5}}}\n"
     ]
    }
   ],
   "source": [
    "d = {'a':{'b':3}}\n",
    "\n",
    "_d =d\n",
    "keys = ['a', 'c', 'b']\n",
    "while keys[:-1]:\n",
    "    k = keys.pop(0)\n",
    "    if k not in _d:\n",
    "        _d[k] = {}\n",
    "    _d = _d[k]\n",
    "_d[keys[-1]]=5\n",
    "print(d)\n",
    "\n"
   ]
  }
 ],
 "metadata": {
  "kernelspec": {
   "display_name": "Python 3 (ipykernel)",
   "language": "python",
   "name": "python3"
  },
  "language_info": {
   "codemirror_mode": {
    "name": "ipython",
    "version": 3
   },
   "file_extension": ".py",
   "mimetype": "text/x-python",
   "name": "python",
   "nbconvert_exporter": "python",
   "pygments_lexer": "ipython3",
   "version": "3.11.9"
  }
 },
 "nbformat": 4,
 "nbformat_minor": 5
}
