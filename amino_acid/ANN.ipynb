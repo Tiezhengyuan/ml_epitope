{
 "cells": [
  {
   "cell_type": "markdown",
   "id": "02d6f8b9-7924-4ba0-b466-5845a983bfe7",
   "metadata": {},
   "source": [
    "# fully-connected neural network"
   ]
  },
  {
   "cell_type": "code",
   "execution_count": 14,
   "id": "fdebc28d-d810-4d7a-aeba-a0a66fac8f2e",
   "metadata": {},
   "outputs": [],
   "source": [
    "import json\n",
    "import os\n",
    "from copy import deepcopy\n",
    "import random\n",
    "\n",
    "import numpy as np\n",
    "import pandas as pd\n",
    "import matplotlib.pyplot as plt\n",
    "\n",
    "import tensorflow as tf\n",
    "import torch\n",
    "import torch.nn as nn"
   ]
  },
  {
   "cell_type": "code",
   "execution_count": 6,
   "id": "f8ecbce9-ca37-4a19-87c4-df9300d1b98b",
   "metadata": {},
   "outputs": [
    {
     "name": "stdout",
     "output_type": "stream",
     "text": [
      "The autoreload extension is already loaded. To reload it, use:\n",
      "  %reload_ext autoreload\n"
     ]
    }
   ],
   "source": [
    "%load_ext autoreload\n",
    "%autoreload 2"
   ]
  },
  {
   "cell_type": "code",
   "execution_count": 7,
   "id": "fb9ab2bf-f877-46b4-844f-1b810df374d6",
   "metadata": {},
   "outputs": [
    {
     "name": "stdout",
     "output_type": "stream",
     "text": [
      "Using cuda device\n"
     ]
    }
   ],
   "source": [
    "\n",
    "device = (\"cuda\" if torch.cuda.is_available() else \"mps\"\n",
    "    if torch.backends.mps.is_available() else \"cpu\"\n",
    ")\n",
    "print(f\"Using {device} device\")"
   ]
  },
  {
   "cell_type": "markdown",
   "id": "8c22a907-565d-452e-ac35-d373a5b1b9eb",
   "metadata": {},
   "source": [
    "## dataset"
   ]
  },
  {
   "cell_type": "code",
   "execution_count": null,
   "id": "9f7cff76-f9ea-4496-b028-6c982c17bd1a",
   "metadata": {},
   "outputs": [],
   "source": [
    "# indir = '/home/yuan/results/epitope/seq_vector_1d'\n",
    "# infile = os.path.join(indir, 'epitopes_15_shrink_expand.txt')\n",
    "# df = pd.read_csv(infile, sep='\\t', header=None, index_col=None)\n",
    "# df.head()"
   ]
  },
  {
   "cell_type": "code",
   "execution_count": 175,
   "id": "3068e93e-4129-4b7c-9c76-19a9346f46ab",
   "metadata": {},
   "outputs": [
    {
     "data": {
      "text/html": [
       "<div>\n",
       "<style scoped>\n",
       "    .dataframe tbody tr th:only-of-type {\n",
       "        vertical-align: middle;\n",
       "    }\n",
       "\n",
       "    .dataframe tbody tr th {\n",
       "        vertical-align: top;\n",
       "    }\n",
       "\n",
       "    .dataframe thead th {\n",
       "        text-align: right;\n",
       "    }\n",
       "</style>\n",
       "<table border=\"1\" class=\"dataframe\">\n",
       "  <thead>\n",
       "    <tr style=\"text-align: right;\">\n",
       "      <th></th>\n",
       "      <th>hydrophobicity_ph7</th>\n",
       "      <th>hydrophobicity</th>\n",
       "      <th>polarity</th>\n",
       "      <th>polarizability</th>\n",
       "      <th>ven_der_waals_volume</th>\n",
       "      <th>A</th>\n",
       "      <th>R</th>\n",
       "      <th>N</th>\n",
       "      <th>D</th>\n",
       "      <th>C</th>\n",
       "      <th>...</th>\n",
       "      <th>K</th>\n",
       "      <th>M</th>\n",
       "      <th>F</th>\n",
       "      <th>P</th>\n",
       "      <th>S</th>\n",
       "      <th>T</th>\n",
       "      <th>W</th>\n",
       "      <th>Y</th>\n",
       "      <th>V</th>\n",
       "      <th>label</th>\n",
       "    </tr>\n",
       "  </thead>\n",
       "  <tbody>\n",
       "    <tr>\n",
       "      <th>10653638</th>\n",
       "      <td>30.100</td>\n",
       "      <td>0.867</td>\n",
       "      <td>8.620</td>\n",
       "      <td>0.114</td>\n",
       "      <td>2.532</td>\n",
       "      <td>0.500</td>\n",
       "      <td>0.000</td>\n",
       "      <td>0.000</td>\n",
       "      <td>0.0</td>\n",
       "      <td>0.0</td>\n",
       "      <td>...</td>\n",
       "      <td>0.200</td>\n",
       "      <td>0.0</td>\n",
       "      <td>0.000</td>\n",
       "      <td>0.000</td>\n",
       "      <td>0.000</td>\n",
       "      <td>0.000</td>\n",
       "      <td>0.0</td>\n",
       "      <td>0.000</td>\n",
       "      <td>0.100</td>\n",
       "      <td>0.0</td>\n",
       "    </tr>\n",
       "    <tr>\n",
       "      <th>1744873</th>\n",
       "      <td>29.529</td>\n",
       "      <td>0.992</td>\n",
       "      <td>8.224</td>\n",
       "      <td>0.130</td>\n",
       "      <td>2.845</td>\n",
       "      <td>0.294</td>\n",
       "      <td>0.059</td>\n",
       "      <td>0.000</td>\n",
       "      <td>0.0</td>\n",
       "      <td>0.0</td>\n",
       "      <td>...</td>\n",
       "      <td>0.118</td>\n",
       "      <td>0.0</td>\n",
       "      <td>0.000</td>\n",
       "      <td>0.059</td>\n",
       "      <td>0.059</td>\n",
       "      <td>0.059</td>\n",
       "      <td>0.0</td>\n",
       "      <td>0.000</td>\n",
       "      <td>0.176</td>\n",
       "      <td>1.0</td>\n",
       "    </tr>\n",
       "    <tr>\n",
       "      <th>5659909</th>\n",
       "      <td>20.200</td>\n",
       "      <td>0.851</td>\n",
       "      <td>8.540</td>\n",
       "      <td>0.125</td>\n",
       "      <td>2.782</td>\n",
       "      <td>0.300</td>\n",
       "      <td>0.000</td>\n",
       "      <td>0.000</td>\n",
       "      <td>0.0</td>\n",
       "      <td>0.0</td>\n",
       "      <td>...</td>\n",
       "      <td>0.100</td>\n",
       "      <td>0.0</td>\n",
       "      <td>0.000</td>\n",
       "      <td>0.100</td>\n",
       "      <td>0.100</td>\n",
       "      <td>0.000</td>\n",
       "      <td>0.0</td>\n",
       "      <td>0.000</td>\n",
       "      <td>0.000</td>\n",
       "      <td>0.0</td>\n",
       "    </tr>\n",
       "    <tr>\n",
       "      <th>4741668</th>\n",
       "      <td>6.500</td>\n",
       "      <td>0.746</td>\n",
       "      <td>9.690</td>\n",
       "      <td>0.187</td>\n",
       "      <td>4.066</td>\n",
       "      <td>0.000</td>\n",
       "      <td>0.100</td>\n",
       "      <td>0.200</td>\n",
       "      <td>0.1</td>\n",
       "      <td>0.0</td>\n",
       "      <td>...</td>\n",
       "      <td>0.100</td>\n",
       "      <td>0.0</td>\n",
       "      <td>0.000</td>\n",
       "      <td>0.000</td>\n",
       "      <td>0.000</td>\n",
       "      <td>0.000</td>\n",
       "      <td>0.0</td>\n",
       "      <td>0.100</td>\n",
       "      <td>0.200</td>\n",
       "      <td>0.0</td>\n",
       "    </tr>\n",
       "    <tr>\n",
       "      <th>1009819</th>\n",
       "      <td>28.556</td>\n",
       "      <td>1.099</td>\n",
       "      <td>8.656</td>\n",
       "      <td>0.195</td>\n",
       "      <td>4.347</td>\n",
       "      <td>0.000</td>\n",
       "      <td>0.000</td>\n",
       "      <td>0.111</td>\n",
       "      <td>0.0</td>\n",
       "      <td>0.0</td>\n",
       "      <td>...</td>\n",
       "      <td>0.000</td>\n",
       "      <td>0.0</td>\n",
       "      <td>0.111</td>\n",
       "      <td>0.000</td>\n",
       "      <td>0.000</td>\n",
       "      <td>0.000</td>\n",
       "      <td>0.0</td>\n",
       "      <td>0.222</td>\n",
       "      <td>0.222</td>\n",
       "      <td>1.0</td>\n",
       "    </tr>\n",
       "  </tbody>\n",
       "</table>\n",
       "<p>5 rows × 26 columns</p>\n",
       "</div>"
      ],
      "text/plain": [
       "          hydrophobicity_ph7  hydrophobicity  polarity  polarizability  \\\n",
       "10653638              30.100           0.867     8.620           0.114   \n",
       "1744873               29.529           0.992     8.224           0.130   \n",
       "5659909               20.200           0.851     8.540           0.125   \n",
       "4741668                6.500           0.746     9.690           0.187   \n",
       "1009819               28.556           1.099     8.656           0.195   \n",
       "\n",
       "          ven_der_waals_volume      A      R      N    D    C  ...      K  \\\n",
       "10653638                 2.532  0.500  0.000  0.000  0.0  0.0  ...  0.200   \n",
       "1744873                  2.845  0.294  0.059  0.000  0.0  0.0  ...  0.118   \n",
       "5659909                  2.782  0.300  0.000  0.000  0.0  0.0  ...  0.100   \n",
       "4741668                  4.066  0.000  0.100  0.200  0.1  0.0  ...  0.100   \n",
       "1009819                  4.347  0.000  0.000  0.111  0.0  0.0  ...  0.000   \n",
       "\n",
       "            M      F      P      S      T    W      Y      V  label  \n",
       "10653638  0.0  0.000  0.000  0.000  0.000  0.0  0.000  0.100    0.0  \n",
       "1744873   0.0  0.000  0.059  0.059  0.059  0.0  0.000  0.176    1.0  \n",
       "5659909   0.0  0.000  0.100  0.100  0.000  0.0  0.000  0.000    0.0  \n",
       "4741668   0.0  0.000  0.000  0.000  0.000  0.0  0.100  0.200    0.0  \n",
       "1009819   0.0  0.111  0.000  0.000  0.000  0.0  0.222  0.222    1.0  \n",
       "\n",
       "[5 rows x 26 columns]"
      ]
     },
     "execution_count": 175,
     "metadata": {},
     "output_type": "execute_result"
    }
   ],
   "source": [
    "infile = '/home/yuan/results/epitope/epi_comp_vector.txt'\n",
    "df = pd.read_csv(infile, sep='\\t', header=0, index_col=None)\n",
    "# balance the number of epitopes and non-epitopes\n",
    "# df = df.iloc[:8_000_000,:]\n",
    "# shuffle rows\n",
    "df = df.sample(frac=1)\n",
    "df.head()"
   ]
  },
  {
   "cell_type": "code",
   "execution_count": 216,
   "id": "0d207db1-e88d-480c-9f50-13f19b0ffd92",
   "metadata": {},
   "outputs": [
    {
     "name": "stdout",
     "output_type": "stream",
     "text": [
      "(11142376, 25) float16 (11142376,) float16\n"
     ]
    }
   ],
   "source": [
    "X = np.array(df.iloc[:,:-1], dtype=np.float16)\n",
    "y = np.array(df.iloc[:,-1], dtype=np.float16)\n",
    "print(X.shape, X.dtype, y.shape, y.dtype)"
   ]
  },
  {
   "cell_type": "code",
   "execution_count": 182,
   "id": "3ca8d7cf-b079-4866-bdf7-f8f35f1cd893",
   "metadata": {},
   "outputs": [
    {
     "name": "stdout",
     "output_type": "stream",
     "text": [
      "(100000, 25) float16 (100000,) float16\n"
     ]
    }
   ],
   "source": [
    "X = np.array(df.iloc[:100_000,:-1], dtype=np.float16)\n",
    "y = np.array(df.iloc[:100_000,-1], dtype=np.float16)\n",
    "print(X.shape, X.dtype, y.shape, y.dtype)"
   ]
  },
  {
   "cell_type": "code",
   "execution_count": 217,
   "id": "8453ad08-a41f-4924-9198-a26cc3de4713",
   "metadata": {},
   "outputs": [
    {
     "data": {
      "text/plain": [
       "Counter({0.0: 7589872, 1.0: 3552504})"
      ]
     },
     "execution_count": 217,
     "metadata": {},
     "output_type": "execute_result"
    }
   ],
   "source": [
    "from collections import Counter\n",
    "Counter(y)"
   ]
  },
  {
   "cell_type": "code",
   "execution_count": 218,
   "id": "84607f70-c711-45eb-9a09-b80d0ff546f4",
   "metadata": {},
   "outputs": [
    {
     "data": {
      "text/plain": [
       "array([[ 0.7725,  0.164 , -0.1516, -1.12  , -1.167 ,  4.32  , -0.7695,\n",
       "        -0.7603, -0.7725, -0.4307, -0.5845,  0.2328, -0.778 , -0.608 ,\n",
       "        -0.6006,  0.209 ,  1.833 , -0.511 , -0.5444, -0.5967, -0.9106,\n",
       "        -0.6387, -0.2413, -0.687 ,  0.591 ],\n",
       "       [ 0.7363,  0.675 , -0.6025, -0.646 , -0.7065,  2.244 ,  0.0819,\n",
       "        -0.7603, -0.7725, -0.4307, -0.5845, -0.1888, -0.778 , -0.608 ,\n",
       "         1.338 , -1.009 ,  0.7607, -0.511 , -0.5444,  0.3262, -0.2644,\n",
       "         0.1578, -0.2413, -0.687 ,  1.675 ]], dtype=float16)"
      ]
     },
     "execution_count": 218,
     "metadata": {},
     "output_type": "execute_result"
    }
   ],
   "source": [
    "# normalization X\n",
    "from sklearn.preprocessing import StandardScaler\n",
    "\n",
    "scaler = StandardScaler()\n",
    "norm_X = scaler.fit_transform(X)\n",
    "norm_X[:2,]"
   ]
  },
  {
   "cell_type": "code",
   "execution_count": 219,
   "id": "738d8971-9d6f-4bd3-9191-bbfe5b400fce",
   "metadata": {},
   "outputs": [
    {
     "name": "stdout",
     "output_type": "stream",
     "text": [
      "(6239730, 25) (6239730,)\n",
      "(2674170, 25) (2674170,)\n",
      "(2228476, 25) (2228476,)\n"
     ]
    }
   ],
   "source": [
    "#split data into train and test\n",
    "from sklearn.model_selection import train_test_split\n",
    "\n",
    "X_train, X_test, y_train, y_test = train_test_split(norm_X, y, train_size=0.8, shuffle=True, random_state=2)\n",
    "X_train, X_validate, y_train, y_validate = train_test_split(X_train, y_train, train_size=0.7, shuffle=True, random_state=2)\n",
    "print(X_train.shape, y_train.shape)\n",
    "print(X_validate.shape, y_validate.shape)\n",
    "print(X_test.shape, y_test.shape)"
   ]
  },
  {
   "cell_type": "code",
   "execution_count": null,
   "id": "c1bff516-ff78-455a-abec-8c1fe8d83a65",
   "metadata": {},
   "outputs": [],
   "source": []
  },
  {
   "cell_type": "markdown",
   "id": "d826fc7c-eb21-4a3f-954b-188e3fe04e6b",
   "metadata": {},
   "source": [
    "## train model"
   ]
  },
  {
   "cell_type": "code",
   "execution_count": 220,
   "id": "90041c53-973b-4090-9c3c-086e130583fd",
   "metadata": {},
   "outputs": [
    {
     "data": {
      "text/html": [
       "<pre style=\"white-space:pre;overflow-x:auto;line-height:normal;font-family:Menlo,'DejaVu Sans Mono',consolas,'Courier New',monospace\"><span style=\"font-weight: bold\">Model: \"sequential_19\"</span>\n",
       "</pre>\n"
      ],
      "text/plain": [
       "\u001b[1mModel: \"sequential_19\"\u001b[0m\n"
      ]
     },
     "metadata": {},
     "output_type": "display_data"
    },
    {
     "data": {
      "text/html": [
       "<pre style=\"white-space:pre;overflow-x:auto;line-height:normal;font-family:Menlo,'DejaVu Sans Mono',consolas,'Courier New',monospace\">┏━━━━━━━━━━━━━━━━━━━━━━━━━━━━━━━━━┳━━━━━━━━━━━━━━━━━━━━━━━━┳━━━━━━━━━━━━━━━┓\n",
       "┃<span style=\"font-weight: bold\"> Layer (type)                    </span>┃<span style=\"font-weight: bold\"> Output Shape           </span>┃<span style=\"font-weight: bold\">       Param # </span>┃\n",
       "┡━━━━━━━━━━━━━━━━━━━━━━━━━━━━━━━━━╇━━━━━━━━━━━━━━━━━━━━━━━━╇━━━━━━━━━━━━━━━┩\n",
       "│ dense_57 (<span style=\"color: #0087ff; text-decoration-color: #0087ff\">Dense</span>)                │ (<span style=\"color: #00d7ff; text-decoration-color: #00d7ff\">None</span>, <span style=\"color: #00af00; text-decoration-color: #00af00\">128</span>)            │         <span style=\"color: #00af00; text-decoration-color: #00af00\">3,328</span> │\n",
       "├─────────────────────────────────┼────────────────────────┼───────────────┤\n",
       "│ dropout_38 (<span style=\"color: #0087ff; text-decoration-color: #0087ff\">Dropout</span>)            │ (<span style=\"color: #00d7ff; text-decoration-color: #00d7ff\">None</span>, <span style=\"color: #00af00; text-decoration-color: #00af00\">128</span>)            │             <span style=\"color: #00af00; text-decoration-color: #00af00\">0</span> │\n",
       "├─────────────────────────────────┼────────────────────────┼───────────────┤\n",
       "│ dense_58 (<span style=\"color: #0087ff; text-decoration-color: #0087ff\">Dense</span>)                │ (<span style=\"color: #00d7ff; text-decoration-color: #00d7ff\">None</span>, <span style=\"color: #00af00; text-decoration-color: #00af00\">48</span>)             │         <span style=\"color: #00af00; text-decoration-color: #00af00\">6,192</span> │\n",
       "├─────────────────────────────────┼────────────────────────┼───────────────┤\n",
       "│ dropout_39 (<span style=\"color: #0087ff; text-decoration-color: #0087ff\">Dropout</span>)            │ (<span style=\"color: #00d7ff; text-decoration-color: #00d7ff\">None</span>, <span style=\"color: #00af00; text-decoration-color: #00af00\">48</span>)             │             <span style=\"color: #00af00; text-decoration-color: #00af00\">0</span> │\n",
       "├─────────────────────────────────┼────────────────────────┼───────────────┤\n",
       "│ dense_59 (<span style=\"color: #0087ff; text-decoration-color: #0087ff\">Dense</span>)                │ (<span style=\"color: #00d7ff; text-decoration-color: #00d7ff\">None</span>, <span style=\"color: #00af00; text-decoration-color: #00af00\">1</span>)              │            <span style=\"color: #00af00; text-decoration-color: #00af00\">49</span> │\n",
       "└─────────────────────────────────┴────────────────────────┴───────────────┘\n",
       "</pre>\n"
      ],
      "text/plain": [
       "┏━━━━━━━━━━━━━━━━━━━━━━━━━━━━━━━━━┳━━━━━━━━━━━━━━━━━━━━━━━━┳━━━━━━━━━━━━━━━┓\n",
       "┃\u001b[1m \u001b[0m\u001b[1mLayer (type)                   \u001b[0m\u001b[1m \u001b[0m┃\u001b[1m \u001b[0m\u001b[1mOutput Shape          \u001b[0m\u001b[1m \u001b[0m┃\u001b[1m \u001b[0m\u001b[1m      Param #\u001b[0m\u001b[1m \u001b[0m┃\n",
       "┡━━━━━━━━━━━━━━━━━━━━━━━━━━━━━━━━━╇━━━━━━━━━━━━━━━━━━━━━━━━╇━━━━━━━━━━━━━━━┩\n",
       "│ dense_57 (\u001b[38;5;33mDense\u001b[0m)                │ (\u001b[38;5;45mNone\u001b[0m, \u001b[38;5;34m128\u001b[0m)            │         \u001b[38;5;34m3,328\u001b[0m │\n",
       "├─────────────────────────────────┼────────────────────────┼───────────────┤\n",
       "│ dropout_38 (\u001b[38;5;33mDropout\u001b[0m)            │ (\u001b[38;5;45mNone\u001b[0m, \u001b[38;5;34m128\u001b[0m)            │             \u001b[38;5;34m0\u001b[0m │\n",
       "├─────────────────────────────────┼────────────────────────┼───────────────┤\n",
       "│ dense_58 (\u001b[38;5;33mDense\u001b[0m)                │ (\u001b[38;5;45mNone\u001b[0m, \u001b[38;5;34m48\u001b[0m)             │         \u001b[38;5;34m6,192\u001b[0m │\n",
       "├─────────────────────────────────┼────────────────────────┼───────────────┤\n",
       "│ dropout_39 (\u001b[38;5;33mDropout\u001b[0m)            │ (\u001b[38;5;45mNone\u001b[0m, \u001b[38;5;34m48\u001b[0m)             │             \u001b[38;5;34m0\u001b[0m │\n",
       "├─────────────────────────────────┼────────────────────────┼───────────────┤\n",
       "│ dense_59 (\u001b[38;5;33mDense\u001b[0m)                │ (\u001b[38;5;45mNone\u001b[0m, \u001b[38;5;34m1\u001b[0m)              │            \u001b[38;5;34m49\u001b[0m │\n",
       "└─────────────────────────────────┴────────────────────────┴───────────────┘\n"
      ]
     },
     "metadata": {},
     "output_type": "display_data"
    },
    {
     "data": {
      "text/html": [
       "<pre style=\"white-space:pre;overflow-x:auto;line-height:normal;font-family:Menlo,'DejaVu Sans Mono',consolas,'Courier New',monospace\"><span style=\"font-weight: bold\"> Total params: </span><span style=\"color: #00af00; text-decoration-color: #00af00\">9,569</span> (37.38 KB)\n",
       "</pre>\n"
      ],
      "text/plain": [
       "\u001b[1m Total params: \u001b[0m\u001b[38;5;34m9,569\u001b[0m (37.38 KB)\n"
      ]
     },
     "metadata": {},
     "output_type": "display_data"
    },
    {
     "data": {
      "text/html": [
       "<pre style=\"white-space:pre;overflow-x:auto;line-height:normal;font-family:Menlo,'DejaVu Sans Mono',consolas,'Courier New',monospace\"><span style=\"font-weight: bold\"> Trainable params: </span><span style=\"color: #00af00; text-decoration-color: #00af00\">9,569</span> (37.38 KB)\n",
       "</pre>\n"
      ],
      "text/plain": [
       "\u001b[1m Trainable params: \u001b[0m\u001b[38;5;34m9,569\u001b[0m (37.38 KB)\n"
      ]
     },
     "metadata": {},
     "output_type": "display_data"
    },
    {
     "data": {
      "text/html": [
       "<pre style=\"white-space:pre;overflow-x:auto;line-height:normal;font-family:Menlo,'DejaVu Sans Mono',consolas,'Courier New',monospace\"><span style=\"font-weight: bold\"> Non-trainable params: </span><span style=\"color: #00af00; text-decoration-color: #00af00\">0</span> (0.00 B)\n",
       "</pre>\n"
      ],
      "text/plain": [
       "\u001b[1m Non-trainable params: \u001b[0m\u001b[38;5;34m0\u001b[0m (0.00 B)\n"
      ]
     },
     "metadata": {},
     "output_type": "display_data"
    }
   ],
   "source": [
    "from tensorflow.keras.layers import Input, Dense, Dropout\n",
    "\n",
    "# input features\n",
    "num_features = int(X.shape[-1])\n",
    "# outccome is binary\n",
    "model = tf.keras.Sequential([\n",
    "    Input(shape=(num_features,)),\n",
    "    Dense(128, activation='relu'),\n",
    "    Dropout(0.3),\n",
    "    Dense(48, activation='relu'),\n",
    "    Dropout(0.3),\n",
    "    Dense(1, activation='sigmoid'),\n",
    "])\n",
    "model.summary()"
   ]
  },
  {
   "cell_type": "code",
   "execution_count": 221,
   "id": "1a0715eb-f8eb-4910-b79c-be452771130a",
   "metadata": {},
   "outputs": [
    {
     "name": "stdout",
     "output_type": "stream",
     "text": [
      "Epoch 1/10\n",
      "\u001b[1m194992/194992\u001b[0m \u001b[32m━━━━━━━━━━━━━━━━━━━━\u001b[0m\u001b[37m\u001b[0m \u001b[1m327s\u001b[0m 2ms/step - accuracy: 0.9890 - auc: 0.9970 - loss: 0.0349 - mse: 0.0088 - precision: 0.9912 - recall: 0.9737 - val_accuracy: 0.9994 - val_auc: 0.9998 - val_loss: 0.0024 - val_mse: 4.9957e-04 - val_precision: 1.0000 - val_recall: 0.9981\n",
      "Epoch 2/10\n",
      "\u001b[1m194992/194992\u001b[0m \u001b[32m━━━━━━━━━━━━━━━━━━━━\u001b[0m\u001b[37m\u001b[0m \u001b[1m320s\u001b[0m 2ms/step - accuracy: 0.9979 - auc: 0.9994 - loss: 0.0089 - mse: 0.0018 - precision: 0.9980 - recall: 0.9954 - val_accuracy: 0.9994 - val_auc: 0.9998 - val_loss: 0.0023 - val_mse: 4.6284e-04 - val_precision: 1.0000 - val_recall: 0.9982\n",
      "Epoch 3/10\n",
      "\u001b[1m194992/194992\u001b[0m \u001b[32m━━━━━━━━━━━━━━━━━━━━\u001b[0m\u001b[37m\u001b[0m \u001b[1m291s\u001b[0m 1ms/step - accuracy: 0.9983 - auc: 0.9995 - loss: 0.0075 - mse: 0.0015 - precision: 0.9983 - recall: 0.9963 - val_accuracy: 0.9996 - val_auc: 0.9998 - val_loss: 0.0020 - val_mse: 3.7243e-04 - val_precision: 1.0000 - val_recall: 0.9986\n",
      "Epoch 4/10\n",
      "\u001b[1m194992/194992\u001b[0m \u001b[32m━━━━━━━━━━━━━━━━━━━━\u001b[0m\u001b[37m\u001b[0m \u001b[1m303s\u001b[0m 2ms/step - accuracy: 0.9985 - auc: 0.9996 - loss: 0.0067 - mse: 0.0013 - precision: 0.9985 - recall: 0.9968 - val_accuracy: 0.9997 - val_auc: 0.9999 - val_loss: 0.0014 - val_mse: 2.4206e-04 - val_precision: 1.0000 - val_recall: 0.9991\n",
      "Epoch 5/10\n",
      "\u001b[1m194992/194992\u001b[0m \u001b[32m━━━━━━━━━━━━━━━━━━━━\u001b[0m\u001b[37m\u001b[0m \u001b[1m305s\u001b[0m 2ms/step - accuracy: 0.9986 - auc: 0.9996 - loss: 0.0064 - mse: 0.0012 - precision: 0.9985 - recall: 0.9970 - val_accuracy: 0.9996 - val_auc: 0.9999 - val_loss: 0.0018 - val_mse: 3.2593e-04 - val_precision: 1.0000 - val_recall: 0.9988\n",
      "Epoch 6/10\n",
      "\u001b[1m194992/194992\u001b[0m \u001b[32m━━━━━━━━━━━━━━━━━━━━\u001b[0m\u001b[37m\u001b[0m \u001b[1m277s\u001b[0m 1ms/step - accuracy: 0.9987 - auc: 0.9996 - loss: 0.0062 - mse: 0.0011 - precision: 0.9986 - recall: 0.9973 - val_accuracy: 0.9997 - val_auc: 0.9999 - val_loss: 0.0012 - val_mse: 2.1596e-04 - val_precision: 1.0000 - val_recall: 0.9992\n",
      "Epoch 7/10\n",
      "\u001b[1m194992/194992\u001b[0m \u001b[32m━━━━━━━━━━━━━━━━━━━━\u001b[0m\u001b[37m\u001b[0m \u001b[1m268s\u001b[0m 1ms/step - accuracy: 0.9987 - auc: 0.9996 - loss: 0.0061 - mse: 0.0011 - precision: 0.9986 - recall: 0.9974 - val_accuracy: 0.9997 - val_auc: 0.9999 - val_loss: 0.0015 - val_mse: 2.5150e-04 - val_precision: 1.0000 - val_recall: 0.9991\n",
      "Epoch 8/10\n",
      "\u001b[1m194992/194992\u001b[0m \u001b[32m━━━━━━━━━━━━━━━━━━━━\u001b[0m\u001b[37m\u001b[0m \u001b[1m277s\u001b[0m 1ms/step - accuracy: 0.9988 - auc: 0.9996 - loss: 0.0062 - mse: 0.0011 - precision: 0.9986 - recall: 0.9975 - val_accuracy: 0.9998 - val_auc: 0.9999 - val_loss: 0.0011 - val_mse: 1.9723e-04 - val_precision: 1.0000 - val_recall: 0.9993\n",
      "Epoch 9/10\n",
      "\u001b[1m194992/194992\u001b[0m \u001b[32m━━━━━━━━━━━━━━━━━━━━\u001b[0m\u001b[37m\u001b[0m \u001b[1m260s\u001b[0m 1ms/step - accuracy: 0.9988 - auc: 0.9996 - loss: 0.0062 - mse: 0.0011 - precision: 0.9985 - recall: 0.9976 - val_accuracy: 0.9998 - val_auc: 0.9999 - val_loss: 0.0012 - val_mse: 1.9497e-04 - val_precision: 1.0000 - val_recall: 0.9993\n",
      "Epoch 10/10\n",
      "\u001b[1m194992/194992\u001b[0m \u001b[32m━━━━━━━━━━━━━━━━━━━━\u001b[0m\u001b[37m\u001b[0m \u001b[1m250s\u001b[0m 1ms/step - accuracy: 0.9988 - auc: 0.9996 - loss: 0.0062 - mse: 0.0011 - precision: 0.9986 - recall: 0.9977 - val_accuracy: 0.9997 - val_auc: 0.9999 - val_loss: 0.0014 - val_mse: 2.2383e-04 - val_precision: 1.0000 - val_recall: 0.9992\n",
      "   accuracy       auc      loss       mse  precision    recall  val_accuracy  \\\n",
      "0  0.995108  0.998998  0.017480  0.004001   0.995979  0.988649      0.999395   \n",
      "1  0.998035  0.999467  0.008373  0.001673   0.998157  0.995676      0.999441   \n",
      "2  0.998383  0.999547  0.007173  0.001384   0.998391  0.996533      0.999563   \n",
      "\n",
      "    val_auc  val_loss   val_mse  val_precision  val_recall  \n",
      "0  0.999835  0.002381  0.000500            1.0    0.998099  \n",
      "1  0.999818  0.002301  0.000463            1.0    0.998244  \n",
      "2  0.999843  0.001994  0.000372            1.0    0.998629  \n",
      "   accuracy       auc      loss       mse  precision    recall  val_accuracy  \\\n",
      "7  0.998761  0.999608  0.006166  0.001086   0.998610  0.997503      0.999773   \n",
      "8  0.998773  0.999609  0.006178  0.001076   0.998552  0.997598      0.999780   \n",
      "9  0.998821  0.999620  0.006118  0.001044   0.998607  0.997693      0.999744   \n",
      "\n",
      "    val_auc  val_loss   val_mse  val_precision  val_recall  \n",
      "7  0.999925  0.001129  0.000197            1.0    0.999289  \n",
      "8  0.999925  0.001180  0.000195            1.0    0.999311  \n",
      "9  0.999895  0.001437  0.000224            1.0    0.999196  \n"
     ]
    }
   ],
   "source": [
    "# loss_fn = tf.keras.losses.sparse_categorical_crossentropy\n",
    "optim = tf.keras.optimizers.Adam(learning_rate=0.001)\n",
    "model.compile(loss='binary_crossentropy', optimizer=optim, metrics=['accuracy', 'precision', 'recall', 'auc', 'mse'])\n",
    "\n",
    "epochs = 10\n",
    "history= model.fit(X_train, y_train, validation_data=(X_validate, y_validate), epochs=epochs, verbose=True)\n",
    "\n",
    "res = pd.DataFrame(history.history)\n",
    "print(res.head(3))\n",
    "print(res.tail(3))"
   ]
  },
  {
   "cell_type": "code",
   "execution_count": 224,
   "id": "420b8330-4e76-48a3-be74-d820792ee3a9",
   "metadata": {},
   "outputs": [
    {
     "data": {
      "text/plain": [
       "<matplotlib.legend.Legend at 0x7c45493b1890>"
      ]
     },
     "execution_count": 224,
     "metadata": {},
     "output_type": "execute_result"
    },
    {
     "data": {
      "image/png": "[encoded data removed]",
      "text/plain": [
       "<Figure size 1200x300 with 3 Axes>"
      ]
     },
     "metadata": {},
     "output_type": "display_data"
    }
   ],
   "source": [
    "fig, axes = plt.subplots(1, 3, figsize=(12,3), layout='tight')\n",
    "x = range(epochs)\n",
    "fig.supxlabel('epochs')\n",
    "\n",
    "i=0\n",
    "axes[i].plot(x, history.history['recall'], label='recall of train')\n",
    "axes[i].plot(x, history.history['val_recall'], label='recall of validation')\n",
    "axes[i].set_ylabel('TP/(TP+FN) %')\n",
    "axes[i].set_title('Recall')\n",
    "axes[i].legend(loc='lower right', fontsize=8)\n",
    "\n",
    "i=1\n",
    "axes[i].plot(x, history.history['accuracy'], label='accurarcy of train')\n",
    "axes[i].plot(x, history.history['val_accuracy'], label='accurarcy of validation')\n",
    "axes[i].set_ylabel('(TP+TN)/N %')\n",
    "axes[i].set_title('Accuracy')\n",
    "axes[i].legend(loc='lower right', fontsize=8)\n",
    "\n",
    "i=2\n",
    "axes[i].plot(x, history.history['loss'], label='loss of train')\n",
    "axes[i].plot(x, history.history['val_loss'], label='loss of validation')\n",
    "axes[i].set_ylabel('Loss')\n",
    "axes[i].set_title('Loss')\n",
    "axes[i].legend(loc='upper right', fontsize=8)"
   ]
  },
  {
   "cell_type": "code",
   "execution_count": 225,
   "id": "bf0ae906-bc62-44d8-880b-39adfd36993a",
   "metadata": {},
   "outputs": [
    {
     "name": "stdout",
     "output_type": "stream",
     "text": [
      "\u001b[1m69640/69640\u001b[0m \u001b[32m━━━━━━━━━━━━━━━━━━━━\u001b[0m\u001b[37m\u001b[0m \u001b[1m64s\u001b[0m 912us/step - accuracy: 0.9998 - auc: 0.9999 - loss: 0.0013 - mse: 2.0841e-04 - precision: 1.0000 - recall: 0.9993\n",
      "{'accuracy': 0.9997531771659851, 'auc': 0.9998939037322998, 'loss': 0.0013323220191523433, 'mse': 0.00022071295825298876, 'precision': 1.0, 'recall': 0.9992268681526184}\n"
     ]
    }
   ],
   "source": [
    "eval_res = model.evaluate(X_test, y_test, return_dict=True)\n",
    "print(eval_res)"
   ]
  },
  {
   "cell_type": "code",
   "execution_count": 226,
   "id": "4a25319c-3a4c-4014-b2fb-78525c6abf9f",
   "metadata": {},
   "outputs": [
    {
     "name": "stdout",
     "output_type": "stream",
     "text": [
      "\u001b[1m69640/69640\u001b[0m \u001b[32m━━━━━━━━━━━━━━━━━━━━\u001b[0m\u001b[37m\u001b[0m \u001b[1m22s\u001b[0m 315us/step\n"
     ]
    },
    {
     "data": {
      "text/plain": [
       "array([[1.00000000e+00],\n",
       "       [9.91535425e-01],\n",
       "       [1.20728645e-08]], dtype=float32)"
      ]
     },
     "execution_count": 226,
     "metadata": {},
     "output_type": "execute_result"
    }
   ],
   "source": [
    "pred_test = model.predict(X_test)\n",
    "pred_test[:3]"
   ]
  },
  {
   "cell_type": "code",
   "execution_count": 227,
   "id": "d4d0215b-5eca-4463-9963-65fff80f2952",
   "metadata": {},
   "outputs": [
    {
     "data": {
      "text/plain": [
       "Text(0.5, 1.0, 'Prediction of False outcome 1517079')"
      ]
     },
     "execution_count": 227,
     "metadata": {},
     "output_type": "execute_result"
    },
    {
     "data": {
      "image/png": "[encoded data removed]",
      "text/plain": [
       "<Figure size 800x300 with 2 Axes>"
      ]
     },
     "metadata": {},
     "output_type": "display_data"
    }
   ],
   "source": [
    "\n",
    "t = pred_test[y_test==1]\n",
    "f = pred_test[y_test==0]\n",
    "fig, ax = plt.subplots(1, 2, figsize=(8,3), layout='tight')\n",
    "fig.supxlabel('probability')\n",
    "fig.supylabel('number')\n",
    "\n",
    "ax[0].hist(t, label='True', bins=20)\n",
    "ax[0].set_title(f'Prediction of True outcome {len(t)}')\n",
    "ax[1].hist(f, label='False', bins=20)\n",
    "ax[1].set_title(f'Prediction of False outcome {len(f)}')"
   ]
  },
  {
   "cell_type": "code",
   "execution_count": 229,
   "id": "a98ac785-26df-494b-9aed-63d4daec97a4",
   "metadata": {},
   "outputs": [
    {
     "data": {
      "text/plain": [
       "[<matplotlib.lines.Line2D at 0x7c453fb2d850>]"
      ]
     },
     "execution_count": 229,
     "metadata": {},
     "output_type": "execute_result"
    },
    {
     "data": {
      "image/png": "[encoded data removed]",
      "text/plain": [
       "<Figure size 400x300 with 1 Axes>"
      ]
     },
     "metadata": {},
     "output_type": "display_data"
    }
   ],
   "source": [
    "# ROC curve only for binary classfication\n",
    "from sklearn.metrics import roc_curve\n",
    "# FPR, false positive rate, 1- specificity, typ I error\n",
    "# TPR, true positive rate, sensitivity, power\n",
    "fpr, tpr, thresholds = roc_curve(y_test, pred_test)\n",
    "fig, ax = plt.subplots(1, figsize=(4,3))\n",
    "ax.plot(fpr, tpr)\n",
    "ax.set_xlabel('1-specificity (False positive rate)')\n",
    "ax.set_ylabel('sensitivity (True positive rate)')\n",
    "ax.set_title('ROC')\n",
    "ax.plot([0, 1], [0, 1], 'k:')"
   ]
  },
  {
   "cell_type": "code",
   "execution_count": null,
   "id": "84a9a936-49cf-4183-b675-199e6622331f",
   "metadata": {},
   "outputs": [],
   "source": []
  }
 ],
 "metadata": {
  "kernelspec": {
   "display_name": "Python 3 (ipykernel)",
   "language": "python",
   "name": "python3"
  },
  "language_info": {
   "codemirror_mode": {
    "name": "ipython",
    "version": 3
   },
   "file_extension": ".py",
   "mimetype": "text/x-python",
   "name": "python",
   "nbconvert_exporter": "python",
   "pygments_lexer": "ipython3",
   "version": "3.11.9"
  }
 },
 "nbformat": 4,
 "nbformat_minor": 5
}
