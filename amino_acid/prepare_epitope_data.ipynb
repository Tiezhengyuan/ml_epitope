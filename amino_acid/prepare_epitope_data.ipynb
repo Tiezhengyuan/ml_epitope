{
 "cells": [
  {
   "cell_type": "code",
   "execution_count": 1,
   "id": "2623c229-b412-48f2-87ff-0a787d5b3084",
   "metadata": {},
   "outputs": [],
   "source": [
    "import json\n",
    "import os\n",
    "from copy import deepcopy\n",
    "import random\n",
    "\n",
    "import numpy as np\n",
    "import pandas as pd\n",
    "import matplotlib.pyplot as plt\n",
    "\n",
    "import torch\n",
    "import torch.nn as nn"
   ]
  },
  {
   "cell_type": "code",
   "execution_count": 2,
   "id": "63681807-3d96-45e2-b308-af47391a4b2e",
   "metadata": {},
   "outputs": [],
   "source": [
    "%load_ext autoreload\n",
    "%autoreload 2"
   ]
  },
  {
   "cell_type": "code",
   "execution_count": 208,
   "id": "3eddb1ef-6bc9-4465-ae75-9a0c1f309e53",
   "metadata": {},
   "outputs": [],
   "source": [
    "from utils import Utils\n",
    "from isolate_aa import IsolateAA\n",
    "\n",
    "\n",
    "\n",
    "if not os.path.isdir('/home/yuan/results/epitope/seq_vector_1d'):\n",
    "    os.mkdir('/home/yuan/results/epitope/seq_vector_1d')\n",
    "\n",
    "outdir = '/home/yuan/results/epitope'\n",
    "\n",
    "seq_dir = os.path.join(outdir, 'seq')\n",
    "if not os.path.isdir(seq_dir):\n",
    "    os.mkdir(seq_dir)\n",
    "\n",
    "\n",
    "json_dir = '/home/yuan/data/omics_data/epitope/mysql'\n",
    "\n",
    "sizes = [7, 9, 10, 12, 15, 20, 30, 50]\n",
    "info = {i:0 for i in ['wrong_size',  'seq', 'err']}"
   ]
  },
  {
   "cell_type": "markdown",
   "id": "087b0aaa-13d5-4702-a7c0-9c898733a4f0",
   "metadata": {},
   "source": [
    "## random sequences"
   ]
  },
  {
   "cell_type": "code",
   "execution_count": 209,
   "id": "56ec10ce-bb45-4a41-9ed7-84ceeaae85e6",
   "metadata": {},
   "outputs": [
    {
     "name": "stdout",
     "output_type": "stream",
     "text": [
      "/home/yuan/results/epitope/seq/random_7.txt\n",
      "/home/yuan/results/epitope/seq/random_9.txt\n",
      "/home/yuan/results/epitope/seq/random_10.txt\n",
      "/home/yuan/results/epitope/seq/random_12.txt\n",
      "/home/yuan/results/epitope/seq/random_15.txt\n",
      "/home/yuan/results/epitope/seq/random_20.txt\n",
      "/home/yuan/results/epitope/seq/random_30.txt\n",
      "/home/yuan/results/epitope/seq/random_50.txt\n"
     ]
    }
   ],
   "source": [
    "# collect wrong sequence by random sequences\n",
    "from constants import PROPERTY\n",
    "aa = list(PROPERTY)\n",
    "\n",
    "for size in sizes:\n",
    "    outfile = os.path.join(seq_dir, f'random_{size}.txt')\n",
    "    print(outfile)\n",
    "    with open(outfile, 'w') as f:\n",
    "        for _ in range(4_000_000):\n",
    "            seq = np.random.choice(aa, size)\n",
    "            seq = ''.join(seq)\n",
    "            f.write(seq + '\\t' + 'random\\n')"
   ]
  },
  {
   "cell_type": "code",
   "execution_count": 216,
   "id": "7049a07f-3958-4129-8b44-8623e80bc05b",
   "metadata": {},
   "outputs": [
    {
     "name": "stdout",
     "output_type": "stream",
     "text": [
      "Number of random sequence: 1863999-1688505\n"
     ]
    }
   ],
   "source": [
    "# collect wrong sequence by random sequences\n",
    "from constants import PROPERTY\n",
    "aa = list(PROPERTY)\n",
    "\n",
    "key = 'random'\n",
    "n, m, pool = 0, 0, {}\n",
    "outfile = f'/home/yuan/results/epitope/{key}.txt'\n",
    "with open(outfile, 'w') as f:\n",
    "    seq_iter = Utils.scan_json_seq(json_dir, 'epitopes')\n",
    "    for seq in seq_iter:\n",
    "        if len(seq) >= 6 and seq not in pool:\n",
    "            _seq = np.random.choice(aa, len(seq))\n",
    "            _seq = ''.join(_seq)\n",
    "            f.write(_seq + '\\t' + key + '\\n')\n",
    "            pool[seq] = 1\n",
    "            n += 1\n",
    "        else:\n",
    "            m += 1\n",
    "print(f\"Number of random sequence: {n}-{m}\")"
   ]
  },
  {
   "cell_type": "markdown",
   "id": "0456150c-75c6-4c19-afdb-f826a55cddf5",
   "metadata": {},
   "source": [
    "### epitopes"
   ]
  },
  {
   "cell_type": "code",
   "execution_count": 213,
   "id": "cc1fefcf-2b59-4733-8efc-8fad8aafc86b",
   "metadata": {},
   "outputs": [
    {
     "name": "stdout",
     "output_type": "stream",
     "text": [
      "Number of unique epitopes: 1865242\n",
      "Number of duplicated epitopes: 1687262\n"
     ]
    }
   ],
   "source": [
    "# collect all epitopes\n",
    "key = 'epitope'\n",
    "n, m = 0, 0\n",
    "pool = {}\n",
    "outfile = f'/home/yuan/results/epitope/{key}.txt'\n",
    "with open(outfile, 'w') as f:\n",
    "    seq_iter = Utils.scan_json_seq(json_dir, 'epitopes')\n",
    "    for seq in seq_iter:\n",
    "        if seq not in pool:\n",
    "            f.write(seq + '\\t' + key + '\\n')\n",
    "            pool[seq] = 1\n",
    "            n += 1\n",
    "        else:\n",
    "            pool[seq] += 1\n",
    "            m += 1\n",
    "print(f\"Number of unique epitopes: {n}\")\n",
    "print(f\"Number of duplicated epitopes: {m}\")"
   ]
  },
  {
   "cell_type": "markdown",
   "id": "64435194-d5b9-41ab-85a9-bc8020a2bb6d",
   "metadata": {},
   "source": [
    "### shuffled non-epitopes"
   ]
  },
  {
   "cell_type": "code",
   "execution_count": 214,
   "id": "b0b7a588-b8c0-4fe8-b981-e0ca3fced0aa",
   "metadata": {},
   "outputs": [
    {
     "name": "stdout",
     "output_type": "stream",
     "text": [
      "Number of shuffled epitopes: 1863999\n",
      "Number of skipped epitopes: 1688505\n"
     ]
    }
   ],
   "source": [
    "# collect wrong sequence by shuffling epitopes\n",
    "key = 'shuffle'\n",
    "n , m, pool = 0, 0, {}\n",
    "outfile = f'/home/yuan/results/epitope/{key}.txt'\n",
    "with open(outfile, 'w') as f:\n",
    "    seq_iter = Utils.scan_json_seq(json_dir, 'epitopes')\n",
    "    for seq in seq_iter:\n",
    "        if len(seq) >= 6 and seq not in pool:\n",
    "            _seq = list(seq)\n",
    "            np.random.shuffle(_seq)\n",
    "            _seq = ''.join(_seq)\n",
    "            f.write(_seq + '\\t' + key + '\\n')\n",
    "            pool[seq] = 1\n",
    "            n += 1\n",
    "        else:\n",
    "            m += 1\n",
    "print(f\"Number of shuffled epitopes: {n}\")\n",
    "print(f\"Number of skipped epitopes: {m}\")"
   ]
  },
  {
   "cell_type": "markdown",
   "id": "4638b925-8d33-421f-a7c5-d2647e9f2184",
   "metadata": {},
   "source": [
    "### non-epitopes: other sequences"
   ]
  },
  {
   "cell_type": "code",
   "execution_count": 241,
   "id": "4b9475c1-50ae-444c-8b97-0c29c6baa47a",
   "metadata": {},
   "outputs": [
    {
     "name": "stdout",
     "output_type": "stream",
     "text": [
      "790000,1150000,1150000,1590000,1600000,1830000,1830000,2340000,2400000,2680000,2990000,Number of random seq: 3185991. failed: 271864\n"
     ]
    }
   ],
   "source": [
    "# build non-epitopes from antigens\n",
    "num, key = 2, f'other'\n",
    "n, m, pool = 0, 0, {}\n",
    "outfile = f'/home/yuan/results/epitope/{key}.txt'\n",
    "with open(outfile, 'w') as f:\n",
    "    rec_iter = Utils.scan_json_record(json_dir)\n",
    "    for acc, record in rec_iter:\n",
    "        slicer = IsolateAA(record)\n",
    "        try:\n",
    "            seqs = slicer.random_size_seq(num=num)\n",
    "            for seq in seqs:\n",
    "                if seq not in pool:\n",
    "                    f.write(seq + '\\t' + key + '\\n')\n",
    "                    pool[seq] = 1\n",
    "                    n += 1\n",
    "                else:\n",
    "                    m += 1\n",
    "        except Exception as e:\n",
    "            m +=1\n",
    "        if n % 10_000 == 0:\n",
    "            print(n, end=',')\n",
    "print(f\"Number of random seq: {n}. failed: {m}\")"
   ]
  },
  {
   "cell_type": "code",
   "execution_count": 232,
   "id": "63277c39-8354-4dd1-8af8-1413a8386da0",
   "metadata": {},
   "outputs": [
    {
     "data": {
      "text/plain": [
       "0"
      ]
     },
     "execution_count": 232,
     "metadata": {},
     "output_type": "execute_result"
    }
   ],
   "source": [
    "\n",
    "a= np.array([0,1,0,0,0,0,1,1,0,0])\n",
    "sum(a[3:6])"
   ]
  },
  {
   "cell_type": "markdown",
   "id": "2f5528a1-9335-4765-9ed8-814fbcd11844",
   "metadata": {},
   "source": [
    "###"
   ]
  },
  {
   "cell_type": "code",
   "execution_count": 124,
   "id": "11724e4b-f367-4ced-a1f8-1f794db8736b",
   "metadata": {},
   "outputs": [
    {
     "name": "stdout",
     "output_type": "stream",
     "text": [
      "(3552504, 2) (7589872, 2) (11142376, 2)\n"
     ]
    }
   ],
   "source": [
    "df1 = pd.read_csv('/home/yuan/results/epitope/epitopes.txt', sep='\\t', header=None, index_col=None)\n",
    "df2 = pd.read_csv('/home/yuan/results/epitope/others.txt', sep='\\t', header=None, index_col=None)\n",
    "df = pd.concat([df1, df2])\n",
    "print(df1.shape, df2.shape, df.shape)"
   ]
  },
  {
   "cell_type": "code",
   "execution_count": 141,
   "id": "b996af56-10d7-4033-9fe4-93bdbdfd28db",
   "metadata": {},
   "outputs": [],
   "source": [
    "# encode \n",
    "from constants import PROPERTY\n",
    "from encode_aa import EncodeAA\n",
    "\n",
    "encoder = EncodeAA()\n",
    "columns = ['hydrophobicity_ph7', 'hydrophobicity', 'polarity', \\\n",
    "  'polarizability', 'ven_der_waals_volume',] + list(PROPERTY) + ['label']\n",
    "\n",
    "outfile = '/home/yuan/results/epitope/epi_comp_vector.txt'\n",
    "dfv = df.apply(lambda x: encoder.mean_comp(x[0], x[1]), axis=1, result_type='expand')\n",
    "dfv.columns = columns\n",
    "dfv.to_csv(outfile, header=True, index=False, sep='\\t')"
   ]
  },
  {
   "cell_type": "code",
   "execution_count": 135,
   "id": "f171e3be-04af-4474-8d11-57c95255fb89",
   "metadata": {},
   "outputs": [
    {
     "data": {
      "text/plain": [
       "0"
      ]
     },
     "execution_count": 135,
     "metadata": {},
     "output_type": "execute_result"
    }
   ],
   "source": [
    "from collections import Counter\n",
    "s = Counter('AATTGAC')\n",
    "s['X']"
   ]
  },
  {
   "cell_type": "markdown",
   "id": "a9f43e51-f380-4778-87de-f14a8cfaa1a0",
   "metadata": {},
   "source": [
    "## retrieve sequence segment"
   ]
  },
  {
   "cell_type": "code",
   "execution_count": 197,
   "id": "0f1e294c-471c-4ab6-9fc3-43dd3207146d",
   "metadata": {},
   "outputs": [],
   "source": []
  },
  {
   "cell_type": "code",
   "execution_count": 207,
   "id": "03f8f0d2-726a-4049-a29b-f1b5a65e6fae",
   "metadata": {},
   "outputs": [
    {
     "name": "stdout",
     "output_type": "stream",
     "text": [
      "/home/yuan/results/epitope/seq/epitope_7_kmer_expand.txt\n",
      "Statistics of 7: {'wrong_size': 629, 'seq': 139044510, 'err': 36049}\n",
      "/home/yuan/results/epitope/seq/epitope_9_kmer_expand.txt\n",
      "Statistics of 9: {'wrong_size': 631, 'seq': 143985778, 'err': 36050}\n",
      "/home/yuan/results/epitope/seq/epitope_10_kmer_expand.txt\n",
      "Statistics of 10: {'wrong_size': 649, 'seq': 148415850, 'err': 36058}\n",
      "/home/yuan/results/epitope/seq/epitope_12_kmer_expand.txt\n",
      "Statistics of 12: {'wrong_size': 670, 'seq': 152075348, 'err': 36074}\n",
      "/home/yuan/results/epitope/seq/epitope_15_kmer_expand.txt\n",
      "Statistics of 15: {'wrong_size': 693, 'seq': 154667455, 'err': 36121}\n",
      "/home/yuan/results/epitope/seq/epitope_20_kmer_expand.txt\n",
      "Statistics of 20: {'wrong_size': 718, 'seq': 156790158, 'err': 36312}\n",
      "/home/yuan/results/epitope/seq/epitope_30_kmer_expand.txt\n",
      "Statistics of 30: {'wrong_size': 743, 'seq': 158736609, 'err': 36845}\n",
      "/home/yuan/results/epitope/seq/epitope_50_kmer_expand.txt\n",
      "Statistics of 50: {'wrong_size': 768, 'seq': 160598681, 'err': 38564}\n"
     ]
    }
   ],
   "source": [
    "# slice epitopes\n",
    "def kmer_expand(size):\n",
    "    outfile = os.path.join(seq_dir, f'epitope_{size}_kmer_expand.txt')\n",
    "    print(outfile)\n",
    "    with open(outfile, 'w') as f:\n",
    "        rec_iter = Utils.scan_json_record(json_dir)\n",
    "        for acc, record in rec_iter:\n",
    "            slicer = IsolateAA(record)\n",
    "            try:\n",
    "                epi_seq = slicer.slice_kmer_expand(size)\n",
    "                for seq in epi_seq:\n",
    "                    if len(seq) == size:\n",
    "                        f.write(seq + '\\t' + 'epitope\\n')\n",
    "                        info['seq'] += 1\n",
    "                    else:\n",
    "                        info['wrong_size'] += 1\n",
    "            except Exception as e:\n",
    "                info['err'] += 1\n",
    "    print(f\"Statistics of {size}: {info}\")\n",
    "\n",
    "for size in sizes:\n",
    "    kmer_expand(size)"
   ]
  },
  {
   "cell_type": "code",
   "execution_count": 206,
   "id": "5854c769-03f3-4967-8ca9-df260566f987",
   "metadata": {},
   "outputs": [
    {
     "name": "stdout",
     "output_type": "stream",
     "text": [
      "/home/yuan/results/epitope/seq/epitope_7_shrink_expand.txt\n",
      "Statistics of 7: {'wrong_size': 471, 'seq': 118909918, 'err': 31132}\n",
      "/home/yuan/results/epitope/seq/epitope_9_shrink_expand.txt\n",
      "Statistics of 9: {'wrong_size': 481, 'seq': 120798100, 'err': 32392}\n",
      "/home/yuan/results/epitope/seq/epitope_10_shrink_expand.txt\n",
      "Statistics of 10: {'wrong_size': 505, 'seq': 122701031, 'err': 33180}\n",
      "/home/yuan/results/epitope/seq/epitope_12_shrink_expand.txt\n",
      "Statistics of 12: {'wrong_size': 530, 'seq': 124643465, 'err': 33478}\n",
      "/home/yuan/results/epitope/seq/epitope_15_shrink_expand.txt\n",
      "Statistics of 15: {'wrong_size': 554, 'seq': 126596339, 'err': 33561}\n",
      "/home/yuan/results/epitope/seq/epitope_20_shrink_expand.txt\n",
      "Statistics of 20: {'wrong_size': 579, 'seq': 128536009, 'err': 33770}\n",
      "/home/yuan/results/epitope/seq/epitope_30_shrink_expand.txt\n",
      "Statistics of 30: {'wrong_size': 604, 'seq': 130448651, 'err': 34319}\n",
      "/home/yuan/results/epitope/seq/epitope_50_shrink_expand.txt\n",
      "Statistics of 50: {'wrong_size': 629, 'seq': 132301124, 'err': 36049}\n"
     ]
    }
   ],
   "source": [
    "def shrink_expand(size):\n",
    "    outfile = os.path.join(seq_dir, f'epitope_{size}_shrink_expand.txt')\n",
    "    print(outfile)\n",
    "    with open(outfile, 'w') as f:\n",
    "        rec_iter = Utils.scan_json_record(json_dir)\n",
    "        for acc, record in rec_iter:\n",
    "            slicer = IsolateAA(record)\n",
    "            try:\n",
    "                epi_seq = slicer.slice_shrink_expand(size)\n",
    "                for seq in epi_seq:\n",
    "                    if len(seq) == size:\n",
    "                        f.write(seq + '\\t' + 'epitope\\n')\n",
    "                        info['seq'] += 1\n",
    "                    else:\n",
    "                        info['wrong_size'] += 1\n",
    "            except Exception as e:\n",
    "                info['err'] += 1\n",
    "    print(f\"Statistics of {size}: {info}\")\n",
    "\n",
    "for size in sizes:\n",
    "    shrink_expand(size)"
   ]
  },
  {
   "cell_type": "code",
   "execution_count": 205,
   "id": "fb6ffd2f-d422-4349-9cc9-47ec474026eb",
   "metadata": {},
   "outputs": [
    {
     "name": "stdout",
     "output_type": "stream",
     "text": [
      "Statistics of 7: {'wrong_size': 459, 'seq': 97202567, 'err': 16446}\n",
      "Statistics of 9: {'wrong_size': 459, 'seq': 100486468, 'err': 17811}\n",
      "Statistics of 10: {'wrong_size': 459, 'seq': 103689215, 'err': 19176}\n",
      "Statistics of 12: {'wrong_size': 459, 'seq': 106763250, 'err': 20541}\n",
      "Statistics of 15: {'wrong_size': 459, 'seq': 109672910, 'err': 21906}\n",
      "Statistics of 20: {'wrong_size': 459, 'seq': 112404864, 'err': 23271}\n",
      "Statistics of 30: {'wrong_size': 459, 'seq': 114918908, 'err': 24636}\n",
      "Statistics of 50: {'wrong_size': 459, 'seq': 117188497, 'err': 26001}\n"
     ]
    }
   ],
   "source": [
    "# random other sequences\n",
    "def random_other(size):\n",
    "    outfile = os.path.join(seq_dir, f'other_{size}.txt')\n",
    "    print(outfile)\n",
    "    with open(outfile, 'w') as f:\n",
    "        rec_iter = Utils.scan_json_record(json_dir)\n",
    "        for acc, record in rec_iter:\n",
    "            slicer = IsolateAA(record)\n",
    "            num_epi = slicer.num_epitopes()\n",
    "            try:\n",
    "                other_seq = slicer.random_other_seq(size, num_epi)\n",
    "                for seq in other_seq:\n",
    "                    if len(seq) == size:\n",
    "                        f.write(seq + '\\t' + 'other\\n')\n",
    "                        info['seq'] += 1\n",
    "                    else:\n",
    "                        info['wrong_size'] += 1\n",
    "            except Exception as e:\n",
    "                info['err'] += 1\n",
    "    print(f\"Statistics of {size}: {info}\")\n",
    "\n",
    "for size in sizes:\n",
    "    random_other(size)"
   ]
  },
  {
   "cell_type": "code",
   "execution_count": null,
   "id": "db21a79c-2774-47ed-8e96-bb597b1602db",
   "metadata": {},
   "outputs": [],
   "source": []
  },
  {
   "cell_type": "markdown",
   "id": "1e57e36a-1697-4774-bdfc-6fc87f5467c8",
   "metadata": {},
   "source": [
    "## encode"
   ]
  },
  {
   "cell_type": "code",
   "execution_count": 108,
   "id": "2500921e-e089-43c6-8608-b006f53fe3da",
   "metadata": {},
   "outputs": [
    {
     "name": "stdout",
     "output_type": "stream",
     "text": [
      "/home/yuan/results/epitope/seq_vector_1d/epitopes_16_kmer_expand.txt\n",
      "/home/yuan/results/epitope/seq_vector_1d/epitopes_13_kmer_expand.txt\n",
      "/home/yuan/results/epitope/seq_vector_1d/epitopes_9_shrink_expand.txt\n",
      "/home/yuan/results/epitope/seq_vector_1d/epitopes_15_shrink_expand.txt\n",
      "/home/yuan/results/epitope/seq_vector_1d/epitopes_18_shrink_expand.txt\n",
      "/home/yuan/results/epitope/seq_vector_1d/epitopes_19_shrink_expand.txt\n",
      "/home/yuan/results/epitope/seq_vector_1d/epitopes_11_kmer_expand.txt\n",
      "/home/yuan/results/epitope/seq_vector_1d/epitopes_12_shrink_expand.txt\n",
      "/home/yuan/results/epitope/seq_vector_1d/epitopes_17_kmer_expand.txt\n",
      "/home/yuan/results/epitope/seq_vector_1d/epitopes_15_kmer_expand.txt\n",
      "/home/yuan/results/epitope/seq_vector_1d/epitopes_13_shrink_expand.txt\n",
      "/home/yuan/results/epitope/seq_vector_1d/epitopes_14_kmer_expand.txt\n",
      "/home/yuan/results/epitope/seq_vector_1d/epitopes_20_shrink_expand.txt\n",
      "/home/yuan/results/epitope/seq_vector_1d/epitopes_12_kmer_expand.txt\n",
      "/home/yuan/results/epitope/seq_vector_1d/epitopes_17_shrink_expand.txt\n",
      "/home/yuan/results/epitope/seq_vector_1d/epitopes_14_shrink_expand.txt\n",
      "/home/yuan/results/epitope/seq_vector_1d/epitopes_11_shrink_expand.txt\n",
      "/home/yuan/results/epitope/seq_vector_1d/epitopes_18_kmer_expand.txt\n",
      "/home/yuan/results/epitope/seq_vector_1d/epitopes_8_shrink_expand.txt\n",
      "/home/yuan/results/epitope/seq_vector_1d/epitopes_10_kmer_expand.txt\n",
      "/home/yuan/results/epitope/seq_vector_1d/epitopes_10_shrink_expand.txt\n",
      "/home/yuan/results/epitope/seq_vector_1d/epitopes_9_kmer_expand.txt\n",
      "/home/yuan/results/epitope/seq_vector_1d/epitopes_7_shrink_expand.txt\n",
      "/home/yuan/results/epitope/seq_vector_1d/epitopes_8_kmer_expand.txt\n",
      "/home/yuan/results/epitope/seq_vector_1d/epitopes_7_kmer_expand.txt\n",
      "/home/yuan/results/epitope/seq_vector_1d/epitopes_16_shrink_expand.txt\n",
      "/home/yuan/results/epitope/seq_vector_1d/epitopes_19_kmer_expand.txt\n",
      "/home/yuan/results/epitope/seq_vector_1d/epitopes_20_kmer_expand.txt\n"
     ]
    }
   ],
   "source": [
    "# encode \n",
    "encoder = EncodeAA()\n",
    "\n",
    "outdir = '/home/yuan/results/epitope/seq_vector_1d'\n",
    "indir = '/home/yuan/results/epitope/seq'\n",
    "df_iter = Utils.scan_text(indir, '\\t')\n",
    "for df, file_name in df_iter:\n",
    "    df = df.dropna()\n",
    "    dfv = df.apply(lambda x: encoder.vector_1d(x[0], x[1]), axis=1, result_type='expand')\n",
    "    outfile = os.path.join(outdir, file_name)\n",
    "    dfv.to_csv(outfile, header=False, index=False, sep='\\t')\n",
    "    print(outfile)"
   ]
  },
  {
   "cell_type": "code",
   "execution_count": 105,
   "id": "4e06eaab-c52c-419a-977e-93fad2624bb7",
   "metadata": {},
   "outputs": [
    {
     "data": {
      "text/plain": [
       "(4311092, 2)"
      ]
     },
     "execution_count": 105,
     "metadata": {},
     "output_type": "execute_result"
    }
   ],
   "source": [
    "df.shape"
   ]
  },
  {
   "cell_type": "code",
   "execution_count": 106,
   "id": "0de7909e-895f-4ebb-aa35-fb52f09b75d5",
   "metadata": {},
   "outputs": [
    {
     "data": {
      "text/plain": [
       "(4311092, 101)"
      ]
     },
     "execution_count": 106,
     "metadata": {},
     "output_type": "execute_result"
    }
   ],
   "source": [
    "dfv.shape"
   ]
  },
  {
   "cell_type": "code",
   "execution_count": null,
   "id": "4d67b26a-bd0e-4a0b-816f-84b223f53214",
   "metadata": {},
   "outputs": [],
   "source": []
  },
  {
   "cell_type": "code",
   "execution_count": null,
   "id": "f1face19-ad02-42b8-b268-7025e20aa20e",
   "metadata": {},
   "outputs": [],
   "source": []
  },
  {
   "cell_type": "code",
   "execution_count": null,
   "id": "b567c0c1-7abe-4fc1-91b8-b938291e6266",
   "metadata": {},
   "outputs": [],
   "source": []
  },
  {
   "cell_type": "code",
   "execution_count": null,
   "id": "51ce5907-1a71-4472-90cf-3cc0446cca52",
   "metadata": {},
   "outputs": [],
   "source": []
  },
  {
   "cell_type": "code",
   "execution_count": null,
   "id": "cc761865-f0d6-46f0-a9ee-cbf382d4bbe6",
   "metadata": {},
   "outputs": [],
   "source": []
  },
  {
   "cell_type": "code",
   "execution_count": null,
   "id": "b7dbd6db-b238-4e04-a644-2ec5adc22791",
   "metadata": {},
   "outputs": [],
   "source": []
  },
  {
   "cell_type": "code",
   "execution_count": null,
   "id": "a7f775e5-45fd-41a2-bfbe-d7a4129b19e3",
   "metadata": {},
   "outputs": [],
   "source": []
  }
 ],
 "metadata": {
  "kernelspec": {
   "display_name": "Python 3 (ipykernel)",
   "language": "python",
   "name": "python3"
  },
  "language_info": {
   "codemirror_mode": {
    "name": "ipython",
    "version": 3
   },
   "file_extension": ".py",
   "mimetype": "text/x-python",
   "name": "python",
   "nbconvert_exporter": "python",
   "pygments_lexer": "ipython3",
   "version": "3.11.9"
  }
 },
 "nbformat": 4,
 "nbformat_minor": 5
}
