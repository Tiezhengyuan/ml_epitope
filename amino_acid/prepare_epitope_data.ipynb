{
 "cells": [
  {
   "cell_type": "code",
   "execution_count": 1,
   "id": "2623c229-b412-48f2-87ff-0a787d5b3084",
   "metadata": {},
   "outputs": [],
   "source": [
    "import json\n",
    "import os\n",
    "from copy import deepcopy\n",
    "import random\n",
    "\n",
    "import numpy as np\n",
    "import pandas as pd\n",
    "import matplotlib.pyplot as plt\n",
    "\n",
    "import torch\n",
    "import torch.nn as nn"
   ]
  },
  {
   "cell_type": "code",
   "execution_count": 2,
   "id": "63681807-3d96-45e2-b308-af47391a4b2e",
   "metadata": {},
   "outputs": [],
   "source": [
    "%load_ext autoreload\n",
    "%autoreload 2"
   ]
  },
  {
   "cell_type": "code",
   "execution_count": 103,
   "id": "3eddb1ef-6bc9-4465-ae75-9a0c1f309e53",
   "metadata": {},
   "outputs": [],
   "source": [
    "from utils import Utils\n",
    "from isolate_aa import IsolateAA\n",
    "\n",
    "\n",
    "\n",
    "if not os.path.isdir('/home/yuan/results/epitope/seq_vector_1d'):\n",
    "    os.mkdir('/home/yuan/results/epitope/seq_vector_1d')\n",
    "\n"
   ]
  },
  {
   "cell_type": "markdown",
   "id": "0456150c-75c6-4c19-afdb-f826a55cddf5",
   "metadata": {},
   "source": [
    "### epitopes and non-epitopes"
   ]
  },
  {
   "cell_type": "code",
   "execution_count": 113,
   "id": "cc1fefcf-2b59-4733-8efc-8fad8aafc86b",
   "metadata": {},
   "outputs": [
    {
     "name": "stdout",
     "output_type": "stream",
     "text": [
      "Number of epitopes: 3552504\n"
     ]
    }
   ],
   "source": [
    "# collect all epitopes\n",
    "json_dir = '/home/yuan/data/omics_data/epitope/mysql'\n",
    "rec_iter = Utils.scan_json_record(json_dir)\n",
    "\n",
    "n = 0\n",
    "outfile = '/home/yuan/results/epitope/epitopes.txt'\n",
    "with open(outfile, 'w') as f:\n",
    "    for rec in rec_iter:\n",
    "        for item in rec['epitopes'].values():\n",
    "            f.write(item['seq']+ '\\t' + '1' + '\\n')\n",
    "            n += 1\n",
    "print(f\"Number of epitopes: {n}\")"
   ]
  },
  {
   "cell_type": "code",
   "execution_count": 121,
   "id": "4b9475c1-50ae-444c-8b97-0c29c6baa47a",
   "metadata": {},
   "outputs": [
    {
     "name": "stdout",
     "output_type": "stream",
     "text": [
      "Number of random seq: 7589872-0\n"
     ]
    }
   ],
   "source": [
    "# build non-epitopes\n",
    "json_dir = '/home/yuan/data/omics_data/epitope/mysql'\n",
    "rec_iter = Utils.scan_json_record(json_dir)\n",
    "\n",
    "n, m = 0, 0\n",
    "outfile = '/home/yuan/results/epitope/others.txt'\n",
    "with open(outfile, 'w') as f:\n",
    "    for rec in rec_iter:\n",
    "        try:\n",
    "            slicer = IsolateAA(record)\n",
    "            other_seq = slicer.random_seq()\n",
    "            for seq in other_seq:\n",
    "                f.write(seq + '\\t' + '0' + '\\n')\n",
    "                n += 1\n",
    "        except Exception as e:\n",
    "            # print(e)\n",
    "            # break\n",
    "            m +=1\n",
    "print(f\"Number of random seq: {n}-{m}\")"
   ]
  },
  {
   "cell_type": "code",
   "execution_count": 124,
   "id": "11724e4b-f367-4ced-a1f8-1f794db8736b",
   "metadata": {},
   "outputs": [
    {
     "name": "stdout",
     "output_type": "stream",
     "text": [
      "(3552504, 2) (7589872, 2) (11142376, 2)\n"
     ]
    }
   ],
   "source": [
    "df1 = pd.read_csv('/home/yuan/results/epitope/epitopes.txt', sep='\\t', header=None, index_col=None)\n",
    "df2 = pd.read_csv('/home/yuan/results/epitope/others.txt', sep='\\t', header=None, index_col=None)\n",
    "df = pd.concat([df1, df2])\n",
    "print(df1.shape, df2.shape, df.shape)"
   ]
  },
  {
   "cell_type": "code",
   "execution_count": 141,
   "id": "b996af56-10d7-4033-9fe4-93bdbdfd28db",
   "metadata": {},
   "outputs": [],
   "source": [
    "# encode \n",
    "from constants import PROPERTY\n",
    "from encode_aa import EncodeAA\n",
    "\n",
    "encoder = EncodeAA()\n",
    "columns = ['hydrophobicity_ph7', 'hydrophobicity', 'polarity', \\\n",
    "  'polarizability', 'ven_der_waals_volume',] + list(PROPERTY) + ['label']\n",
    "\n",
    "outfile = '/home/yuan/results/epitope/epi_comp_vector.txt'\n",
    "dfv = df.apply(lambda x: encoder.mean_comp(x[0], x[1]), axis=1, result_type='expand')\n",
    "dfv.columns = columns\n",
    "dfv.to_csv(outfile, header=True, index=False, sep='\\t')"
   ]
  },
  {
   "cell_type": "code",
   "execution_count": 135,
   "id": "f171e3be-04af-4474-8d11-57c95255fb89",
   "metadata": {},
   "outputs": [
    {
     "data": {
      "text/plain": [
       "0"
      ]
     },
     "execution_count": 135,
     "metadata": {},
     "output_type": "execute_result"
    }
   ],
   "source": [
    "from collections import Counter\n",
    "s = Counter('AATTGAC')\n",
    "s['X']"
   ]
  },
  {
   "cell_type": "markdown",
   "id": "a9f43e51-f380-4778-87de-f14a8cfaa1a0",
   "metadata": {},
   "source": [
    "## retrieve sequence segment"
   ]
  },
  {
   "cell_type": "code",
   "execution_count": 40,
   "id": "03f8f0d2-726a-4049-a29b-f1b5a65e6fae",
   "metadata": {},
   "outputs": [
    {
     "name": "stdout",
     "output_type": "stream",
     "text": [
      "Statistics of 7: {'epitope': 6743386, 'wrong_size': 0, 'other': 7481760, 'epi_err': 0, 'other_err': 1365}\n",
      "Statistics of 8: {'epitope': 5827214, 'wrong_size': 0, 'other': 6239401, 'epi_err': 0, 'other_err': 1365}\n",
      "Statistics of 9: {'epitope': 4941268, 'wrong_size': 2, 'other': 5080210, 'epi_err': 1, 'other_err': 1365}\n",
      "Statistics of 10: {'epitope': 4430072, 'wrong_size': 18, 'other': 4449388, 'epi_err': 8, 'other_err': 1365}\n",
      "Statistics of 11: {'epitope': 4033441, 'wrong_size': 18, 'other': 3988950, 'epi_err': 12, 'other_err': 1365}\n",
      "Statistics of 12: {'epitope': 3659498, 'wrong_size': 21, 'other': 3613152, 'epi_err': 16, 'other_err': 1365}\n",
      "Statistics of 13: {'epitope': 3302545, 'wrong_size': 22, 'other': 3299348, 'epi_err': 27, 'other_err': 1365}\n",
      "Statistics of 14: {'epitope': 2936909, 'wrong_size': 22, 'other': 2983422, 'epi_err': 35, 'other_err': 1365}\n",
      "Statistics of 15: {'epitope': 2592107, 'wrong_size': 23, 'other': 2661587, 'epi_err': 47, 'other_err': 1365}\n",
      "Statistics of 16: {'epitope': 2438805, 'wrong_size': 23, 'other': 2498966, 'epi_err': 77, 'other_err': 1365}\n",
      "Statistics of 17: {'epitope': 2334345, 'wrong_size': 24, 'other': 2401769, 'epi_err': 105, 'other_err': 1365}\n",
      "Statistics of 18: {'epitope': 2243817, 'wrong_size': 25, 'other': 2315708, 'epi_err': 138, 'other_err': 1365}\n",
      "Statistics of 19: {'epitope': 2181904, 'wrong_size': 25, 'other': 2251436, 'epi_err': 163, 'other_err': 1365}\n",
      "Statistics of 20: {'epitope': 2122703, 'wrong_size': 25, 'other': 2188389, 'epi_err': 191, 'other_err': 1365}\n"
     ]
    }
   ],
   "source": [
    "# slice epitopes\n",
    "def kmer_expand(size):\n",
    "    json_dir = '/home/yuan/data/omics_data/epitope/mysql'\n",
    "    rec_iter = Utils.scan_json_record(json_dir)\n",
    "    info = {i:0 for i in ['epitope', 'wrong_size',  'other', 'epi_err', 'other_err']}\n",
    "    outfile = f'../data/seq/epitopes_{size}_kmer_expand.txt'\n",
    "    with open(outfile, 'w') as f:\n",
    "        for record in rec_iter:\n",
    "            slicer = IsolateAA(record)\n",
    "            try:\n",
    "                epi_seq = slicer.slice_kmer_expand(size)\n",
    "                for seq in epi_seq:\n",
    "                    if len(seq) == size:\n",
    "                        f.write(f\"{seq}\\t1\\n\")\n",
    "                        info['epitope'] += 1\n",
    "                    else:\n",
    "                        info['wrong_size'] += 1\n",
    "            except Exception as e:\n",
    "                info['epi_err'] += 1\n",
    "            try:\n",
    "                other_seq = slicer.random_other_seq(size, len(epi_seq))\n",
    "                for seq in other_seq:\n",
    "                    if len(seq) == size:\n",
    "                        f.write(f\"{seq}\\t0\\n\")\n",
    "                        info['other'] += 1\n",
    "                    else:\n",
    "                        info['wrong_size'] += 1\n",
    "            except Exception as e:\n",
    "                info['other_err'] += 1\n",
    "    print(f\"Statistics of {size}: {info}\")\n",
    "\n",
    "for size in range(7, 21):\n",
    "    kmer_expand(size)"
   ]
  },
  {
   "cell_type": "code",
   "execution_count": 41,
   "id": "5854c769-03f3-4967-8ca9-df260566f987",
   "metadata": {},
   "outputs": [
    {
     "name": "stdout",
     "output_type": "stream",
     "text": [
      "Statistics of 7: {'epitope': 1721421, 'other': 2640675, 'epi_err': 5131, 'other_err': 1365, 'wrong_size': 12}\n",
      "Statistics of 8: {'epitope': 1845888, 'other': 2607655, 'epi_err': 2058, 'other_err': 1365, 'wrong_size': 15}\n",
      "Statistics of 9: {'epitope': 1888182, 'other': 2544836, 'epi_err': 1260, 'other_err': 1365, 'wrong_size': 10}\n",
      "Statistics of 10: {'epitope': 1902931, 'other': 2474149, 'epi_err': 788, 'other_err': 1365, 'wrong_size': 24}\n",
      "Statistics of 11: {'epitope': 1922760, 'other': 2428598, 'epi_err': 507, 'other_err': 1365, 'wrong_size': 22}\n",
      "Statistics of 12: {'epitope': 1942434, 'other': 2376708, 'epi_err': 298, 'other_err': 1365, 'wrong_size': 25}\n",
      "Statistics of 13: {'epitope': 1956754, 'other': 2331685, 'epi_err': 107, 'other_err': 1365, 'wrong_size': 24}\n",
      "Statistics of 14: {'epitope': 1951227, 'other': 2277030, 'epi_err': 93, 'other_err': 1365, 'wrong_size': 23}\n",
      "Statistics of 15: {'epitope': 1952874, 'other': 2236675, 'epi_err': 83, 'other_err': 1365, 'wrong_size': 24}\n",
      "Statistics of 16: {'epitope': 1948831, 'other': 2196034, 'epi_err': 98, 'other_err': 1365, 'wrong_size': 25}\n",
      "Statistics of 17: {'epitope': 1949679, 'other': 2166452, 'epi_err': 126, 'other_err': 1365, 'wrong_size': 24}\n",
      "Statistics of 18: {'epitope': 1944986, 'other': 2132254, 'epi_err': 157, 'other_err': 1365, 'wrong_size': 25}\n",
      "Statistics of 19: {'epitope': 1945217, 'other': 2106505, 'epi_err': 182, 'other_err': 1365, 'wrong_size': 25}\n",
      "Statistics of 20: {'epitope': 1939670, 'other': 2075794, 'epi_err': 209, 'other_err': 1365, 'wrong_size': 25}\n"
     ]
    }
   ],
   "source": [
    "from utils import Utils\n",
    "from isolate_aa import IsolateAA\n",
    "\n",
    "def shrink_expand(size):\n",
    "    json_dir = '/home/yuan/data/omics_data/epitope/mysql'\n",
    "    rec_iter = Utils.scan_json_record(json_dir)\n",
    "    info = {i:0 for i in ['epitope', 'other', 'epi_err', 'other_err', 'wrong_size']}\n",
    "    outfile = f'../data/seq/epitopes_{size}_shrink_expand.txt'\n",
    "    with open(outfile, 'w') as f:\n",
    "        for record in rec_iter:\n",
    "            slicer = IsolateAA(record)\n",
    "            try:\n",
    "                epi_seq = slicer.slice_shrink_expand(size)\n",
    "                for seq in epi_seq:\n",
    "                    if len(seq) == size:\n",
    "                        f.write(f\"{seq}\\t1\\n\")\n",
    "                        info['epitope'] += 1\n",
    "                    else:\n",
    "                        info['wrong_size'] += 1\n",
    "            except Exception as e:\n",
    "                info['epi_err'] += 1\n",
    "            try:\n",
    "                other_seq = slicer.random_other_seq(size, len(epi_seq))\n",
    "                for seq in other_seq:\n",
    "                    if len(seq) == size:\n",
    "                        f.write(f\"{seq}\\t0\\n\")\n",
    "                        info['other'] += 1\n",
    "                    else:\n",
    "                        info['wrong_size'] += 1\n",
    "            except Exception as e:\n",
    "                info['other_err'] += 1\n",
    "    print(f\"Statistics of {size}: {info}\")\n",
    "\n",
    "for size in range(7, 21):\n",
    "    shrink_expand(size)"
   ]
  },
  {
   "cell_type": "code",
   "execution_count": null,
   "id": "fb6ffd2f-d422-4349-9cc9-47ec474026eb",
   "metadata": {},
   "outputs": [],
   "source": []
  },
  {
   "cell_type": "code",
   "execution_count": 108,
   "id": "2500921e-e089-43c6-8608-b006f53fe3da",
   "metadata": {},
   "outputs": [
    {
     "name": "stdout",
     "output_type": "stream",
     "text": [
      "/home/yuan/results/epitope/seq_vector_1d/epitopes_16_kmer_expand.txt\n",
      "/home/yuan/results/epitope/seq_vector_1d/epitopes_13_kmer_expand.txt\n",
      "/home/yuan/results/epitope/seq_vector_1d/epitopes_9_shrink_expand.txt\n",
      "/home/yuan/results/epitope/seq_vector_1d/epitopes_15_shrink_expand.txt\n",
      "/home/yuan/results/epitope/seq_vector_1d/epitopes_18_shrink_expand.txt\n",
      "/home/yuan/results/epitope/seq_vector_1d/epitopes_19_shrink_expand.txt\n",
      "/home/yuan/results/epitope/seq_vector_1d/epitopes_11_kmer_expand.txt\n",
      "/home/yuan/results/epitope/seq_vector_1d/epitopes_12_shrink_expand.txt\n",
      "/home/yuan/results/epitope/seq_vector_1d/epitopes_17_kmer_expand.txt\n",
      "/home/yuan/results/epitope/seq_vector_1d/epitopes_15_kmer_expand.txt\n",
      "/home/yuan/results/epitope/seq_vector_1d/epitopes_13_shrink_expand.txt\n",
      "/home/yuan/results/epitope/seq_vector_1d/epitopes_14_kmer_expand.txt\n",
      "/home/yuan/results/epitope/seq_vector_1d/epitopes_20_shrink_expand.txt\n",
      "/home/yuan/results/epitope/seq_vector_1d/epitopes_12_kmer_expand.txt\n",
      "/home/yuan/results/epitope/seq_vector_1d/epitopes_17_shrink_expand.txt\n",
      "/home/yuan/results/epitope/seq_vector_1d/epitopes_14_shrink_expand.txt\n",
      "/home/yuan/results/epitope/seq_vector_1d/epitopes_11_shrink_expand.txt\n",
      "/home/yuan/results/epitope/seq_vector_1d/epitopes_18_kmer_expand.txt\n",
      "/home/yuan/results/epitope/seq_vector_1d/epitopes_8_shrink_expand.txt\n",
      "/home/yuan/results/epitope/seq_vector_1d/epitopes_10_kmer_expand.txt\n",
      "/home/yuan/results/epitope/seq_vector_1d/epitopes_10_shrink_expand.txt\n",
      "/home/yuan/results/epitope/seq_vector_1d/epitopes_9_kmer_expand.txt\n",
      "/home/yuan/results/epitope/seq_vector_1d/epitopes_7_shrink_expand.txt\n",
      "/home/yuan/results/epitope/seq_vector_1d/epitopes_8_kmer_expand.txt\n",
      "/home/yuan/results/epitope/seq_vector_1d/epitopes_7_kmer_expand.txt\n",
      "/home/yuan/results/epitope/seq_vector_1d/epitopes_16_shrink_expand.txt\n",
      "/home/yuan/results/epitope/seq_vector_1d/epitopes_19_kmer_expand.txt\n",
      "/home/yuan/results/epitope/seq_vector_1d/epitopes_20_kmer_expand.txt\n"
     ]
    }
   ],
   "source": [
    "# encode \n",
    "encoder = EncodeAA()\n",
    "\n",
    "outdir = '/home/yuan/results/epitope/seq_vector_1d'\n",
    "indir = '/home/yuan/results/epitope/seq'\n",
    "df_iter = Utils.scan_text(indir, '\\t')\n",
    "for df, file_name in df_iter:\n",
    "    df = df.dropna()\n",
    "    dfv = df.apply(lambda x: encoder.vector_1d(x[0], x[1]), axis=1, result_type='expand')\n",
    "    outfile = os.path.join(outdir, file_name)\n",
    "    dfv.to_csv(outfile, header=False, index=False, sep='\\t')\n",
    "    print(outfile)"
   ]
  },
  {
   "cell_type": "code",
   "execution_count": 105,
   "id": "4e06eaab-c52c-419a-977e-93fad2624bb7",
   "metadata": {},
   "outputs": [
    {
     "data": {
      "text/plain": [
       "(4311092, 2)"
      ]
     },
     "execution_count": 105,
     "metadata": {},
     "output_type": "execute_result"
    }
   ],
   "source": [
    "df.shape"
   ]
  },
  {
   "cell_type": "code",
   "execution_count": 106,
   "id": "0de7909e-895f-4ebb-aa35-fb52f09b75d5",
   "metadata": {},
   "outputs": [
    {
     "data": {
      "text/plain": [
       "(4311092, 101)"
      ]
     },
     "execution_count": 106,
     "metadata": {},
     "output_type": "execute_result"
    }
   ],
   "source": [
    "dfv.shape"
   ]
  },
  {
   "cell_type": "code",
   "execution_count": null,
   "id": "4d67b26a-bd0e-4a0b-816f-84b223f53214",
   "metadata": {},
   "outputs": [],
   "source": []
  },
  {
   "cell_type": "code",
   "execution_count": null,
   "id": "f1face19-ad02-42b8-b268-7025e20aa20e",
   "metadata": {},
   "outputs": [],
   "source": []
  },
  {
   "cell_type": "code",
   "execution_count": null,
   "id": "b567c0c1-7abe-4fc1-91b8-b938291e6266",
   "metadata": {},
   "outputs": [],
   "source": []
  },
  {
   "cell_type": "code",
   "execution_count": null,
   "id": "51ce5907-1a71-4472-90cf-3cc0446cca52",
   "metadata": {},
   "outputs": [],
   "source": []
  },
  {
   "cell_type": "code",
   "execution_count": null,
   "id": "cc761865-f0d6-46f0-a9ee-cbf382d4bbe6",
   "metadata": {},
   "outputs": [],
   "source": []
  },
  {
   "cell_type": "code",
   "execution_count": null,
   "id": "b7dbd6db-b238-4e04-a644-2ec5adc22791",
   "metadata": {},
   "outputs": [],
   "source": []
  },
  {
   "cell_type": "code",
   "execution_count": null,
   "id": "a7f775e5-45fd-41a2-bfbe-d7a4129b19e3",
   "metadata": {},
   "outputs": [],
   "source": []
  }
 ],
 "metadata": {
  "kernelspec": {
   "display_name": "Python 3 (ipykernel)",
   "language": "python",
   "name": "python3"
  },
  "language_info": {
   "codemirror_mode": {
    "name": "ipython",
    "version": 3
   },
   "file_extension": ".py",
   "mimetype": "text/x-python",
   "name": "python",
   "nbconvert_exporter": "python",
   "pygments_lexer": "ipython3",
   "version": "3.11.9"
  }
 },
 "nbformat": 4,
 "nbformat_minor": 5
}
