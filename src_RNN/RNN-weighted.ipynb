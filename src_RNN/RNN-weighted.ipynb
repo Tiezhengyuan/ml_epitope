{
 "cells": [
  {
   "cell_type": "code",
   "execution_count": null,
   "id": "880d097a-2c72-4151-bcaf-3514fdd3e349",
   "metadata": {},
   "outputs": [],
   "source": []
  },
  {
   "cell_type": "markdown",
   "id": "ed405ad4-c514-4616-8bdb-0477860d3dc3",
   "metadata": {},
   "source": [
    "# recurrent neural network (RNN)\n",
    "- NOTE: virtual env: conda activate py310cuda118"
   ]
  },
  {
   "cell_type": "code",
   "execution_count": 1,
   "id": "351776cc-8579-4f36-a4ca-164a1ac83f22",
   "metadata": {},
   "outputs": [],
   "source": [
    "import json\n",
    "import os\n",
    "from copy import deepcopy\n",
    "import random\n",
    "\n",
    "import numpy as np\n",
    "import pandas as pd\n",
    "import matplotlib.pyplot as plt\n",
    "\n",
    "import torch\n",
    "import torch.nn as nn"
   ]
  },
  {
   "cell_type": "code",
   "execution_count": 2,
   "id": "aa8e54f3-60a0-4a6e-ad52-d888d05ba0c2",
   "metadata": {},
   "outputs": [
    {
     "name": "stdout",
     "output_type": "stream",
     "text": [
      "2.3.0\n",
      "1.26.4\n"
     ]
    }
   ],
   "source": [
    "%load_ext autoreload\n",
    "%autoreload 2\n",
    "    \n",
    "torch.manual_seed(1)\n",
    "    \n",
    "print(torch.__version__)\n",
    "print(np.__version__)"
   ]
  },
  {
   "cell_type": "code",
   "execution_count": 13,
   "id": "514e2db5-105b-4002-bd57-3f82e35afbac",
   "metadata": {},
   "outputs": [
    {
     "name": "stdout",
     "output_type": "stream",
     "text": [
      "Using cuda device\n"
     ]
    }
   ],
   "source": [
    "device = \"cpu\"\n",
    "if torch.cuda.is_available():\n",
    "    device = \"cuda\" \n",
    "elif torch.backends.mps.is_available():\n",
    "    device = \"mps\"\n",
    "print(f\"Using {device} device\")"
   ]
  },
  {
   "cell_type": "markdown",
   "id": "29515b97-f4c2-43a2-b9e1-d18800222964",
   "metadata": {},
   "source": [
    "## dataset"
   ]
  },
  {
   "cell_type": "code",
   "execution_count": 5,
   "id": "2db964d5-c45a-4ce9-83c4-c84337783a6f",
   "metadata": {},
   "outputs": [],
   "source": [
    "df1 = pd.read_csv('/home/yuan/results/epitope/epitope.txt', sep='\\t', header=None, index_col=None)\n",
    "df2 = pd.read_csv('/home/yuan/results/epitope/other.txt', sep='\\t', header=None, index_col=None)\n",
    "df3 = pd.read_csv('/home/yuan/results/epitope/random.txt', sep='\\t', header=None, index_col=None)\n",
    "# df4 = pd.read_csv('/home/yuan/results/epitope/shuffle.txt', sep='\\t', header=None, index_col=None)"
   ]
  },
  {
   "cell_type": "code",
   "execution_count": 6,
   "id": "d63b19ca-c7b3-4172-bfb3-ccdcf8571008",
   "metadata": {},
   "outputs": [
    {
     "name": "stdout",
     "output_type": "stream",
     "text": [
      "(1798795, 2) (1798795, 2)\n",
      "(1384072, 2) (1384072, 2)\n",
      "(1797574, 2) (1797574, 2)\n"
     ]
    }
   ],
   "source": [
    "# drop duplicates\n",
    "df11 = df1.drop_duplicates()\n",
    "print(df1.shape, df11.shape)\n",
    "\n",
    "df21 = df2.drop_duplicates()\n",
    "print(df2.shape, df21.shape)\n",
    "\n",
    "df31 = df3.drop_duplicates()\n",
    "print(df3.shape, df31.shape)"
   ]
  },
  {
   "cell_type": "code",
   "execution_count": 7,
   "id": "5bd81083-ac96-451d-ad1d-a5e2d4177997",
   "metadata": {},
   "outputs": [
    {
     "name": "stdout",
     "output_type": "stream",
     "text": [
      "(4980441, 2)\n"
     ]
    },
    {
     "data": {
      "text/html": [
       "<div>\n",
       "<style scoped>\n",
       "    .dataframe tbody tr th:only-of-type {\n",
       "        vertical-align: middle;\n",
       "    }\n",
       "\n",
       "    .dataframe tbody tr th {\n",
       "        vertical-align: top;\n",
       "    }\n",
       "\n",
       "    .dataframe thead th {\n",
       "        text-align: right;\n",
       "    }\n",
       "</style>\n",
       "<table border=\"1\" class=\"dataframe\">\n",
       "  <thead>\n",
       "    <tr style=\"text-align: right;\">\n",
       "      <th></th>\n",
       "      <th>0</th>\n",
       "      <th>1</th>\n",
       "    </tr>\n",
       "  </thead>\n",
       "  <tbody>\n",
       "    <tr>\n",
       "      <th>721545</th>\n",
       "      <td>VGAEYDFSKRTS</td>\n",
       "      <td>epitope</td>\n",
       "    </tr>\n",
       "    <tr>\n",
       "      <th>1686523</th>\n",
       "      <td>MTCHRQESCGMVRVWH</td>\n",
       "      <td>random</td>\n",
       "    </tr>\n",
       "    <tr>\n",
       "      <th>1302495</th>\n",
       "      <td>RLMWIMIL</td>\n",
       "      <td>epitope</td>\n",
       "    </tr>\n",
       "    <tr>\n",
       "      <th>1558660</th>\n",
       "      <td>FEVISHSF</td>\n",
       "      <td>epitope</td>\n",
       "    </tr>\n",
       "    <tr>\n",
       "      <th>502163</th>\n",
       "      <td>SRPGIDLVVAAEAGM</td>\n",
       "      <td>other</td>\n",
       "    </tr>\n",
       "  </tbody>\n",
       "</table>\n",
       "</div>"
      ],
      "text/plain": [
       "                        0        1\n",
       "721545       VGAEYDFSKRTS  epitope\n",
       "1686523  MTCHRQESCGMVRVWH   random\n",
       "1302495          RLMWIMIL  epitope\n",
       "1558660          FEVISHSF  epitope\n",
       "502163    SRPGIDLVVAAEAGM    other"
      ]
     },
     "execution_count": 7,
     "metadata": {},
     "output_type": "execute_result"
    }
   ],
   "source": [
    "df = pd.concat([df11, df21, df31])\n",
    "df = df.sample(frac=1)\n",
    "print(df.shape)\n",
    "df.head()"
   ]
  },
  {
   "cell_type": "code",
   "execution_count": 8,
   "id": "984fdbf2-7f6d-49e2-8e73-f5d8e8c64f79",
   "metadata": {},
   "outputs": [
    {
     "name": "stdout",
     "output_type": "stream",
     "text": [
      "('epitope', 'VGAEYDFSKRTS')\n",
      "Counter({'epitope': 1798795, 'random': 1797574, 'other': 1384072})\n"
     ]
    }
   ],
   "source": [
    "from collections import Counter\n",
    "\n",
    "# train_data = list(df.iloc[:10_000,:].apply(lambda x: (x[1], x[0]), axis=1))\n",
    "train_data = list(df.apply(lambda x: (x[1], x[0]), axis=1))\n",
    "print(train_data[0])\n",
    "counts = Counter([i[0] for i in train_data])\n",
    "print(counts)"
   ]
  },
  {
   "cell_type": "code",
   "execution_count": 9,
   "id": "784d8fa5-525f-42b4-9265-3de33ff7b254",
   "metadata": {},
   "outputs": [
    {
     "name": "stderr",
     "output_type": "stream",
     "text": [
      "/home/yuan/anaconda3/envs/py310cuda118/lib/python3.10/site-packages/torchtext/vocab/__init__.py:4: UserWarning: \n",
      "/!\\ IMPORTANT WARNING ABOUT TORCHTEXT STATUS /!\\ \n",
      "Torchtext is deprecated and the last released version will be 0.18 (this one). You can silence this warning by calling the following at the beginnign of your scripts: `import torchtext; torchtext.disable_torchtext_deprecation_warning()`\n",
      "  warnings.warn(torchtext._TORCHTEXT_DEPRECATION_MSG)\n",
      "/home/yuan/anaconda3/envs/py310cuda118/lib/python3.10/site-packages/torchtext/utils.py:4: UserWarning: \n",
      "/!\\ IMPORTANT WARNING ABOUT TORCHTEXT STATUS /!\\ \n",
      "Torchtext is deprecated and the last released version will be 0.18 (this one). You can silence this warning by calling the following at the beginnign of your scripts: `import torchtext; torchtext.disable_torchtext_deprecation_warning()`\n",
      "  warnings.warn(torchtext._TORCHTEXT_DEPRECATION_MSG)\n"
     ]
    },
    {
     "name": "stdout",
     "output_type": "stream",
     "text": [
      "example element of data:  ('epitope', 'SKPKTSQPVYRERIA')\n",
      "split data:  2988264 996088 996089\n",
      "\n",
      "## Step 2 tokenization: unique tokens (words)...\n",
      "A sentence converted to tokens: CCELCKYEF ['C', 'C', 'E', 'L', 'C', 'K', 'Y', 'E', 'F']\n",
      "Vocab-size of input: 23\n",
      "Vocab-size of labels: 3\n",
      "OrderedDict([('L', 2888385), ('A', 2507039), ('S', 2457868), ('G', 2284119), ('E', 2280559), ('V', 2251433), ('K', 2066434), ('P', 2054837), ('T', 2008080), ('R', 1954372), ('D', 1891185), ('I', 1810949), ('Q', 1716645), ('N', 1621264), ('F', 1583127), ('Y', 1410379), ('H', 1246531), ('M', 1143709), ('C', 1098817), ('W', 968320), ('X', 149), ('U', 44), ('B', 1)])\n",
      "counts of input: [1079687, 1078310, 830267]\n",
      "\n",
      "## Step 3 encoding: encoding each unique token into integers...\n"
     ]
    }
   ],
   "source": [
    "# embedding\n",
    "from my_embedding import MyEmbedding\n",
    "\n",
    "me = MyEmbedding(train_data)\n",
    "train_ds, valid_ds, test_ds = me.split()\n",
    "a,b = me.tokenize()\n",
    "input_vocab, label_vocab = me.build_vocab()"
   ]
  },
  {
   "cell_type": "code",
   "execution_count": 27,
   "id": "24c22740-52d2-46f7-8142-6e49540c66fb",
   "metadata": {},
   "outputs": [
    {
     "name": "stdout",
     "output_type": "stream",
     "text": [
      "MyRnn(\n",
      "  (embedding): Embedding(27, 48, padding_idx=0)\n",
      "  (rnn): LSTM(48, 64, num_layers=2, batch_first=True)\n",
      "  (linear): Sequential(\n",
      "    (0): Linear(in_features=64, out_features=128, bias=True)\n",
      "    (1): ReLU()\n",
      "    (2): Linear(in_features=128, out_features=1, bias=True)\n",
      "    (3): Sigmoid()\n",
      "  )\n",
      ")\n"
     ]
    }
   ],
   "source": [
    "from my_collate import MyCollate\n",
    "from my_rnn import MyRnn\n",
    "from my_process import MyProcess\n",
    "\n",
    "vocab_size = len(input_vocab)\n",
    "embedding_dim = 48\n",
    "model = MyRnn(vocab_size, embedding_dim).to(device)\n",
    "print(model)\n",
    "\n",
    "# training model\n",
    "# update collate_batch\n",
    "## Step 3-A: define the functions for transformation\n",
    "# feed a tokens vector representing one sentence \n",
    "text_pipeline = lambda x: [input_vocab[token] for token in list(x)]\n",
    "label_pipeline = lambda x: 1 if x == 'epitope' else 0\n",
    "collate_fn = MyCollate(text_pipeline, label_pipeline)\n",
    "\n",
    "# Weight for positive class\n",
    "pos_weight = torch.tensor([2.0]).to(device)\n",
    "loss_fn = nn.BCEWithLogitsLoss(pos_weight=pos_weight)\n",
    "# loss_fn = nn.BCELoss()"
   ]
  },
  {
   "cell_type": "code",
   "execution_count": 28,
   "id": "97ffb861-b2da-48be-8680-09fc29910f69",
   "metadata": {},
   "outputs": [
    {
     "name": "stdout",
     "output_type": "stream",
     "text": [
      "Epoch 0 acc: 0.7779; val_acc: 0.7937, val_recall: 0.7759\n",
      "Epoch 1 acc: 0.7941; val_acc: 0.7977, val_recall: 0.7871\n",
      "Epoch 2 acc: 0.7990; val_acc: 0.8012, val_recall: 0.7863\n",
      "Epoch 3 acc: 0.8021; val_acc: 0.8032, val_recall: 0.7899\n",
      "Epoch 4 acc: 0.8053; val_acc: 0.8043, val_recall: 0.7923\n",
      "Epoch 5 acc: 0.8074; val_acc: 0.8027, val_recall: 0.7968\n",
      "Epoch 6 acc: 0.8090; val_acc: 0.8067, val_recall: 0.7917\n",
      "Epoch 7 acc: 0.8106; val_acc: 0.8070, val_recall: 0.7928\n",
      "Epoch 8 acc: 0.8119; val_acc: 0.8078, val_recall: 0.7930\n",
      "Epoch 9 acc: 0.8128; val_acc: 0.8066, val_recall: 0.7973\n"
     ]
    }
   ],
   "source": [
    "# train RNN model\n",
    "num_epochs = 10\n",
    "p = MyProcess(model, collate_fn, num_epochs, loss_fn)\n",
    "trained_model, stat = p.run(train_ds, valid_ds)"
   ]
  },
  {
   "cell_type": "code",
   "execution_count": 29,
   "id": "9a43731a-a246-4700-b9b4-d72cf98efc41",
   "metadata": {},
   "outputs": [
    {
     "data": {
      "text/html": [
       "<div>\n",
       "<style scoped>\n",
       "    .dataframe tbody tr th:only-of-type {\n",
       "        vertical-align: middle;\n",
       "    }\n",
       "\n",
       "    .dataframe tbody tr th {\n",
       "        vertical-align: top;\n",
       "    }\n",
       "\n",
       "    .dataframe thead th {\n",
       "        text-align: right;\n",
       "    }\n",
       "</style>\n",
       "<table border=\"1\" class=\"dataframe\">\n",
       "  <thead>\n",
       "    <tr style=\"text-align: right;\">\n",
       "      <th></th>\n",
       "      <th>acc_train</th>\n",
       "      <th>loss_train</th>\n",
       "      <th>acc_valid</th>\n",
       "      <th>loss_valid</th>\n",
       "      <th>rec_valid</th>\n",
       "    </tr>\n",
       "  </thead>\n",
       "  <tbody>\n",
       "    <tr>\n",
       "      <th>0</th>\n",
       "      <td>0.777862</td>\n",
       "      <td>0.818257</td>\n",
       "      <td>0.793682</td>\n",
       "      <td>0.809216</td>\n",
       "      <td>0.775855</td>\n",
       "    </tr>\n",
       "    <tr>\n",
       "      <th>1</th>\n",
       "      <td>0.794121</td>\n",
       "      <td>0.807352</td>\n",
       "      <td>0.797663</td>\n",
       "      <td>0.805306</td>\n",
       "      <td>0.787062</td>\n",
       "    </tr>\n",
       "    <tr>\n",
       "      <th>2</th>\n",
       "      <td>0.798975</td>\n",
       "      <td>0.804211</td>\n",
       "      <td>0.801166</td>\n",
       "      <td>0.803726</td>\n",
       "      <td>0.786269</td>\n",
       "    </tr>\n",
       "    <tr>\n",
       "      <th>3</th>\n",
       "      <td>0.802109</td>\n",
       "      <td>0.802203</td>\n",
       "      <td>0.803242</td>\n",
       "      <td>0.802271</td>\n",
       "      <td>0.789901</td>\n",
       "    </tr>\n",
       "    <tr>\n",
       "      <th>4</th>\n",
       "      <td>0.805297</td>\n",
       "      <td>0.800278</td>\n",
       "      <td>0.804319</td>\n",
       "      <td>0.801293</td>\n",
       "      <td>0.792253</td>\n",
       "    </tr>\n",
       "    <tr>\n",
       "      <th>5</th>\n",
       "      <td>0.807385</td>\n",
       "      <td>0.798907</td>\n",
       "      <td>0.802742</td>\n",
       "      <td>0.801022</td>\n",
       "      <td>0.796751</td>\n",
       "    </tr>\n",
       "    <tr>\n",
       "      <th>6</th>\n",
       "      <td>0.808959</td>\n",
       "      <td>0.797842</td>\n",
       "      <td>0.806724</td>\n",
       "      <td>0.800357</td>\n",
       "      <td>0.791673</td>\n",
       "    </tr>\n",
       "    <tr>\n",
       "      <th>7</th>\n",
       "      <td>0.810642</td>\n",
       "      <td>0.796874</td>\n",
       "      <td>0.806977</td>\n",
       "      <td>0.799884</td>\n",
       "      <td>0.792763</td>\n",
       "    </tr>\n",
       "    <tr>\n",
       "      <th>8</th>\n",
       "      <td>0.811896</td>\n",
       "      <td>0.796077</td>\n",
       "      <td>0.807823</td>\n",
       "      <td>0.799546</td>\n",
       "      <td>0.793015</td>\n",
       "    </tr>\n",
       "    <tr>\n",
       "      <th>9</th>\n",
       "      <td>0.812778</td>\n",
       "      <td>0.795482</td>\n",
       "      <td>0.806628</td>\n",
       "      <td>0.799212</td>\n",
       "      <td>0.797332</td>\n",
       "    </tr>\n",
       "  </tbody>\n",
       "</table>\n",
       "</div>"
      ],
      "text/plain": [
       "   acc_train  loss_train  acc_valid  loss_valid  rec_valid\n",
       "0   0.777862    0.818257   0.793682    0.809216   0.775855\n",
       "1   0.794121    0.807352   0.797663    0.805306   0.787062\n",
       "2   0.798975    0.804211   0.801166    0.803726   0.786269\n",
       "3   0.802109    0.802203   0.803242    0.802271   0.789901\n",
       "4   0.805297    0.800278   0.804319    0.801293   0.792253\n",
       "5   0.807385    0.798907   0.802742    0.801022   0.796751\n",
       "6   0.808959    0.797842   0.806724    0.800357   0.791673\n",
       "7   0.810642    0.796874   0.806977    0.799884   0.792763\n",
       "8   0.811896    0.796077   0.807823    0.799546   0.793015\n",
       "9   0.812778    0.795482   0.806628    0.799212   0.797332"
      ]
     },
     "execution_count": 29,
     "metadata": {},
     "output_type": "execute_result"
    }
   ],
   "source": [
    "stat"
   ]
  },
  {
   "cell_type": "code",
   "execution_count": 30,
   "id": "6a83bb91-c92b-43a6-969d-fbaacc74592f",
   "metadata": {},
   "outputs": [
    {
     "data": {
      "text/html": [
       "<div>\n",
       "<style scoped>\n",
       "    .dataframe tbody tr th:only-of-type {\n",
       "        vertical-align: middle;\n",
       "    }\n",
       "\n",
       "    .dataframe tbody tr th {\n",
       "        vertical-align: top;\n",
       "    }\n",
       "\n",
       "    .dataframe thead th {\n",
       "        text-align: right;\n",
       "    }\n",
       "</style>\n",
       "<table border=\"1\" class=\"dataframe\">\n",
       "  <thead>\n",
       "    <tr style=\"text-align: right;\">\n",
       "      <th></th>\n",
       "      <th>text</th>\n",
       "      <th>predict</th>\n",
       "    </tr>\n",
       "  </thead>\n",
       "  <tbody>\n",
       "    <tr>\n",
       "      <th>0</th>\n",
       "      <td>SSPFLKGFLAGYVVAKLRASAV</td>\n",
       "      <td>1.000000e+00</td>\n",
       "    </tr>\n",
       "    <tr>\n",
       "      <th>1</th>\n",
       "      <td>AELMPVGDNN</td>\n",
       "      <td>1.134174e-14</td>\n",
       "    </tr>\n",
       "    <tr>\n",
       "      <th>2</th>\n",
       "      <td>AXAXAXAXA</td>\n",
       "      <td>9.786346e-01</td>\n",
       "    </tr>\n",
       "  </tbody>\n",
       "</table>\n",
       "</div>"
      ],
      "text/plain": [
       "                     text       predict\n",
       "0  SSPFLKGFLAGYVVAKLRASAV  1.000000e+00\n",
       "1              AELMPVGDNN  1.134174e-14\n",
       "2               AXAXAXAXA  9.786346e-01"
      ]
     },
     "execution_count": 30,
     "metadata": {},
     "output_type": "execute_result"
    }
   ],
   "source": [
    "# test predict\n",
    "input = [\n",
    "    # epitope\n",
    "    'SSPFLKGFLAGYVVAKLRASAV', \n",
    "    # other seq\n",
    "    'AELMPVGDNN',\n",
    "    # wrong seq\n",
    "    'AXAXAXAXA',\n",
    "]\n",
    "res = p.predict(input)\n",
    "res"
   ]
  },
  {
   "cell_type": "code",
   "execution_count": 31,
   "id": "6c951285-2640-4a7f-aa16-adecf90b5844",
   "metadata": {},
   "outputs": [
    {
     "name": "stdout",
     "output_type": "stream",
     "text": [
      "Embedding(27, 48, padding_idx=0)\n",
      "torch.Size([27, 48])\n"
     ]
    }
   ],
   "source": [
    "print(trained_model.embedding)\n",
    "print(trained_model.embedding.weight.shape)"
   ]
  },
  {
   "cell_type": "code",
   "execution_count": 32,
   "id": "97a66b76-bbaf-4a88-bf03-0c63fc04a972",
   "metadata": {},
   "outputs": [
    {
     "data": {
      "image/png": "[encoded data removed]",
      "text/plain": [
       "<Figure size 1000x300 with 2 Axes>"
      ]
     },
     "metadata": {},
     "output_type": "display_data"
    }
   ],
   "source": [
    "fig = plt.figure(figsize=(10,3))\n",
    "x_arr = list(range(num_epochs))\n",
    "ax = fig.add_subplot(1,2,1)\n",
    "ax.plot(x_arr, stat.acc_train, label=\"Accuracy of train\")\n",
    "ax.plot(x_arr, stat.acc_valid, label=\"Accuracy of validation\")\n",
    "ax.plot(x_arr, stat.rec_valid, label=\"Recall of validation\")\n",
    "ax.legend(fontsize=10)\n",
    "ax.set_ylim(.76, .85)\n",
    "ax.set_title('Accuracy')\n",
    "ax.set_xlabel('Epochs')\n",
    "ax.set_ylabel('Percentage %')\n",
    "\n",
    "ax = fig.add_subplot(1,2,2)\n",
    "ax.plot(x_arr, stat.loss_train, label=\"Loss of train\")\n",
    "ax.plot(x_arr, stat.loss_valid, label=\"Loss of validation\")\n",
    "ax.legend(fontsize=10)\n",
    "ax.set_title('Loss')\n",
    "ax.set_xlabel('Epochs')\n",
    "ax.set_ylabel('Loss')\n",
    "\n",
    "plt.show()"
   ]
  },
  {
   "cell_type": "code",
   "execution_count": 33,
   "id": "5394a85d-d696-4ae3-ad38-4c61e0842d63",
   "metadata": {},
   "outputs": [
    {
     "data": {
      "text/plain": [
       "{'recall': 0.7964210731367523,\n",
       " 'accuracy': 0.8057051126957531,\n",
       " 'loss': 0.7998656136598065}"
      ]
     },
     "execution_count": 33,
     "metadata": {},
     "output_type": "execute_result"
    }
   ],
   "source": [
    "# test model using test data\n",
    "res = p.test(test_ds)\n",
    "res"
   ]
  },
  {
   "cell_type": "code",
   "execution_count": 34,
   "id": "b731fd69-2d27-4b64-9a87-581a1fa3e2fb",
   "metadata": {},
   "outputs": [
    {
     "data": {
      "text/html": [
       "<div>\n",
       "<style scoped>\n",
       "    .dataframe tbody tr th:only-of-type {\n",
       "        vertical-align: middle;\n",
       "    }\n",
       "\n",
       "    .dataframe tbody tr th {\n",
       "        vertical-align: top;\n",
       "    }\n",
       "\n",
       "    .dataframe thead th {\n",
       "        text-align: right;\n",
       "    }\n",
       "</style>\n",
       "<table border=\"1\" class=\"dataframe\">\n",
       "  <thead>\n",
       "    <tr style=\"text-align: right;\">\n",
       "      <th></th>\n",
       "      <th>text</th>\n",
       "      <th>predict</th>\n",
       "      <th>labels</th>\n",
       "    </tr>\n",
       "  </thead>\n",
       "  <tbody>\n",
       "    <tr>\n",
       "      <th>0</th>\n",
       "      <td>NLPDFKEELDQWFKNQTLMAPD</td>\n",
       "      <td>1.000000e+00</td>\n",
       "      <td>epitope</td>\n",
       "    </tr>\n",
       "    <tr>\n",
       "      <th>1</th>\n",
       "      <td>DHTFDGSQEVNFLQ</td>\n",
       "      <td>9.999999e-01</td>\n",
       "      <td>random</td>\n",
       "    </tr>\n",
       "    <tr>\n",
       "      <th>2</th>\n",
       "      <td>TASWFTALTQHGKEDLKFPR</td>\n",
       "      <td>1.000000e+00</td>\n",
       "      <td>epitope</td>\n",
       "    </tr>\n",
       "    <tr>\n",
       "      <th>3</th>\n",
       "      <td>WSAIQHTLRNKQYDNQQ</td>\n",
       "      <td>3.425686e-12</td>\n",
       "      <td>random</td>\n",
       "    </tr>\n",
       "    <tr>\n",
       "      <th>4</th>\n",
       "      <td>ARQKWKKRH</td>\n",
       "      <td>8.402219e-08</td>\n",
       "      <td>random</td>\n",
       "    </tr>\n",
       "  </tbody>\n",
       "</table>\n",
       "</div>"
      ],
      "text/plain": [
       "                     text       predict   labels\n",
       "0  NLPDFKEELDQWFKNQTLMAPD  1.000000e+00  epitope\n",
       "1          DHTFDGSQEVNFLQ  9.999999e-01   random\n",
       "2    TASWFTALTQHGKEDLKFPR  1.000000e+00  epitope\n",
       "3       WSAIQHTLRNKQYDNQQ  3.425686e-12   random\n",
       "4               ARQKWKKRH  8.402219e-08   random"
      ]
     },
     "execution_count": 34,
     "metadata": {},
     "output_type": "execute_result"
    }
   ],
   "source": [
    "# distriubtion of prediction probability using test data\n",
    "test_X = [i[1] for i in test_ds]\n",
    "pred_test = p.predict(test_X)\n",
    "pred_test['labels'] = [i[0] for i in test_ds]\n",
    "pred_test.head()"
   ]
  },
  {
   "cell_type": "code",
   "execution_count": 35,
   "id": "56639470-53ef-474f-b171-051cfa71bca2",
   "metadata": {},
   "outputs": [
    {
     "name": "stdout",
     "output_type": "stream",
     "text": [
      "359278 636811\n"
     ]
    },
    {
     "data": {
      "text/plain": [
       "Text(0.5, 1.0, 'Distinguish non-epitopes, n = 636811')"
      ]
     },
     "execution_count": 35,
     "metadata": {},
     "output_type": "execute_result"
    },
    {
     "data": {
      "image/png": "[encoded data removed]",
      "text/plain": [
       "<Figure size 900x300 with 2 Axes>"
      ]
     },
     "metadata": {},
     "output_type": "display_data"
    }
   ],
   "source": [
    "t = pred_test[pred_test['labels']=='epitope']['predict']\n",
    "f = pred_test[~(pred_test['labels']=='epitope')]['predict']\n",
    "print(len(t), len(f))\n",
    "\n",
    "fig, ax = plt.subplots(1, 2, figsize=(9,3), layout='tight')\n",
    "fig.suptitle('Evavluate RNN model using test data')\n",
    "fig.supxlabel('probability')\n",
    "fig.supylabel('number')\n",
    "\n",
    "ax[0].hist(t, bins=50)\n",
    "ax[0].set_title(f'Predict epitopes, n = {len(t)}')\n",
    "ax[1].hist(f, bins=50)\n",
    "ax[1].set_title(f'Distinguish non-epitopes, n = {len(f)}')"
   ]
  },
  {
   "cell_type": "code",
   "execution_count": 36,
   "id": "f6c47144-35cc-4dc5-99eb-ac1daa32ee65",
   "metadata": {},
   "outputs": [
    {
     "data": {
      "text/plain": [
       "[<matplotlib.lines.Line2D at 0x739c92ea62c0>]"
      ]
     },
     "execution_count": 36,
     "metadata": {},
     "output_type": "execute_result"
    },
    {
     "data": {
      "image/png": "[encoded data removed]",
      "text/plain": [
       "<Figure size 500x300 with 1 Axes>"
      ]
     },
     "metadata": {},
     "output_type": "display_data"
    }
   ],
   "source": [
    "from sklearn.metrics import roc_curve, auc\n",
    "\n",
    "fpr, tpr, thresholds = roc_curve(pred_test['labels'], pred_test['predict'], pos_label='epitope')\n",
    "roc_auc = auc(fpr, tpr)\n",
    "plt.figure(figsize=(5,3))\n",
    "plt.plot(fpr, tpr, color='black')\n",
    "plt.title(f'ROC (area={roc_auc:.2f})')\n",
    "plt.xlabel('False postive rate')\n",
    "plt.ylabel('True postive rate')\n",
    "plt.plot([0,1],[0,1], linestyle='--', color='grey')\n",
    "plt.plot([0,0,1],[0,1,1], linestyle=':', color='grey')"
   ]
  },
  {
   "cell_type": "code",
   "execution_count": 37,
   "id": "f327ed2d-7793-43f5-bc99-50f9326213a2",
   "metadata": {},
   "outputs": [],
   "source": [
    "# save model\n",
    "torch.save(input_vocab, '../models/epitopes_rnn_weighted_vocab.pth')\n",
    "torch.save(model.state_dict(), '../models/epitopes_rnn_weighted_weights.pth')\n",
    "torch.save(model, '../models/epitopes_rnn_weighted_model.pth')"
   ]
  },
  {
   "cell_type": "code",
   "execution_count": null,
   "id": "a01520b5-993f-449c-871f-8ea4d46a4f99",
   "metadata": {},
   "outputs": [],
   "source": []
  },
  {
   "cell_type": "code",
   "execution_count": null,
   "id": "15156d7e-4bd5-497f-ab92-1700a93b63eb",
   "metadata": {},
   "outputs": [],
   "source": []
  }
 ],
 "metadata": {
  "kernelspec": {
   "display_name": "Python 3 (ipykernel)",
   "language": "python",
   "name": "python3"
  },
  "language_info": {
   "codemirror_mode": {
    "name": "ipython",
    "version": 3
   },
   "file_extension": ".py",
   "mimetype": "text/x-python",
   "name": "python",
   "nbconvert_exporter": "python",
   "pygments_lexer": "ipython3",
   "version": "3.10.16"
  }
 },
 "nbformat": 4,
 "nbformat_minor": 5
}
