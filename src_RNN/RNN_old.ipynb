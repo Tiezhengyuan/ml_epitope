{
 "cells": [
  {
   "cell_type": "markdown",
   "id": "ed405ad4-c514-4616-8bdb-0477860d3dc3",
   "metadata": {},
   "source": [
    "# recurrent neural network (RNN)"
   ]
  },
  {
   "cell_type": "code",
   "execution_count": 4,
   "id": "351776cc-8579-4f36-a4ca-164a1ac83f22",
   "metadata": {},
   "outputs": [],
   "source": [
    "import json\n",
    "import os\n",
    "from copy import deepcopy\n",
    "import random\n",
    "\n",
    "import numpy as np\n",
    "import pandas as pd\n",
    "import matplotlib.pyplot as plt\n",
    "\n",
    "import tensorflow as tf\n",
    "import torch\n",
    "import torch.nn as nn"
   ]
  },
  {
   "cell_type": "code",
   "execution_count": 5,
   "id": "aa8e54f3-60a0-4a6e-ad52-d888d05ba0c2",
   "metadata": {},
   "outputs": [
    {
     "name": "stdout",
     "output_type": "stream",
     "text": [
      "The autoreload extension is already loaded. To reload it, use:\n",
      "  %reload_ext autoreload\n"
     ]
    },
    {
     "data": {
      "text/plain": [
       "<torch._C.Generator at 0x7eb7d03fc450>"
      ]
     },
     "execution_count": 5,
     "metadata": {},
     "output_type": "execute_result"
    }
   ],
   "source": [
    "%load_ext autoreload\n",
    "%autoreload 2\n",
    "    \n",
    "torch.manual_seed(1)"
   ]
  },
  {
   "cell_type": "code",
   "execution_count": 6,
   "id": "514e2db5-105b-4002-bd57-3f82e35afbac",
   "metadata": {},
   "outputs": [
    {
     "name": "stdout",
     "output_type": "stream",
     "text": [
      "Using cuda device\n"
     ]
    }
   ],
   "source": [
    "device = (\"cuda\" if torch.cuda.is_available() else \"mps\"\n",
    "    if torch.backends.mps.is_available() else \"cpu\"\n",
    ")\n",
    "print(f\"Using {device} device\")"
   ]
  },
  {
   "cell_type": "code",
   "execution_count": null,
   "id": "368227ea-d659-45a7-8f06-1399cb277e9c",
   "metadata": {},
   "outputs": [],
   "source": []
  },
  {
   "cell_type": "code",
   "execution_count": null,
   "id": "2db964d5-c45a-4ce9-83c4-c84337783a6f",
   "metadata": {},
   "outputs": [],
   "source": [
    "from my_data import MyData\n",
    "\n",
    "# prepare dataset\n",
    "infile = 'mature.fa'\n",
    "\n",
    "md = MyData(infile)\n",
    "train_data = md.get_data()\n",
    "print('Number of data:', len(train_data))\n",
    "print('Observe data:', train_data[0])"
   ]
  },
  {
   "cell_type": "code",
   "execution_count": null,
   "id": "984fdbf2-7f6d-49e2-8e73-f5d8e8c64f79",
   "metadata": {},
   "outputs": [],
   "source": [
    "from my_embedding import MyEmbedding\n",
    "\n",
    "# embedding\n",
    "me = MyEmbedding(train_data)\n",
    "train_dataset, valid_dataset = me.split()\n",
    "me.tokenize()\n",
    "input_vocab, label_vocab = me.build_vocab()"
   ]
  },
  {
   "cell_type": "code",
   "execution_count": null,
   "id": "784d8fa5-525f-42b4-9265-3de33ff7b254",
   "metadata": {},
   "outputs": [],
   "source": [
    "device = torch.device(\"cuda\" if torch.cuda.is_available() else \"cpu\")\n",
    "vocab_size = len(input_vocab)\n",
    "embed_dim = 24\n",
    "rnn_hidden_size = 32\n",
    "fc_hidden_size = 32\n",
    "\n",
    "\n",
    "model = RNN(vocab_size, embed_dim, rnn_hidden_size, fc_hidden_size) \n",
    "model = model.to(device)\n",
    "model.to\n",
    "\n",
    "# training model\n",
    "# update collate_batch\n",
    "## Step 3-A: define the functions for transformation\n",
    "# feed a tokens vector representing one sentence \n",
    "text_pipeline = lambda x: [input_vocab[token] for token in list(x)]\n",
    "label_pipeline = lambda x: 1 if x == 'Homo sapiens' else 0\n",
    "collate_fn = MyCollate(text_pipeline, label_pipeline)\n",
    "\n",
    "num_epochs = 50\n",
    "p = MyProcess(model, collate_fn, num_epochs)\n",
    "trained_model, stat = p.run(train_dataset, valid_dataset)"
   ]
  },
  {
   "cell_type": "code",
   "execution_count": null,
   "id": "24c22740-52d2-46f7-8142-6e49540c66fb",
   "metadata": {},
   "outputs": [],
   "source": [
    "\n",
    "print(trained_model.embedding)\n",
    "trained_model.embedding.weight "
   ]
  },
  {
   "cell_type": "code",
   "execution_count": null,
   "id": "6c951285-2640-4a7f-aa16-adecf90b5844",
   "metadata": {},
   "outputs": [],
   "source": [
    "fig = plt.figure(figsize=(12,4))\n",
    "x_arr = list(range(num_epochs))\n",
    "ax = fig.add_subplot(1,2,1)\n",
    "ax.plot(x_arr, stat.acc_train, label=\"Train Accuracy\")\n",
    "ax.plot(x_arr, stat.acc_valid, label=\"Valid Accuracy\")\n",
    "ax.legend(fontsize=12)\n",
    "# ax.set_ylim(.8, 1)\n",
    "ax.set_title('Accuracy')\n",
    "ax.set_xlabel('Epochs')\n",
    "ax.set_ylabel('Percentage %')\n",
    "\n",
    "ax = fig.add_subplot(1,2,2)\n",
    "ax.plot(x_arr, stat.loss_train, label=\"Train Loss\")\n",
    "ax.plot(x_arr, stat.loss_valid, label=\"Valid Loss\")\n",
    "ax.legend(fontsize=12)\n",
    "ax.set_title('Loss')\n",
    "ax.set_xlabel('Epochs')\n",
    "ax.set_ylabel('Loss')\n",
    "\n",
    "plt.show()"
   ]
  },
  {
   "cell_type": "code",
   "execution_count": null,
   "id": "97a66b76-bbaf-4a88-bf03-0c63fc04a972",
   "metadata": {},
   "outputs": [],
   "source": []
  },
  {
   "cell_type": "code",
   "execution_count": null,
   "id": "5394a85d-d696-4ae3-ad38-4c61e0842d63",
   "metadata": {},
   "outputs": [],
   "source": []
  }
 ],
 "metadata": {
  "kernelspec": {
   "display_name": "Python 3 (ipykernel)",
   "language": "python",
   "name": "python3"
  },
  "language_info": {
   "codemirror_mode": {
    "name": "ipython",
    "version": 3
   },
   "file_extension": ".py",
   "mimetype": "text/x-python",
   "name": "python",
   "nbconvert_exporter": "python",
   "pygments_lexer": "ipython3",
   "version": "3.11.9"
  }
 },
 "nbformat": 4,
 "nbformat_minor": 5
}
