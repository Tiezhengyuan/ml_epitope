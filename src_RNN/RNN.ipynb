{
 "cells": [
  {
   "cell_type": "code",
   "execution_count": null,
   "id": "880d097a-2c72-4151-bcaf-3514fdd3e349",
   "metadata": {},
   "outputs": [],
   "source": []
  },
  {
   "cell_type": "markdown",
   "id": "ed405ad4-c514-4616-8bdb-0477860d3dc3",
   "metadata": {},
   "source": [
    "# recurrent neural network (RNN)\n",
    "- NOTE: virtual env: conda activate py310cuda118"
   ]
  },
  {
   "cell_type": "code",
   "execution_count": 1,
   "id": "351776cc-8579-4f36-a4ca-164a1ac83f22",
   "metadata": {},
   "outputs": [],
   "source": [
    "import json\n",
    "import os\n",
    "from copy import deepcopy\n",
    "import random\n",
    "\n",
    "import numpy as np\n",
    "import pandas as pd\n",
    "import matplotlib.pyplot as plt\n",
    "\n",
    "import torch\n",
    "import torch.nn as nn"
   ]
  },
  {
   "cell_type": "code",
   "execution_count": 2,
   "id": "aa8e54f3-60a0-4a6e-ad52-d888d05ba0c2",
   "metadata": {},
   "outputs": [
    {
     "name": "stdout",
     "output_type": "stream",
     "text": [
      "2.3.0\n",
      "1.26.4\n"
     ]
    }
   ],
   "source": [
    "%load_ext autoreload\n",
    "%autoreload 2\n",
    "    \n",
    "torch.manual_seed(1)\n",
    "    \n",
    "print(torch.__version__)\n",
    "print(np.__version__)"
   ]
  },
  {
   "cell_type": "code",
   "execution_count": 3,
   "id": "514e2db5-105b-4002-bd57-3f82e35afbac",
   "metadata": {},
   "outputs": [
    {
     "name": "stdout",
     "output_type": "stream",
     "text": [
      "Using cuda device\n"
     ]
    }
   ],
   "source": [
    "device = \"cpu\"\n",
    "if torch.cuda.is_available():\n",
    "    device = \"cuda\" \n",
    "elif torch.backends.mps.is_available():\n",
    "    device = \"mps\"\n",
    "print(f\"Using {device} device\")"
   ]
  },
  {
   "cell_type": "markdown",
   "id": "29515b97-f4c2-43a2-b9e1-d18800222964",
   "metadata": {},
   "source": [
    "## dataset"
   ]
  },
  {
   "cell_type": "code",
   "execution_count": 4,
   "id": "2db964d5-c45a-4ce9-83c4-c84337783a6f",
   "metadata": {},
   "outputs": [],
   "source": [
    "df1 = pd.read_csv('/home/yuan/results/epitope/epitope.txt', sep='\\t', header=None, index_col=None)\n",
    "df2 = pd.read_csv('/home/yuan/results/epitope/other.txt', sep='\\t', header=None, index_col=None)\n",
    "df3 = pd.read_csv('/home/yuan/results/epitope/random.txt', sep='\\t', header=None, index_col=None)\n",
    "# df4 = pd.read_csv('/home/yuan/results/epitope/shuffle.txt', sep='\\t', header=None, index_col=None)"
   ]
  },
  {
   "cell_type": "code",
   "execution_count": 5,
   "id": "d63b19ca-c7b3-4172-bfb3-ccdcf8571008",
   "metadata": {},
   "outputs": [
    {
     "name": "stdout",
     "output_type": "stream",
     "text": [
      "(1798795, 2) (1798795, 2)\n",
      "(1384072, 2) (1384072, 2)\n",
      "(1797574, 2) (1797574, 2)\n"
     ]
    }
   ],
   "source": [
    "# drop duplicates\n",
    "df11 = df1.drop_duplicates()\n",
    "print(df1.shape, df11.shape)\n",
    "\n",
    "df21 = df2.drop_duplicates()\n",
    "print(df2.shape, df21.shape)\n",
    "\n",
    "df31 = df3.drop_duplicates()\n",
    "print(df3.shape, df31.shape)"
   ]
  },
  {
   "cell_type": "code",
   "execution_count": 6,
   "id": "5bd81083-ac96-451d-ad1d-a5e2d4177997",
   "metadata": {},
   "outputs": [
    {
     "name": "stdout",
     "output_type": "stream",
     "text": [
      "(4980441, 2)\n"
     ]
    },
    {
     "data": {
      "text/html": [
       "<div>\n",
       "<style scoped>\n",
       "    .dataframe tbody tr th:only-of-type {\n",
       "        vertical-align: middle;\n",
       "    }\n",
       "\n",
       "    .dataframe tbody tr th {\n",
       "        vertical-align: top;\n",
       "    }\n",
       "\n",
       "    .dataframe thead th {\n",
       "        text-align: right;\n",
       "    }\n",
       "</style>\n",
       "<table border=\"1\" class=\"dataframe\">\n",
       "  <thead>\n",
       "    <tr style=\"text-align: right;\">\n",
       "      <th></th>\n",
       "      <th>0</th>\n",
       "      <th>1</th>\n",
       "    </tr>\n",
       "  </thead>\n",
       "  <tbody>\n",
       "    <tr>\n",
       "      <th>162210</th>\n",
       "      <td>SSPADIFAV</td>\n",
       "      <td>other</td>\n",
       "    </tr>\n",
       "    <tr>\n",
       "      <th>289781</th>\n",
       "      <td>RQEPSQGTTTFAVTSILRVAA</td>\n",
       "      <td>epitope</td>\n",
       "    </tr>\n",
       "    <tr>\n",
       "      <th>949392</th>\n",
       "      <td>RQRDRTGAG</td>\n",
       "      <td>other</td>\n",
       "    </tr>\n",
       "    <tr>\n",
       "      <th>1345788</th>\n",
       "      <td>HRPDNLVPPAPQPP</td>\n",
       "      <td>epitope</td>\n",
       "    </tr>\n",
       "    <tr>\n",
       "      <th>1179777</th>\n",
       "      <td>CNQFGHEVK</td>\n",
       "      <td>other</td>\n",
       "    </tr>\n",
       "  </tbody>\n",
       "</table>\n",
       "</div>"
      ],
      "text/plain": [
       "                             0        1\n",
       "162210               SSPADIFAV    other\n",
       "289781   RQEPSQGTTTFAVTSILRVAA  epitope\n",
       "949392               RQRDRTGAG    other\n",
       "1345788         HRPDNLVPPAPQPP  epitope\n",
       "1179777              CNQFGHEVK    other"
      ]
     },
     "execution_count": 6,
     "metadata": {},
     "output_type": "execute_result"
    }
   ],
   "source": [
    "df = pd.concat([df11, df21, df31])\n",
    "df = df.sample(frac=1)\n",
    "print(df.shape)\n",
    "df.head()"
   ]
  },
  {
   "cell_type": "code",
   "execution_count": 7,
   "id": "984fdbf2-7f6d-49e2-8e73-f5d8e8c64f79",
   "metadata": {},
   "outputs": [
    {
     "name": "stdout",
     "output_type": "stream",
     "text": [
      "('other', 'SSPADIFAV')\n",
      "Counter({'epitope': 1798795, 'random': 1797574, 'other': 1384072})\n"
     ]
    }
   ],
   "source": [
    "from collections import Counter\n",
    "\n",
    "# train_data = list(df.iloc[:10_000,:].apply(lambda x: (x[1], x[0]), axis=1))\n",
    "train_data = list(df.apply(lambda x: (x[1], x[0]), axis=1))\n",
    "print(train_data[0])\n",
    "counts = Counter([i[0] for i in train_data])\n",
    "print(counts)"
   ]
  },
  {
   "cell_type": "code",
   "execution_count": 32,
   "id": "784d8fa5-525f-42b4-9265-3de33ff7b254",
   "metadata": {},
   "outputs": [
    {
     "name": "stdout",
     "output_type": "stream",
     "text": [
      "example element of data:  ('epitope', 'IGIQTDSQSSLH')\n",
      "split data:  2988264 996088 996089\n",
      "\n",
      "## Step 2 tokenization: unique tokens (words)...\n",
      "A sentence converted to tokens: IRSQDDNTVVIEKRK ['I', 'R', 'S', 'Q', 'D', 'D', 'N', 'T', 'V', 'V', 'I', 'E', 'K', 'R', 'K']\n",
      "Vocab-size of input: 22\n",
      "Vocab-size of labels: 3\n",
      "OrderedDict([('L', 2888693), ('A', 2506679), ('S', 2457697), ('G', 2283819), ('E', 2281359), ('V', 2253165), ('K', 2062681), ('P', 2054941), ('T', 2008983), ('R', 1954255), ('D', 1889338), ('I', 1812417), ('Q', 1716199), ('N', 1622240), ('F', 1584170), ('Y', 1410626), ('H', 1247833), ('M', 1142380), ('C', 1098536), ('W', 967851), ('X', 163), ('U', 51)])\n",
      "counts of input: [1078970, 1077807, 831487]\n",
      "\n",
      "## Step 3 encoding: encoding each unique token into integers...\n"
     ]
    }
   ],
   "source": [
    "# embedding\n",
    "from my_embedding import MyEmbedding\n",
    "\n",
    "me = MyEmbedding(train_data)\n",
    "train_ds, valid_ds, test_ds = me.split()\n",
    "a,b = me.tokenize()\n",
    "input_vocab, label_vocab = me.build_vocab()"
   ]
  },
  {
   "cell_type": "code",
   "execution_count": 57,
   "id": "bce6d456-0a35-41d5-9ea7-3ea9ebf26f8f",
   "metadata": {},
   "outputs": [
    {
     "data": {
      "text/plain": [
       "Vocab()"
      ]
     },
     "execution_count": 57,
     "metadata": {},
     "output_type": "execute_result"
    }
   ],
   "source": [
    "input_vocab"
   ]
  },
  {
   "cell_type": "code",
   "execution_count": null,
   "id": "8afbc23d-ab77-461f-870f-c39d87fc34f2",
   "metadata": {},
   "outputs": [],
   "source": [
    "label_vocab"
   ]
  },
  {
   "cell_type": "code",
   "execution_count": 55,
   "id": "24c22740-52d2-46f7-8142-6e49540c66fb",
   "metadata": {},
   "outputs": [
    {
     "name": "stdout",
     "output_type": "stream",
     "text": [
      "MyRnn(\n",
      "  (embedding): Embedding(26, 48, padding_idx=0)\n",
      "  (rnn): LSTM(48, 64, num_layers=2, batch_first=True)\n",
      "  (linear): Sequential(\n",
      "    (0): Linear(in_features=64, out_features=128, bias=True)\n",
      "    (1): ReLU()\n",
      "    (2): Linear(in_features=128, out_features=1, bias=True)\n",
      "    (3): Sigmoid()\n",
      "  )\n",
      ")\n"
     ]
    }
   ],
   "source": [
    "from my_collate import MyCollate\n",
    "from my_rnn import MyRnn\n",
    "from my_process import MyProcess\n",
    "\n",
    "vocab_size = len(input_vocab)\n",
    "embedding_dim = 48\n",
    "model = MyRnn(vocab_size, embedding_dim).to(device)\n",
    "print(model)\n",
    "\n",
    "# training model\n",
    "# update collate_batch\n",
    "## Step 3-A: define the functions for transformation\n",
    "# feed a tokens vector representing one sentence \n",
    "text_pipeline = lambda x: [input_vocab[token] for token in list(x)]\n",
    "label_pipeline = lambda x: 1 if x == 'epitope' else 0\n",
    "collate_fn = MyCollate(text_pipeline, label_pipeline)"
   ]
  },
  {
   "cell_type": "code",
   "execution_count": 56,
   "id": "97ffb861-b2da-48be-8680-09fc29910f69",
   "metadata": {},
   "outputs": [
    {
     "name": "stdout",
     "output_type": "stream",
     "text": [
      "Epoch 0 acc: 0.7890; val_acc: 0.8006, val_recall: 0.7786\n",
      "Epoch 1 acc: 0.8038; val_acc: 0.8058, val_recall: 0.7829\n",
      "Epoch 2 acc: 0.8085; val_acc: 0.8076, val_recall: 0.7955\n",
      "Epoch 3 acc: 0.8111; val_acc: 0.8092, val_recall: 0.7859\n",
      "Epoch 4 acc: 0.8137; val_acc: 0.8117, val_recall: 0.7946\n",
      "Epoch 5 acc: 0.8158; val_acc: 0.8123, val_recall: 0.7991\n",
      "Epoch 6 acc: 0.8174; val_acc: 0.8134, val_recall: 0.7961\n",
      "Epoch 7 acc: 0.8184; val_acc: 0.8134, val_recall: 0.7943\n",
      "Epoch 8 acc: 0.8195; val_acc: 0.8137, val_recall: 0.7938\n",
      "Epoch 9 acc: 0.8209; val_acc: 0.8142, val_recall: 0.7930\n",
      "Epoch 10 acc: 0.8217; val_acc: 0.8147, val_recall: 0.7982\n",
      "Epoch 11 acc: 0.8224; val_acc: 0.8146, val_recall: 0.7956\n",
      "Epoch 12 acc: 0.8231; val_acc: 0.8150, val_recall: 0.7984\n",
      "Epoch 13 acc: 0.8236; val_acc: 0.8149, val_recall: 0.7985\n",
      "Epoch 14 acc: 0.8239; val_acc: 0.8149, val_recall: 0.7965\n",
      "Epoch 15 acc: 0.8244; val_acc: 0.8146, val_recall: 0.8000\n",
      "Epoch 16 acc: 0.8246; val_acc: 0.8148, val_recall: 0.7930\n",
      "Epoch 17 acc: 0.8253; val_acc: 0.8143, val_recall: 0.8025\n",
      "Epoch 18 acc: 0.8253; val_acc: 0.8153, val_recall: 0.7989\n",
      "Epoch 19 acc: 0.8257; val_acc: 0.8156, val_recall: 0.7964\n"
     ]
    }
   ],
   "source": [
    "# train RNN model\n",
    "\n",
    "num_epochs = 20\n",
    "p = MyProcess(model, collate_fn, num_epochs)\n",
    "trained_model, stat = p.run(train_ds, valid_ds)"
   ]
  },
  {
   "cell_type": "code",
   "execution_count": 58,
   "id": "9a43731a-a246-4700-b9b4-d72cf98efc41",
   "metadata": {},
   "outputs": [
    {
     "data": {
      "text/html": [
       "<div>\n",
       "<style scoped>\n",
       "    .dataframe tbody tr th:only-of-type {\n",
       "        vertical-align: middle;\n",
       "    }\n",
       "\n",
       "    .dataframe tbody tr th {\n",
       "        vertical-align: top;\n",
       "    }\n",
       "\n",
       "    .dataframe thead th {\n",
       "        text-align: right;\n",
       "    }\n",
       "</style>\n",
       "<table border=\"1\" class=\"dataframe\">\n",
       "  <thead>\n",
       "    <tr style=\"text-align: right;\">\n",
       "      <th></th>\n",
       "      <th>acc_train</th>\n",
       "      <th>loss_train</th>\n",
       "      <th>acc_valid</th>\n",
       "      <th>loss_valid</th>\n",
       "      <th>rec_valid</th>\n",
       "    </tr>\n",
       "  </thead>\n",
       "  <tbody>\n",
       "    <tr>\n",
       "      <th>0</th>\n",
       "      <td>0.788956</td>\n",
       "      <td>0.443465</td>\n",
       "      <td>0.800556</td>\n",
       "      <td>0.426392</td>\n",
       "      <td>0.778580</td>\n",
       "    </tr>\n",
       "    <tr>\n",
       "      <th>1</th>\n",
       "      <td>0.803799</td>\n",
       "      <td>0.419909</td>\n",
       "      <td>0.805813</td>\n",
       "      <td>0.417328</td>\n",
       "      <td>0.782906</td>\n",
       "    </tr>\n",
       "    <tr>\n",
       "      <th>2</th>\n",
       "      <td>0.808547</td>\n",
       "      <td>0.411809</td>\n",
       "      <td>0.807593</td>\n",
       "      <td>0.413821</td>\n",
       "      <td>0.795489</td>\n",
       "    </tr>\n",
       "    <tr>\n",
       "      <th>3</th>\n",
       "      <td>0.811143</td>\n",
       "      <td>0.407247</td>\n",
       "      <td>0.809203</td>\n",
       "      <td>0.411803</td>\n",
       "      <td>0.785914</td>\n",
       "    </tr>\n",
       "    <tr>\n",
       "      <th>4</th>\n",
       "      <td>0.813726</td>\n",
       "      <td>0.402906</td>\n",
       "      <td>0.811666</td>\n",
       "      <td>0.407626</td>\n",
       "      <td>0.794559</td>\n",
       "    </tr>\n",
       "    <tr>\n",
       "      <th>5</th>\n",
       "      <td>0.815833</td>\n",
       "      <td>0.399449</td>\n",
       "      <td>0.812312</td>\n",
       "      <td>0.405831</td>\n",
       "      <td>0.799104</td>\n",
       "    </tr>\n",
       "    <tr>\n",
       "      <th>6</th>\n",
       "      <td>0.817387</td>\n",
       "      <td>0.396790</td>\n",
       "      <td>0.813407</td>\n",
       "      <td>0.405661</td>\n",
       "      <td>0.796082</td>\n",
       "    </tr>\n",
       "    <tr>\n",
       "      <th>7</th>\n",
       "      <td>0.818449</td>\n",
       "      <td>0.395138</td>\n",
       "      <td>0.813443</td>\n",
       "      <td>0.404712</td>\n",
       "      <td>0.794343</td>\n",
       "    </tr>\n",
       "    <tr>\n",
       "      <th>8</th>\n",
       "      <td>0.819502</td>\n",
       "      <td>0.393112</td>\n",
       "      <td>0.813719</td>\n",
       "      <td>0.404412</td>\n",
       "      <td>0.793827</td>\n",
       "    </tr>\n",
       "    <tr>\n",
       "      <th>9</th>\n",
       "      <td>0.820893</td>\n",
       "      <td>0.391201</td>\n",
       "      <td>0.814207</td>\n",
       "      <td>0.403448</td>\n",
       "      <td>0.792969</td>\n",
       "    </tr>\n",
       "    <tr>\n",
       "      <th>10</th>\n",
       "      <td>0.821714</td>\n",
       "      <td>0.389647</td>\n",
       "      <td>0.814734</td>\n",
       "      <td>0.402520</td>\n",
       "      <td>0.798205</td>\n",
       "    </tr>\n",
       "    <tr>\n",
       "      <th>11</th>\n",
       "      <td>0.822434</td>\n",
       "      <td>0.388412</td>\n",
       "      <td>0.814623</td>\n",
       "      <td>0.403236</td>\n",
       "      <td>0.795584</td>\n",
       "    </tr>\n",
       "    <tr>\n",
       "      <th>12</th>\n",
       "      <td>0.823107</td>\n",
       "      <td>0.387337</td>\n",
       "      <td>0.814992</td>\n",
       "      <td>0.402638</td>\n",
       "      <td>0.798356</td>\n",
       "    </tr>\n",
       "    <tr>\n",
       "      <th>13</th>\n",
       "      <td>0.823564</td>\n",
       "      <td>0.386333</td>\n",
       "      <td>0.814871</td>\n",
       "      <td>0.402771</td>\n",
       "      <td>0.798475</td>\n",
       "    </tr>\n",
       "    <tr>\n",
       "      <th>14</th>\n",
       "      <td>0.823887</td>\n",
       "      <td>0.385790</td>\n",
       "      <td>0.814906</td>\n",
       "      <td>0.402090</td>\n",
       "      <td>0.796549</td>\n",
       "    </tr>\n",
       "    <tr>\n",
       "      <th>15</th>\n",
       "      <td>0.824412</td>\n",
       "      <td>0.384822</td>\n",
       "      <td>0.814620</td>\n",
       "      <td>0.402902</td>\n",
       "      <td>0.800044</td>\n",
       "    </tr>\n",
       "    <tr>\n",
       "      <th>16</th>\n",
       "      <td>0.824623</td>\n",
       "      <td>0.384317</td>\n",
       "      <td>0.814756</td>\n",
       "      <td>0.402141</td>\n",
       "      <td>0.793044</td>\n",
       "    </tr>\n",
       "    <tr>\n",
       "      <th>17</th>\n",
       "      <td>0.825270</td>\n",
       "      <td>0.383200</td>\n",
       "      <td>0.814278</td>\n",
       "      <td>0.403886</td>\n",
       "      <td>0.802502</td>\n",
       "    </tr>\n",
       "    <tr>\n",
       "      <th>18</th>\n",
       "      <td>0.825341</td>\n",
       "      <td>0.383217</td>\n",
       "      <td>0.815310</td>\n",
       "      <td>0.402210</td>\n",
       "      <td>0.798856</td>\n",
       "    </tr>\n",
       "    <tr>\n",
       "      <th>19</th>\n",
       "      <td>0.825712</td>\n",
       "      <td>0.382546</td>\n",
       "      <td>0.815561</td>\n",
       "      <td>0.402943</td>\n",
       "      <td>0.796385</td>\n",
       "    </tr>\n",
       "  </tbody>\n",
       "</table>\n",
       "</div>"
      ],
      "text/plain": [
       "    acc_train  loss_train  acc_valid  loss_valid  rec_valid\n",
       "0    0.788956    0.443465   0.800556    0.426392   0.778580\n",
       "1    0.803799    0.419909   0.805813    0.417328   0.782906\n",
       "2    0.808547    0.411809   0.807593    0.413821   0.795489\n",
       "3    0.811143    0.407247   0.809203    0.411803   0.785914\n",
       "4    0.813726    0.402906   0.811666    0.407626   0.794559\n",
       "5    0.815833    0.399449   0.812312    0.405831   0.799104\n",
       "6    0.817387    0.396790   0.813407    0.405661   0.796082\n",
       "7    0.818449    0.395138   0.813443    0.404712   0.794343\n",
       "8    0.819502    0.393112   0.813719    0.404412   0.793827\n",
       "9    0.820893    0.391201   0.814207    0.403448   0.792969\n",
       "10   0.821714    0.389647   0.814734    0.402520   0.798205\n",
       "11   0.822434    0.388412   0.814623    0.403236   0.795584\n",
       "12   0.823107    0.387337   0.814992    0.402638   0.798356\n",
       "13   0.823564    0.386333   0.814871    0.402771   0.798475\n",
       "14   0.823887    0.385790   0.814906    0.402090   0.796549\n",
       "15   0.824412    0.384822   0.814620    0.402902   0.800044\n",
       "16   0.824623    0.384317   0.814756    0.402141   0.793044\n",
       "17   0.825270    0.383200   0.814278    0.403886   0.802502\n",
       "18   0.825341    0.383217   0.815310    0.402210   0.798856\n",
       "19   0.825712    0.382546   0.815561    0.402943   0.796385"
      ]
     },
     "execution_count": 58,
     "metadata": {},
     "output_type": "execute_result"
    }
   ],
   "source": [
    "stat"
   ]
  },
  {
   "cell_type": "code",
   "execution_count": 59,
   "id": "6a83bb91-c92b-43a6-969d-fbaacc74592f",
   "metadata": {},
   "outputs": [
    {
     "data": {
      "text/html": [
       "<div>\n",
       "<style scoped>\n",
       "    .dataframe tbody tr th:only-of-type {\n",
       "        vertical-align: middle;\n",
       "    }\n",
       "\n",
       "    .dataframe tbody tr th {\n",
       "        vertical-align: top;\n",
       "    }\n",
       "\n",
       "    .dataframe thead th {\n",
       "        text-align: right;\n",
       "    }\n",
       "</style>\n",
       "<table border=\"1\" class=\"dataframe\">\n",
       "  <thead>\n",
       "    <tr style=\"text-align: right;\">\n",
       "      <th></th>\n",
       "      <th>text</th>\n",
       "      <th>predict</th>\n",
       "    </tr>\n",
       "  </thead>\n",
       "  <tbody>\n",
       "    <tr>\n",
       "      <th>0</th>\n",
       "      <td>SSPFLKGFLAGYVVAKLRASAV</td>\n",
       "      <td>0.987687</td>\n",
       "    </tr>\n",
       "    <tr>\n",
       "      <th>1</th>\n",
       "      <td>AELMPVGDNN</td>\n",
       "      <td>0.125607</td>\n",
       "    </tr>\n",
       "    <tr>\n",
       "      <th>2</th>\n",
       "      <td>AXAXAXAXA</td>\n",
       "      <td>0.885124</td>\n",
       "    </tr>\n",
       "  </tbody>\n",
       "</table>\n",
       "</div>"
      ],
      "text/plain": [
       "                     text   predict\n",
       "0  SSPFLKGFLAGYVVAKLRASAV  0.987687\n",
       "1              AELMPVGDNN  0.125607\n",
       "2               AXAXAXAXA  0.885124"
      ]
     },
     "execution_count": 59,
     "metadata": {},
     "output_type": "execute_result"
    }
   ],
   "source": [
    "# test predict\n",
    "input = [\n",
    "    # epitope\n",
    "    'SSPFLKGFLAGYVVAKLRASAV', \n",
    "    # other seq\n",
    "    'AELMPVGDNN',\n",
    "    # wrong seq\n",
    "    'AXAXAXAXA',\n",
    "]\n",
    "res = p.predict(input)\n",
    "res"
   ]
  },
  {
   "cell_type": "code",
   "execution_count": 60,
   "id": "6c951285-2640-4a7f-aa16-adecf90b5844",
   "metadata": {},
   "outputs": [
    {
     "name": "stdout",
     "output_type": "stream",
     "text": [
      "Embedding(26, 48, padding_idx=0)\n",
      "torch.Size([26, 48])\n"
     ]
    }
   ],
   "source": [
    "print(trained_model.embedding)\n",
    "print(trained_model.embedding.weight.shape)"
   ]
  },
  {
   "cell_type": "code",
   "execution_count": 61,
   "id": "97a66b76-bbaf-4a88-bf03-0c63fc04a972",
   "metadata": {},
   "outputs": [
    {
     "data": {
      "image/png": "[encoded data removed]",
      "text/plain": [
       "<Figure size 1000x300 with 2 Axes>"
      ]
     },
     "metadata": {},
     "output_type": "display_data"
    }
   ],
   "source": [
    "fig = plt.figure(figsize=(10,3))\n",
    "x_arr = list(range(num_epochs))\n",
    "ax = fig.add_subplot(1,2,1)\n",
    "ax.plot(x_arr, stat.acc_train, label=\"Accuracy of train\")\n",
    "ax.plot(x_arr, stat.acc_valid, label=\"Accuracy of validation\")\n",
    "ax.plot(x_arr, stat.rec_valid, label=\"Recall of validation\")\n",
    "ax.legend(fontsize=10)\n",
    "ax.set_ylim(.76, .85)\n",
    "ax.set_title('Accuracy')\n",
    "ax.set_xlabel('Epochs')\n",
    "ax.set_ylabel('Percentage %')\n",
    "\n",
    "ax = fig.add_subplot(1,2,2)\n",
    "ax.plot(x_arr, stat.loss_train, label=\"Loss of train\")\n",
    "ax.plot(x_arr, stat.loss_valid, label=\"Loss of validation\")\n",
    "ax.legend(fontsize=10)\n",
    "ax.set_title('Loss')\n",
    "ax.set_xlabel('Epochs')\n",
    "ax.set_ylabel('Loss')\n",
    "\n",
    "plt.show()"
   ]
  },
  {
   "cell_type": "code",
   "execution_count": 62,
   "id": "5394a85d-d696-4ae3-ad38-4c61e0842d63",
   "metadata": {},
   "outputs": [
    {
     "data": {
      "text/plain": [
       "{'recall': 0.7968339124578221,\n",
       " 'accuracy': 0.8160505737941087,\n",
       " 'loss': 0.40226693477603437}"
      ]
     },
     "execution_count": 62,
     "metadata": {},
     "output_type": "execute_result"
    }
   ],
   "source": [
    "# test model using test data\n",
    "res = p.test(test_ds)\n",
    "res"
   ]
  },
  {
   "cell_type": "code",
   "execution_count": 63,
   "id": "b731fd69-2d27-4b64-9a87-581a1fa3e2fb",
   "metadata": {},
   "outputs": [
    {
     "data": {
      "text/html": [
       "<div>\n",
       "<style scoped>\n",
       "    .dataframe tbody tr th:only-of-type {\n",
       "        vertical-align: middle;\n",
       "    }\n",
       "\n",
       "    .dataframe tbody tr th {\n",
       "        vertical-align: top;\n",
       "    }\n",
       "\n",
       "    .dataframe thead th {\n",
       "        text-align: right;\n",
       "    }\n",
       "</style>\n",
       "<table border=\"1\" class=\"dataframe\">\n",
       "  <thead>\n",
       "    <tr style=\"text-align: right;\">\n",
       "      <th></th>\n",
       "      <th>text</th>\n",
       "      <th>predict</th>\n",
       "      <th>labels</th>\n",
       "    </tr>\n",
       "  </thead>\n",
       "  <tbody>\n",
       "    <tr>\n",
       "      <th>0</th>\n",
       "      <td>IDVKYIGVKSAYVSYD</td>\n",
       "      <td>0.977990</td>\n",
       "      <td>epitope</td>\n",
       "    </tr>\n",
       "    <tr>\n",
       "      <th>1</th>\n",
       "      <td>LVIVAPDCVTITY</td>\n",
       "      <td>0.158475</td>\n",
       "      <td>random</td>\n",
       "    </tr>\n",
       "    <tr>\n",
       "      <th>2</th>\n",
       "      <td>WPSQTVTCSVAHPASS</td>\n",
       "      <td>0.915184</td>\n",
       "      <td>epitope</td>\n",
       "    </tr>\n",
       "    <tr>\n",
       "      <th>3</th>\n",
       "      <td>NVKYNGLCYKD</td>\n",
       "      <td>0.066109</td>\n",
       "      <td>random</td>\n",
       "    </tr>\n",
       "    <tr>\n",
       "      <th>4</th>\n",
       "      <td>VLSQEIVRLS</td>\n",
       "      <td>0.215938</td>\n",
       "      <td>other</td>\n",
       "    </tr>\n",
       "  </tbody>\n",
       "</table>\n",
       "</div>"
      ],
      "text/plain": [
       "               text   predict   labels\n",
       "0  IDVKYIGVKSAYVSYD  0.977990  epitope\n",
       "1     LVIVAPDCVTITY  0.158475   random\n",
       "2  WPSQTVTCSVAHPASS  0.915184  epitope\n",
       "3       NVKYNGLCYKD  0.066109   random\n",
       "4        VLSQEIVRLS  0.215938    other"
      ]
     },
     "execution_count": 63,
     "metadata": {},
     "output_type": "execute_result"
    }
   ],
   "source": [
    "# distriubtion of prediction probability using test data\n",
    "test_X = [i[1] for i in test_ds]\n",
    "pred_test = p.predict(test_X)\n",
    "pred_test['labels'] = [i[0] for i in test_ds]\n",
    "pred_test.head()"
   ]
  },
  {
   "cell_type": "code",
   "execution_count": 64,
   "id": "56639470-53ef-474f-b171-051cfa71bca2",
   "metadata": {},
   "outputs": [
    {
     "name": "stdout",
     "output_type": "stream",
     "text": [
      "359361 636728\n"
     ]
    },
    {
     "data": {
      "text/plain": [
       "Text(0.5, 1.0, 'Distinguish non-epitopes, n = 636728')"
      ]
     },
     "execution_count": 64,
     "metadata": {},
     "output_type": "execute_result"
    },
    {
     "data": {
      "image/png": "[encoded data removed]",
      "text/plain": [
       "<Figure size 900x300 with 2 Axes>"
      ]
     },
     "metadata": {},
     "output_type": "display_data"
    }
   ],
   "source": [
    "t = pred_test[pred_test['labels']=='epitope']['predict']\n",
    "f = pred_test[~(pred_test['labels']=='epitope')]['predict']\n",
    "print(len(t), len(f))\n",
    "\n",
    "fig, ax = plt.subplots(1, 2, figsize=(9,3), layout='tight')\n",
    "fig.suptitle('Evavluate RNN model using test data')\n",
    "fig.supxlabel('probability')\n",
    "fig.supylabel('number')\n",
    "\n",
    "ax[0].hist(t, bins=50)\n",
    "ax[0].set_title(f'Predict epitopes, n = {len(t)}')\n",
    "ax[1].hist(f, bins=50)\n",
    "ax[1].set_title(f'Distinguish non-epitopes, n = {len(f)}')"
   ]
  },
  {
   "cell_type": "code",
   "execution_count": 65,
   "id": "f6c47144-35cc-4dc5-99eb-ac1daa32ee65",
   "metadata": {},
   "outputs": [
    {
     "data": {
      "text/plain": [
       "[<matplotlib.lines.Line2D at 0x78b2306561a0>]"
      ]
     },
     "execution_count": 65,
     "metadata": {},
     "output_type": "execute_result"
    },
    {
     "data": {
      "image/png": "[encoded data removed]",
      "text/plain": [
       "<Figure size 500x300 with 1 Axes>"
      ]
     },
     "metadata": {},
     "output_type": "display_data"
    }
   ],
   "source": [
    "from sklearn.metrics import roc_curve, auc\n",
    "\n",
    "fpr, tpr, thresholds = roc_curve(pred_test['labels'], pred_test['predict'], pos_label='epitope')\n",
    "roc_auc = auc(fpr, tpr)\n",
    "plt.figure(figsize=(5,3))\n",
    "plt.plot(fpr, tpr, color='black')\n",
    "plt.title(f'ROC (area={roc_auc:.2f})')\n",
    "plt.xlabel('False postive rate')\n",
    "plt.ylabel('True postive rate')\n",
    "plt.plot([0,1],[0,1], linestyle='--', color='grey')\n",
    "plt.plot([0,0,1],[0,1,1], linestyle=':', color='grey')"
   ]
  },
  {
   "cell_type": "code",
   "execution_count": 71,
   "id": "f327ed2d-7793-43f5-bc99-50f9326213a2",
   "metadata": {},
   "outputs": [],
   "source": [
    "# save model\n",
    "torch.save(input_vocab, '../models/epitopes_rnn_input_vocab.pth')\n",
    "torch.save(model.state_dict(), '../models/epitopes_rnn_weights.pth')\n",
    "torch.save(model, '../models/epitopes_rnn_model.pth')"
   ]
  },
  {
   "cell_type": "markdown",
   "id": "e17f6f50-f9c6-455c-89cd-2c010d03c619",
   "metadata": {},
   "source": [
    "# test load_model"
   ]
  },
  {
   "cell_type": "code",
   "execution_count": 67,
   "id": "15156d7e-4bd5-497f-ab92-1700a93b63eb",
   "metadata": {},
   "outputs": [
    {
     "data": {
      "text/plain": [
       "MyRnn(\n",
       "  (embedding): Embedding(26, 48, padding_idx=0)\n",
       "  (rnn): LSTM(48, 64, num_layers=2, batch_first=True)\n",
       "  (linear): Sequential(\n",
       "    (0): Linear(in_features=64, out_features=128, bias=True)\n",
       "    (1): ReLU()\n",
       "    (2): Linear(in_features=128, out_features=1, bias=True)\n",
       "    (3): Sigmoid()\n",
       "  )\n",
       ")"
      ]
     },
     "execution_count": 67,
     "metadata": {},
     "output_type": "execute_result"
    }
   ],
   "source": [
    "model0 = torch.load('../models/epitopes_rnn_model.pth')\n",
    "model0.eval()"
   ]
  },
  {
   "cell_type": "code",
   "execution_count": 68,
   "id": "949c9a8a-2206-4130-ad1f-e288779be899",
   "metadata": {},
   "outputs": [],
   "source": [
    "from my_process import MyProcess\n",
    "\n",
    "p0 = MyProcess(model, collate_fn)"
   ]
  },
  {
   "cell_type": "code",
   "execution_count": 69,
   "id": "538e382d-a039-4f06-a80b-ed02e6712aeb",
   "metadata": {},
   "outputs": [
    {
     "data": {
      "text/html": [
       "<div>\n",
       "<style scoped>\n",
       "    .dataframe tbody tr th:only-of-type {\n",
       "        vertical-align: middle;\n",
       "    }\n",
       "\n",
       "    .dataframe tbody tr th {\n",
       "        vertical-align: top;\n",
       "    }\n",
       "\n",
       "    .dataframe thead th {\n",
       "        text-align: right;\n",
       "    }\n",
       "</style>\n",
       "<table border=\"1\" class=\"dataframe\">\n",
       "  <thead>\n",
       "    <tr style=\"text-align: right;\">\n",
       "      <th></th>\n",
       "      <th>text</th>\n",
       "      <th>predict</th>\n",
       "    </tr>\n",
       "  </thead>\n",
       "  <tbody>\n",
       "    <tr>\n",
       "      <th>0</th>\n",
       "      <td>SSPFLKGFLAGYVVAKLRASAV</td>\n",
       "      <td>0.987687</td>\n",
       "    </tr>\n",
       "    <tr>\n",
       "      <th>1</th>\n",
       "      <td>AELMPVGDNN</td>\n",
       "      <td>0.125607</td>\n",
       "    </tr>\n",
       "    <tr>\n",
       "      <th>2</th>\n",
       "      <td>AXAXAXAXA</td>\n",
       "      <td>0.885124</td>\n",
       "    </tr>\n",
       "  </tbody>\n",
       "</table>\n",
       "</div>"
      ],
      "text/plain": [
       "                     text   predict\n",
       "0  SSPFLKGFLAGYVVAKLRASAV  0.987687\n",
       "1              AELMPVGDNN  0.125607\n",
       "2               AXAXAXAXA  0.885124"
      ]
     },
     "execution_count": 69,
     "metadata": {},
     "output_type": "execute_result"
    }
   ],
   "source": [
    "input = [\n",
    "    # epitope\n",
    "    'SSPFLKGFLAGYVVAKLRASAV', \n",
    "    # other seq\n",
    "    'AELMPVGDNN',\n",
    "    # wrong seq\n",
    "    'AXAXAXAXA',\n",
    "]\n",
    "pred0 = p.predict(input)\n",
    "pred0"
   ]
  },
  {
   "cell_type": "code",
   "execution_count": null,
   "id": "9e26c5d3-8348-4bee-be4f-ccf55f373db7",
   "metadata": {},
   "outputs": [],
   "source": []
  }
 ],
 "metadata": {
  "kernelspec": {
   "display_name": "Python 3 (ipykernel)",
   "language": "python",
   "name": "python3"
  },
  "language_info": {
   "codemirror_mode": {
    "name": "ipython",
    "version": 3
   },
   "file_extension": ".py",
   "mimetype": "text/x-python",
   "name": "python",
   "nbconvert_exporter": "python",
   "pygments_lexer": "ipython3",
   "version": "3.10.16"
  }
 },
 "nbformat": 4,
 "nbformat_minor": 5
}
