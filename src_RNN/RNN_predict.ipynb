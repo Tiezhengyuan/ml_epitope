{
 "cells": [
  {
   "cell_type": "code",
   "execution_count": null,
   "id": "9d55c343-e570-43a5-be83-bfa3fdc12b0a",
   "metadata": {},
   "outputs": [],
   "source": []
  },
  {
   "cell_type": "code",
   "execution_count": 1,
   "id": "d791e678-91bc-4bdc-a17c-c9343382c192",
   "metadata": {},
   "outputs": [],
   "source": [
    "import json\n",
    "import os\n",
    "from copy import deepcopy\n",
    "import random\n",
    "\n",
    "import numpy as np\n",
    "import pandas as pd\n",
    "import matplotlib.pyplot as plt\n",
    "\n",
    "import torch\n",
    "import torch.nn as nn"
   ]
  },
  {
   "cell_type": "code",
   "execution_count": 2,
   "id": "a9dc690e-b0bc-4924-944d-a69579eee095",
   "metadata": {},
   "outputs": [
    {
     "name": "stdout",
     "output_type": "stream",
     "text": [
      "Using cuda device\n"
     ]
    }
   ],
   "source": [
    "device = \"cpu\"\n",
    "if torch.cuda.is_available():\n",
    "    device = \"cuda\" \n",
    "elif torch.backends.mps.is_available():\n",
    "    device = \"mps\"\n",
    "print(f\"Using {device} device\")"
   ]
  },
  {
   "cell_type": "markdown",
   "id": "bcd19a59-186b-4bb5-9d86-a9a5092e000b",
   "metadata": {},
   "source": [
    "## dataset"
   ]
  },
  {
   "cell_type": "code",
   "execution_count": 20,
   "id": "fc016f2f-59d0-4084-a6c6-b65b4dcacba6",
   "metadata": {},
   "outputs": [
    {
     "data": {
      "text/html": [
       "<div>\n",
       "<style scoped>\n",
       "    .dataframe tbody tr th:only-of-type {\n",
       "        vertical-align: middle;\n",
       "    }\n",
       "\n",
       "    .dataframe tbody tr th {\n",
       "        vertical-align: top;\n",
       "    }\n",
       "\n",
       "    .dataframe thead th {\n",
       "        text-align: right;\n",
       "    }\n",
       "</style>\n",
       "<table border=\"1\" class=\"dataframe\">\n",
       "  <thead>\n",
       "    <tr style=\"text-align: right;\">\n",
       "      <th></th>\n",
       "      <th>seq</th>\n",
       "      <th>label</th>\n",
       "      <th>pred_ann</th>\n",
       "      <th>pred_wann</th>\n",
       "    </tr>\n",
       "  </thead>\n",
       "  <tbody>\n",
       "    <tr>\n",
       "      <th>0</th>\n",
       "      <td>RPIAEYLNTQKDM</td>\n",
       "      <td>epitope</td>\n",
       "      <td>0.636172</td>\n",
       "      <td>0.761304</td>\n",
       "    </tr>\n",
       "    <tr>\n",
       "      <th>1</th>\n",
       "      <td>ARFDSVFGK</td>\n",
       "      <td>epitope</td>\n",
       "      <td>0.707062</td>\n",
       "      <td>0.892763</td>\n",
       "    </tr>\n",
       "    <tr>\n",
       "      <th>2</th>\n",
       "      <td>ARFDSVFGKF</td>\n",
       "      <td>epitope</td>\n",
       "      <td>0.796207</td>\n",
       "      <td>0.940239</td>\n",
       "    </tr>\n",
       "    <tr>\n",
       "      <th>3</th>\n",
       "      <td>ARFDSVFGKFL</td>\n",
       "      <td>epitope</td>\n",
       "      <td>0.838309</td>\n",
       "      <td>0.954055</td>\n",
       "    </tr>\n",
       "    <tr>\n",
       "      <th>4</th>\n",
       "      <td>DAFVAYHI</td>\n",
       "      <td>epitope</td>\n",
       "      <td>0.644262</td>\n",
       "      <td>0.837522</td>\n",
       "    </tr>\n",
       "  </tbody>\n",
       "</table>\n",
       "</div>"
      ],
      "text/plain": [
       "             seq    label  pred_ann  pred_wann\n",
       "0  RPIAEYLNTQKDM  epitope  0.636172   0.761304\n",
       "1      ARFDSVFGK  epitope  0.707062   0.892763\n",
       "2     ARFDSVFGKF  epitope  0.796207   0.940239\n",
       "3    ARFDSVFGKFL  epitope  0.838309   0.954055\n",
       "4       DAFVAYHI  epitope  0.644262   0.837522"
      ]
     },
     "execution_count": 20,
     "metadata": {},
     "output_type": "execute_result"
    }
   ],
   "source": [
    "infile = '/home/yuan/results/epitope/combined_ann.txt'\n",
    "vdf = pd.read_csv(infile, header=0, index_col=False, sep='\\t')\n",
    "vdf.head()"
   ]
  },
  {
   "cell_type": "code",
   "execution_count": null,
   "id": "4bcad709-a8f3-4bc6-8650-aa0f18c30cdd",
   "metadata": {},
   "outputs": [],
   "source": []
  },
  {
   "cell_type": "code",
   "execution_count": null,
   "id": "7fa0ffd6-13f5-44e6-9c38-d1de9660ab41",
   "metadata": {},
   "outputs": [],
   "source": []
  },
  {
   "cell_type": "markdown",
   "id": "9d682023-fb84-4a3c-9842-cef11f57a6c6",
   "metadata": {},
   "source": [
    "## load RNN model"
   ]
  },
  {
   "cell_type": "code",
   "execution_count": 8,
   "id": "50779a68-0259-4a50-afc3-7b598a16d857",
   "metadata": {},
   "outputs": [],
   "source": [
    "from my_collate import MyCollate\n",
    "\n",
    "input_vocab = torch.load('../models/epitopes_rnn_input_vocab.pth')\n",
    "text_pipeline = lambda x: [input_vocab[token] for token in list(x)]\n",
    "label_pipeline = lambda x: 1 if x == 'epitope' else 0\n",
    "collate_fn = MyCollate(text_pipeline, label_pipeline)"
   ]
  },
  {
   "cell_type": "code",
   "execution_count": 9,
   "id": "dc0ccc06-40f7-4eea-b669-a9825f48e144",
   "metadata": {},
   "outputs": [
    {
     "data": {
      "text/plain": [
       "MyRnn(\n",
       "  (embedding): Embedding(26, 48, padding_idx=0)\n",
       "  (rnn): LSTM(48, 64, num_layers=2, batch_first=True)\n",
       "  (linear): Sequential(\n",
       "    (0): Linear(in_features=64, out_features=128, bias=True)\n",
       "    (1): ReLU()\n",
       "    (2): Linear(in_features=128, out_features=1, bias=True)\n",
       "    (3): Sigmoid()\n",
       "  )\n",
       ")"
      ]
     },
     "execution_count": 9,
     "metadata": {},
     "output_type": "execute_result"
    }
   ],
   "source": [
    "model = torch.load('../models/epitopes_rnn_model.pth')\n",
    "model.eval()"
   ]
  },
  {
   "cell_type": "code",
   "execution_count": 10,
   "id": "82915fd9-f2f4-4d5a-ad62-973bb2757158",
   "metadata": {},
   "outputs": [],
   "source": [
    "from my_process import MyProcess\n",
    "\n",
    "p = MyProcess(model, collate_fn)"
   ]
  },
  {
   "cell_type": "code",
   "execution_count": 11,
   "id": "b82d5493-3664-4f80-9f0c-cdb343c41e83",
   "metadata": {},
   "outputs": [
    {
     "data": {
      "text/html": [
       "<div>\n",
       "<style scoped>\n",
       "    .dataframe tbody tr th:only-of-type {\n",
       "        vertical-align: middle;\n",
       "    }\n",
       "\n",
       "    .dataframe tbody tr th {\n",
       "        vertical-align: top;\n",
       "    }\n",
       "\n",
       "    .dataframe thead th {\n",
       "        text-align: right;\n",
       "    }\n",
       "</style>\n",
       "<table border=\"1\" class=\"dataframe\">\n",
       "  <thead>\n",
       "    <tr style=\"text-align: right;\">\n",
       "      <th></th>\n",
       "      <th>text</th>\n",
       "      <th>predict</th>\n",
       "    </tr>\n",
       "  </thead>\n",
       "  <tbody>\n",
       "    <tr>\n",
       "      <th>0</th>\n",
       "      <td>SSPFLKGFLAGYVVAKLRASAV</td>\n",
       "      <td>0.987687</td>\n",
       "    </tr>\n",
       "    <tr>\n",
       "      <th>1</th>\n",
       "      <td>AELMPVGDNN</td>\n",
       "      <td>0.125607</td>\n",
       "    </tr>\n",
       "    <tr>\n",
       "      <th>2</th>\n",
       "      <td>AXAXAXAXA</td>\n",
       "      <td>0.885124</td>\n",
       "    </tr>\n",
       "  </tbody>\n",
       "</table>\n",
       "</div>"
      ],
      "text/plain": [
       "                     text   predict\n",
       "0  SSPFLKGFLAGYVVAKLRASAV  0.987687\n",
       "1              AELMPVGDNN  0.125607\n",
       "2               AXAXAXAXA  0.885124"
      ]
     },
     "execution_count": 11,
     "metadata": {},
     "output_type": "execute_result"
    }
   ],
   "source": [
    "# test model\n",
    "input = [\n",
    "    # epitope\n",
    "    'SSPFLKGFLAGYVVAKLRASAV', \n",
    "    # other seq\n",
    "    'AELMPVGDNN',\n",
    "    # wrong seq\n",
    "    'AXAXAXAXA',\n",
    "]\n",
    "pred = p.predict(input)\n",
    "pred"
   ]
  },
  {
   "cell_type": "code",
   "execution_count": 37,
   "id": "d05f295d-4055-4536-b526-d10038dc6312",
   "metadata": {},
   "outputs": [
    {
     "name": "stdout",
     "output_type": "stream",
     "text": [
      "(4980441, 2) 3182867\n"
     ]
    }
   ],
   "source": [
    "# predict using entire dataset\n",
    "pred = []\n",
    "chunks = np.array_split(np.array(vdf['seq']), 100)\n",
    "for chunk in chunks:\n",
    "    pred1 = p.predict(chunk)\n",
    "    pred.extend(pred1['predict'])\n",
    "# \n",
    "print(df.shape, len(pred))\n",
    "vdf['pred_rnn'] = pred"
   ]
  },
  {
   "cell_type": "code",
   "execution_count": 39,
   "id": "44939636-5935-4bf9-b9ef-1632381ee2d0",
   "metadata": {},
   "outputs": [
    {
     "data": {
      "image/png": "[encoded data removed]",
      "text/plain": [
       "<Figure size 900x400 with 2 Axes>"
      ]
     },
     "metadata": {},
     "output_type": "display_data"
    }
   ],
   "source": [
    "# \n",
    "fig, ax = plt.subplots(1,2, figsize=(9,4),layout='tight')\n",
    "fig.suptitle('Epitope Predctions by RNN')\n",
    "fig.supxlabel('Probability')\n",
    "fig.supylabel('Logits')\n",
    "\n",
    "i=0\n",
    "ax[i].hist(vdf[vdf['label']=='epitope']['pred_rnn'], bins=50)\n",
    "ax[i].set_title('Epitopes')\n",
    "\n",
    "i=1\n",
    "ax[i].hist(vdf[~(vdf['label']=='epitope')]['pred_rnn'], bins=50)\n",
    "ax[i].set_title('Non-epitopes')\n",
    "\n",
    "plt.show()"
   ]
  },
  {
   "cell_type": "code",
   "execution_count": 40,
   "id": "b066ed7e-c82d-4063-b4ff-259d3f839b3d",
   "metadata": {},
   "outputs": [],
   "source": [
    "# export\n",
    "vdf.head()\n",
    "outfile = '/home/yuan/results/epitope/combined_ann_rnn.txt'\n",
    "vdf.to_csv(outfile, header=True, index=False, sep='\\t')"
   ]
  },
  {
   "cell_type": "code",
   "execution_count": null,
   "id": "00e920cc-5f48-491c-99a1-be247d9306ff",
   "metadata": {},
   "outputs": [],
   "source": []
  },
  {
   "cell_type": "code",
   "execution_count": null,
   "id": "933bc328-e85c-4632-b52c-5cdab283c0a9",
   "metadata": {},
   "outputs": [],
   "source": []
  }
 ],
 "metadata": {
  "kernelspec": {
   "display_name": "Python 3 (ipykernel)",
   "language": "python",
   "name": "python3"
  },
  "language_info": {
   "codemirror_mode": {
    "name": "ipython",
    "version": 3
   },
   "file_extension": ".py",
   "mimetype": "text/x-python",
   "name": "python",
   "nbconvert_exporter": "python",
   "pygments_lexer": "ipython3",
   "version": "3.10.16"
  }
 },
 "nbformat": 4,
 "nbformat_minor": 5
}
