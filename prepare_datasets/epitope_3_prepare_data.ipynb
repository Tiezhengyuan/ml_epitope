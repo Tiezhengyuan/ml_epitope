{
 "cells": [
  {
   "cell_type": "markdown",
   "id": "dfddc307-d201-4a71-8cdd-cfb2a8baf413",
   "metadata": {},
   "source": [
    "# Prepare datasets for epitope prediction"
   ]
  },
  {
   "cell_type": "code",
   "execution_count": 1,
   "id": "2623c229-b412-48f2-87ff-0a787d5b3084",
   "metadata": {},
   "outputs": [],
   "source": [
    "import json\n",
    "import os\n",
    "from copy import deepcopy\n",
    "import random\n",
    "\n",
    "import numpy as np\n",
    "import pandas as pd\n",
    "import matplotlib.pyplot as plt\n",
    "\n",
    "%reload_ext autoreload\n",
    "%autoreload 2"
   ]
  },
  {
   "cell_type": "code",
   "execution_count": 2,
   "id": "3eddb1ef-6bc9-4465-ae75-9a0c1f309e53",
   "metadata": {},
   "outputs": [],
   "source": [
    "if not os.path.isdir('/home/yuan/results/epitope/seq_vector_1d'):\n",
    "    os.mkdir('/home/yuan/results/epitope/seq_vector_1d')\n",
    "\n",
    "outdir = '/home/yuan/results/epitope'\n",
    "\n",
    "seq_dir = os.path.join(outdir, 'seq')\n",
    "if not os.path.isdir(seq_dir):\n",
    "    os.mkdir(seq_dir)\n",
    "\n",
    "\n",
    "json_dir = '/home/yuan/data/omics_data/epitope/mysql'\n",
    "\n",
    "sizes = [7, 9, 10, 12, 15, 20, 30, 50]\n",
    "info = {i:0 for i in ['wrong_size',  'seq', 'err']}"
   ]
  },
  {
   "cell_type": "markdown",
   "id": "0456150c-75c6-4c19-afdb-f826a55cddf5",
   "metadata": {},
   "source": [
    "## 1. epitopes"
   ]
  },
  {
   "cell_type": "code",
   "execution_count": null,
   "id": "cc1fefcf-2b59-4733-8efc-8fad8aafc86b",
   "metadata": {},
   "outputs": [],
   "source": [
    "# collect all epitopes\n",
    "from utils import Utils\n",
    "\n",
    "key = 'epitope'\n",
    "n, m = 0, 0\n",
    "pool = {}\n",
    "outfile = f'/home/yuan/results/epitope/{key}.txt'\n",
    "with open(outfile, 'w') as f:\n",
    "    seq_iter = Utils.get_epitope_seq()\n",
    "    for seq in seq_iter:\n",
    "        if seq not in pool:\n",
    "            f.write(seq + '\\t' + key + '\\n')\n",
    "            pool[seq] = 1\n",
    "            n += 1\n",
    "        else:\n",
    "            pool[seq] += 1\n",
    "            m += 1\n",
    "print(f\"Number of unique epitopes: {n}\")\n",
    "print(f\"Number of duplicated epitopes: {m}\")"
   ]
  },
  {
   "cell_type": "markdown",
   "id": "9c73dc46-bc47-4505-b90f-539adf180074",
   "metadata": {},
   "source": [
    "## 2. non epitope sequences"
   ]
  },
  {
   "cell_type": "markdown",
   "id": "087b0aaa-13d5-4702-a7c0-9c898733a4f0",
   "metadata": {},
   "source": [
    "### random sequences"
   ]
  },
  {
   "cell_type": "code",
   "execution_count": null,
   "id": "56ec10ce-bb45-4a41-9ed7-84ceeaae85e6",
   "metadata": {},
   "outputs": [],
   "source": [
    "# create random sequences by fixed size\n",
    "from utils import Utils\n",
    "\n",
    "from constants import PROPERTY\n",
    "aa = list(PROPERTY)\n",
    "\n",
    "for size in sizes:\n",
    "    outfile = os.path.join(seq_dir, f'random_{size}.txt')\n",
    "    print(outfile)\n",
    "    with open(outfile, 'w') as f:\n",
    "        for _ in range(4_000_000):\n",
    "            seq = np.random.choice(aa, size)\n",
    "            seq = ''.join(seq)\n",
    "            f.write(seq + '\\t' + 'random\\n')"
   ]
  },
  {
   "cell_type": "code",
   "execution_count": null,
   "id": "7049a07f-3958-4129-8b44-8623e80bc05b",
   "metadata": {},
   "outputs": [],
   "source": [
    "# collect wrong sequence by random sequences\n",
    "from utils import Utils\n",
    "\n",
    "from constants import PROPERTY\n",
    "aa = list(PROPERTY)\n",
    "\n",
    "key = 'random'\n",
    "n, m, pool = 0, 0, {}\n",
    "outfile = os.path.join(outdir, f'{key}.txt')\n",
    "with open(outfile, 'w') as f:\n",
    "    seq_iter = Utils.get_epitope_seq()\n",
    "    for seq in seq_iter:\n",
    "        if len(seq) >= 6 and seq not in pool:\n",
    "            _seq = np.random.choice(aa, len(seq))\n",
    "            _seq = ''.join(_seq)\n",
    "            f.write(_seq + '\\t' + key + '\\n')\n",
    "            pool[seq] = 1\n",
    "            n += 1\n",
    "        else:\n",
    "            m += 1\n",
    "print(f\"Number of random sequence: {n}-{m}\")"
   ]
  },
  {
   "cell_type": "markdown",
   "id": "64435194-d5b9-41ab-85a9-bc8020a2bb6d",
   "metadata": {},
   "source": [
    "### shuffle epitopes"
   ]
  },
  {
   "cell_type": "code",
   "execution_count": null,
   "id": "b0b7a588-b8c0-4fe8-b981-e0ca3fced0aa",
   "metadata": {},
   "outputs": [],
   "source": [
    "# collect wrong sequence by shuffling epitopes\n",
    "from utils import Utils\n",
    "\n",
    "key = 'shuffle'\n",
    "n , m, pool = 0, 0, {}\n",
    "outfile = os.path.join(outdir, f'{key}.txt')\n",
    "with open(outfile, 'w') as f:\n",
    "    seq_iter = Utils.get_epitope_seq()\n",
    "    for seq in seq_iter:\n",
    "        if len(seq) >= 6 and seq not in pool:\n",
    "            _seq = list(seq)\n",
    "            np.random.shuffle(_seq)\n",
    "            _seq = ''.join(_seq)\n",
    "            f.write(_seq + '\\t' + key + '\\n')\n",
    "            pool[seq] = 1\n",
    "            n += 1\n",
    "        else:\n",
    "            m += 1\n",
    "print(f\"Number of shuffled epitopes: {n}\")\n",
    "print(f\"Number of skipped epitopes: {m}\")"
   ]
  },
  {
   "cell_type": "markdown",
   "id": "4638b925-8d33-421f-a7c5-d2647e9f2184",
   "metadata": {},
   "source": [
    "### non-epitopes: other sequences"
   ]
  },
  {
   "cell_type": "code",
   "execution_count": null,
   "id": "4b9475c1-50ae-444c-8b97-0c29c6baa47a",
   "metadata": {},
   "outputs": [],
   "source": [
    "# build non-epitopes from antigens\n",
    "from utils import Utils\n",
    "from isolate_aa import IsolateAA\n",
    "\n",
    "\n",
    "num, key = 2, f'other'\n",
    "n, m, pool = 0, 0, {}\n",
    "outfile = os.path.join(outdir, f'{key}.txt')\n",
    "with open(outfile, 'w') as f:\n",
    "    rec_iter = Utils.get_data()\n",
    "    for acc, record in rec_iter:\n",
    "        slicer = IsolateAA(record)\n",
    "        try:\n",
    "            seqs = slicer.random_size_seq(num=num)\n",
    "            for seq in seqs:\n",
    "                if seq not in pool:\n",
    "                    f.write(seq + '\\t' + key + '\\n')\n",
    "                    pool[seq] = 1\n",
    "                    n += 1\n",
    "                else:\n",
    "                    m += 1\n",
    "        except Exception as e:\n",
    "            m +=1\n",
    "        if n % 10_000 == 0:\n",
    "            print(n, end=',')\n",
    "print(f\"Number of random seq: {n}. failed: {m}\")"
   ]
  },
  {
   "cell_type": "markdown",
   "id": "2f5528a1-9335-4765-9ed8-814fbcd11844",
   "metadata": {},
   "source": [
    "## 3. AA physical-chemical"
   ]
  },
  {
   "cell_type": "markdown",
   "id": "4aa88725-de04-4d38-af5d-508332a51a58",
   "metadata": {},
   "source": [
    "### statistics"
   ]
  },
  {
   "cell_type": "code",
   "execution_count": null,
   "id": "d40876ad-d605-45d8-bf97-d9a3a5b4fb3b",
   "metadata": {},
   "outputs": [],
   "source": [
    "# epitopes\n",
    "from aa_comp import AAComp\n",
    "\n",
    "info = AAComp.run(f'{outdir}/epitope.txt')"
   ]
  },
  {
   "cell_type": "code",
   "execution_count": null,
   "id": "8d906b39-8e3b-4152-978b-1dfbaab2ac9d",
   "metadata": {},
   "outputs": [],
   "source": [
    "# non-epitopes in antigens\n",
    "from aa_comp import AAComp\n",
    "\n",
    "info = AAComp.run(f'{outdir}/other.txt')"
   ]
  },
  {
   "cell_type": "code",
   "execution_count": null,
   "id": "b996af56-10d7-4033-9fe4-93bdbdfd28db",
   "metadata": {},
   "outputs": [],
   "source": [
    "# random sequences in antigens\n",
    "from aa_comp import AAComp\n",
    "\n",
    "info = AAComp.run(f'{outdir}/random.txt')"
   ]
  },
  {
   "cell_type": "code",
   "execution_count": null,
   "id": "f171e3be-04af-4474-8d11-57c95255fb89",
   "metadata": {},
   "outputs": [],
   "source": [
    "# shuffled sequencs of epitopes in antigens\n",
    "from aa_comp import AAComp\n",
    "\n",
    "info = AAComp.run(f'{outdir}/shuffle.txt')"
   ]
  },
  {
   "cell_type": "code",
   "execution_count": null,
   "id": "0f1e294c-471c-4ab6-9fc3-43dd3207146d",
   "metadata": {},
   "outputs": [],
   "source": [
    "import pandas as pd\n",
    "from collections import Counter\n",
    "\n",
    "# combine features\n",
    "infile = '/home/yuan/results/epitope/epitope_combined_features.txt'\n",
    "df1 = pd.read_csv(infile, sep='\\t', header=0, index_col=None)\n",
    "infile = '/home/yuan/results/epitope/other_combined_features.txt'\n",
    "df2 = pd.read_csv(infile, sep='\\t', header=0, index_col=None)\n",
    "df = pd.concat([df1, df2], axis=0)\n",
    "print('all features', df.shape)\n",
    "\n",
    "is_data = df.iloc[:,2:].sum() > 0\n",
    "print('filter zeros:', Counter(is_data))\n",
    "ft_names = list(is_data[is_data].index)\n",
    "print('none-zeros:', len(ft_names))\n",
    "df = df[['seq','label']+ft_names]\n",
    "print('after filtered:', df.shape)"
   ]
  },
  {
   "cell_type": "code",
   "execution_count": null,
   "id": "11724e4b-f367-4ced-a1f8-1f794db8736b",
   "metadata": {},
   "outputs": [],
   "source": [
    "# sequence and features are columns\n",
    "outfile = '/home/yuan/results/epitope/combined_features.txt'\n",
    "df.to_csv(outfile, header=True, index=False, sep='\\t')"
   ]
  },
  {
   "cell_type": "code",
   "execution_count": null,
   "id": "afbcd0da-fc3d-463b-8c4d-d94c939f86e6",
   "metadata": {},
   "outputs": [],
   "source": [
    "# # sequence, phyical-chemicals, and frequency are combined in one column\n",
    "# outfile = '/home/yuan/results/epitope/combined_text.csv'\n",
    "# with open(outfile, 'w') as f:\n",
    "#     for i, row in df.iterrows():\n",
    "#         _seq = ' '.join(list(row['seq']))\n",
    "#         _ft = row[2:]\n",
    "#         _ft = _ft.astype(str).str.cat(sep=' ')\n",
    "#         row = f\"{_seq} | {_ft},{row['label']}\\n\"\n",
    "#         f.write(row)"
   ]
  },
  {
   "cell_type": "code",
   "execution_count": null,
   "id": "4c190ebd-8e9d-4ccf-a266-d57a108e89ef",
   "metadata": {},
   "outputs": [],
   "source": [
    "# # sequence, phyical-chemical are combined in one column\n",
    "# outfile = '/home/yuan/results/epitope/combined_features_1.csv'\n",
    "# with open(outfile, 'w') as f:\n",
    "#     for i, row in df.iterrows():\n",
    "#         _seq = ' '.join(list(row['seq']))\n",
    "#         _ft = row[2:12]\n",
    "#         _ft = _ft.astype(str).str.cat(sep=' ')\n",
    "#         row = f\"{_seq} | {_ft},{row['label']}\\n\"\n",
    "#         f.write(row)"
   ]
  },
  {
   "cell_type": "code",
   "execution_count": null,
   "id": "050e9711-1dec-4c32-b7aa-2533008dbf6d",
   "metadata": {},
   "outputs": [],
   "source": [
    "list(df.iloc[:,2:12])"
   ]
  },
  {
   "cell_type": "markdown",
   "id": "46f689dc-8e9b-4d67-a5a9-562b090413d3",
   "metadata": {},
   "source": [
    "### represent seq by features"
   ]
  },
  {
   "cell_type": "code",
   "execution_count": null,
   "id": "fe77d35d-b5c5-46bd-8ee4-ea67e8687740",
   "metadata": {},
   "outputs": [],
   "source": [
    "from encode_aa import EncodeAA\n",
    "\n",
    "EncodeAA().physical_chemical_text('ATGILLG')"
   ]
  },
  {
   "cell_type": "code",
   "execution_count": 1,
   "id": "b28cfeb3-2269-45b9-b46e-c68bf63c678d",
   "metadata": {},
   "outputs": [
    {
     "name": "stdout",
     "output_type": "stream",
     "text": [
      "(1798795, 2)\n",
      "{'A': 'C', 'R': 'M B B B', 'N': 'N J B', 'D': 'E B', 'C': 'K B', 'Q': 'N J B B', 'E': 'E B B', 'G': '', 'H': 'H B', 'I': 'C B I', 'L': 'D A B', 'K': 'N B B B B', 'M': 'C S B B', 'F': 'F B', 'P': 'P', 'S': 'S', 'T': 'C T', 'W': 'F W B', 'Y': 'O F B', 'V': 'D A'}\n",
      "(1798581, 3)\n",
      "                     seq                                               text  \\\n",
      "0          RPIAEYLNTQKDM   B B B P C B I C E B B O F B D A B N J B C T N...   \n",
      "1              ARFDSVFGK                M B B B F B E B S D A F B N B B B B   \n",
      "2             ARFDSVFGKF            M B B B F B E B S D A F B N B B B B F B   \n",
      "3            ARFDSVFGKFL      M B B B F B E B S D A F B N B B B B F B D A B   \n",
      "4               DAFVAYHI                      B C F B D A C O F B H B C B I   \n",
      "...                  ...                                                ...   \n",
      "1798790         WADNEPNN                W B C E B N J B E B B P N J B N J B   \n",
      "1798791  TGALFKHSKKGPRAS   T C D A B F B N B B B B H B S N B B B B N B B...   \n",
      "1798792  CTVLQTYVTQQLESV   B C T D A D A B N J B B C T O F B D A C T N J...   \n",
      "1798793  PQRSFHAIHVTGTNG   N J B B M B B B S F B H B C C B I H B D A C T...   \n",
      "1798794  TNVLYENQKLFLNLF   T N J B D A D A B O F B E B B N J B N J B B N...   \n",
      "\n",
      "           label  \n",
      "0        epitope  \n",
      "1        epitope  \n",
      "2        epitope  \n",
      "3        epitope  \n",
      "4        epitope  \n",
      "...          ...  \n",
      "1798790  epitope  \n",
      "1798791  epitope  \n",
      "1798792  epitope  \n",
      "1798793  epitope  \n",
      "1798794  epitope  \n",
      "\n",
      "[1798581 rows x 3 columns]\n",
      "/home/yuan/results/epitope/epitope_physical_chemical_seq.csv\n",
      "(1384072, 2)\n",
      "{'A': 'C', 'R': 'M B B B', 'N': 'N J B', 'D': 'E B', 'C': 'K B', 'Q': 'N J B B', 'E': 'E B B', 'G': '', 'H': 'H B', 'I': 'C B I', 'L': 'D A B', 'K': 'N B B B B', 'M': 'C S B B', 'F': 'F B', 'P': 'P', 'S': 'S', 'T': 'C T', 'W': 'F W B', 'Y': 'O F B', 'V': 'D A'}\n",
      "(1383665, 3)\n",
      "                      seq                                               text  \\\n",
      "0           KPKVTVYPSKTQP   B B B B P N B B B B D A C T D A O F B P S N B...   \n",
      "1           VKGREHVWSVTRF   A N B B B B M B B B E B B H B D A F W B S D A...   \n",
      "2           SPVRVEWRARSTS   P D A M B B B D A E B B F W B M B B B C M B B...   \n",
      "3           YQTLVMLETVPQG   F B N J B B C T D A B D A C S B B D A B E B B...   \n",
      "4           NLRAGSVSHGAGE            J B D A B M B B B C S D A S H B C E B B   \n",
      "...                   ...                                                ...   \n",
      "1384067  PASWVLPGYCWQTSVK   C S F W B D A D A B P O F B K B F W B N J B B...   \n",
      "1384068         IPNRGGAGA                            B I P N J B M B B B C C   \n",
      "1384069         SSSNAATIS                          S S N J B C C C T C B I S   \n",
      "1384070       YLEEDIRPEMR   F B D A B E B B E B B E B C B I M B B B P E B...   \n",
      "1384071       LNVTWLVNSAA      A B N J B D A C T F W B D A B D A N J B S C C   \n",
      "\n",
      "         label  \n",
      "0        other  \n",
      "1        other  \n",
      "2        other  \n",
      "3        other  \n",
      "4        other  \n",
      "...        ...  \n",
      "1384067  other  \n",
      "1384068  other  \n",
      "1384069  other  \n",
      "1384070  other  \n",
      "1384071  other  \n",
      "\n",
      "[1383665 rows x 3 columns]\n",
      "/home/yuan/results/epitope/other_physical_chemical_seq.csv\n"
     ]
    }
   ],
   "source": [
    "%reload_ext autoreload\n",
    "%autoreload 2\n",
    "    \n",
    "from aa_comp import AAComp\n",
    "outdir = '/home/yuan/results/epitope'\n",
    "\n",
    "# deprecated\n",
    "# AAComp.represent_seq_1(f'{outdir}/epitope.txt')\n",
    "# AAComp.represent_seq_1(f'{outdir}/other.txt')\n",
    "\n",
    "# \n",
    "AAComp.represent_seq_2(f'{outdir}/epitope.txt')\n",
    "AAComp.represent_seq_2(f'{outdir}/other.txt')"
   ]
  },
  {
   "cell_type": "code",
   "execution_count": 7,
   "id": "22df1c0f-9429-4ee1-a95f-603fad356fb7",
   "metadata": {},
   "outputs": [
    {
     "name": "stdout",
     "output_type": "stream",
     "text": [
      "(1798795, 2)\n",
      "{'A': 'C', 'R': 'MBBB', 'N': 'NJC', 'D': 'RB', 'C': 'GB', 'Q': 'NJBB', 'E': 'RBB', 'G': 'H', 'H': 'ZB', 'I': 'CBE', 'L': 'DAB', 'K': 'NBBBB', 'M': 'CSBB', 'F': 'XB', 'P': 'P', 'S': 'Q', 'T': 'CT', 'W': 'XYBB', 'Y': 'OXB', 'V': 'DA'}\n",
      "(1798795, 3)\n"
     ]
    }
   ],
   "source": [
    "import pandas as pd\n",
    "from encode_aa import EncodeAA\n",
    "\n",
    "# read df: default two columns\n",
    "df = pd.read_csv(f'{outdir}/epitope.txt', sep='\\t', header=None, index_col=None)\n",
    "df.columns = ['seq', 'label']\n",
    "print(df.shape)\n",
    "\n",
    "encoder = EncodeAA()\n",
    "# phy_che = df['seq'].map(encoder.physical_chemical_text)\n",
    "smiles = df['seq'].map(encoder.aa_smiles)\n",
    "dfv= pd.DataFrame({\n",
    "    'seq': df['seq'],\n",
    "    'text': smiles,\n",
    "    'label': df['label'],\n",
    "})\n",
    "print(dfv.shape)"
   ]
  },
  {
   "cell_type": "code",
   "execution_count": 8,
   "id": "a21fa1ae-e938-47fa-9861-cd0acba2af18",
   "metadata": {},
   "outputs": [
    {
     "data": {
      "text/html": [
       "<div>\n",
       "<style scoped>\n",
       "    .dataframe tbody tr th:only-of-type {\n",
       "        vertical-align: middle;\n",
       "    }\n",
       "\n",
       "    .dataframe tbody tr th {\n",
       "        vertical-align: top;\n",
       "    }\n",
       "\n",
       "    .dataframe thead th {\n",
       "        text-align: right;\n",
       "    }\n",
       "</style>\n",
       "<table border=\"1\" class=\"dataframe\">\n",
       "  <thead>\n",
       "    <tr style=\"text-align: right;\">\n",
       "      <th></th>\n",
       "      <th>seq</th>\n",
       "      <th>text</th>\n",
       "      <th>label</th>\n",
       "    </tr>\n",
       "  </thead>\n",
       "  <tbody>\n",
       "    <tr>\n",
       "      <th>9188</th>\n",
       "      <td>XREGGVLRVQPRATRFTFRTARQVPRLGVML</td>\n",
       "      <td>None</td>\n",
       "      <td>epitope</td>\n",
       "    </tr>\n",
       "    <tr>\n",
       "      <th>77506</th>\n",
       "      <td>XAAAMPLGLPLRLLVLLLVG</td>\n",
       "      <td>None</td>\n",
       "      <td>epitope</td>\n",
       "    </tr>\n",
       "    <tr>\n",
       "      <th>89778</th>\n",
       "      <td>XLGLPRVLA</td>\n",
       "      <td>None</td>\n",
       "      <td>epitope</td>\n",
       "    </tr>\n",
       "    <tr>\n",
       "      <th>276813</th>\n",
       "      <td>AXVLVNAIVFKGLWE</td>\n",
       "      <td>None</td>\n",
       "      <td>epitope</td>\n",
       "    </tr>\n",
       "    <tr>\n",
       "      <th>350451</th>\n",
       "      <td>AWGHITISTAAXYRNAVVEQ</td>\n",
       "      <td>None</td>\n",
       "      <td>epitope</td>\n",
       "    </tr>\n",
       "    <tr>\n",
       "      <th>...</th>\n",
       "      <td>...</td>\n",
       "      <td>...</td>\n",
       "      <td>...</td>\n",
       "    </tr>\n",
       "    <tr>\n",
       "      <th>855400</th>\n",
       "      <td>QXRAPRITFGGPSDST</td>\n",
       "      <td>None</td>\n",
       "      <td>epitope</td>\n",
       "    </tr>\n",
       "    <tr>\n",
       "      <th>855442</th>\n",
       "      <td>SDNGPQXRAPRITFGG</td>\n",
       "      <td>None</td>\n",
       "      <td>epitope</td>\n",
       "    </tr>\n",
       "    <tr>\n",
       "      <th>855529</th>\n",
       "      <td>XRAPRITFGGPSDSTD</td>\n",
       "      <td>None</td>\n",
       "      <td>epitope</td>\n",
       "    </tr>\n",
       "    <tr>\n",
       "      <th>1407812</th>\n",
       "      <td>GSPNPIVLPXPPPPP</td>\n",
       "      <td>None</td>\n",
       "      <td>epitope</td>\n",
       "    </tr>\n",
       "    <tr>\n",
       "      <th>1407935</th>\n",
       "      <td>PIVLPXPPPPPPVRK</td>\n",
       "      <td>None</td>\n",
       "      <td>epitope</td>\n",
       "    </tr>\n",
       "  </tbody>\n",
       "</table>\n",
       "<p>151 rows × 3 columns</p>\n",
       "</div>"
      ],
      "text/plain": [
       "                                     seq  text    label\n",
       "9188     XREGGVLRVQPRATRFTFRTARQVPRLGVML  None  epitope\n",
       "77506               XAAAMPLGLPLRLLVLLLVG  None  epitope\n",
       "89778                          XLGLPRVLA  None  epitope\n",
       "276813                   AXVLVNAIVFKGLWE  None  epitope\n",
       "350451              AWGHITISTAAXYRNAVVEQ  None  epitope\n",
       "...                                  ...   ...      ...\n",
       "855400                  QXRAPRITFGGPSDST  None  epitope\n",
       "855442                  SDNGPQXRAPRITFGG  None  epitope\n",
       "855529                  XRAPRITFGGPSDSTD  None  epitope\n",
       "1407812                  GSPNPIVLPXPPPPP  None  epitope\n",
       "1407935                  PIVLPXPPPPPPVRK  None  epitope\n",
       "\n",
       "[151 rows x 3 columns]"
      ]
     },
     "execution_count": 8,
     "metadata": {},
     "output_type": "execute_result"
    }
   ],
   "source": [
    "dfv[dfv['text'].isna()]"
   ]
  },
  {
   "cell_type": "code",
   "execution_count": 6,
   "id": "635ca7a4-4a02-49a8-9ada-372ca834b338",
   "metadata": {},
   "outputs": [
    {
     "data": {
      "text/plain": [
       "(1383957, 3)"
      ]
     },
     "execution_count": 6,
     "metadata": {},
     "output_type": "execute_result"
    }
   ],
   "source": [
    "dfv.dropna().shape"
   ]
  },
  {
   "cell_type": "code",
   "execution_count": 7,
   "id": "dde9a4b4-70c5-4371-801b-eca948f61ef3",
   "metadata": {},
   "outputs": [
    {
     "data": {
      "text/html": [
       "<div>\n",
       "<style scoped>\n",
       "    .dataframe tbody tr th:only-of-type {\n",
       "        vertical-align: middle;\n",
       "    }\n",
       "\n",
       "    .dataframe tbody tr th {\n",
       "        vertical-align: top;\n",
       "    }\n",
       "\n",
       "    .dataframe thead th {\n",
       "        text-align: right;\n",
       "    }\n",
       "</style>\n",
       "<table border=\"1\" class=\"dataframe\">\n",
       "  <thead>\n",
       "    <tr style=\"text-align: right;\">\n",
       "      <th></th>\n",
       "      <th>seq</th>\n",
       "      <th>text</th>\n",
       "      <th>label</th>\n",
       "    </tr>\n",
       "  </thead>\n",
       "  <tbody>\n",
       "    <tr>\n",
       "      <th>9213</th>\n",
       "      <td>XXXXXXXXXXXXXXX</td>\n",
       "      <td></td>\n",
       "      <td>other</td>\n",
       "    </tr>\n",
       "    <tr>\n",
       "      <th>9393</th>\n",
       "      <td>AXXXXXXXXXXXXXX</td>\n",
       "      <td></td>\n",
       "      <td>other</td>\n",
       "    </tr>\n",
       "    <tr>\n",
       "      <th>883811</th>\n",
       "      <td>XXXXXXXXXXXXX</td>\n",
       "      <td></td>\n",
       "      <td>other</td>\n",
       "    </tr>\n",
       "  </tbody>\n",
       "</table>\n",
       "</div>"
      ],
      "text/plain": [
       "                    seq text  label\n",
       "9213    XXXXXXXXXXXXXXX       other\n",
       "9393    AXXXXXXXXXXXXXX       other\n",
       "883811    XXXXXXXXXXXXX       other"
      ]
     },
     "execution_count": 7,
     "metadata": {},
     "output_type": "execute_result"
    }
   ],
   "source": [
    "dfv[dfv['text'].str.len()<2]"
   ]
  },
  {
   "cell_type": "code",
   "execution_count": 4,
   "id": "146a7e86-b5bd-4a72-bdcf-b3e1ba5d07db",
   "metadata": {},
   "outputs": [
    {
     "data": {
      "text/plain": [
       "{'A', 'B', 'T'}"
      ]
     },
     "execution_count": 4,
     "metadata": {},
     "output_type": "execute_result"
    }
   ],
   "source": [
    "a= 'ATB'\n",
    "set(a).difference([3,1])"
   ]
  },
  {
   "cell_type": "markdown",
   "id": "a9f43e51-f380-4778-87de-f14a8cfaa1a0",
   "metadata": {},
   "source": [
    "## retrieve sequence segment"
   ]
  },
  {
   "cell_type": "code",
   "execution_count": null,
   "id": "03f8f0d2-726a-4049-a29b-f1b5a65e6fae",
   "metadata": {},
   "outputs": [],
   "source": [
    "# slice epitopes\n",
    "def kmer_expand(size):\n",
    "    outfile = os.path.join(seq_dir, f'epitope_{size}_kmer_expand.txt')\n",
    "    print(outfile)\n",
    "    with open(outfile, 'w') as f:\n",
    "        rec_iter = Utils.scan_json_record(json_dir)\n",
    "        for acc, record in rec_iter:\n",
    "            slicer = IsolateAA(record)\n",
    "            try:\n",
    "                epi_seq = slicer.slice_kmer_expand(size)\n",
    "                for seq in epi_seq:\n",
    "                    if len(seq) == size:\n",
    "                        f.write(seq + '\\t' + 'epitope\\n')\n",
    "                        info['seq'] += 1\n",
    "                    else:\n",
    "                        info['wrong_size'] += 1\n",
    "            except Exception as e:\n",
    "                info['err'] += 1\n",
    "    print(f\"Statistics of {size}: {info}\")\n",
    "\n",
    "for size in sizes:\n",
    "    kmer_expand(size)"
   ]
  },
  {
   "cell_type": "code",
   "execution_count": null,
   "id": "5854c769-03f3-4967-8ca9-df260566f987",
   "metadata": {},
   "outputs": [],
   "source": [
    "def shrink_expand(size):\n",
    "    outfile = os.path.join(seq_dir, f'epitope_{size}_shrink_expand.txt')\n",
    "    print(outfile)\n",
    "    with open(outfile, 'w') as f:\n",
    "        rec_iter = Utils.scan_json_record(json_dir)\n",
    "        for acc, record in rec_iter:\n",
    "            slicer = IsolateAA(record)\n",
    "            try:\n",
    "                epi_seq = slicer.slice_shrink_expand(size)\n",
    "                for seq in epi_seq:\n",
    "                    if len(seq) == size:\n",
    "                        f.write(seq + '\\t' + 'epitope\\n')\n",
    "                        info['seq'] += 1\n",
    "                    else:\n",
    "                        info['wrong_size'] += 1\n",
    "            except Exception as e:\n",
    "                info['err'] += 1\n",
    "    print(f\"Statistics of {size}: {info}\")\n",
    "\n",
    "for size in sizes:\n",
    "    shrink_expand(size)"
   ]
  },
  {
   "cell_type": "code",
   "execution_count": null,
   "id": "fb6ffd2f-d422-4349-9cc9-47ec474026eb",
   "metadata": {},
   "outputs": [],
   "source": [
    "# random other sequences\n",
    "def random_other(size):\n",
    "    outfile = os.path.join(seq_dir, f'other_{size}.txt')\n",
    "    print(outfile)\n",
    "    with open(outfile, 'w') as f:\n",
    "        rec_iter = Utils.scan_json_record(json_dir)\n",
    "        for acc, record in rec_iter:\n",
    "            slicer = IsolateAA(record)\n",
    "            num_epi = slicer.num_epitopes()\n",
    "            try:\n",
    "                other_seq = slicer.random_other_seq(size, num_epi)\n",
    "                for seq in other_seq:\n",
    "                    if len(seq) == size:\n",
    "                        f.write(seq + '\\t' + 'other\\n')\n",
    "                        info['seq'] += 1\n",
    "                    else:\n",
    "                        info['wrong_size'] += 1\n",
    "            except Exception as e:\n",
    "                info['err'] += 1\n",
    "    print(f\"Statistics of {size}: {info}\")\n",
    "\n",
    "for size in sizes:\n",
    "    random_other(size)"
   ]
  },
  {
   "cell_type": "code",
   "execution_count": null,
   "id": "db21a79c-2774-47ed-8e96-bb597b1602db",
   "metadata": {},
   "outputs": [],
   "source": []
  },
  {
   "cell_type": "markdown",
   "id": "1e57e36a-1697-4774-bdfc-6fc87f5467c8",
   "metadata": {},
   "source": [
    "## encode"
   ]
  },
  {
   "cell_type": "code",
   "execution_count": null,
   "id": "2500921e-e089-43c6-8608-b006f53fe3da",
   "metadata": {},
   "outputs": [],
   "source": [
    "# encode \n",
    "encoder = EncodeAA()\n",
    "\n",
    "outdir = '/home/yuan/results/epitope/seq_vector_1d'\n",
    "indir = '/home/yuan/results/epitope/seq'\n",
    "df_iter = Utils.scan_text(indir, '\\t')\n",
    "for df, file_name in df_iter:\n",
    "    df = df.dropna()\n",
    "    dfv = df.apply(lambda x: encoder.vector_1d(x[0], x[1]), axis=1, result_type='expand')\n",
    "    outfile = os.path.join(outdir, file_name)\n",
    "    dfv.to_csv(outfile, header=False, index=False, sep='\\t')\n",
    "    print(outfile)"
   ]
  },
  {
   "cell_type": "code",
   "execution_count": null,
   "id": "4e06eaab-c52c-419a-977e-93fad2624bb7",
   "metadata": {},
   "outputs": [],
   "source": []
  },
  {
   "cell_type": "code",
   "execution_count": null,
   "id": "0de7909e-895f-4ebb-aa35-fb52f09b75d5",
   "metadata": {},
   "outputs": [],
   "source": []
  },
  {
   "cell_type": "code",
   "execution_count": null,
   "id": "4d67b26a-bd0e-4a0b-816f-84b223f53214",
   "metadata": {},
   "outputs": [],
   "source": []
  },
  {
   "cell_type": "code",
   "execution_count": null,
   "id": "f1face19-ad02-42b8-b268-7025e20aa20e",
   "metadata": {},
   "outputs": [],
   "source": []
  },
  {
   "cell_type": "code",
   "execution_count": null,
   "id": "b567c0c1-7abe-4fc1-91b8-b938291e6266",
   "metadata": {},
   "outputs": [],
   "source": []
  },
  {
   "cell_type": "code",
   "execution_count": null,
   "id": "51ce5907-1a71-4472-90cf-3cc0446cca52",
   "metadata": {},
   "outputs": [],
   "source": []
  },
  {
   "cell_type": "code",
   "execution_count": null,
   "id": "cc761865-f0d6-46f0-a9ee-cbf382d4bbe6",
   "metadata": {},
   "outputs": [],
   "source": []
  },
  {
   "cell_type": "code",
   "execution_count": null,
   "id": "b7dbd6db-b238-4e04-a644-2ec5adc22791",
   "metadata": {},
   "outputs": [],
   "source": []
  },
  {
   "cell_type": "code",
   "execution_count": null,
   "id": "a7f775e5-45fd-41a2-bfbe-d7a4129b19e3",
   "metadata": {},
   "outputs": [],
   "source": []
  }
 ],
 "metadata": {
  "kernelspec": {
   "display_name": "Python 3 (ipykernel)",
   "language": "python",
   "name": "python3"
  },
  "language_info": {
   "codemirror_mode": {
    "name": "ipython",
    "version": 3
   },
   "file_extension": ".py",
   "mimetype": "text/x-python",
   "name": "python",
   "nbconvert_exporter": "python",
   "pygments_lexer": "ipython3",
   "version": "3.11.11"
  }
 },
 "nbformat": 4,
 "nbformat_minor": 5
}
