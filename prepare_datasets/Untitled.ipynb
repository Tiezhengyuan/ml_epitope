{
 "cells": [
  {
   "cell_type": "code",
   "execution_count": null,
   "id": "6a5abebe-ea70-44fc-9520-98e62238db6a",
   "metadata": {},
   "outputs": [],
   "source": []
  }
 ],
 "metadata": {
  "kernelspec": {
   "display_name": "",
   "name": ""
  },
  "language_info": {
   "name": ""
  }
 },
 "nbformat": 4,
 "nbformat_minor": 5
}
