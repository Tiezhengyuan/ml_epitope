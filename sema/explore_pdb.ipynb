{
 "cells": [
  {
   "cell_type": "code",
   "execution_count": null,
   "id": "7be1b01d-43d0-4717-9797-45bdd17edd09",
   "metadata": {},
   "outputs": [],
   "source": []
  },
  {
   "cell_type": "code",
   "execution_count": null,
   "id": "c2951da4-3984-4d81-aba2-7b3d4836de76",
   "metadata": {},
   "outputs": [],
   "source": []
  },
  {
   "cell_type": "code",
   "execution_count": null,
   "id": "e4adb542-68c9-474a-b952-67d9968a3174",
   "metadata": {},
   "outputs": [],
   "source": [
    "from pdb_dataset import PdbDataset\n",
    "\n",
    "# train data\n",
    "train_set = pd.read_csv('../data/sema_2.0/train_set.csv')\n",
    "train_set = train_set.groupby('pdb_id_chain') \\\n",
    "            .agg({'resi_pos': list, 'resi_aa': list, 'contact_number': list}) \\\n",
    "            .reset_index()\n",
    "\n",
    "# test data\n",
    "test_set = pd.read_csv('../data/sema_2.0/test_set.csv')\n",
    "test_set = test_set.groupby('pdb_id_chain') \\\n",
    "                    .agg({'resi_pos': list, 'resi_aa': list, 'contact_number_binary': list}) \\\n",
    "                    .reset_index()"
   ]
  },
  {
   "cell_type": "code",
   "execution_count": null,
   "id": "671072d8-60c1-4452-a6a0-75e08381c7b2",
   "metadata": {},
   "outputs": [],
   "source": []
  },
  {
   "cell_type": "code",
   "execution_count": null,
   "id": "13e7e389-8e03-41bc-9908-fbada0ae10cf",
   "metadata": {},
   "outputs": [],
   "source": []
  },
  {
   "cell_type": "code",
   "execution_count": null,
   "id": "62558472-5f77-4e43-8e16-376fe6e0c884",
   "metadata": {},
   "outputs": [],
   "source": []
  },
  {
   "cell_type": "code",
   "execution_count": null,
   "id": "17c6a683-182c-4f8f-bcaa-cec59c7dd67f",
   "metadata": {},
   "outputs": [],
   "source": []
  },
  {
   "cell_type": "code",
   "execution_count": null,
   "id": "5448dc87-a73c-4e2c-aff8-d03be35b32f9",
   "metadata": {},
   "outputs": [],
   "source": []
  },
  {
   "cell_type": "code",
   "execution_count": null,
   "id": "589acefe-c8a7-4545-8225-71f9edad4a75",
   "metadata": {},
   "outputs": [],
   "source": []
  }
 ],
 "metadata": {
  "kernelspec": {
   "display_name": "Python 3 (ipykernel)",
   "language": "python",
   "name": "python3"
  },
  "language_info": {
   "codemirror_mode": {
    "name": "ipython",
    "version": 3
   },
   "file_extension": ".py",
   "mimetype": "text/x-python",
   "name": "python",
   "nbconvert_exporter": "python",
   "pygments_lexer": "ipython3",
   "version": "3.11.9"
  }
 },
 "nbformat": 4,
 "nbformat_minor": 5
}
