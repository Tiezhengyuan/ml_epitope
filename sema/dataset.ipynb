{
 "cells": [
  {
   "cell_type": "code",
   "execution_count": 1,
   "id": "98773051-d2c1-461a-96dd-c4d56ce45aed",
   "metadata": {},
   "outputs": [],
   "source": [
    "%reload_ext autoreload\n",
    "%autoreload 2\n",
    "\n",
    "import pandas as pd\n",
    "import numpy as np\n",
    "import torch\n",
    "import torch.nn as nn\n",
    "\n",
    "import os\n",
    "# set cuda params\n",
    "# 'TORCH_HOME'directory will be used to save origenal esm-1v weights\n",
    "os.environ['TORCH_HOME'] = \"./torch_hub\"\n",
    "#os.environ['CUDA_VISIBLE_DEVICES'] = \"4\""
   ]
  },
  {
   "cell_type": "code",
   "execution_count": 3,
   "id": "93dd9885-9b4a-4c5a-81ea-50315fc45fd9",
   "metadata": {},
   "outputs": [
    {
     "name": "stderr",
     "output_type": "stream",
     "text": [
      "/home/yuan/anaconda3/envs/py311/lib/python3.11/site-packages/esm/pretrained.py:215: UserWarning: Regression weights not found, predicting contacts will not produce correct results.\n",
      "  warnings.warn(\n"
     ]
    }
   ],
   "source": [
    "# load pre-trained model\n",
    "import esm\n",
    "\n",
    "# database UniRef90\n",
    "model_esm1v, esm1v_alphabet = esm.pretrained.esm1v_t33_650M_UR90S_1()\n",
    "\n",
    "batch_converter = esm1v_alphabet.get_batch_converter()"
   ]
  },
  {
   "cell_type": "code",
   "execution_count": 4,
   "id": "78edc660-8024-4319-a005-d9d4050d1295",
   "metadata": {},
   "outputs": [
    {
     "name": "stdout",
     "output_type": "stream",
     "text": [
      "1544 101\n"
     ]
    }
   ],
   "source": [
    "\n",
    "from custom_dataset import PdbDataset\n",
    "\n",
    "agg_names = {'resi_pos': list, 'resi_aa': list, 'contact_number': list}\n",
    "\n",
    "# train data\n",
    "train_set = pd.read_csv('./data/sema_2.0/train_set.csv')\n",
    "agg_names = {'resi_pos': list, 'resi_aa': list, 'contact_number': list}\n",
    "train_set = train_set.groupby('pdb_id_chain').agg(agg_names).reset_index()\n",
    "train_ds = PdbDataset(batch_converter, train_set[['resi_aa', 'contact_number']])\n",
    "\n",
    "# test data\n",
    "test_set = pd.read_csv('./data/sema_2.0/test_set.csv')\n",
    "agg_names = {'resi_pos': list, 'resi_aa': list, 'contact_number_binary': list}\n",
    "test_set = test_set.groupby('pdb_id_chain').agg(agg_names).reset_index()\n",
    "test_ds = PdbDataset(batch_converter, test_set[['resi_aa', 'contact_number_binary']])\n",
    "\n",
    "print(len(train_ds), len(test_ds))"
   ]
  },
  {
   "cell_type": "code",
   "execution_count": 5,
   "id": "00ab7559-3f1c-4395-b345-69e5d0e58eb3",
   "metadata": {},
   "outputs": [
    {
     "data": {
      "text/html": [
       "<div>\n",
       "<style scoped>\n",
       "    .dataframe tbody tr th:only-of-type {\n",
       "        vertical-align: middle;\n",
       "    }\n",
       "\n",
       "    .dataframe tbody tr th {\n",
       "        vertical-align: top;\n",
       "    }\n",
       "\n",
       "    .dataframe thead th {\n",
       "        text-align: right;\n",
       "    }\n",
       "</style>\n",
       "<table border=\"1\" class=\"dataframe\">\n",
       "  <thead>\n",
       "    <tr style=\"text-align: right;\">\n",
       "      <th></th>\n",
       "      <th>pdb_id_chain</th>\n",
       "      <th>resi_pos</th>\n",
       "      <th>resi_aa</th>\n",
       "      <th>contact_number</th>\n",
       "    </tr>\n",
       "  </thead>\n",
       "  <tbody>\n",
       "    <tr>\n",
       "      <th>0</th>\n",
       "      <td>1A3R_P</td>\n",
       "      <td>[156.0, 157.0, 158.0, 159.0, 160.0, 161.0, 162...</td>\n",
       "      <td>[V, K, A, E, T, R, L, N, P, D, L, Q, P, T, E, X]</td>\n",
       "      <td>[2.70805020110221, 2.833213344056216, 2.197224...</td>\n",
       "    </tr>\n",
       "    <tr>\n",
       "      <th>1</th>\n",
       "      <td>1ACY_P</td>\n",
       "      <td>[nan, nan, nan, nan, nan, nan, nan, 315.0, 316...</td>\n",
       "      <td>[Y, N, K, R, K, R, I, H, I, G, P, G, R, A, F, ...</td>\n",
       "      <td>[-100.0, -100.0, -100.0, -100.0, -100.0, -100....</td>\n",
       "    </tr>\n",
       "    <tr>\n",
       "      <th>2</th>\n",
       "      <td>1AFV_B</td>\n",
       "      <td>[1.0, 2.0, 3.0, 4.0, 5.0, 6.0, 7.0, 8.0, 9.0, ...</td>\n",
       "      <td>[P, I, V, Q, N, L, Q, G, Q, M, V, H, Q, A, I, ...</td>\n",
       "      <td>[-100.0, -100.0, -100.0, -100.0, -100.0, -100....</td>\n",
       "    </tr>\n",
       "    <tr>\n",
       "      <th>3</th>\n",
       "      <td>1AHW_F</td>\n",
       "      <td>[nan, nan, nan, 4.0, 5.0, 6.0, 7.0, 8.0, 9.0, ...</td>\n",
       "      <td>[S, G, T, T, N, T, V, A, A, Y, N, L, T, W, K, ...</td>\n",
       "      <td>[-100.0, -100.0, -100.0, -100.0, -100.0, -100....</td>\n",
       "    </tr>\n",
       "    <tr>\n",
       "      <th>4</th>\n",
       "      <td>1AI1_P</td>\n",
       "      <td>[nan, nan, nan, nan, nan, nan, nan, 315.0, 316...</td>\n",
       "      <td>[Y, N, K, R, K, R, I, H, I, G, P, G, R, A, F, ...</td>\n",
       "      <td>[-100.0, -100.0, -100.0, -100.0, -100.0, -100....</td>\n",
       "    </tr>\n",
       "  </tbody>\n",
       "</table>\n",
       "</div>"
      ],
      "text/plain": [
       "  pdb_id_chain                                           resi_pos  \\\n",
       "0       1A3R_P  [156.0, 157.0, 158.0, 159.0, 160.0, 161.0, 162...   \n",
       "1       1ACY_P  [nan, nan, nan, nan, nan, nan, nan, 315.0, 316...   \n",
       "2       1AFV_B  [1.0, 2.0, 3.0, 4.0, 5.0, 6.0, 7.0, 8.0, 9.0, ...   \n",
       "3       1AHW_F  [nan, nan, nan, 4.0, 5.0, 6.0, 7.0, 8.0, 9.0, ...   \n",
       "4       1AI1_P  [nan, nan, nan, nan, nan, nan, nan, 315.0, 316...   \n",
       "\n",
       "                                             resi_aa  \\\n",
       "0   [V, K, A, E, T, R, L, N, P, D, L, Q, P, T, E, X]   \n",
       "1  [Y, N, K, R, K, R, I, H, I, G, P, G, R, A, F, ...   \n",
       "2  [P, I, V, Q, N, L, Q, G, Q, M, V, H, Q, A, I, ...   \n",
       "3  [S, G, T, T, N, T, V, A, A, Y, N, L, T, W, K, ...   \n",
       "4  [Y, N, K, R, K, R, I, H, I, G, P, G, R, A, F, ...   \n",
       "\n",
       "                                      contact_number  \n",
       "0  [2.70805020110221, 2.833213344056216, 2.197224...  \n",
       "1  [-100.0, -100.0, -100.0, -100.0, -100.0, -100....  \n",
       "2  [-100.0, -100.0, -100.0, -100.0, -100.0, -100....  \n",
       "3  [-100.0, -100.0, -100.0, -100.0, -100.0, -100....  \n",
       "4  [-100.0, -100.0, -100.0, -100.0, -100.0, -100....  "
      ]
     },
     "execution_count": 5,
     "metadata": {},
     "output_type": "execute_result"
    }
   ],
   "source": [
    "train_set.head()"
   ]
  },
  {
   "cell_type": "code",
   "execution_count": 6,
   "id": "099586f5-f960-4659-8e80-0644a6ba1258",
   "metadata": {},
   "outputs": [
    {
     "data": {
      "text/plain": [
       "{'token_ids': tensor([[ 0,  7, 15,  5,  9, 11, 10,  4, 17, 14, 13,  4, 16, 14, 11,  9, 24,  2]]),\n",
       " 'labels': tensor([[   2.7090,    2.8340,    2.1973,    3.3320,    2.8340,    3.6113,\n",
       "             3.0918,    2.9961,    2.1973,    2.3027,    2.6387,    2.3027,\n",
       "             2.1973,    2.6387,    2.0801, -100.0000]], dtype=torch.float64)}"
      ]
     },
     "execution_count": 6,
     "metadata": {},
     "output_type": "execute_result"
    }
   ],
   "source": [
    "train_ds[0]"
   ]
  },
  {
   "cell_type": "code",
   "execution_count": null,
   "id": "4314eb49-449c-4b7d-b699-827a32018fa0",
   "metadata": {},
   "outputs": [],
   "source": []
  },
  {
   "cell_type": "code",
   "execution_count": null,
   "id": "2a82c1cb-38c8-4437-b5b4-f2bd6123fdf9",
   "metadata": {},
   "outputs": [],
   "source": []
  }
 ],
 "metadata": {
  "kernelspec": {
   "display_name": "Python 3 (ipykernel)",
   "language": "python",
   "name": "python3"
  },
  "language_info": {
   "codemirror_mode": {
    "name": "ipython",
    "version": 3
   },
   "file_extension": ".py",
   "mimetype": "text/x-python",
   "name": "python",
   "nbconvert_exporter": "python",
   "pygments_lexer": "ipython3",
   "version": "3.11.9"
  }
 },
 "nbformat": 4,
 "nbformat_minor": 5
}
