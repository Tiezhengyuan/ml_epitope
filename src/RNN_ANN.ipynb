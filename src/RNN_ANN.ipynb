{
 "cells": [
  {
   "cell_type": "markdown",
   "id": "ed405ad4-c514-4616-8bdb-0477860d3dc3",
   "metadata": {},
   "source": [
    "# combine RNN and ANN"
   ]
  },
  {
   "cell_type": "code",
   "execution_count": 49,
   "id": "de8c05c5-d784-4dbb-9b97-0cc16d7443a2",
   "metadata": {},
   "outputs": [
    {
     "name": "stdout",
     "output_type": "stream",
     "text": [
      "['/home/yuan/bio/ml_epitope/rnn', '/home/yuan/anaconda3/envs/py311/lib/python311.zip', '/home/yuan/anaconda3/envs/py311/lib/python3.11', '/home/yuan/anaconda3/envs/py311/lib/python3.11/lib-dynload', '', '/home/yuan/anaconda3/envs/py311/lib/python3.11/site-packages', '/home/yuan/bio/ml_epitope']\n"
     ]
    }
   ],
   "source": [
    "import os\n",
    "import sys\n",
    "sys.path.append(os.path.dirname(os.getcwd()))\n",
    "print(sys.path)"
   ]
  },
  {
   "cell_type": "code",
   "execution_count": 1,
   "id": "351776cc-8579-4f36-a4ca-164a1ac83f22",
   "metadata": {},
   "outputs": [
    {
     "name": "stderr",
     "output_type": "stream",
     "text": [
      "2025-01-09 09:00:58.557050: I tensorflow/core/util/port.cc:153] oneDNN custom operations are on. You may see slightly different numerical results due to floating-point round-off errors from different computation orders. To turn them off, set the environment variable `TF_ENABLE_ONEDNN_OPTS=0`.\n",
      "2025-01-09 09:00:58.564430: E external/local_xla/xla/stream_executor/cuda/cuda_fft.cc:485] Unable to register cuFFT factory: Attempting to register factory for plugin cuFFT when one has already been registered\n",
      "2025-01-09 09:00:58.573067: E external/local_xla/xla/stream_executor/cuda/cuda_dnn.cc:8454] Unable to register cuDNN factory: Attempting to register factory for plugin cuDNN when one has already been registered\n",
      "2025-01-09 09:00:58.575679: E external/local_xla/xla/stream_executor/cuda/cuda_blas.cc:1452] Unable to register cuBLAS factory: Attempting to register factory for plugin cuBLAS when one has already been registered\n",
      "2025-01-09 09:00:58.582217: I tensorflow/core/platform/cpu_feature_guard.cc:210] This TensorFlow binary is optimized to use available CPU instructions in performance-critical operations.\n",
      "To enable the following instructions: AVX2 AVX_VNNI FMA, in other operations, rebuild TensorFlow with the appropriate compiler flags.\n",
      "2025-01-09 09:00:58.995940: W tensorflow/compiler/tf2tensorrt/utils/py_utils.cc:38] TF-TRT Warning: Could not find TensorRT\n"
     ]
    }
   ],
   "source": [
    "import json\n",
    "from copy import deepcopy\n",
    "import random\n",
    "\n",
    "import numpy as np\n",
    "import pandas as pd\n",
    "import matplotlib.pyplot as plt\n",
    "\n",
    "import tensorflow as tf\n",
    "import torch\n",
    "import torch.nn as nn"
   ]
  },
  {
   "cell_type": "code",
   "execution_count": 2,
   "id": "aa8e54f3-60a0-4a6e-ad52-d888d05ba0c2",
   "metadata": {},
   "outputs": [
    {
     "data": {
      "text/plain": [
       "<torch._C.Generator at 0x7b1a98bf0410>"
      ]
     },
     "execution_count": 2,
     "metadata": {},
     "output_type": "execute_result"
    }
   ],
   "source": [
    "%load_ext autoreload\n",
    "%autoreload 2\n",
    "    \n",
    "torch.manual_seed(1)"
   ]
  },
  {
   "cell_type": "code",
   "execution_count": 3,
   "id": "514e2db5-105b-4002-bd57-3f82e35afbac",
   "metadata": {},
   "outputs": [
    {
     "name": "stdout",
     "output_type": "stream",
     "text": [
      "Using cuda device\n"
     ]
    }
   ],
   "source": [
    "device = (\"cuda\" if torch.cuda.is_available() else \"mps\"\n",
    "    if torch.backends.mps.is_available() else \"cpu\"\n",
    ")\n",
    "print(f\"Using {device} device\")"
   ]
  },
  {
   "cell_type": "markdown",
   "id": "29515b97-f4c2-43a2-b9e1-d18800222964",
   "metadata": {},
   "source": [
    "## dataset"
   ]
  },
  {
   "cell_type": "code",
   "execution_count": 153,
   "id": "3ef0f700-aea3-42ba-a748-92fb4262fda4",
   "metadata": {},
   "outputs": [],
   "source": [
    "filter = lambda x: True if 6<= len(x)<=64 else False\n",
    "\n",
    "def filter_df(df, frac=None):\n",
    "    print('original: ', df.shape)\n",
    "    # drop duplicates\n",
    "    df = df.drop_duplicates()\n",
    "    print('duplicated: ', df.shape)\n",
    "    # filter seq by length\n",
    "    df = df[df[0].map(filter)]\n",
    "    print('filtered: ', df.shape)\n",
    "    if frac:\n",
    "        df = df.sample(frac=frac)\n",
    "        print('sampling: ', df.shape)\n",
    "    return df"
   ]
  },
  {
   "cell_type": "code",
   "execution_count": 154,
   "id": "2db964d5-c45a-4ce9-83c4-c84337783a6f",
   "metadata": {},
   "outputs": [
    {
     "name": "stdout",
     "output_type": "stream",
     "text": [
      "original:  (1865242, 2)\n",
      "duplicated:  (1865242, 2)\n",
      "filtered:  (1863935, 2)\n"
     ]
    }
   ],
   "source": [
    "df1 = pd.read_csv('/home/yuan/results/epitope/epitope.txt', sep='\\t', header=None, index_col=None)\n",
    "df1 = filter_df(df1)"
   ]
  },
  {
   "cell_type": "code",
   "execution_count": 155,
   "id": "f16b430e-b260-4cde-8162-771df570621c",
   "metadata": {},
   "outputs": [
    {
     "name": "stdout",
     "output_type": "stream",
     "text": [
      "original:  (3185991, 2)\n",
      "duplicated:  (3185991, 2)\n",
      "filtered:  (3182717, 2)\n",
      "sampling:  (1591358, 2)\n"
     ]
    }
   ],
   "source": [
    "df2 = pd.read_csv('/home/yuan/results/epitope/other.txt', sep='\\t', header=None, index_col=None)\n",
    "df2 = filter_df(df2, .5)"
   ]
  },
  {
   "cell_type": "code",
   "execution_count": 156,
   "id": "18733e6a-e8fa-444a-80c4-4da562f82bcd",
   "metadata": {},
   "outputs": [
    {
     "name": "stdout",
     "output_type": "stream",
     "text": [
      "original:  (1863999, 2)\n",
      "duplicated:  (1863998, 2)\n",
      "filtered:  (1863934, 2)\n",
      "sampling:  (931967, 2)\n"
     ]
    }
   ],
   "source": [
    "df3 = pd.read_csv('/home/yuan/results/epitope/random.txt', sep='\\t', header=None, index_col=None)\n",
    "df3 = filter_df(df3, .5)"
   ]
  },
  {
   "cell_type": "code",
   "execution_count": 139,
   "id": "d63b19ca-c7b3-4172-bfb3-ccdcf8571008",
   "metadata": {},
   "outputs": [],
   "source": [
    "# df4 = pd.read_csv('/home/yuan/results/epitope/shuffle.txt', sep='\\t', header=None, index_col=None)"
   ]
  },
  {
   "cell_type": "code",
   "execution_count": 165,
   "id": "5bd81083-ac96-451d-ad1d-a5e2d4177997",
   "metadata": {},
   "outputs": [
    {
     "name": "stdout",
     "output_type": "stream",
     "text": [
      "(1863935, 2) (1591358, 2) (931967, 2) (4387260, 2)\n"
     ]
    },
    {
     "data": {
      "text/html": [
       "<div>\n",
       "<style scoped>\n",
       "    .dataframe tbody tr th:only-of-type {\n",
       "        vertical-align: middle;\n",
       "    }\n",
       "\n",
       "    .dataframe tbody tr th {\n",
       "        vertical-align: top;\n",
       "    }\n",
       "\n",
       "    .dataframe thead th {\n",
       "        text-align: right;\n",
       "    }\n",
       "</style>\n",
       "<table border=\"1\" class=\"dataframe\">\n",
       "  <thead>\n",
       "    <tr style=\"text-align: right;\">\n",
       "      <th></th>\n",
       "      <th>0</th>\n",
       "      <th>1</th>\n",
       "    </tr>\n",
       "  </thead>\n",
       "  <tbody>\n",
       "    <tr>\n",
       "      <th>1020834</th>\n",
       "      <td>YHVHCADFMQWVWRQECIMN</td>\n",
       "      <td>random</td>\n",
       "    </tr>\n",
       "    <tr>\n",
       "      <th>315921</th>\n",
       "      <td>LKHGENIIDT</td>\n",
       "      <td>other</td>\n",
       "    </tr>\n",
       "    <tr>\n",
       "      <th>1728231</th>\n",
       "      <td>ERQLPQSTGRKPQCF</td>\n",
       "      <td>epitope</td>\n",
       "    </tr>\n",
       "    <tr>\n",
       "      <th>1348063</th>\n",
       "      <td>DSIWQKVLVSSLAFA</td>\n",
       "      <td>epitope</td>\n",
       "    </tr>\n",
       "    <tr>\n",
       "      <th>2844956</th>\n",
       "      <td>EEELKEHLL</td>\n",
       "      <td>other</td>\n",
       "    </tr>\n",
       "  </tbody>\n",
       "</table>\n",
       "</div>"
      ],
      "text/plain": [
       "                            0        1\n",
       "1020834  YHVHCADFMQWVWRQECIMN   random\n",
       "315921             LKHGENIIDT    other\n",
       "1728231       ERQLPQSTGRKPQCF  epitope\n",
       "1348063       DSIWQKVLVSSLAFA  epitope\n",
       "2844956             EEELKEHLL    other"
      ]
     },
     "execution_count": 165,
     "metadata": {},
     "output_type": "execute_result"
    }
   ],
   "source": [
    "df = pd.concat([df1, df2, df3])\n",
    "df = df.sample(frac=1)\n",
    "print(df1.shape, df2.shape, df3.shape, df.shape)\n",
    "df.head()"
   ]
  },
  {
   "cell_type": "code",
   "execution_count": null,
   "id": "1cfde29c-d768-4344-99a8-b4881337e3ac",
   "metadata": {},
   "outputs": [],
   "source": []
  },
  {
   "cell_type": "code",
   "execution_count": null,
   "id": "5de46ab3-ac4c-4434-aa53-479b1e99dd84",
   "metadata": {},
   "outputs": [],
   "source": []
  },
  {
   "cell_type": "code",
   "execution_count": 166,
   "id": "984fdbf2-7f6d-49e2-8e73-f5d8e8c64f79",
   "metadata": {},
   "outputs": [
    {
     "name": "stdout",
     "output_type": "stream",
     "text": [
      "('random', 'YHVHCADFMQWVWRQECIMN')\n",
      "Counter({'epitope': 1863935, 'other': 1591358, 'random': 931967})\n"
     ]
    }
   ],
   "source": [
    "from collections import Counter\n",
    "\n",
    "# train_data = list(df.iloc[:100_000,:].apply(lambda x: (x[1], x[0]), axis=1))\n",
    "train_data = list(df.apply(lambda x: (x[1], x[0]), axis=1))\n",
    "print(train_data[0])\n",
    "counts = Counter([i[0] for i in train_data])\n",
    "print(counts)"
   ]
  },
  {
   "cell_type": "code",
   "execution_count": 167,
   "id": "784d8fa5-525f-42b4-9265-3de33ff7b254",
   "metadata": {},
   "outputs": [
    {
     "name": "stdout",
     "output_type": "stream",
     "text": [
      "example element of data:  ('other', 'NECLWTDML')\n",
      "split data:  2632356 877452 877452\n",
      "\n",
      "## Step 2 tokenization: unique tokens (words)...\n",
      "A sentence converted to tokens: AASNAANDDADTDTD ['A', 'A', 'S', 'N', 'A', 'A', 'N', 'D', 'D', 'A', 'D', 'T', 'D', 'T', 'D']\n",
      "Vocab-size of input: 25\n",
      "Vocab-size of labels: 3\n",
      "OrderedDict([('L', 2723027), ('A', 2287451), ('S', 2258853), ('G', 2062386), ('E', 2060364), ('V', 2028401), ('K', 1838510), ('P', 1815049), ('T', 1767197), ('R', 1716237), ('D', 1633378), ('I', 1557486), ('Q', 1458001), ('N', 1353685), ('F', 1309575), ('Y', 1125203), ('H', 948508), ('M', 849406), ('C', 781961), ('W', 647716), ('X', 1868), ('U', 34), ('Z', 27), ('B', 15), ('J', 2)])\n",
      "counts of input: [1117884, 955061, 559411]\n",
      "\n",
      "## Step 3 encoding: encoding each unique token into integers...\n"
     ]
    }
   ],
   "source": [
    "# embedding\n",
    "from my_embedding import MyEmbedding\n",
    "\n",
    "me = MyEmbedding(train_data)\n",
    "train_ds, valid_ds, test_ds = me.split()\n",
    "me.tokenize()\n",
    "input_vocab, label_vocab = me.build_vocab()"
   ]
  },
  {
   "cell_type": "code",
   "execution_count": 160,
   "id": "2a229582-a5b5-4188-a7da-21bb7ac52ab1",
   "metadata": {},
   "outputs": [
    {
     "data": {
      "text/plain": [
       "('epitope', 'KGVPRDFILPISDVR')"
      ]
     },
     "execution_count": 160,
     "metadata": {},
     "output_type": "execute_result"
    }
   ],
   "source": [
    "# label, text sequence\n",
    "train_ds[0]"
   ]
  },
  {
   "cell_type": "markdown",
   "id": "3aa57f8a-f866-45c7-b979-3cf32955345a",
   "metadata": {},
   "source": [
    "## train model"
   ]
  },
  {
   "cell_type": "code",
   "execution_count": 203,
   "id": "80802fd8-c627-4ee2-a56a-997647c81b98",
   "metadata": {},
   "outputs": [
    {
     "name": "stdout",
     "output_type": "stream",
     "text": [
      "Allocated memory: 65.64 MB\n",
      "Cached memory: 80.00 MB\n"
     ]
    }
   ],
   "source": [
    "def print_gpu_memory():\n",
    "    print(f\"Allocated memory: {torch.cuda.memory_allocated() / 1024**2:.2f} MB\")\n",
    "    print(f\"Cached memory: {torch.cuda.memory_reserved() / 1024**2:.2f} MB\")\n",
    "\n",
    "torch.cuda.empty_cache()\n",
    "print_gpu_memory()"
   ]
  },
  {
   "cell_type": "code",
   "execution_count": 202,
   "id": "bb67726e-e741-4197-8070-e4635104d371",
   "metadata": {},
   "outputs": [],
   "source": [
    "import gc\n",
    "\n",
    "# Invoke garbage collector\n",
    "gc.collect()\n",
    "\n",
    "# Clear GPU cache\n",
    "torch.cuda.empty_cache()"
   ]
  },
  {
   "cell_type": "code",
   "execution_count": 204,
   "id": "24c22740-52d2-46f7-8142-6e49540c66fb",
   "metadata": {},
   "outputs": [
    {
     "name": "stdout",
     "output_type": "stream",
     "text": [
      "MyRnnComb(\n",
      "  (embedding): Embedding(27, 48, padding_idx=0)\n",
      "  (rnn): LSTM(48, 64, num_layers=2, batch_first=True)\n",
      "  (rnn_linear): Sequential(\n",
      "    (0): Linear(in_features=64, out_features=1024, bias=True)\n",
      "    (1): ReLU()\n",
      "  )\n",
      "  (ann): Sequential(\n",
      "    (0): Linear(in_features=25, out_features=256, bias=True)\n",
      "    (1): ReLU()\n",
      "  )\n",
      "  (linear): Sequential(\n",
      "    (0): Linear(in_features=1280, out_features=128, bias=True)\n",
      "    (1): ReLU()\n",
      "    (2): Linear(in_features=128, out_features=1, bias=True)\n",
      "    (3): Sigmoid()\n",
      "  )\n",
      ")\n",
      "Epoch 0 acc: 0.7642 val_acc: 0.7769, val_recall: 0.7740\n",
      "Epoch 1 acc: 0.7786 val_acc: 0.7804, val_recall: 0.7797\n",
      "Epoch 2 acc: 0.7824 val_acc: 0.7828, val_recall: 0.7810\n",
      "Epoch 3 acc: 0.7854 val_acc: 0.7823, val_recall: 0.7813\n",
      "Epoch 4 acc: 0.7874 val_acc: 0.7857, val_recall: 0.7839\n",
      "Epoch 5 acc: 0.7890 val_acc: 0.7865, val_recall: 0.7852\n",
      "Epoch 6 acc: 0.7894 val_acc: 0.7865, val_recall: 0.7842\n",
      "Epoch 7 acc: 0.7910 val_acc: 0.7866, val_recall: 0.7824\n",
      "Epoch 8 acc: 0.7915 val_acc: 0.7859, val_recall: 0.7818\n",
      "Epoch 9 acc: 0.7916 val_acc: 0.7867, val_recall: 0.7824\n",
      "Epoch 10 acc: 0.7925 val_acc: 0.7868, val_recall: 0.7843\n",
      "Epoch 11 acc: 0.7927 val_acc: 0.7858, val_recall: 0.7818\n",
      "Epoch 12 acc: 0.7925 val_acc: 0.7867, val_recall: 0.7824\n",
      "Epoch 13 acc: 0.7941 val_acc: 0.7878, val_recall: 0.7856\n",
      "Epoch 14 acc: 0.7944 val_acc: 0.7871, val_recall: 0.7845\n",
      "Epoch 15 acc: 0.7946 val_acc: 0.7877, val_recall: 0.7871\n",
      "Epoch 16 acc: 0.7948 val_acc: 0.7883, val_recall: 0.7864\n",
      "Epoch 17 acc: 0.7949 val_acc: 0.7869, val_recall: 0.7830\n",
      "Epoch 18 acc: 0.7955 val_acc: 0.7877, val_recall: 0.7846\n",
      "Epoch 19 acc: 0.7956 val_acc: 0.7868, val_recall: 0.7809\n",
      "Epoch 20 acc: 0.7952 val_acc: 0.7865, val_recall: 0.7859\n",
      "Epoch 21 acc: 0.7954 val_acc: 0.7877, val_recall: 0.7837\n",
      "Epoch 22 acc: 0.7954 val_acc: 0.7885, val_recall: 0.7863\n",
      "Epoch 23 acc: 0.7960 val_acc: 0.7875, val_recall: 0.7822\n",
      "Epoch 24 acc: 0.7963 val_acc: 0.7883, val_recall: 0.7881\n",
      "Epoch 25 acc: 0.7961 val_acc: 0.7885, val_recall: 0.7838\n",
      "Epoch 26 acc: 0.7962 val_acc: 0.7882, val_recall: 0.7844\n",
      "Epoch 27 acc: 0.7961 val_acc: 0.7886, val_recall: 0.7853\n",
      "Epoch 28 acc: 0.7963 val_acc: 0.7883, val_recall: 0.7870\n",
      "Epoch 29 acc: 0.7959 val_acc: 0.7879, val_recall: 0.7861\n"
     ]
    }
   ],
   "source": [
    "from my_dataset import MyDataset\n",
    "from my_collate import MyCollate\n",
    "from my_process import MyProcess\n",
    "from my_rnn_comb import MyRnnComb\n",
    "\n",
    "from amino_acid.encode_aa import EncodeAA\n",
    "aa_encoder = EncodeAA()\n",
    "\n",
    "vocab_size = len(input_vocab)\n",
    "embedding_dim = 48\n",
    "num_features = 25\n",
    "model = MyRnnComb(vocab_size, embedding_dim, num_features).to(device)\n",
    "print(model)\n",
    "\n",
    "# training model\n",
    "# update collate_batch\n",
    "## Step 3-A: define the functions for transformation\n",
    "# feed a tokens vector representing one sentence \n",
    "text_pipeline = lambda x: [input_vocab[token] for token in list(x)]\n",
    "label_pipeline = lambda x: 1 if x == 'epitope' else 0\n",
    "collate_fn = MyCollate(text_pipeline, label_pipeline, aa_encoder.mean_comp)\n",
    "\n",
    "num_epochs = 30\n",
    "p = MyProcess(model, collate_fn, num_epochs)\n",
    "trained_model, stat = p.run(train_ds, valid_ds)"
   ]
  },
  {
   "cell_type": "code",
   "execution_count": 145,
   "id": "97ffb861-b2da-48be-8680-09fc29910f69",
   "metadata": {},
   "outputs": [
    {
     "name": "stdout",
     "output_type": "stream",
     "text": [
      "Epoch 0 acc: 0.8170 val_acc: 0.8136, val_recall: 0.7425\n",
      "Epoch 1 acc: 0.8167 val_acc: 0.8139, val_recall: 0.7377\n",
      "Epoch 2 acc: 0.8186 val_acc: 0.8141, val_recall: 0.7433\n",
      "Epoch 3 acc: 0.8189 val_acc: 0.8142, val_recall: 0.7382\n",
      "Epoch 4 acc: 0.8188 val_acc: 0.8142, val_recall: 0.7400\n",
      "Epoch 5 acc: 0.8196 val_acc: 0.8150, val_recall: 0.7398\n",
      "Epoch 6 acc: 0.8196 val_acc: 0.8153, val_recall: 0.7411\n",
      "Epoch 7 acc: 0.8191 val_acc: 0.8145, val_recall: 0.7437\n",
      "Epoch 8 acc: 0.8197 val_acc: 0.8143, val_recall: 0.7308\n",
      "Epoch 9 acc: 0.8201 val_acc: 0.8146, val_recall: 0.7521\n"
     ]
    }
   ],
   "source": [
    "num_epochs = 10\n",
    "p = MyProcess(model, collate_fn, num_epochs)\n",
    "trained_model, stat = p.run(train_ds, valid_ds)"
   ]
  },
  {
   "cell_type": "code",
   "execution_count": 205,
   "id": "9a43731a-a246-4700-b9b4-d72cf98efc41",
   "metadata": {},
   "outputs": [
    {
     "data": {
      "text/html": [
       "<div>\n",
       "<style scoped>\n",
       "    .dataframe tbody tr th:only-of-type {\n",
       "        vertical-align: middle;\n",
       "    }\n",
       "\n",
       "    .dataframe tbody tr th {\n",
       "        vertical-align: top;\n",
       "    }\n",
       "\n",
       "    .dataframe thead th {\n",
       "        text-align: right;\n",
       "    }\n",
       "</style>\n",
       "<table border=\"1\" class=\"dataframe\">\n",
       "  <thead>\n",
       "    <tr style=\"text-align: right;\">\n",
       "      <th></th>\n",
       "      <th>acc_train</th>\n",
       "      <th>loss_train</th>\n",
       "      <th>acc_valid</th>\n",
       "      <th>loss_valid</th>\n",
       "      <th>rec_valid</th>\n",
       "    </tr>\n",
       "  </thead>\n",
       "  <tbody>\n",
       "    <tr>\n",
       "      <th>0</th>\n",
       "      <td>0.764170</td>\n",
       "      <td>0.484800</td>\n",
       "      <td>0.776902</td>\n",
       "      <td>0.465344</td>\n",
       "      <td>0.773952</td>\n",
       "    </tr>\n",
       "    <tr>\n",
       "      <th>1</th>\n",
       "      <td>0.778601</td>\n",
       "      <td>0.462520</td>\n",
       "      <td>0.780390</td>\n",
       "      <td>0.459942</td>\n",
       "      <td>0.779728</td>\n",
       "    </tr>\n",
       "    <tr>\n",
       "      <th>2</th>\n",
       "      <td>0.782385</td>\n",
       "      <td>0.456617</td>\n",
       "      <td>0.782789</td>\n",
       "      <td>0.455267</td>\n",
       "      <td>0.781036</td>\n",
       "    </tr>\n",
       "    <tr>\n",
       "      <th>3</th>\n",
       "      <td>0.785384</td>\n",
       "      <td>0.451813</td>\n",
       "      <td>0.782288</td>\n",
       "      <td>0.457223</td>\n",
       "      <td>0.781311</td>\n",
       "    </tr>\n",
       "    <tr>\n",
       "      <th>4</th>\n",
       "      <td>0.787386</td>\n",
       "      <td>0.448373</td>\n",
       "      <td>0.785668</td>\n",
       "      <td>0.451322</td>\n",
       "      <td>0.783939</td>\n",
       "    </tr>\n",
       "    <tr>\n",
       "      <th>5</th>\n",
       "      <td>0.789037</td>\n",
       "      <td>0.446117</td>\n",
       "      <td>0.786507</td>\n",
       "      <td>0.452912</td>\n",
       "      <td>0.785189</td>\n",
       "    </tr>\n",
       "    <tr>\n",
       "      <th>6</th>\n",
       "      <td>0.789361</td>\n",
       "      <td>0.445363</td>\n",
       "      <td>0.786543</td>\n",
       "      <td>0.450921</td>\n",
       "      <td>0.784221</td>\n",
       "    </tr>\n",
       "    <tr>\n",
       "      <th>7</th>\n",
       "      <td>0.791015</td>\n",
       "      <td>0.442654</td>\n",
       "      <td>0.786583</td>\n",
       "      <td>0.450061</td>\n",
       "      <td>0.782362</td>\n",
       "    </tr>\n",
       "    <tr>\n",
       "      <th>8</th>\n",
       "      <td>0.791463</td>\n",
       "      <td>0.442106</td>\n",
       "      <td>0.785928</td>\n",
       "      <td>0.453708</td>\n",
       "      <td>0.781827</td>\n",
       "    </tr>\n",
       "    <tr>\n",
       "      <th>9</th>\n",
       "      <td>0.791648</td>\n",
       "      <td>0.442072</td>\n",
       "      <td>0.786690</td>\n",
       "      <td>0.451191</td>\n",
       "      <td>0.782369</td>\n",
       "    </tr>\n",
       "    <tr>\n",
       "      <th>10</th>\n",
       "      <td>0.792465</td>\n",
       "      <td>0.440542</td>\n",
       "      <td>0.786833</td>\n",
       "      <td>0.451194</td>\n",
       "      <td>0.784283</td>\n",
       "    </tr>\n",
       "    <tr>\n",
       "      <th>11</th>\n",
       "      <td>0.792662</td>\n",
       "      <td>0.440332</td>\n",
       "      <td>0.785822</td>\n",
       "      <td>0.450959</td>\n",
       "      <td>0.781755</td>\n",
       "    </tr>\n",
       "    <tr>\n",
       "      <th>12</th>\n",
       "      <td>0.792533</td>\n",
       "      <td>0.440544</td>\n",
       "      <td>0.786682</td>\n",
       "      <td>0.449689</td>\n",
       "      <td>0.782421</td>\n",
       "    </tr>\n",
       "    <tr>\n",
       "      <th>13</th>\n",
       "      <td>0.794080</td>\n",
       "      <td>0.438174</td>\n",
       "      <td>0.787831</td>\n",
       "      <td>0.450889</td>\n",
       "      <td>0.785563</td>\n",
       "    </tr>\n",
       "    <tr>\n",
       "      <th>14</th>\n",
       "      <td>0.794420</td>\n",
       "      <td>0.437568</td>\n",
       "      <td>0.787123</td>\n",
       "      <td>0.452767</td>\n",
       "      <td>0.784535</td>\n",
       "    </tr>\n",
       "    <tr>\n",
       "      <th>15</th>\n",
       "      <td>0.794629</td>\n",
       "      <td>0.437426</td>\n",
       "      <td>0.787717</td>\n",
       "      <td>0.451294</td>\n",
       "      <td>0.787130</td>\n",
       "    </tr>\n",
       "    <tr>\n",
       "      <th>16</th>\n",
       "      <td>0.794760</td>\n",
       "      <td>0.437340</td>\n",
       "      <td>0.788298</td>\n",
       "      <td>0.449513</td>\n",
       "      <td>0.786356</td>\n",
       "    </tr>\n",
       "    <tr>\n",
       "      <th>17</th>\n",
       "      <td>0.794869</td>\n",
       "      <td>0.436846</td>\n",
       "      <td>0.786913</td>\n",
       "      <td>0.453028</td>\n",
       "      <td>0.783040</td>\n",
       "    </tr>\n",
       "    <tr>\n",
       "      <th>18</th>\n",
       "      <td>0.795471</td>\n",
       "      <td>0.436488</td>\n",
       "      <td>0.787715</td>\n",
       "      <td>0.448876</td>\n",
       "      <td>0.784648</td>\n",
       "    </tr>\n",
       "    <tr>\n",
       "      <th>19</th>\n",
       "      <td>0.795550</td>\n",
       "      <td>0.435878</td>\n",
       "      <td>0.786832</td>\n",
       "      <td>0.455822</td>\n",
       "      <td>0.780909</td>\n",
       "    </tr>\n",
       "    <tr>\n",
       "      <th>20</th>\n",
       "      <td>0.795192</td>\n",
       "      <td>0.437018</td>\n",
       "      <td>0.786494</td>\n",
       "      <td>0.452589</td>\n",
       "      <td>0.785872</td>\n",
       "    </tr>\n",
       "    <tr>\n",
       "      <th>21</th>\n",
       "      <td>0.795414</td>\n",
       "      <td>0.437408</td>\n",
       "      <td>0.787722</td>\n",
       "      <td>0.449614</td>\n",
       "      <td>0.783716</td>\n",
       "    </tr>\n",
       "    <tr>\n",
       "      <th>22</th>\n",
       "      <td>0.795433</td>\n",
       "      <td>0.437103</td>\n",
       "      <td>0.788466</td>\n",
       "      <td>0.448129</td>\n",
       "      <td>0.786275</td>\n",
       "    </tr>\n",
       "    <tr>\n",
       "      <th>23</th>\n",
       "      <td>0.795963</td>\n",
       "      <td>0.435575</td>\n",
       "      <td>0.787488</td>\n",
       "      <td>0.449068</td>\n",
       "      <td>0.782246</td>\n",
       "    </tr>\n",
       "    <tr>\n",
       "      <th>24</th>\n",
       "      <td>0.796291</td>\n",
       "      <td>0.435307</td>\n",
       "      <td>0.788303</td>\n",
       "      <td>0.451542</td>\n",
       "      <td>0.788071</td>\n",
       "    </tr>\n",
       "    <tr>\n",
       "      <th>25</th>\n",
       "      <td>0.796139</td>\n",
       "      <td>0.435563</td>\n",
       "      <td>0.788508</td>\n",
       "      <td>0.449752</td>\n",
       "      <td>0.783801</td>\n",
       "    </tr>\n",
       "    <tr>\n",
       "      <th>26</th>\n",
       "      <td>0.796190</td>\n",
       "      <td>0.435482</td>\n",
       "      <td>0.788241</td>\n",
       "      <td>0.452170</td>\n",
       "      <td>0.784356</td>\n",
       "    </tr>\n",
       "    <tr>\n",
       "      <th>27</th>\n",
       "      <td>0.796096</td>\n",
       "      <td>0.435313</td>\n",
       "      <td>0.788620</td>\n",
       "      <td>0.450014</td>\n",
       "      <td>0.785299</td>\n",
       "    </tr>\n",
       "    <tr>\n",
       "      <th>28</th>\n",
       "      <td>0.796314</td>\n",
       "      <td>0.435422</td>\n",
       "      <td>0.788294</td>\n",
       "      <td>0.449958</td>\n",
       "      <td>0.787011</td>\n",
       "    </tr>\n",
       "    <tr>\n",
       "      <th>29</th>\n",
       "      <td>0.795909</td>\n",
       "      <td>0.437010</td>\n",
       "      <td>0.787855</td>\n",
       "      <td>0.453425</td>\n",
       "      <td>0.786091</td>\n",
       "    </tr>\n",
       "  </tbody>\n",
       "</table>\n",
       "</div>"
      ],
      "text/plain": [
       "    acc_train  loss_train  acc_valid  loss_valid  rec_valid\n",
       "0    0.764170    0.484800   0.776902    0.465344   0.773952\n",
       "1    0.778601    0.462520   0.780390    0.459942   0.779728\n",
       "2    0.782385    0.456617   0.782789    0.455267   0.781036\n",
       "3    0.785384    0.451813   0.782288    0.457223   0.781311\n",
       "4    0.787386    0.448373   0.785668    0.451322   0.783939\n",
       "5    0.789037    0.446117   0.786507    0.452912   0.785189\n",
       "6    0.789361    0.445363   0.786543    0.450921   0.784221\n",
       "7    0.791015    0.442654   0.786583    0.450061   0.782362\n",
       "8    0.791463    0.442106   0.785928    0.453708   0.781827\n",
       "9    0.791648    0.442072   0.786690    0.451191   0.782369\n",
       "10   0.792465    0.440542   0.786833    0.451194   0.784283\n",
       "11   0.792662    0.440332   0.785822    0.450959   0.781755\n",
       "12   0.792533    0.440544   0.786682    0.449689   0.782421\n",
       "13   0.794080    0.438174   0.787831    0.450889   0.785563\n",
       "14   0.794420    0.437568   0.787123    0.452767   0.784535\n",
       "15   0.794629    0.437426   0.787717    0.451294   0.787130\n",
       "16   0.794760    0.437340   0.788298    0.449513   0.786356\n",
       "17   0.794869    0.436846   0.786913    0.453028   0.783040\n",
       "18   0.795471    0.436488   0.787715    0.448876   0.784648\n",
       "19   0.795550    0.435878   0.786832    0.455822   0.780909\n",
       "20   0.795192    0.437018   0.786494    0.452589   0.785872\n",
       "21   0.795414    0.437408   0.787722    0.449614   0.783716\n",
       "22   0.795433    0.437103   0.788466    0.448129   0.786275\n",
       "23   0.795963    0.435575   0.787488    0.449068   0.782246\n",
       "24   0.796291    0.435307   0.788303    0.451542   0.788071\n",
       "25   0.796139    0.435563   0.788508    0.449752   0.783801\n",
       "26   0.796190    0.435482   0.788241    0.452170   0.784356\n",
       "27   0.796096    0.435313   0.788620    0.450014   0.785299\n",
       "28   0.796314    0.435422   0.788294    0.449958   0.787011\n",
       "29   0.795909    0.437010   0.787855    0.453425   0.786091"
      ]
     },
     "execution_count": 205,
     "metadata": {},
     "output_type": "execute_result"
    }
   ],
   "source": [
    "stat"
   ]
  },
  {
   "cell_type": "code",
   "execution_count": 206,
   "id": "6a83bb91-c92b-43a6-969d-fbaacc74592f",
   "metadata": {},
   "outputs": [
    {
     "data": {
      "text/html": [
       "<div>\n",
       "<style scoped>\n",
       "    .dataframe tbody tr th:only-of-type {\n",
       "        vertical-align: middle;\n",
       "    }\n",
       "\n",
       "    .dataframe tbody tr th {\n",
       "        vertical-align: top;\n",
       "    }\n",
       "\n",
       "    .dataframe thead th {\n",
       "        text-align: right;\n",
       "    }\n",
       "</style>\n",
       "<table border=\"1\" class=\"dataframe\">\n",
       "  <thead>\n",
       "    <tr style=\"text-align: right;\">\n",
       "      <th></th>\n",
       "      <th>text</th>\n",
       "      <th>predict</th>\n",
       "    </tr>\n",
       "  </thead>\n",
       "  <tbody>\n",
       "    <tr>\n",
       "      <th>0</th>\n",
       "      <td>SSPFLKGFLAGYVVAKLRASAV</td>\n",
       "      <td>0.749350</td>\n",
       "    </tr>\n",
       "    <tr>\n",
       "      <th>1</th>\n",
       "      <td>AELMPVGDNN</td>\n",
       "      <td>0.182308</td>\n",
       "    </tr>\n",
       "    <tr>\n",
       "      <th>2</th>\n",
       "      <td>AXAXAXAXA</td>\n",
       "      <td>0.002530</td>\n",
       "    </tr>\n",
       "  </tbody>\n",
       "</table>\n",
       "</div>"
      ],
      "text/plain": [
       "                     text   predict\n",
       "0  SSPFLKGFLAGYVVAKLRASAV  0.749350\n",
       "1              AELMPVGDNN  0.182308\n",
       "2               AXAXAXAXA  0.002530"
      ]
     },
     "execution_count": 206,
     "metadata": {},
     "output_type": "execute_result"
    }
   ],
   "source": [
    "# test predict\n",
    "input = [\n",
    "    # epitope\n",
    "    'SSPFLKGFLAGYVVAKLRASAV', \n",
    "    # other seq\n",
    "    'AELMPVGDNN',\n",
    "    # wrong seq\n",
    "    'AXAXAXAXA'\n",
    "]\n",
    "res = p.predict(input)\n",
    "res"
   ]
  },
  {
   "cell_type": "code",
   "execution_count": 207,
   "id": "6c951285-2640-4a7f-aa16-adecf90b5844",
   "metadata": {},
   "outputs": [
    {
     "name": "stdout",
     "output_type": "stream",
     "text": [
      "Embedding(27, 48, padding_idx=0)\n",
      "torch.Size([27, 48])\n"
     ]
    }
   ],
   "source": [
    "print(trained_model.embedding)\n",
    "print(trained_model.embedding.weight.shape)"
   ]
  },
  {
   "cell_type": "code",
   "execution_count": 208,
   "id": "97a66b76-bbaf-4a88-bf03-0c63fc04a972",
   "metadata": {},
   "outputs": [
    {
     "data": {
      "image/png": "[encoded data removed]",
      "text/plain": [
       "<Figure size 1000x300 with 2 Axes>"
      ]
     },
     "metadata": {},
     "output_type": "display_data"
    }
   ],
   "source": [
    "fig = plt.figure(figsize=(10,3))\n",
    "x_arr = list(range(num_epochs))\n",
    "ax = fig.add_subplot(1,2,1)\n",
    "ax.plot(x_arr, stat.acc_train, label=\"Accuracy of train\")\n",
    "ax.plot(x_arr, stat.acc_valid, label=\"Accuracy of validation\")\n",
    "ax.plot(x_arr, stat.rec_valid, label=\"Recall of validation\")\n",
    "ax.legend(fontsize=12)\n",
    "# ax.set_ylim(.8, 1)\n",
    "ax.set_title('Accuracy')\n",
    "ax.set_xlabel('Epochs')\n",
    "ax.set_ylabel('Percentage %')\n",
    "\n",
    "ax = fig.add_subplot(1,2,2)\n",
    "ax.plot(x_arr, stat.loss_train, label=\"Loss of train\")\n",
    "ax.plot(x_arr, stat.loss_valid, label=\"Loss of validation\")\n",
    "ax.legend(fontsize=12)\n",
    "ax.set_title('Loss')\n",
    "ax.set_xlabel('Epochs')\n",
    "ax.set_ylabel('Loss')\n",
    "\n",
    "plt.show()"
   ]
  },
  {
   "cell_type": "code",
   "execution_count": 209,
   "id": "5394a85d-d696-4ae3-ad38-4c61e0842d63",
   "metadata": {},
   "outputs": [
    {
     "data": {
      "text/plain": [
       "{'recall': 0.7860995415195535,\n",
       " 'accuracy': 0.787799218646718,\n",
       " 'loss': 0.4528389690663039}"
      ]
     },
     "execution_count": 209,
     "metadata": {},
     "output_type": "execute_result"
    }
   ],
   "source": [
    "# test model using test data\n",
    "res = p.test(test_ds)\n",
    "res"
   ]
  },
  {
   "cell_type": "code",
   "execution_count": 210,
   "id": "b731fd69-2d27-4b64-9a87-581a1fa3e2fb",
   "metadata": {},
   "outputs": [
    {
     "data": {
      "text/html": [
       "<div>\n",
       "<style scoped>\n",
       "    .dataframe tbody tr th:only-of-type {\n",
       "        vertical-align: middle;\n",
       "    }\n",
       "\n",
       "    .dataframe tbody tr th {\n",
       "        vertical-align: top;\n",
       "    }\n",
       "\n",
       "    .dataframe thead th {\n",
       "        text-align: right;\n",
       "    }\n",
       "</style>\n",
       "<table border=\"1\" class=\"dataframe\">\n",
       "  <thead>\n",
       "    <tr style=\"text-align: right;\">\n",
       "      <th></th>\n",
       "      <th>text</th>\n",
       "      <th>predict</th>\n",
       "      <th>labels</th>\n",
       "    </tr>\n",
       "  </thead>\n",
       "  <tbody>\n",
       "    <tr>\n",
       "      <th>0</th>\n",
       "      <td>NETGQTADGDAAHSA</td>\n",
       "      <td>0.904805</td>\n",
       "      <td>epitope</td>\n",
       "    </tr>\n",
       "    <tr>\n",
       "      <th>1</th>\n",
       "      <td>AVIMRGTPQIQRVMTM</td>\n",
       "      <td>0.235419</td>\n",
       "      <td>epitope</td>\n",
       "    </tr>\n",
       "    <tr>\n",
       "      <th>2</th>\n",
       "      <td>GRGHLLGRLAAIVAKQVL</td>\n",
       "      <td>0.935228</td>\n",
       "      <td>epitope</td>\n",
       "    </tr>\n",
       "    <tr>\n",
       "      <th>3</th>\n",
       "      <td>HGIAKDEYHQSTRSM</td>\n",
       "      <td>0.237436</td>\n",
       "      <td>random</td>\n",
       "    </tr>\n",
       "    <tr>\n",
       "      <th>4</th>\n",
       "      <td>SLPNHSEPDHDTDAGLERTNPEYE</td>\n",
       "      <td>0.787168</td>\n",
       "      <td>epitope</td>\n",
       "    </tr>\n",
       "  </tbody>\n",
       "</table>\n",
       "</div>"
      ],
      "text/plain": [
       "                       text   predict   labels\n",
       "0           NETGQTADGDAAHSA  0.904805  epitope\n",
       "1          AVIMRGTPQIQRVMTM  0.235419  epitope\n",
       "2        GRGHLLGRLAAIVAKQVL  0.935228  epitope\n",
       "3           HGIAKDEYHQSTRSM  0.237436   random\n",
       "4  SLPNHSEPDHDTDAGLERTNPEYE  0.787168  epitope"
      ]
     },
     "execution_count": 210,
     "metadata": {},
     "output_type": "execute_result"
    }
   ],
   "source": [
    "# distriubtion of prediction probability using test data\n",
    "test_X = [i[1] for i in test_ds]\n",
    "pred_test = p.predict(test_X)\n",
    "pred_test['labels'] = [i[0] for i in test_ds]\n",
    "pred_test.head()"
   ]
  },
  {
   "cell_type": "code",
   "execution_count": 214,
   "id": "56639470-53ef-474f-b171-051cfa71bca2",
   "metadata": {},
   "outputs": [
    {
     "name": "stdout",
     "output_type": "stream",
     "text": [
      "373559 503893\n"
     ]
    },
    {
     "data": {
      "text/plain": [
       "Text(0.5, 1.0, 'Distinguish non-epitopes, n = 503893')"
      ]
     },
     "execution_count": 214,
     "metadata": {},
     "output_type": "execute_result"
    },
    {
     "data": {
      "image/png": "[encoded data removed]",
      "text/plain": [
       "<Figure size 900x300 with 2 Axes>"
      ]
     },
     "metadata": {},
     "output_type": "display_data"
    }
   ],
   "source": [
    "t = pred_test[pred_test['labels']=='epitope']['predict']\n",
    "f = pred_test[~(pred_test['labels']=='epitope')]['predict']\n",
    "print(len(t), len(f))\n",
    "\n",
    "fig, ax = plt.subplots(1, 2, figsize=(9,3), layout='tight')\n",
    "fig.suptitle('Evavluate RNN+ANN model using test data')\n",
    "fig.supxlabel('probability')\n",
    "fig.supylabel('number')\n",
    "\n",
    "ax[0].hist(t, bins=50)\n",
    "ax[0].set_title(f'Predict epitopes, n = {len(t)}')\n",
    "ax[1].hist(f, bins=50)\n",
    "ax[1].set_title(f'Distinguish non-epitopes, n = {len(f)}')"
   ]
  },
  {
   "cell_type": "code",
   "execution_count": 212,
   "id": "f6c47144-35cc-4dc5-99eb-ac1daa32ee65",
   "metadata": {},
   "outputs": [
    {
     "data": {
      "text/plain": [
       "[<matplotlib.lines.Line2D at 0x7b1949efa090>]"
      ]
     },
     "execution_count": 212,
     "metadata": {},
     "output_type": "execute_result"
    },
    {
     "data": {
      "image/png": "[encoded data removed]",
      "text/plain": [
       "<Figure size 640x480 with 1 Axes>"
      ]
     },
     "metadata": {},
     "output_type": "display_data"
    }
   ],
   "source": [
    "from sklearn.metrics import roc_curve, auc\n",
    "\n",
    "fpr, tpr, thresholds = roc_curve(pred_test['labels'], pred_test['predict'], pos_label='epitope')\n",
    "roc_auc = auc(fpr, tpr)\n",
    "plt.plot(fpr, tpr, color='black')\n",
    "plt.title(f'ROC (area={roc_auc:.2f})')\n",
    "plt.xlabel('False postive rate')\n",
    "plt.ylabel('True postive rate')\n",
    "plt.plot([0,1],[0,1], linestyle='--', color='grey')\n",
    "plt.plot([0,0,1],[0,1,1], linestyle=':', color='grey')"
   ]
  },
  {
   "cell_type": "code",
   "execution_count": 215,
   "id": "f327ed2d-7793-43f5-bc99-50f9326213a2",
   "metadata": {},
   "outputs": [],
   "source": [
    "# save model\n",
    "torch.save(input_vocab, '../models/epitopes_rnn_vocab.pth')\n",
    "torch.save(model.state_dict(), '../models/epitopes_rnn_ann.pth')"
   ]
  },
  {
   "cell_type": "code",
   "execution_count": null,
   "id": "a01520b5-993f-449c-871f-8ea4d46a4f99",
   "metadata": {},
   "outputs": [],
   "source": []
  },
  {
   "cell_type": "code",
   "execution_count": null,
   "id": "15156d7e-4bd5-497f-ab92-1700a93b63eb",
   "metadata": {},
   "outputs": [],
   "source": []
  }
 ],
 "metadata": {
  "kernelspec": {
   "display_name": "Python 3 (ipykernel)",
   "language": "python",
   "name": "python3"
  },
  "language_info": {
   "codemirror_mode": {
    "name": "ipython",
    "version": 3
   },
   "file_extension": ".py",
   "mimetype": "text/x-python",
   "name": "python",
   "nbconvert_exporter": "python",
   "pygments_lexer": "ipython3",
   "version": "3.11.9"
  }
 },
 "nbformat": 4,
 "nbformat_minor": 5
}
