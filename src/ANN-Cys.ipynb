{
 "cells": [
  {
   "cell_type": "markdown",
   "id": "02d6f8b9-7924-4ba0-b466-5845a983bfe7",
   "metadata": {},
   "source": [
    "# fully-connected neural network"
   ]
  },
  {
   "cell_type": "code",
   "execution_count": 1,
   "id": "fdebc28d-d810-4d7a-aeba-a0a66fac8f2e",
   "metadata": {},
   "outputs": [
    {
     "name": "stderr",
     "output_type": "stream",
     "text": [
      "2025-01-12 21:24:57.584904: I tensorflow/core/util/port.cc:153] oneDNN custom operations are on. You may see slightly different numerical results due to floating-point round-off errors from different computation orders. To turn them off, set the environment variable `TF_ENABLE_ONEDNN_OPTS=0`.\n",
      "2025-01-12 21:24:57.593676: E external/local_xla/xla/stream_executor/cuda/cuda_fft.cc:485] Unable to register cuFFT factory: Attempting to register factory for plugin cuFFT when one has already been registered\n",
      "2025-01-12 21:24:57.602620: E external/local_xla/xla/stream_executor/cuda/cuda_dnn.cc:8454] Unable to register cuDNN factory: Attempting to register factory for plugin cuDNN when one has already been registered\n",
      "2025-01-12 21:24:57.605403: E external/local_xla/xla/stream_executor/cuda/cuda_blas.cc:1452] Unable to register cuBLAS factory: Attempting to register factory for plugin cuBLAS when one has already been registered\n",
      "2025-01-12 21:24:57.612736: I tensorflow/core/platform/cpu_feature_guard.cc:210] This TensorFlow binary is optimized to use available CPU instructions in performance-critical operations.\n",
      "To enable the following instructions: AVX2 AVX_VNNI FMA, in other operations, rebuild TensorFlow with the appropriate compiler flags.\n",
      "2025-01-12 21:24:58.062493: W tensorflow/compiler/tf2tensorrt/utils/py_utils.cc:38] TF-TRT Warning: Could not find TensorRT\n"
     ]
    }
   ],
   "source": [
    "import json\n",
    "import os\n",
    "from copy import deepcopy\n",
    "import random\n",
    "\n",
    "import numpy as np\n",
    "import pandas as pd\n",
    "import matplotlib.pyplot as plt\n",
    "import seaborn as sns\n",
    "\n",
    "import tensorflow as tf\n",
    "import torch\n",
    "import torch.nn as nn"
   ]
  },
  {
   "cell_type": "code",
   "execution_count": 2,
   "id": "f8ecbce9-ca37-4a19-87c4-df9300d1b98b",
   "metadata": {},
   "outputs": [],
   "source": [
    "%load_ext autoreload\n",
    "%autoreload 2"
   ]
  },
  {
   "cell_type": "code",
   "execution_count": 20,
   "id": "fb9ab2bf-f877-46b4-844f-1b810df374d6",
   "metadata": {},
   "outputs": [
    {
     "name": "stdout",
     "output_type": "stream",
     "text": [
      "Allocated memory: 0.00 MB\n",
      "Cached memory: 0.00 MB\n"
     ]
    }
   ],
   "source": [
    "def print_gpu_memory():\n",
    "    print(f\"Allocated memory: {torch.cuda.memory_allocated() / 1024**2:.2f} MB\")\n",
    "    print(f\"Cached memory: {torch.cuda.memory_reserved() / 1024**2:.2f} MB\")\n",
    "\n",
    "torch.cuda.empty_cache()\n",
    "print_gpu_memory()\n",
    "\n",
    "import gc\n",
    "\n",
    "# Invoke garbage collector\n",
    "gc.collect()\n",
    "\n",
    "# Clear GPU cache\n",
    "torch.cuda.empty_cache()"
   ]
  },
  {
   "cell_type": "markdown",
   "id": "8c22a907-565d-452e-ac35-d373a5b1b9eb",
   "metadata": {},
   "source": [
    "## dataset"
   ]
  },
  {
   "cell_type": "code",
   "execution_count": 3,
   "id": "3068e93e-4129-4b7c-9c76-19a9346f46ab",
   "metadata": {},
   "outputs": [
    {
     "name": "stdout",
     "output_type": "stream",
     "text": [
      "(3458238, 50)\n"
     ]
    },
    {
     "data": {
      "text/html": [
       "<div>\n",
       "<style scoped>\n",
       "    .dataframe tbody tr th:only-of-type {\n",
       "        vertical-align: middle;\n",
       "    }\n",
       "\n",
       "    .dataframe tbody tr th {\n",
       "        vertical-align: top;\n",
       "    }\n",
       "\n",
       "    .dataframe thead th {\n",
       "        text-align: right;\n",
       "    }\n",
       "</style>\n",
       "<table border=\"1\" class=\"dataframe\">\n",
       "  <thead>\n",
       "    <tr style=\"text-align: right;\">\n",
       "      <th></th>\n",
       "      <th>seq</th>\n",
       "      <th>label</th>\n",
       "      <th>mean_hydro_ph7</th>\n",
       "      <th>mean_hydro</th>\n",
       "      <th>mean_polar</th>\n",
       "      <th>mean_polar_stab</th>\n",
       "      <th>mean_VDWV</th>\n",
       "      <th>median_hydro_ph7</th>\n",
       "      <th>median_hydro</th>\n",
       "      <th>median_polar</th>\n",
       "      <th>...</th>\n",
       "      <th>has_C</th>\n",
       "      <th>has_I</th>\n",
       "      <th>has_L</th>\n",
       "      <th>has_K</th>\n",
       "      <th>has_F</th>\n",
       "      <th>has_P</th>\n",
       "      <th>has_S</th>\n",
       "      <th>has_T</th>\n",
       "      <th>has_Y</th>\n",
       "      <th>has_V</th>\n",
       "    </tr>\n",
       "  </thead>\n",
       "  <tbody>\n",
       "    <tr>\n",
       "      <th>2741914</th>\n",
       "      <td>DMALKMMRLVT</td>\n",
       "      <td>0</td>\n",
       "      <td>41.272727</td>\n",
       "      <td>0.980909</td>\n",
       "      <td>7.663636</td>\n",
       "      <td>0.176727</td>\n",
       "      <td>3.779091</td>\n",
       "      <td>74.0</td>\n",
       "      <td>1.180</td>\n",
       "      <td>5.9</td>\n",
       "      <td>...</td>\n",
       "      <td>0</td>\n",
       "      <td>0</td>\n",
       "      <td>1</td>\n",
       "      <td>1</td>\n",
       "      <td>0</td>\n",
       "      <td>0</td>\n",
       "      <td>0</td>\n",
       "      <td>1</td>\n",
       "      <td>0</td>\n",
       "      <td>1</td>\n",
       "    </tr>\n",
       "    <tr>\n",
       "      <th>1577076</th>\n",
       "      <td>GVFDDTITEM</td>\n",
       "      <td>1</td>\n",
       "      <td>23.400000</td>\n",
       "      <td>0.830000</td>\n",
       "      <td>8.650000</td>\n",
       "      <td>0.141400</td>\n",
       "      <td>3.186000</td>\n",
       "      <td>13.0</td>\n",
       "      <td>0.465</td>\n",
       "      <td>8.6</td>\n",
       "      <td>...</td>\n",
       "      <td>0</td>\n",
       "      <td>1</td>\n",
       "      <td>0</td>\n",
       "      <td>0</td>\n",
       "      <td>1</td>\n",
       "      <td>0</td>\n",
       "      <td>0</td>\n",
       "      <td>1</td>\n",
       "      <td>0</td>\n",
       "      <td>1</td>\n",
       "    </tr>\n",
       "    <tr>\n",
       "      <th>118482</th>\n",
       "      <td>ETAGEEAQG</td>\n",
       "      <td>0</td>\n",
       "      <td>-0.888889</td>\n",
       "      <td>0.313333</td>\n",
       "      <td>10.022222</td>\n",
       "      <td>0.092556</td>\n",
       "      <td>2.210000</td>\n",
       "      <td>0.0</td>\n",
       "      <td>0.470</td>\n",
       "      <td>9.0</td>\n",
       "      <td>...</td>\n",
       "      <td>0</td>\n",
       "      <td>0</td>\n",
       "      <td>0</td>\n",
       "      <td>0</td>\n",
       "      <td>0</td>\n",
       "      <td>0</td>\n",
       "      <td>0</td>\n",
       "      <td>1</td>\n",
       "      <td>0</td>\n",
       "      <td>0</td>\n",
       "    </tr>\n",
       "    <tr>\n",
       "      <th>2384187</th>\n",
       "      <td>YRDFPDCVP</td>\n",
       "      <td>0</td>\n",
       "      <td>8.000000</td>\n",
       "      <td>1.301111</td>\n",
       "      <td>8.366667</td>\n",
       "      <td>0.179889</td>\n",
       "      <td>3.880000</td>\n",
       "      <td>-14.0</td>\n",
       "      <td>1.320</td>\n",
       "      <td>8.0</td>\n",
       "      <td>...</td>\n",
       "      <td>1</td>\n",
       "      <td>0</td>\n",
       "      <td>0</td>\n",
       "      <td>0</td>\n",
       "      <td>1</td>\n",
       "      <td>1</td>\n",
       "      <td>0</td>\n",
       "      <td>0</td>\n",
       "      <td>1</td>\n",
       "      <td>1</td>\n",
       "    </tr>\n",
       "    <tr>\n",
       "      <th>1824993</th>\n",
       "      <td>IREFQLPSSQISMVPNVGLKF</td>\n",
       "      <td>1</td>\n",
       "      <td>28.333333</td>\n",
       "      <td>1.036190</td>\n",
       "      <td>7.971429</td>\n",
       "      <td>0.163238</td>\n",
       "      <td>3.522857</td>\n",
       "      <td>-5.0</td>\n",
       "      <td>1.180</td>\n",
       "      <td>8.0</td>\n",
       "      <td>...</td>\n",
       "      <td>0</td>\n",
       "      <td>1</td>\n",
       "      <td>1</td>\n",
       "      <td>1</td>\n",
       "      <td>1</td>\n",
       "      <td>1</td>\n",
       "      <td>1</td>\n",
       "      <td>0</td>\n",
       "      <td>0</td>\n",
       "      <td>1</td>\n",
       "    </tr>\n",
       "  </tbody>\n",
       "</table>\n",
       "<p>5 rows × 50 columns</p>\n",
       "</div>"
      ],
      "text/plain": [
       "                           seq  label  mean_hydro_ph7  mean_hydro  mean_polar  \\\n",
       "2741914            DMALKMMRLVT      0       41.272727    0.980909    7.663636   \n",
       "1577076             GVFDDTITEM      1       23.400000    0.830000    8.650000   \n",
       "118482               ETAGEEAQG      0       -0.888889    0.313333   10.022222   \n",
       "2384187              YRDFPDCVP      0        8.000000    1.301111    8.366667   \n",
       "1824993  IREFQLPSSQISMVPNVGLKF      1       28.333333    1.036190    7.971429   \n",
       "\n",
       "         mean_polar_stab  mean_VDWV  median_hydro_ph7  median_hydro  \\\n",
       "2741914         0.176727   3.779091              74.0         1.180   \n",
       "1577076         0.141400   3.186000              13.0         0.465   \n",
       "118482          0.092556   2.210000               0.0         0.470   \n",
       "2384187         0.179889   3.880000             -14.0         1.320   \n",
       "1824993         0.163238   3.522857              -5.0         1.180   \n",
       "\n",
       "         median_polar  ...  has_C  has_I  has_L  has_K  has_F  has_P  has_S  \\\n",
       "2741914           5.9  ...      0      0      1      1      0      0      0   \n",
       "1577076           8.6  ...      0      1      0      0      1      0      0   \n",
       "118482            9.0  ...      0      0      0      0      0      0      0   \n",
       "2384187           8.0  ...      1      0      0      0      1      1      0   \n",
       "1824993           8.0  ...      0      1      1      1      1      1      1   \n",
       "\n",
       "         has_T  has_Y  has_V  \n",
       "2741914      1      0      1  \n",
       "1577076      1      0      1  \n",
       "118482       1      0      0  \n",
       "2384187      0      1      1  \n",
       "1824993      0      0      1  \n",
       "\n",
       "[5 rows x 50 columns]"
      ]
     },
     "execution_count": 3,
     "metadata": {},
     "output_type": "execute_result"
    }
   ],
   "source": [
    "infile = '/home/yuan/results/epitope/epi_top_features.txt'\n",
    "df = pd.read_csv(infile, sep='\\t', header=0, index_col=None)\n",
    "# balance the number of epitopes and non-epitopes\n",
    "# df = df.iloc[:8_000_000,:]\n",
    "# shuffle rows\n",
    "df = df.sample(frac=1)\n",
    "df.head()"
   ]
  },
  {
   "cell_type": "code",
   "execution_count": 34,
   "id": "dbc8a9bc-8811-4b67-8da8-e051e1e91c0c",
   "metadata": {},
   "outputs": [
    {
     "name": "stdout",
     "output_type": "stream",
     "text": [
      "(3458238, 50)\n",
      "(1639058, 50)\n",
      "(226184, 50)\n",
      "(3232054, 49)\n"
     ]
    }
   ],
   "source": [
    "# keep epitopes without Cys\n",
    "feature = 'has_C'\n",
    "print(df.shape)\n",
    "print(df[(df[feature]==0) & (df['label']==1)].shape)\n",
    "print(df[(df[feature]==1) & (df['label']==1)].shape)\n",
    "sub_df = df[~((df[feature]==1) & (df['label']==1))]\n",
    "sub_df = sub_df.drop([feature,], axis=1)\n",
    "print(sub_df.shape)"
   ]
  },
  {
   "cell_type": "code",
   "execution_count": null,
   "id": "ca4bc1ea-52bf-43d4-9b7a-2472572149d6",
   "metadata": {},
   "outputs": [],
   "source": []
  },
  {
   "cell_type": "code",
   "execution_count": 35,
   "id": "0d207db1-e88d-480c-9f50-13f19b0ffd92",
   "metadata": {},
   "outputs": [
    {
     "name": "stdout",
     "output_type": "stream",
     "text": [
      "(3232054, 47) float16 (3232054,) float16\n"
     ]
    }
   ],
   "source": [
    "X = np.array(sub_df.iloc[:,2:], dtype=np.float16)\n",
    "y = np.array(sub_df.iloc[:,1], dtype=np.float16)\n",
    "print(X.shape, X.dtype, y.shape, y.dtype)"
   ]
  },
  {
   "cell_type": "code",
   "execution_count": 36,
   "id": "8453ad08-a41f-4924-9198-a26cc3de4713",
   "metadata": {},
   "outputs": [
    {
     "data": {
      "text/plain": [
       "Counter({1.0: 1639058, 0.0: 1592996})"
      ]
     },
     "execution_count": 36,
     "metadata": {},
     "output_type": "execute_result"
    }
   ],
   "source": [
    "from collections import Counter\n",
    "Counter(y)"
   ]
  },
  {
   "cell_type": "code",
   "execution_count": 37,
   "id": "e02ee787-045e-4135-9c74-03d4c274c57a",
   "metadata": {},
   "outputs": [],
   "source": [
    "from sklearn.preprocessing import StandardScaler\n",
    "# normalization X\n",
    "scaler = StandardScaler()\n",
    "norm_X = scaler.fit_transform(X)"
   ]
  },
  {
   "cell_type": "code",
   "execution_count": 38,
   "id": "738d8971-9d6f-4bd3-9191-bbfe5b400fce",
   "metadata": {},
   "outputs": [
    {
     "name": "stdout",
     "output_type": "stream",
     "text": [
      "(1809950, 47) (1809950,)\n",
      "(775693, 47) (775693,)\n",
      "(646411, 47) (646411,)\n"
     ]
    }
   ],
   "source": [
    "#split data into train and test\n",
    "from sklearn.model_selection import train_test_split\n",
    "\n",
    "X_train, X_test, y_train, y_test = train_test_split(norm_X, y, train_size=0.8, shuffle=True, random_state=2)\n",
    "X_train, X_validate, y_train, y_validate = train_test_split(X_train, y_train, train_size=0.7, shuffle=True, random_state=2)\n",
    "print(X_train.shape, y_train.shape)\n",
    "print(X_validate.shape, y_validate.shape)\n",
    "print(X_test.shape, y_test.shape)"
   ]
  },
  {
   "cell_type": "code",
   "execution_count": null,
   "id": "c1bff516-ff78-455a-abec-8c1fe8d83a65",
   "metadata": {},
   "outputs": [],
   "source": []
  },
  {
   "cell_type": "markdown",
   "id": "d826fc7c-eb21-4a3f-954b-188e3fe04e6b",
   "metadata": {},
   "source": [
    "## train model"
   ]
  },
  {
   "cell_type": "code",
   "execution_count": 39,
   "id": "90041c53-973b-4090-9c3c-086e130583fd",
   "metadata": {},
   "outputs": [
    {
     "data": {
      "text/html": [
       "<pre style=\"white-space:pre;overflow-x:auto;line-height:normal;font-family:Menlo,'DejaVu Sans Mono',consolas,'Courier New',monospace\"><span style=\"font-weight: bold\">Model: \"sequential_3\"</span>\n",
       "</pre>\n"
      ],
      "text/plain": [
       "\u001b[1mModel: \"sequential_3\"\u001b[0m\n"
      ]
     },
     "metadata": {},
     "output_type": "display_data"
    },
    {
     "data": {
      "text/html": [
       "<pre style=\"white-space:pre;overflow-x:auto;line-height:normal;font-family:Menlo,'DejaVu Sans Mono',consolas,'Courier New',monospace\">┏━━━━━━━━━━━━━━━━━━━━━━━━━━━━━━━━━┳━━━━━━━━━━━━━━━━━━━━━━━━┳━━━━━━━━━━━━━━━┓\n",
       "┃<span style=\"font-weight: bold\"> Layer (type)                    </span>┃<span style=\"font-weight: bold\"> Output Shape           </span>┃<span style=\"font-weight: bold\">       Param # </span>┃\n",
       "┡━━━━━━━━━━━━━━━━━━━━━━━━━━━━━━━━━╇━━━━━━━━━━━━━━━━━━━━━━━━╇━━━━━━━━━━━━━━━┩\n",
       "│ dense_9 (<span style=\"color: #0087ff; text-decoration-color: #0087ff\">Dense</span>)                 │ (<span style=\"color: #00d7ff; text-decoration-color: #00d7ff\">None</span>, <span style=\"color: #00af00; text-decoration-color: #00af00\">512</span>)            │        <span style=\"color: #00af00; text-decoration-color: #00af00\">24,576</span> │\n",
       "├─────────────────────────────────┼────────────────────────┼───────────────┤\n",
       "│ dropout_6 (<span style=\"color: #0087ff; text-decoration-color: #0087ff\">Dropout</span>)             │ (<span style=\"color: #00d7ff; text-decoration-color: #00d7ff\">None</span>, <span style=\"color: #00af00; text-decoration-color: #00af00\">512</span>)            │             <span style=\"color: #00af00; text-decoration-color: #00af00\">0</span> │\n",
       "├─────────────────────────────────┼────────────────────────┼───────────────┤\n",
       "│ dense_10 (<span style=\"color: #0087ff; text-decoration-color: #0087ff\">Dense</span>)                │ (<span style=\"color: #00d7ff; text-decoration-color: #00d7ff\">None</span>, <span style=\"color: #00af00; text-decoration-color: #00af00\">96</span>)             │        <span style=\"color: #00af00; text-decoration-color: #00af00\">49,248</span> │\n",
       "├─────────────────────────────────┼────────────────────────┼───────────────┤\n",
       "│ dropout_7 (<span style=\"color: #0087ff; text-decoration-color: #0087ff\">Dropout</span>)             │ (<span style=\"color: #00d7ff; text-decoration-color: #00d7ff\">None</span>, <span style=\"color: #00af00; text-decoration-color: #00af00\">96</span>)             │             <span style=\"color: #00af00; text-decoration-color: #00af00\">0</span> │\n",
       "├─────────────────────────────────┼────────────────────────┼───────────────┤\n",
       "│ dense_11 (<span style=\"color: #0087ff; text-decoration-color: #0087ff\">Dense</span>)                │ (<span style=\"color: #00d7ff; text-decoration-color: #00d7ff\">None</span>, <span style=\"color: #00af00; text-decoration-color: #00af00\">1</span>)              │            <span style=\"color: #00af00; text-decoration-color: #00af00\">97</span> │\n",
       "└─────────────────────────────────┴────────────────────────┴───────────────┘\n",
       "</pre>\n"
      ],
      "text/plain": [
       "┏━━━━━━━━━━━━━━━━━━━━━━━━━━━━━━━━━┳━━━━━━━━━━━━━━━━━━━━━━━━┳━━━━━━━━━━━━━━━┓\n",
       "┃\u001b[1m \u001b[0m\u001b[1mLayer (type)                   \u001b[0m\u001b[1m \u001b[0m┃\u001b[1m \u001b[0m\u001b[1mOutput Shape          \u001b[0m\u001b[1m \u001b[0m┃\u001b[1m \u001b[0m\u001b[1m      Param #\u001b[0m\u001b[1m \u001b[0m┃\n",
       "┡━━━━━━━━━━━━━━━━━━━━━━━━━━━━━━━━━╇━━━━━━━━━━━━━━━━━━━━━━━━╇━━━━━━━━━━━━━━━┩\n",
       "│ dense_9 (\u001b[38;5;33mDense\u001b[0m)                 │ (\u001b[38;5;45mNone\u001b[0m, \u001b[38;5;34m512\u001b[0m)            │        \u001b[38;5;34m24,576\u001b[0m │\n",
       "├─────────────────────────────────┼────────────────────────┼───────────────┤\n",
       "│ dropout_6 (\u001b[38;5;33mDropout\u001b[0m)             │ (\u001b[38;5;45mNone\u001b[0m, \u001b[38;5;34m512\u001b[0m)            │             \u001b[38;5;34m0\u001b[0m │\n",
       "├─────────────────────────────────┼────────────────────────┼───────────────┤\n",
       "│ dense_10 (\u001b[38;5;33mDense\u001b[0m)                │ (\u001b[38;5;45mNone\u001b[0m, \u001b[38;5;34m96\u001b[0m)             │        \u001b[38;5;34m49,248\u001b[0m │\n",
       "├─────────────────────────────────┼────────────────────────┼───────────────┤\n",
       "│ dropout_7 (\u001b[38;5;33mDropout\u001b[0m)             │ (\u001b[38;5;45mNone\u001b[0m, \u001b[38;5;34m96\u001b[0m)             │             \u001b[38;5;34m0\u001b[0m │\n",
       "├─────────────────────────────────┼────────────────────────┼───────────────┤\n",
       "│ dense_11 (\u001b[38;5;33mDense\u001b[0m)                │ (\u001b[38;5;45mNone\u001b[0m, \u001b[38;5;34m1\u001b[0m)              │            \u001b[38;5;34m97\u001b[0m │\n",
       "└─────────────────────────────────┴────────────────────────┴───────────────┘\n"
      ]
     },
     "metadata": {},
     "output_type": "display_data"
    },
    {
     "data": {
      "text/html": [
       "<pre style=\"white-space:pre;overflow-x:auto;line-height:normal;font-family:Menlo,'DejaVu Sans Mono',consolas,'Courier New',monospace\"><span style=\"font-weight: bold\"> Total params: </span><span style=\"color: #00af00; text-decoration-color: #00af00\">73,921</span> (288.75 KB)\n",
       "</pre>\n"
      ],
      "text/plain": [
       "\u001b[1m Total params: \u001b[0m\u001b[38;5;34m73,921\u001b[0m (288.75 KB)\n"
      ]
     },
     "metadata": {},
     "output_type": "display_data"
    },
    {
     "data": {
      "text/html": [
       "<pre style=\"white-space:pre;overflow-x:auto;line-height:normal;font-family:Menlo,'DejaVu Sans Mono',consolas,'Courier New',monospace\"><span style=\"font-weight: bold\"> Trainable params: </span><span style=\"color: #00af00; text-decoration-color: #00af00\">73,921</span> (288.75 KB)\n",
       "</pre>\n"
      ],
      "text/plain": [
       "\u001b[1m Trainable params: \u001b[0m\u001b[38;5;34m73,921\u001b[0m (288.75 KB)\n"
      ]
     },
     "metadata": {},
     "output_type": "display_data"
    },
    {
     "data": {
      "text/html": [
       "<pre style=\"white-space:pre;overflow-x:auto;line-height:normal;font-family:Menlo,'DejaVu Sans Mono',consolas,'Courier New',monospace\"><span style=\"font-weight: bold\"> Non-trainable params: </span><span style=\"color: #00af00; text-decoration-color: #00af00\">0</span> (0.00 B)\n",
       "</pre>\n"
      ],
      "text/plain": [
       "\u001b[1m Non-trainable params: \u001b[0m\u001b[38;5;34m0\u001b[0m (0.00 B)\n"
      ]
     },
     "metadata": {},
     "output_type": "display_data"
    }
   ],
   "source": [
    "from tensorflow.keras.layers import Input, Dense, Dropout\n",
    "\n",
    "# input features\n",
    "num_features = int(X.shape[-1])\n",
    "# outccome is binary\n",
    "model = tf.keras.Sequential([\n",
    "    Input(shape=(num_features,)),\n",
    "    Dense(512, activation='relu'),\n",
    "    Dropout(0.3),\n",
    "    Dense(96, activation='relu'),\n",
    "    Dropout(0.3),\n",
    "    Dense(1, activation='sigmoid'),\n",
    "])\n",
    "model.summary()"
   ]
  },
  {
   "cell_type": "code",
   "execution_count": null,
   "id": "1a0715eb-f8eb-4910-b79c-be452771130a",
   "metadata": {},
   "outputs": [
    {
     "name": "stdout",
     "output_type": "stream",
     "text": [
      "Epoch 1/10\n",
      "\u001b[1m56561/56561\u001b[0m \u001b[32m━━━━━━━━━━━━━━━━━━━━\u001b[0m\u001b[37m\u001b[0m \u001b[1m106s\u001b[0m 2ms/step - accuracy: 0.6928 - auc: 0.7647 - loss: 0.5572 - mse: 0.1933 - precision: 0.6631 - recall: 0.7995 - val_accuracy: 0.7144 - val_auc: 0.7925 - val_loss: 0.5326 - val_mse: 0.1829 - val_precision: 0.6743 - val_recall: 0.8452\n",
      "Epoch 2/10\n",
      "\u001b[1m31301/56561\u001b[0m \u001b[32m━━━━━━━━━━━\u001b[0m\u001b[37m━━━━━━━━━\u001b[0m \u001b[1m40s\u001b[0m 2ms/step - accuracy: 0.7124 - auc: 0.7864 - loss: 0.5395 - mse: 0.1855 - precision: 0.6811 - recall: 0.8157"
     ]
    }
   ],
   "source": [
    "# loss_fn = tf.keras.losses.sparse_categorical_crossentropy\n",
    "optim = tf.keras.optimizers.Adam(learning_rate=0.001)\n",
    "model.compile(loss='binary_crossentropy', optimizer=optim, metrics=['accuracy', 'precision', 'recall', 'auc', 'mse'])\n",
    "\n",
    "epochs = 10\n",
    "history= model.fit(X_train, y_train, validation_data=(X_validate, y_validate), epochs=epochs, verbose=True)\n",
    "\n",
    "res = pd.DataFrame(history.history)\n",
    "print(res.head(3))\n",
    "print(res.tail(3))"
   ]
  },
  {
   "cell_type": "code",
   "execution_count": null,
   "id": "420b8330-4e76-48a3-be74-d820792ee3a9",
   "metadata": {},
   "outputs": [],
   "source": [
    "fig, axes = plt.subplots(1, 3, figsize=(12,3), layout='tight')\n",
    "x = range(epochs)\n",
    "fig.supxlabel('epochs')\n",
    "\n",
    "i=0\n",
    "axes[i].plot(x, history.history['recall'], label='recall of train')\n",
    "axes[i].plot(x, history.history['val_recall'], label='recall of validation')\n",
    "axes[i].set_ylabel('TP/(TP+FN) %')\n",
    "axes[i].set_title('Recall')\n",
    "axes[i].legend(loc='lower right', fontsize=8)\n",
    "\n",
    "i=1\n",
    "axes[i].plot(x, history.history['accuracy'], label='accurarcy of train')\n",
    "axes[i].plot(x, history.history['val_accuracy'], label='accurarcy of validation')\n",
    "axes[i].set_ylabel('(TP+TN)/N %')\n",
    "axes[i].set_title('Accuracy')\n",
    "axes[i].legend(loc='lower right', fontsize=8)\n",
    "\n",
    "i=2\n",
    "axes[i].plot(x, history.history['loss'], label='loss of train')\n",
    "axes[i].plot(x, history.history['val_loss'], label='loss of validation')\n",
    "axes[i].set_ylabel('Loss')\n",
    "axes[i].set_title('Loss')\n",
    "axes[i].legend(loc='upper right', fontsize=8)"
   ]
  },
  {
   "cell_type": "code",
   "execution_count": null,
   "id": "bf0ae906-bc62-44d8-880b-39adfd36993a",
   "metadata": {},
   "outputs": [],
   "source": [
    "eval_res = model.evaluate(X_test, y_test, return_dict=True)\n",
    "print(eval_res)"
   ]
  },
  {
   "cell_type": "code",
   "execution_count": null,
   "id": "4a25319c-3a4c-4014-b2fb-78525c6abf9f",
   "metadata": {},
   "outputs": [],
   "source": [
    "pred_test = model.predict(X_test)\n",
    "pred_test[:3]"
   ]
  },
  {
   "cell_type": "code",
   "execution_count": null,
   "id": "d4d0215b-5eca-4463-9963-65fff80f2952",
   "metadata": {},
   "outputs": [],
   "source": [
    "\n",
    "t = pred_test[y_test==1]\n",
    "f = pred_test[y_test==0]\n",
    "fig, ax = plt.subplots(1, 2, figsize=(8,3), layout='tight')\n",
    "fig.supxlabel('probability')\n",
    "fig.supylabel('number')\n",
    "\n",
    "ax[0].hist(t, label='True', bins=20)\n",
    "ax[0].set_title(f'Prediction of epitopes {len(t)}')\n",
    "ax[1].hist(f, label='False', bins=20)\n",
    "ax[1].set_title(f'Prediction of non-epitopes {len(f)}')"
   ]
  },
  {
   "cell_type": "code",
   "execution_count": null,
   "id": "a98ac785-26df-494b-9aed-63d4daec97a4",
   "metadata": {},
   "outputs": [],
   "source": [
    "# ROC curve only for binary classfication\n",
    "from sklearn.metrics import roc_curve, auc\n",
    "# FPR, false positive rate, 1- specificity, typ I error\n",
    "# TPR, true positive rate, sensitivity, power\n",
    "fpr, tpr, thresholds = roc_curve(y_test, pred_test)\n",
    "roc_auc = auc(fpr, tpr)\n",
    "\n",
    "fig, ax = plt.subplots(1, figsize=(4,3))\n",
    "ax.plot(fpr, tpr)\n",
    "ax.set_xlabel('1-specificity (False positive rate)')\n",
    "ax.set_ylabel('sensitivity (True positive rate)')\n",
    "plt.title(f'ROC (area={roc_auc:.2f})')\n",
    "ax.plot([0,1], [0,1], '--')\n",
    "ax.plot([0,0,1], [0,1,1], ':')"
   ]
  },
  {
   "cell_type": "code",
   "execution_count": 26,
   "id": "84a9a936-49cf-4183-b675-199e6622331f",
   "metadata": {},
   "outputs": [],
   "source": [
    "# save entire model\n",
    "model.save('../models/epitopes_ann_cys.keras')"
   ]
  },
  {
   "cell_type": "code",
   "execution_count": 29,
   "id": "16757a5d-a870-46fd-923c-a52c66847fae",
   "metadata": {},
   "outputs": [
    {
     "data": {
      "text/plain": [
       "(array([  2355.,  18739.,  43809.,  72180., 143544.,  96858., 201924.,\n",
       "         99382.,  12398.,    459.]),\n",
       " array([0.        , 0.09999919, 0.19999838, 0.29999757, 0.39999676,\n",
       "        0.49999595, 0.59999514, 0.69999433, 0.79999352, 0.8999927 ,\n",
       "        0.99999189]),\n",
       " <BarContainer object of 10 artists>)"
      ]
     },
     "execution_count": 29,
     "metadata": {},
     "output_type": "execute_result"
    },
    {
     "data": {
      "image/png": "[encoded data removed]",
      "text/plain": [
       "<Figure size 640x480 with 1 Axes>"
      ]
     },
     "metadata": {},
     "output_type": "display_data"
    }
   ],
   "source": []
  },
  {
   "cell_type": "code",
   "execution_count": 30,
   "id": "f44f0a23-1dfd-4a85-96a9-49f9c94e1854",
   "metadata": {},
   "outputs": [
    {
     "data": {
      "text/plain": [
       "(array([318601.,      0.,      0.,      0.,      0.,      0.,      0.,\n",
       "             0.,      0., 373047.]),\n",
       " array([0.        , 0.09997559, 0.19995117, 0.30004883, 0.39990234,\n",
       "        0.5       , 0.60009766, 0.70019531, 0.79980469, 0.89990234,\n",
       "        1.        ]),\n",
       " <BarContainer object of 10 artists>)"
      ]
     },
     "execution_count": 30,
     "metadata": {},
     "output_type": "execute_result"
    },
    {
     "data": {
      "image/png": "[encoded data removed]",
      "text/plain": [
       "<Figure size 640x480 with 1 Axes>"
      ]
     },
     "metadata": {},
     "output_type": "display_data"
    }
   ],
   "source": [
    "plt.hist(y_test)"
   ]
  }
 ],
 "metadata": {
  "kernelspec": {
   "display_name": "Python 3 (ipykernel)",
   "language": "python",
   "name": "python3"
  },
  "language_info": {
   "codemirror_mode": {
    "name": "ipython",
    "version": 3
   },
   "file_extension": ".py",
   "mimetype": "text/x-python",
   "name": "python",
   "nbconvert_exporter": "python",
   "pygments_lexer": "ipython3",
   "version": "3.11.9"
  }
 },
 "nbformat": 4,
 "nbformat_minor": 5
}
